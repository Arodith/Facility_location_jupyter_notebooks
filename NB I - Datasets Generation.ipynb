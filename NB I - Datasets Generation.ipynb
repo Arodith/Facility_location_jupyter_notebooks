{
 "cells": [
  {
   "cell_type": "markdown",
   "metadata": {},
   "source": [
    "# Datasets Generation"
   ]
  },
  {
   "cell_type": "code",
   "execution_count": 12,
   "metadata": {},
   "outputs": [
    {
     "name": "stdout",
     "output_type": "stream",
     "text": [
      "The autoreload extension is already loaded. To reload it, use:\n",
      "  %reload_ext autoreload\n"
     ]
    },
    {
     "name": "stderr",
     "output_type": "stream",
     "text": [
      "C:\\ProgramData\\Anaconda3\\envs\\py35\\lib\\site-packages\\matplotlib\\__init__.py:1401: UserWarning:  This call to matplotlib.use() has no effect\n",
      "because the backend has already been chosen;\n",
      "matplotlib.use() must be called *before* pylab, matplotlib.pyplot,\n",
      "or matplotlib.backends is imported for the first time.\n",
      "\n",
      "  warnings.warn(_use_error_msg)\n"
     ]
    }
   ],
   "source": [
    "import csv\n",
    "import os\n",
    "\n",
    "from random import uniform as unif\n",
    "\n",
    "import networkx as nx\n",
    "\n",
    "import numpy as np\n",
    "from numpy import linalg as LA\n",
    "import scipy as sp\n",
    "from scipy import stats\n",
    "\n",
    "import matplotlib as mpl\n",
    "mpl.use(\"Agg\")  # Must come after importing mpl, but before importing plt\n",
    "import matplotlib.pyplot as plt\n",
    "\n",
    "%matplotlib inline\n",
    "%load_ext autoreload\n",
    "%autoreload 2"
   ]
  },
  {
   "cell_type": "code",
   "execution_count": 13,
   "metadata": {
    "collapsed": true
   },
   "outputs": [],
   "source": [
    "out_folder = \"./datasets/set1\""
   ]
  },
  {
   "cell_type": "code",
   "execution_count": 14,
   "metadata": {
    "collapsed": true
   },
   "outputs": [],
   "source": [
    "if not os.path.exists(out_folder):\n",
    "    os.makedirs(out_folder)"
   ]
  },
  {
   "cell_type": "markdown",
   "metadata": {},
   "source": [
    "## Characteristic"
   ]
  },
  {
   "cell_type": "code",
   "execution_count": 15,
   "metadata": {
    "code_folding": [],
    "collapsed": true
   },
   "outputs": [],
   "source": [
    "datasets = {\n",
    "    \"lvl1\": {\n",
    "        \"number\": 10,\n",
    "        \"coordinate\" : [(unif(20,100),unif(20,70)) for i in range(10)],\n",
    "        \"metadata\": {\n",
    "            \"color\": [\"red\" for i in range(10)],\n",
    "            \"size\":  [10 for i in range(10)],\n",
    "        }\n",
    "    },\n",
    "    \"lvl2\": {\n",
    "        \"number\": 10,\n",
    "        \"coordinate\" : [(unif(20,100),unif(20,70)) for i in range(10)],\n",
    "        \"metadata\": {\n",
    "            \"color\": [\"green\" for i in range(10)],\n",
    "            \"size\":  [20 for i in range(10)],\n",
    "        }\n",
    "    },\n",
    "    \"lvl3\": {\n",
    "        \"number\": 10,\n",
    "        \"coordinate\" : [(unif(20,100),unif(20,70)) for i in range(10)],\n",
    "        \"metadata\": {\n",
    "            \"color\": [\"blue\" for i in range(10)],\n",
    "            \"size\":  [30 for i in range(10)],\n",
    "        }\n",
    "    }\n",
    "}"
   ]
  },
  {
   "cell_type": "markdown",
   "metadata": {},
   "source": [
    "## Refactoring data"
   ]
  },
  {
   "cell_type": "code",
   "execution_count": 39,
   "metadata": {},
   "outputs": [],
   "source": [
    "for dataset in datasets:\n",
    "    d = datasets[dataset]\n",
    "    \n",
    "    d[\"coordinate\"] = sorted(d[\"coordinate\"], key=lambda k: [k[0], k[1]])"
   ]
  },
  {
   "cell_type": "markdown",
   "metadata": {},
   "source": [
    "# Dataset representation"
   ]
  },
  {
   "cell_type": "code",
   "execution_count": 41,
   "metadata": {
    "collapsed": true
   },
   "outputs": [],
   "source": [
    "def draw_dataset(datasets):\n",
    "    G = nx.Graph()\n",
    "    nbr_nodes = 0\n",
    "\n",
    "    for dataset in datasets:\n",
    "        d = datasets[dataset]\n",
    "\n",
    "        for i,xy in enumerate(d[\"coordinate\"]):\n",
    "            G.add_node(i+nbr_nodes,\n",
    "               pos=xy,color=d[\"metadata\"][\"color\"][i],\n",
    "               size=d[\"metadata\"][\"size\"][i])\n",
    "\n",
    "        nbr_nodes += d[\"number\"]\n",
    "\n",
    "    # Prepare drawing\n",
    "    pos    = nx.get_node_attributes(G,'pos')\n",
    "    colors = list(nx.get_node_attributes(G,'color').values())\n",
    "    size   = list(nx.get_node_attributes(G,'size').values())\n",
    "\n",
    "    # Draw\n",
    "    nx.draw_networkx(\n",
    "        G,pos, node_color=colors,\n",
    "        node_size=size, with_labels=False\n",
    "    )"
   ]
  },
  {
   "cell_type": "code",
   "execution_count": 42,
   "metadata": {
    "scrolled": false
   },
   "outputs": [
    {
     "data": {
      "image/png": "[encoded data removed]",
      "text/plain": [
       "<matplotlib.figure.Figure at 0xa0664e0>"
      ]
     },
     "metadata": {},
     "output_type": "display_data"
    }
   ],
   "source": [
    "draw_dataset(datasets)"
   ]
  },
  {
   "cell_type": "markdown",
   "metadata": {
    "collapsed": true
   },
   "source": [
    "## Dataset Metrics"
   ]
  },
  {
   "cell_type": "code",
   "execution_count": 74,
   "metadata": {},
   "outputs": [],
   "source": [
    "def distance_matrices(datasets):\n",
    "    M = {}\n",
    "\n",
    "    for dataset1 in datasets:\n",
    "        d1 = datasets[dataset1]\n",
    "        for dataset2 in datasets:\n",
    "            d2 = datasets[dataset2]\n",
    "            \n",
    "            M[dataset1+dataset2] = np.zeros((d1[\"number\"],d2[\"number\"]))\n",
    "\n",
    "            for i,ixy in enumerate(d1[\"coordinate\"]):\n",
    "                for j,jxy in enumerate(d2[\"coordinate\"]):\n",
    "                    M[dataset1+dataset2][i][j] = LA.norm(np.subtract(ixy,jxy))\n",
    "                \n",
    "    return M"
   ]
  },
  {
   "cell_type": "code",
   "execution_count": 75,
   "metadata": {},
   "outputs": [],
   "source": [
    "dist = distance_matrices(datasets)"
   ]
  },
  {
   "cell_type": "code",
   "execution_count": 76,
   "metadata": {},
   "outputs": [
    {
     "data": {
      "image/png": "[encoded data removed]",
      "text/plain": [
       "<matplotlib.figure.Figure at 0x9fafc88>"
      ]
     },
     "metadata": {},
     "output_type": "display_data"
    }
   ],
   "source": [
    "fig = plt.figure()\n",
    "ax = fig.add_subplot(1,1,1)\n",
    "ax.set_aspect('equal')\n",
    "plt.imshow(dist[\"lvl1lvl3\"], interpolation='nearest', cmap=plt.cm.ocean)\n",
    "plt.colorbar()\n",
    "plt.show()"
   ]
  },
  {
   "cell_type": "code",
   "execution_count": null,
   "metadata": {
    "collapsed": true
   },
   "outputs": [],
   "source": [
    "def distance_matrices(datasets):\n",
    "    M = {}\n",
    "\n",
    "    for dataset in datasets:\n",
    "        d1 = datasets[dataset]\n",
    "        \n",
    "\n",
    "        M[dataset] = np.zeros((d[\"number\"],d[\"number\"]))\n",
    "\n",
    "        for i,ixy in enumerate(d[\"coordinate\"]):\n",
    "            for j,jxy in enumerate(d[\"coordinate\"]):\n",
    "                M[dataset][i][j] = LA.norm(np.subtract(ixy,jxy))\n",
    "                \n",
    "    return M"
   ]
  },
  {
   "cell_type": "code",
   "execution_count": null,
   "metadata": {
    "collapsed": true
   },
   "outputs": [],
   "source": []
  }
 ],
 "metadata": {
  "hide_input": false,
  "kernelspec": {
   "display_name": "Py35",
   "language": "python",
   "name": "py35"
  },
  "language_info": {
   "codemirror_mode": {
    "name": "ipython",
    "version": 3
   },
   "file_extension": ".py",
   "mimetype": "text/x-python",
   "name": "python",
   "nbconvert_exporter": "python",
   "pygments_lexer": "ipython3",
   "version": "3.5.3"
  },
  "toc": {
   "colors": {
    "hover_highlight": "#DAA520",
    "running_highlight": "#FF0000",
    "selected_highlight": "#FFD700"
   },
   "moveMenuLeft": true,
   "nav_menu": {
    "height": "66px",
    "width": "252px"
   },
   "navigate_menu": true,
   "number_sections": true,
   "sideBar": true,
   "threshold": 4,
   "toc_cell": false,
   "toc_section_display": "block",
   "toc_window_display": true,
   "widenNotebook": false
  }
 },
 "nbformat": 4,
 "nbformat_minor": 2
}
