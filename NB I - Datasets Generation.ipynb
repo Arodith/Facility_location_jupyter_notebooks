{
 "cells": [
  {
   "cell_type": "markdown",
   "metadata": {},
   "source": [
    "# Datasets Generation\n",
    "\n",
    "This note book aim to provide function to create, manipulate, and analyze datasets"
   ]
  },
  {
   "cell_type": "code",
   "execution_count": 1,
   "metadata": {},
   "outputs": [],
   "source": [
    "import csv\n",
    "import os\n",
    "\n",
    "from random import uniform as unif\n",
    "\n",
    "import networkx as nx\n",
    "\n",
    "import numpy as np\n",
    "from numpy import linalg as LA\n",
    "import scipy as sp\n",
    "from scipy import stats\n",
    "\n",
    "import matplotlib as mpl\n",
    "mpl.use(\"Agg\")  # Must come after importing mpl, but before importing plt\n",
    "import matplotlib.pyplot as plt\n",
    "\n",
    "%matplotlib inline\n",
    "%load_ext autoreload\n",
    "%autoreload 2"
   ]
  },
  {
   "cell_type": "code",
   "execution_count": 2,
   "metadata": {
    "collapsed": true
   },
   "outputs": [],
   "source": [
    "out_folder = \"./datasets/set1\""
   ]
  },
  {
   "cell_type": "code",
   "execution_count": 3,
   "metadata": {
    "collapsed": true
   },
   "outputs": [],
   "source": [
    "if not os.path.exists(out_folder):\n",
    "    os.makedirs(out_folder)"
   ]
  },
  {
   "cell_type": "markdown",
   "metadata": {},
   "source": [
    "## Characteristic\n",
    "\n",
    "A dataset for LRP is a set of several type of entities with a geographic position. Thus we represent it as a dictionary defining each type of entity as following:\n",
    "\n",
    "```JSON\n",
    "\"Entity Name\": {\n",
    "    \"number\": integer,\n",
    "    \"coordinate\" : array,\n",
    "    \"metadata\": {\n",
    "        \"color\": string|array,\n",
    "        \"size\":  string|array,\n",
    "    }\n",
    "```\n"
   ]
  },
  {
   "cell_type": "code",
   "execution_count": 4,
   "metadata": {
    "code_folding": [],
    "collapsed": true
   },
   "outputs": [],
   "source": [
    "datasets = {\n",
    "    \"lvl1\": {\n",
    "        \"number\": 10,\n",
    "        \"coordinate\" : [(unif(20,100),unif(20,70)) for i in range(10)],\n",
    "        \"metadata\": {\n",
    "            \"color\": [\"red\" for i in range(10)],\n",
    "            \"size\":  [10 for i in range(10)],\n",
    "        }\n",
    "    },\n",
    "    \"lvl2\": {\n",
    "        \"number\": 10,\n",
    "        \"coordinate\" : [(unif(20,100),unif(20,70)) for i in range(10)],\n",
    "        \"metadata\": {\n",
    "            \"color\": [\"green\" for i in range(10)],\n",
    "            \"size\":  [20 for i in range(10)],\n",
    "        }\n",
    "    },\n",
    "    \"lvl3\": {\n",
    "        \"number\": 10,\n",
    "        \"coordinate\" : [(unif(20,100),unif(20,70)) for i in range(10)],\n",
    "        \"metadata\": {\n",
    "            \"color\": [\"blue\" for i in range(10)],\n",
    "            \"size\":  [30 for i in range(10)],\n",
    "        }\n",
    "    }\n",
    "}"
   ]
  },
  {
   "cell_type": "markdown",
   "metadata": {},
   "source": [
    "## Refactoring data\n",
    "\n",
    "It is much easier to work with coordinate and distance matrix where entities are sorted according to their coordinates"
   ]
  },
  {
   "cell_type": "code",
   "execution_count": 5,
   "metadata": {
    "collapsed": true
   },
   "outputs": [],
   "source": [
    "def sort_coordinates(datasets):\n",
    "    \"\"\"\n",
    "    Sort coordinate of each dataset in increasing order\n",
    "    \"\"\"\n",
    "\n",
    "    for dataset in datasets:\n",
    "        d = datasets[dataset]\n",
    "\n",
    "        d[\"coordinate\"] = sorted(d[\"coordinate\"], key=lambda k: [k[0], k[1]])"
   ]
  },
  {
   "cell_type": "code",
   "execution_count": 6,
   "metadata": {
    "collapsed": true
   },
   "outputs": [],
   "source": [
    "sort_coordinates(datasets)"
   ]
  },
  {
   "cell_type": "markdown",
   "metadata": {},
   "source": [
    "# Dataset representation"
   ]
  },
  {
   "cell_type": "markdown",
   "metadata": {
    "heading_collapsed": true
   },
   "source": [
    "## Dot Plot"
   ]
  },
  {
   "cell_type": "code",
   "execution_count": 7,
   "metadata": {
    "collapsed": true,
    "hidden": true
   },
   "outputs": [],
   "source": [
    "def draw_dataset(datasets):\n",
    "    \"\"\"\n",
    "    Draw a dot plot of the given dataset\n",
    "    \"\"\"\n",
    "    G = nx.Graph()\n",
    "    nbr_nodes = 0\n",
    "\n",
    "    for dataset in datasets:\n",
    "        d = datasets[dataset]\n",
    "\n",
    "        for i,xy in enumerate(d[\"coordinate\"]):\n",
    "            G.add_node(i+nbr_nodes,\n",
    "               pos=xy,color=d[\"metadata\"][\"color\"][i],\n",
    "               size=d[\"metadata\"][\"size\"][i])\n",
    "\n",
    "        nbr_nodes += d[\"number\"]\n",
    "\n",
    "    # Prepare drawing\n",
    "    pos    = nx.get_node_attributes(G,'pos')\n",
    "    colors = list(nx.get_node_attributes(G,'color').values())\n",
    "    size   = list(nx.get_node_attributes(G,'size').values())\n",
    "\n",
    "    # Draw\n",
    "    nx.draw_networkx(\n",
    "        G,pos, node_color=colors,\n",
    "        node_size=size, with_labels=False\n",
    "    )"
   ]
  },
  {
   "cell_type": "code",
   "execution_count": 8,
   "metadata": {
    "hidden": true,
    "scrolled": false
   },
   "outputs": [
    {
     "data": {
      "image/png": "[encoded data removed]",
      "text/plain": [
       "<matplotlib.figure.Figure at 0x9b99400>"
      ]
     },
     "metadata": {},
     "output_type": "display_data"
    }
   ],
   "source": [
    "draw_dataset(datasets)"
   ]
  },
  {
   "cell_type": "markdown",
   "metadata": {},
   "source": [
    "## Distance Matrices"
   ]
  },
  {
   "cell_type": "code",
   "execution_count": 9,
   "metadata": {
    "collapsed": true
   },
   "outputs": [],
   "source": [
    "def distance_matrices(datasets):\n",
    "    \"\"\"\n",
    "    Return a dictionary containing all the distance matrices for a\n",
    "    given instance of the problem\n",
    "    \"\"\"\n",
    "    M = {}\n",
    "\n",
    "    for dataset1 in datasets:\n",
    "        d1 = datasets[dataset1]\n",
    "        for dataset2 in datasets:\n",
    "            d2 = datasets[dataset2]\n",
    "            \n",
    "            M[dataset1+dataset2] = np.zeros((d1[\"number\"],d2[\"number\"]))\n",
    "\n",
    "            for i,ixy in enumerate(d1[\"coordinate\"]):\n",
    "                for j,jxy in enumerate(d2[\"coordinate\"]):\n",
    "                    M[dataset1+dataset2][i][j] = LA.norm(np.subtract(ixy,jxy))\n",
    "                \n",
    "    return M"
   ]
  },
  {
   "cell_type": "code",
   "execution_count": 10,
   "metadata": {},
   "outputs": [],
   "source": [
    "# distance_matrices(datasets)"
   ]
  },
  {
   "cell_type": "code",
   "execution_count": 11,
   "metadata": {},
   "outputs": [],
   "source": [
    "def distance_matrices_plot(datasets):\n",
    "    \"\"\"\n",
    "        Plot the matrix representation of a dataset\n",
    "    \"\"\"\n",
    "    dist = distance_matrices(datasets)\n",
    "    len_datasets = len(datasets)\n",
    "    fig = plt.figure()\n",
    "\n",
    "    for i,dataset1 in enumerate(datasets):\n",
    "        for j,dataset2 in enumerate(datasets):\n",
    "            if j <= i:\n",
    "                ax = fig.add_subplot(len_datasets,len_datasets,i+len_datasets*j+1)\n",
    "                ax.set_aspect('equal')\n",
    "                plt.imshow(dist[dataset1+dataset2], interpolation='nearest', cmap=plt.cm.ocean)\n",
    "                if i == len_datasets-1:\n",
    "                    plt.colorbar()\n",
    "\n",
    "    plt.show()"
   ]
  },
  {
   "cell_type": "code",
   "execution_count": 12,
   "metadata": {},
   "outputs": [
    {
     "data": {
      "image/png": "[encoded data removed]",
      "text/plain": [
       "<matplotlib.figure.Figure at 0x9fcc160>"
      ]
     },
     "metadata": {},
     "output_type": "display_data"
    }
   ],
   "source": [
    "distance_matrices_plot(datasets)"
   ]
  },
  {
   "cell_type": "code",
   "execution_count": null,
   "metadata": {
    "collapsed": true
   },
   "outputs": [],
   "source": []
  },
  {
   "cell_type": "markdown",
   "metadata": {
    "collapsed": true
   },
   "source": [
    "# Dataset Metrics"
   ]
  },
  {
   "cell_type": "code",
   "execution_count": null,
   "metadata": {
    "collapsed": true
   },
   "outputs": [],
   "source": []
  }
 ],
 "metadata": {
  "hide_input": false,
  "kernelspec": {
   "display_name": "Py35",
   "language": "python",
   "name": "py35"
  },
  "language_info": {
   "codemirror_mode": {
    "name": "ipython",
    "version": 3
   },
   "file_extension": ".py",
   "mimetype": "text/x-python",
   "name": "python",
   "nbconvert_exporter": "python",
   "pygments_lexer": "ipython3",
   "version": "3.5.3"
  },
  "toc": {
   "colors": {
    "hover_highlight": "#DAA520",
    "running_highlight": "#FF0000",
    "selected_highlight": "#FFD700"
   },
   "moveMenuLeft": true,
   "nav_menu": {
    "height": "66px",
    "width": "252px"
   },
   "navigate_menu": true,
   "number_sections": true,
   "sideBar": true,
   "threshold": 4,
   "toc_cell": false,
   "toc_section_display": "block",
   "toc_window_display": true,
   "widenNotebook": false
  }
 },
 "nbformat": 4,
 "nbformat_minor": 2
}
