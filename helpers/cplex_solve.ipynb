{
 "cells": [
  {
   "cell_type": "code",
   "execution_count": null,
   "metadata": {
    "collapsed": true
   },
   "outputs": [],
   "source": []
  },
  {
   "cell_type": "markdown",
   "metadata": {},
   "source": [
    "# CPLEX Solver WIKI"
   ]
  },
  {
   "cell_type": "markdown",
   "metadata": {},
   "source": [
    "Provide an array containing dictionaries that define your variables an constraints"
   ]
  },
  {
   "cell_type": "markdown",
   "metadata": {},
   "source": [
    "## Variables defintion"
   ]
  },
  {
   "cell_type": "markdown",
   "metadata": {},
   "source": [
    "This example show you how to define a decision variable:\n",
    "\n",
    "```\n",
    "Xs = {\n",
    "    \"name\" : [X(i) for i in I],\n",
    "    \"coef\" : [c[i] for i],\n",
    "    \"type\" : [\"C\" if relaxation else \"I\" for i in I],\n",
    "    \"ub\"   : [1 for i in I],\n",
    "    \"lb\"   : [0 for i in I],\n",
    "}\n",
    "```"
   ]
  },
  {
   "cell_type": "markdown",
   "metadata": {},
   "source": [
    "You can also use the compact syntax:\n",
    "\n",
    "```\n",
    "Xs = {\n",
    "    \"loop\" : \"for i in I\"\n",
    "    \"name\" : \"X(i)\",\n",
    "    \"coef\" : \"c[i]\",\n",
    "    \"type\" : \"\"C\" if relaxation else \"I\"\",\n",
    "    \"ub\"   : \"1\",\n",
    "    \"lb\"   : \"0\",\n",
    "}\n",
    "```\n",
    "\n",
    "by adding the attribute loop the function will recreate the list by evaluating the composed of the attribute and the loop expression."
   ]
  },
  {
   "cell_type": "markdown",
   "metadata": {},
   "source": [
    "# Source code"
   ]
  },
  {
   "cell_type": "code",
   "execution_count": 40,
   "metadata": {},
   "outputs": [
    {
     "name": "stdout",
     "output_type": "stream",
     "text": [
      "Overwriting ../pkg/helpers/cplex_solve_extract_variables.py\n"
     ]
    }
   ],
   "source": [
    "%%file \"../pkg/helpers/cplex_solve_extract_variables.py\"\n",
    "\n",
    "def cplex_solve_extract_variables(variables):\n",
    "    obj = [];ub = [];lb = [];colnames = [];types = [];\n",
    "    for v in variables:\n",
    "        if \"loop\" in v:\n",
    "            ## evaluation of the loop\n",
    "            v[\"coef\"] = eval(\"[\" + v[\"coef\"] + v[\"loop\"] + \"]\")\n",
    "            v[\"ub\"]   = eval(\"[\" + v[\"ub\"] + v[\"loop\"] + \"]\")\n",
    "            v[\"lb\"]   = eval(\"[\" + v[\"lb\"] + v[\"loop\"] + \"]\")\n",
    "            v[\"name\"] = eval(\"[\" + v[\"name\"] + v[\"name\"] + \"]\")\n",
    "            v[\"type\"] = eval(\"[\" + v[\"type\"] + v[\"loop\"] + \"]\")\n",
    "            \n",
    "        # Concatenation of variables attributes\n",
    "        obj      = obj + v[\"coef\"]\n",
    "        ub       = ub  + v[\"ub\"]\n",
    "        lb       = lb  + v[\"lb\"]\n",
    "        colnames = colnames + v[\"name\"]\n",
    "        types    = types + v[\"type\"]\n",
    "        \n",
    "    return obj, ub, lb, colnames, types"
   ]
  },
  {
   "cell_type": "code",
   "execution_count": 41,
   "metadata": {},
   "outputs": [
    {
     "name": "stdout",
     "output_type": "stream",
     "text": [
      "Overwriting ../pkg/helpers/cplex_solve_extract_constraints.py\n"
     ]
    }
   ],
   "source": [
    "%%file \"../pkg/helpers/cplex_solve_extract_constraints.py\"\n",
    "\n",
    "def cplex_solve_extract_constraints(constraints):\n",
    "    rows = []; senses = []; rhs = [];\n",
    "    for c in constraints:\n",
    "        if \"loop\" in c:\n",
    "            c[\"lin_expr\"] = eval(\"[\" + c[\"lin_expr\"] + c[\"loop\"] + \"]\")\n",
    "            c[\"senses\"]   = eval(\"[\" + c[\"senses\"] + c[\"loop\"] + \"]\")\n",
    "            c[\"rhs\"]      = eval(\"[\" + c[\"rhs\"] + c[\"loop\"] + \"]\")\n",
    "            \n",
    "        # Concatenation of variables attributes    \n",
    "        rows   = rows   + c[\"lin_expr\"]\n",
    "        senses = senses + c[\"senses\"]\n",
    "        rhs    = rhs    + c[\"rhs\"]\n",
    "        \n",
    "    return rows, senses, rhs"
   ]
  },
  {
   "cell_type": "code",
   "execution_count": 42,
   "metadata": {},
   "outputs": [
    {
     "name": "stdout",
     "output_type": "stream",
     "text": [
      "Overwriting ../pkg/helpers/cplex_solve.py\n"
     ]
    }
   ],
   "source": [
    "%%file \"../pkg/helpers/cplex_solve.py\"\n",
    "\n",
    "import cplex\n",
    "import pkg.helpers.cplex_solve_extract_constraints\n",
    "\n",
    "def cplex_solve_extract_constraints(constraints):\n",
    "    rows = []; senses = []; rhs = [];\n",
    "    for c in constraints:\n",
    "        if \"loop\" in c:\n",
    "            c[\"lin_expr\"] = eval(\"[\" + c[\"lin_expr\"] + c[\"loop\"] + \"]\")\n",
    "            c[\"senses\"]   = eval(\"[\" + c[\"senses\"] + c[\"loop\"] + \"]\")\n",
    "            c[\"rhs\"]      = eval(\"[\" + c[\"rhs\"] + c[\"loop\"] + \"]\")\n",
    "            \n",
    "        # Concatenation of variables attributes    \n",
    "        rows   = rows   + c[\"lin_expr\"]\n",
    "        senses = senses + c[\"senses\"]\n",
    "        rhs    = rhs    + c[\"rhs\"]\n",
    "        \n",
    "    return rows, senses, rhs\n",
    "\n",
    "def cplex_solve(variables,constraints, minimize=True, path=None, verbose=False):\n",
    "    \n",
    "    #####################################################################\n",
    "    # Extract variables\n",
    "    obj, ub, lb, colnames, types = cplex_solve_extract_variables(variables)\n",
    "    #####################################################################\n",
    "    # Extract constraints\n",
    "    rows, senses, rhs = cplex_solve_extract_constraints(constraints)\n",
    "    #####################################################################\n",
    "    # Creating problem\n",
    "    prob = cplex.Cplex()\n",
    "    \n",
    "    #Disable logging\n",
    "    if not verbose:\n",
    "        prob.set_log_stream(None)\n",
    "        prob.set_error_stream(None)\n",
    "        prob.set_warning_stream(None)\n",
    "        prob.set_results_stream(None)\n",
    "    \n",
    "    ## Objective function sense\n",
    "    if minimize:\n",
    "        prob.objective.set_sense(prob.objective.sense.minimize)\n",
    "    else:\n",
    "        prob.objective.set_sense(prob.objective.sense.maximize)\n",
    "    ## Objective function\n",
    "    prob.variables.add(obj=obj,ub=ub,lb=lb,names=colnames,types=types)\n",
    "    ## Constraintes\n",
    "    prob.linear_constraints.add(lin_expr=rows,senses=senses, rhs=rhs)\n",
    "\n",
    "    #####################################################################\n",
    "    # Saving the linear problem formulation into a file\n",
    "    if path:\n",
    "        prob.write(path) # print the formulation into a file\n",
    "\n",
    "    #####################################################################\n",
    "    # Solving problem\n",
    "    prob.solve()\n",
    "    \n",
    "    return prob"
   ]
  },
  {
   "cell_type": "markdown",
   "metadata": {},
   "source": [
    "# Test"
   ]
  },
  {
   "cell_type": "code",
   "execution_count": 43,
   "metadata": {
    "collapsed": true
   },
   "outputs": [],
   "source": [
    "import os\n",
    "import sys\n",
    "module_path = os.path.abspath(os.path.join('..'))\n",
    "if module_path not in sys.path:\n",
    "    sys.path.append(module_path)"
   ]
  },
  {
   "cell_type": "code",
   "execution_count": 48,
   "metadata": {},
   "outputs": [],
   "source": [
    "import pkg.helpers.cplex_solve_extract_variables as cpx"
   ]
  },
  {
   "cell_type": "code",
   "execution_count": 45,
   "metadata": {},
   "outputs": [],
   "source": [
    "I = range(5); J = range(5);\n",
    "c = [[1 for i in I] for j in J]\n",
    "\n",
    "Xs = {\n",
    "    \"name\" : [\"X_\" + str(i) + \"_\" + str(j) for i in I for j in J],\n",
    "    \"coef\" : [c[i][j] for i in I for j in J],\n",
    "    \"type\" : [\"I\" for i in I for j in J],\n",
    "    \"ub\"   : [1 for i in I for j in J],\n",
    "    \"lb\"   : [0 for i in I for j in J],\n",
    "}\n",
    "\n",
    "\n",
    "variables = [Xs]"
   ]
  },
  {
   "cell_type": "code",
   "execution_count": 49,
   "metadata": {},
   "outputs": [
    {
     "data": {
      "text/plain": [
       "([1, 1, 1, 1, 1, 1, 1, 1, 1, 1, 1, 1, 1, 1, 1, 1, 1, 1, 1, 1, 1, 1, 1, 1, 1],\n",
       " [1, 1, 1, 1, 1, 1, 1, 1, 1, 1, 1, 1, 1, 1, 1, 1, 1, 1, 1, 1, 1, 1, 1, 1, 1],\n",
       " [0, 0, 0, 0, 0, 0, 0, 0, 0, 0, 0, 0, 0, 0, 0, 0, 0, 0, 0, 0, 0, 0, 0, 0, 0],\n",
       " ['X_0_0',\n",
       "  'X_0_1',\n",
       "  'X_0_2',\n",
       "  'X_0_3',\n",
       "  'X_0_4',\n",
       "  'X_1_0',\n",
       "  'X_1_1',\n",
       "  'X_1_2',\n",
       "  'X_1_3',\n",
       "  'X_1_4',\n",
       "  'X_2_0',\n",
       "  'X_2_1',\n",
       "  'X_2_2',\n",
       "  'X_2_3',\n",
       "  'X_2_4',\n",
       "  'X_3_0',\n",
       "  'X_3_1',\n",
       "  'X_3_2',\n",
       "  'X_3_3',\n",
       "  'X_3_4',\n",
       "  'X_4_0',\n",
       "  'X_4_1',\n",
       "  'X_4_2',\n",
       "  'X_4_3',\n",
       "  'X_4_4'],\n",
       " ['I',\n",
       "  'I',\n",
       "  'I',\n",
       "  'I',\n",
       "  'I',\n",
       "  'I',\n",
       "  'I',\n",
       "  'I',\n",
       "  'I',\n",
       "  'I',\n",
       "  'I',\n",
       "  'I',\n",
       "  'I',\n",
       "  'I',\n",
       "  'I',\n",
       "  'I',\n",
       "  'I',\n",
       "  'I',\n",
       "  'I',\n",
       "  'I',\n",
       "  'I',\n",
       "  'I',\n",
       "  'I',\n",
       "  'I',\n",
       "  'I'])"
      ]
     },
     "execution_count": 49,
     "metadata": {},
     "output_type": "execute_result"
    }
   ],
   "source": [
    "cpx.cplex_solve_extract_variables(variables)"
   ]
  },
  {
   "cell_type": "code",
   "execution_count": null,
   "metadata": {
    "collapsed": true
   },
   "outputs": [],
   "source": []
  }
 ],
 "metadata": {
  "hide_input": false,
  "kernelspec": {
   "display_name": "Py35",
   "language": "python",
   "name": "py35"
  },
  "language_info": {
   "codemirror_mode": {
    "name": "ipython",
    "version": 3
   },
   "file_extension": ".py",
   "mimetype": "text/x-python",
   "name": "python",
   "nbconvert_exporter": "python",
   "pygments_lexer": "ipython3",
   "version": "3.5.3"
  },
  "toc": {
   "colors": {
    "hover_highlight": "#DAA520",
    "running_highlight": "#FF0000",
    "selected_highlight": "#FFD700"
   },
   "moveMenuLeft": true,
   "nav_menu": {
    "height": "84px",
    "width": "252px"
   },
   "navigate_menu": true,
   "number_sections": true,
   "sideBar": true,
   "threshold": 4,
   "toc_cell": false,
   "toc_section_display": "block",
   "toc_window_display": false,
   "widenNotebook": false
  }
 },
 "nbformat": 4,
 "nbformat_minor": 2
}
