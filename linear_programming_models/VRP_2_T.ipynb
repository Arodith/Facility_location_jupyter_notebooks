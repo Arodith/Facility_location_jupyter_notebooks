{
 "cells": [
  {
   "cell_type": "markdown",
   "metadata": {
    "collapsed": true
   },
   "source": [
    "TSP\n",
    "\n",
    "Traveling Sales Man\n",
    "---"
   ]
  },
  {
   "cell_type": "markdown",
   "metadata": {},
   "source": [
    "# Formulation"
   ]
  },
  {
   "cell_type": "markdown",
   "metadata": {},
   "source": [
    "The Traveling Salesman Problem for a **complete graph** can be stated as:\n",
    "\n",
    "$min_x$\n",
    "$$ \\sum_{i,j \\in N, i < j, b \\in B} c_{ij}x_{ijb} $$\n",
    "$s.t$\n",
    "$$\\tag{c0} \\sum_{b \\in B}\\sum_{u \\in I \\cup J}x_{uub} = 0$$\n",
    "$$\\tag{c1} \\sum_{b \\in B}\\sum_{j \\in I \\cup J}x_{ijb} = N_j , \\forall i \\in I$$\n",
    "$$\\tag{c2} \\sum_{i \\in I \\cup J}x_{ijb} - \\sum_{i \\in C \\cup J}x_{jib} = 0 , \\forall j \\in I \\cup J, \\forall b \\in B$$\n",
    "$$\\tag{c3} \\sum_{i \\in I \\cup J}\\sum_{j \\in J}x_{ijb} \\le 1 , \\forall b \\in B$$\n",
    "$$\\tag{c4}U_i - U_j + (|I|+|J|)\\sum_{b \\in B}x_{ijb} \\le (|I|+|J|-1), \\forall i,j \\in I \\cup J, i \\neq j$$"
   ]
  },
  {
   "cell_type": "markdown",
   "metadata": {},
   "source": [
    "# Solve with Cplex"
   ]
  },
  {
   "cell_type": "code",
   "execution_count": 37,
   "metadata": {},
   "outputs": [
    {
     "name": "stdout",
     "output_type": "stream",
     "text": [
      "Overwriting ../pkg/vrp_2_t_cplex.py\n"
     ]
    }
   ],
   "source": [
    "%%file \"../pkg/vrp_2_t_cplex.py\"\n",
    "\n",
    "import numpy as np              # mathematic tools library\n",
    "import networkx as nx           # network representation library\n",
    "from pkg.cplex_solve import cplex_solve\n",
    "import cplex\n",
    "\n",
    "def vrp_2_t_cplex(I,J,B,\n",
    "            c,f,\n",
    "            relaxation=False,path=None):\n",
    "\n",
    "    #####################################################################\n",
    "    # Decision variables\n",
    "    \n",
    "    def X(i,j,b):\n",
    "        return \"X_\" + str(i) + \"_\" + str(j) + \"_\" + str(b)\n",
    "    def U(i):\n",
    "        return \"U_\" + str(i)\n",
    "    def N(j):\n",
    "        return \"N_\" + str(j)\n",
    "    \n",
    "    IuJ = range(I+J); J = range(I,I+J,1)\n",
    "    I = range(I); B = range(B); \n",
    "    #####################################################################\n",
    "    # Objective function\n",
    "    Xs = {\n",
    "        \"name\" : [X(i,j,b) for i in IuJ for j in IuJ for b in B],\n",
    "        \"coef\" : [c[i][j] for i in IuJ for j in IuJ for b in B],\n",
    "        \"type\" : [\"I\" for i in IuJ for j in IuJ for b in B],\n",
    "        \"ub\"   : [1 for i in IuJ for j in IuJ for b in B],\n",
    "        \"lb\"   : [0 for i in IuJ for j in IuJ for b in B],\n",
    "    }\n",
    "    Ns = {\n",
    "        \"name\" : [N(j) for j in J],\n",
    "        \"coef\" : [f[j-len(I)] for j in J],\n",
    "        \"type\" : [\"I\" for j in J],\n",
    "        \"ub\"   : [1 for j in J],\n",
    "        \"lb\"   : [0 for j in J],\n",
    "    }\n",
    "    Us = {\n",
    "        \"name\" : [U(i) for i in IuJ],\n",
    "        \"coef\" : [0 for i in IuJ],\n",
    "        \"type\" : [\"C\" for i in IuJ],\n",
    "        \"ub\"   : [cplex.infinity for i in IuJ],\n",
    "        \"lb\"   : [0 for i in IuJ],\n",
    "    }\n",
    "\n",
    "    Variables = [Xs,Ns,Us]\n",
    "    ## Objective function sum aggregation\n",
    "    obj = [];ub = [];lb = [];colnames = [];types = [];\n",
    "    for v in Variables:\n",
    "        obj      = obj + v[\"coef\"]\n",
    "        ub       = ub  + v[\"ub\"]\n",
    "        lb       = lb  + v[\"lb\"]\n",
    "        colnames = colnames + v[\"name\"]\n",
    "        types    = types + v[\"type\"]\n",
    "\n",
    "    #####################################################################\n",
    "    # Constraints\n",
    "    c0 = {\n",
    "        \"lin_expr\": [[[X(i,i,b) for i in IuJ for b in B],\n",
    "                      [1 for i in IuJ for b in B]] \n",
    "        ],\n",
    "        \"senses\"  : [\"E\"],\n",
    "        \"rhs\"     : [0]\n",
    "    }\n",
    "    c1 = {\n",
    "        \"lin_expr\": [[[X(i,j,b) for b in B for j in IuJ],\n",
    "                      [1 for b in B for j in IuJ]] \n",
    "         for i in I],\n",
    "        \"senses\"  : [\"E\" for i in I],\n",
    "        \"rhs\"     : [1 for i in I]\n",
    "    }\n",
    "    c2 = {\n",
    "        \"lin_expr\": [[[X(i,j,b) for i in IuJ if i!=j]+[X(j,i,b) for i in IuJ if i!=j], \n",
    "             [1 for i in IuJ if i!=j]+[-1 for i in IuJ if i!=j]] \n",
    "        for j in IuJ for b in B],\n",
    "        \"senses\"  : [\"E\" for j in IuJ for b in B],\n",
    "        \"rhs\"     : [0 for j in IuJ for b in B]\n",
    "    }\n",
    "    c3 = {\n",
    "        \"lin_expr\": [[[X(i,j,b) for i in IuJ for j in J],\n",
    "                      [1 for i in IuJ for j in J]] \n",
    "        for b in B],\n",
    "        \"senses\"  : [\"L\" for b in B],\n",
    "        \"rhs\"     : [1 for b in B]\n",
    "    }\n",
    "    c4 = {\n",
    "        \"lin_expr\": [[[U(i),U(j)]+[X(i,j,b) for b in B],\n",
    "                      [1,-1]+[len(I)+len(J) for b in B]] \n",
    "        for i in IuJ for j in IuJ if i!=j],\n",
    "        \"senses\"  : [\"L\" for i in IuJ for j in IuJ if i!=j],\n",
    "        \"rhs\"     : [len(I)+len(J)-1 for i in IuJ for j in IuJ if i!=j]\n",
    "    }\n",
    "\n",
    "    # Zs VRP constraints\n",
    "    Constraints = [c0,c1,c2,c3,c4]\n",
    "    rows = []; senses = []; rhs = [];\n",
    "    for c in Constraints:\n",
    "        rows   = rows   + c[\"lin_expr\"]\n",
    "        senses = senses + c[\"senses\"]\n",
    "        rhs    = rhs    + c[\"rhs\"]\n",
    "\n",
    "    print(len(rows),len(senses),len(rhs))\n",
    "    \n",
    "    #####################################################################\n",
    "    # Solving\n",
    "    prob = cplex_solve(obj,ub,lb,colnames,types, rows, senses, rhs, minimize=True, path=path)\n",
    "\n",
    "    #####################################################################\n",
    "    # Extract solution\n",
    "    IuJ = len(I)+len(J); J = len(J)\n",
    "    I = len(I); B = len(B); \n",
    "    \n",
    "    solution = prob.solution.get_values()\n",
    "    X = np.reshape(solution[0:IuJ*IuJ*B],(IuJ,IuJ,B))\n",
    "    N = solution[IuJ*IuJ*B:IuJ*IuJ*B]\n",
    "\n",
    "    return prob, X, N"
   ]
  },
  {
   "cell_type": "code",
   "execution_count": null,
   "metadata": {
    "collapsed": true
   },
   "outputs": [],
   "source": []
  }
 ],
 "metadata": {
  "hide_input": false,
  "kernelspec": {
   "display_name": "Py35",
   "language": "python",
   "name": "py35"
  },
  "language_info": {
   "codemirror_mode": {
    "name": "ipython",
    "version": 3
   },
   "file_extension": ".py",
   "mimetype": "text/x-python",
   "name": "python",
   "nbconvert_exporter": "python",
   "pygments_lexer": "ipython3",
   "version": "3.5.3"
  },
  "toc": {
   "colors": {
    "hover_highlight": "#DAA520",
    "running_highlight": "#FF0000",
    "selected_highlight": "#FFD700"
   },
   "moveMenuLeft": true,
   "nav_menu": {
    "height": "12px",
    "width": "252px"
   },
   "navigate_menu": true,
   "number_sections": true,
   "sideBar": true,
   "threshold": 4,
   "toc_cell": false,
   "toc_section_display": "block",
   "toc_window_display": false,
   "widenNotebook": false
  }
 },
 "nbformat": 4,
 "nbformat_minor": 2
}
