{
 "cells": [
  {
   "cell_type": "code",
   "execution_count": 34,
   "metadata": {},
   "outputs": [
    {
     "name": "stdout",
     "output_type": "stream",
     "text": [
      "The autoreload extension is already loaded. To reload it, use:\n",
      "  %reload_ext autoreload\n"
     ]
    }
   ],
   "source": [
    "import csv\n",
    "import math as m\n",
    "from random import uniform as unif\n",
    "import networkx as nx\n",
    "\n",
    "import os\n",
    "\n",
    "import numpy as np\n",
    "import matplotlib as mpl\n",
    "import matplotlib.pyplot as plt\n",
    "%matplotlib inline\n",
    "\n",
    "%load_ext autoreload\n",
    "%autoreload 2"
   ]
  },
  {
   "cell_type": "code",
   "execution_count": 35,
   "metadata": {
    "collapsed": true
   },
   "outputs": [],
   "source": [
    "expid = \"./exp1_run2\""
   ]
  },
  {
   "cell_type": "code",
   "execution_count": 36,
   "metadata": {
    "collapsed": true
   },
   "outputs": [],
   "source": [
    "if not os.path.exists(expid):\n",
    "    os.makedirs(expid)"
   ]
  },
  {
   "cell_type": "markdown",
   "metadata": {},
   "source": [
    "# Problem instance"
   ]
  },
  {
   "cell_type": "markdown",
   "metadata": {},
   "source": [
    "## Geographic data"
   ]
  },
  {
   "cell_type": "code",
   "execution_count": 37,
   "metadata": {
    "collapsed": true
   },
   "outputs": [],
   "source": [
    "from pkg.read_problem import read_problem, extract_problem"
   ]
  },
  {
   "cell_type": "code",
   "execution_count": 38,
   "metadata": {
    "collapsed": true
   },
   "outputs": [],
   "source": [
    "xy_customers, xy_icps, xy_crcs, xy_pc, q = read_problem('./datasets/original')"
   ]
  },
  {
   "cell_type": "code",
   "execution_count": 39,
   "metadata": {
    "collapsed": true
   },
   "outputs": [],
   "source": [
    "xy_icps = xy_icps + [[unif(20,100),unif(20,70)] for i in range(10)]\n",
    "xy_crcs = xy_crcs + [[unif(20,100),unif(20,70)] for i in range(5)]"
   ]
  },
  {
   "cell_type": "code",
   "execution_count": 54,
   "metadata": {
    "collapsed": true
   },
   "outputs": [],
   "source": [
    "I,J,C,B,K,V,W,Dcj,Dc,FCV,FCT,FCR,q = extract_problem(xy_customers, xy_icps, xy_crcs, xy_pc, q)"
   ]
  },
  {
   "cell_type": "markdown",
   "metadata": {},
   "source": [
    "## Capacity constraints"
   ]
  },
  {
   "cell_type": "code",
   "execution_count": null,
   "metadata": {
    "collapsed": true
   },
   "outputs": [],
   "source": [
    "Q = [200 for j in range(J)]"
   ]
  },
  {
   "cell_type": "markdown",
   "metadata": {},
   "source": [
    "## Adapting costs"
   ]
  },
  {
   "cell_type": "code",
   "execution_count": null,
   "metadata": {
    "collapsed": true
   },
   "outputs": [],
   "source": [
    "# two-level cost\n",
    "c = [[[W[i][j1] + Dcj[j1][j2] for j2 in range(C)] for j1 in range(J)] for i in range(I)]\n",
    "\n",
    "FCRD = []\n",
    "for c in range(c)\n",
    "    FCRD = FCR[c] + Dc[c]\n",
    "\n",
    "f = FCT+FCRD"
   ]
  },
  {
   "cell_type": "markdown",
   "metadata": {},
   "source": [
    "# Plot Problem"
   ]
  },
  {
   "cell_type": "code",
   "execution_count": null,
   "metadata": {
    "collapsed": true
   },
   "outputs": [],
   "source": [
    "from pkg.lrp_nodes_graph import lrp_nodes_graph, lrp_draw_and_save\n",
    "G, pos, labels, colors, size = lrp_nodes_graph(xy_customers, xy_icps, xy_crcs, xy_pc)\n",
    "\n",
    "lrp_draw_and_save(G, pos, labels, colors, size, expid+\"/problem.png\")"
   ]
  },
  {
   "cell_type": "markdown",
   "metadata": {},
   "source": [
    "# Define Functions"
   ]
  },
  {
   "cell_type": "markdown",
   "metadata": {},
   "source": [
    "## run_uflp_cplex"
   ]
  },
  {
   "cell_type": "code",
   "execution_count": 41,
   "metadata": {
    "collapsed": true
   },
   "outputs": [],
   "source": [
    "def run_uflp_cplex(G,I,J,W,FCT,expid):\n",
    "    from pkg.uflp_cplex import uflp_cplex\n",
    "\n",
    "    prob, Y, N_icp = uflp_cplex(I,J,\n",
    "                W,FCT,\n",
    "                relaxation=False,path=expid+\"/uflp_cplex.lp\")\n",
    "\n",
    "    G2 = G.copy()\n",
    "\n",
    "    for j,vj in enumerate(Y):\n",
    "        for i,vi in enumerate(vj):\n",
    "            if vi == 1:\n",
    "                G2.add_edge(I+i,j)\n",
    "\n",
    "    lrp_draw_and_save(G2, pos, labels, colors, size, expid+\"/uflp_cplex.png\")"
   ]
  },
  {
   "cell_type": "markdown",
   "metadata": {},
   "source": [
    "## run_cflp_cplex"
   ]
  },
  {
   "cell_type": "code",
   "execution_count": 44,
   "metadata": {
    "collapsed": true
   },
   "outputs": [],
   "source": [
    "def run_cflp_cplex(G,I,J,W,FCT,U,Q,expid):\n",
    "    from pkg.cflp_cplex import cflp_cplex\n",
    "\n",
    "    prob, Y, N_icp = cflp_cplex(I,J,\n",
    "                W,FCT,U,Q,\n",
    "                relaxation=False,path=expid+\"/cflp_cplex.lp\")\n",
    "\n",
    "    G2 = G.copy()\n",
    "\n",
    "    for j,vj in enumerate(Y):\n",
    "        for i,vi in enumerate(vj):\n",
    "            if vi == 1:\n",
    "                G2.add_edge(I+i,j)\n",
    "\n",
    "    lrp_draw_and_save(G2, pos, labels, colors, size, expid+\"/cflp_cplex.png\")"
   ]
  },
  {
   "cell_type": "markdown",
   "metadata": {},
   "source": [
    "## run_tuflp_cplex"
   ]
  },
  {
   "cell_type": "code",
   "execution_count": 45,
   "metadata": {
    "collapsed": true
   },
   "outputs": [],
   "source": [
    "def run_tuflp_cplex(G,I,J,C,c,f,expid):\n",
    "    from pkg.tuflp_cplex import tuflp_cplex\n",
    "\n",
    "    prob, X, Z = tuflp_cplex(I,J,C,c,f,\n",
    "                relaxation=False,path=expid+\"/tcflp_cplex.lp\")\n",
    "\n",
    "\n",
    "    G2 = G.copy()\n",
    "\n",
    "    for i in range(I):\n",
    "        for j1 in range(J):\n",
    "            for j2 in range(C):\n",
    "                if X[i][j1][j2] == 1:\n",
    "                    G2.add_edge(i,I+j1)\n",
    "\n",
    "    lrp_draw_and_save(G2, pos, labels, colors, size, expid+\"/tcflp_cplex.png\")"
   ]
  },
  {
   "cell_type": "markdown",
   "metadata": {},
   "source": [
    "## run_tecflp_cplex"
   ]
  },
  {
   "cell_type": "code",
   "execution_count": 46,
   "metadata": {
    "collapsed": true
   },
   "outputs": [],
   "source": [
    "def run_tecflp_cplex(G,I,J,C,c,f,q,V,expid):\n",
    "    from pkg.tecflp_cplex import tecflp_cplex\n",
    "\n",
    "    prob, X, Z = tecflp_cplex(I,J,C,c,f,q,V,\n",
    "                relaxation=False,path=expid+\"/tecflp_cplex.lp\")\n",
    "\n",
    "    G2 = G.copy()\n",
    "\n",
    "    for i in range(I):\n",
    "        for j1 in range(J):\n",
    "            for j2 in range(C):\n",
    "                if X[i][j1][j2] == 1:\n",
    "                    G2.add_edge(i,I+j1)\n",
    "\n",
    "    lrp_draw_and_save(G2, pos, labels, colors, size, expid+\"/tecflp_cplex.png\")"
   ]
  },
  {
   "cell_type": "markdown",
   "metadata": {},
   "source": [
    "# Run experiment"
   ]
  },
  {
   "cell_type": "code",
   "execution_count": 50,
   "metadata": {},
   "outputs": [
    {
     "name": "stdout",
     "output_type": "stream",
     "text": [
      "1 loop, best of 3: 1.12 s per loop\n"
     ]
    },
    {
     "data": {
      "image/png": "[encoded data removed]",
      "text/plain": [
       "<matplotlib.figure.Figure at 0xad9d080>"
      ]
     },
     "metadata": {},
     "output_type": "display_data"
    }
   ],
   "source": [
    "result1 = %timeit -o run_uflp_cplex(G,I,J,W,FCT,expid)"
   ]
  },
  {
   "cell_type": "code",
   "execution_count": 55,
   "metadata": {},
   "outputs": [
    {
     "name": "stdout",
     "output_type": "stream",
     "text": [
      "1 loop, best of 3: 398 ms per loop\n"
     ]
    },
    {
     "data": {
      "image/png": "[encoded data removed]",
      "text/plain": [
       "<matplotlib.figure.Figure at 0xb0ea080>"
      ]
     },
     "metadata": {},
     "output_type": "display_data"
    }
   ],
   "source": [
    "result2 = %timeit -o run_cflp_cplex(G,I,J,W,FCT,q,Q,expid)"
   ]
  },
  {
   "cell_type": "code",
   "execution_count": 56,
   "metadata": {},
   "outputs": [
    {
     "ename": "NameError",
     "evalue": "name 'c' is not defined",
     "output_type": "error",
     "traceback": [
      "\u001b[1;31m---------------------------------------------------------------------------\u001b[0m",
      "\u001b[1;31mNameError\u001b[0m                                 Traceback (most recent call last)",
      "\u001b[1;32m<ipython-input-56-c836870dba77>\u001b[0m in \u001b[0;36m<module>\u001b[1;34m()\u001b[0m\n\u001b[1;32m----> 1\u001b[1;33m \u001b[0mresult3\u001b[0m \u001b[1;33m=\u001b[0m \u001b[0mget_ipython\u001b[0m\u001b[1;33m(\u001b[0m\u001b[1;33m)\u001b[0m\u001b[1;33m.\u001b[0m\u001b[0mmagic\u001b[0m\u001b[1;33m(\u001b[0m\u001b[1;34m'timeit -o run_tuflp_cplex(G,I,J,C,c,f,expid)'\u001b[0m\u001b[1;33m)\u001b[0m\u001b[1;33m\u001b[0m\u001b[0m\n\u001b[0m",
      "\u001b[1;32mC:\\ProgramData\\Anaconda3\\envs\\py35\\lib\\site-packages\\IPython\\core\\interactiveshell.py\u001b[0m in \u001b[0;36mmagic\u001b[1;34m(self, arg_s)\u001b[0m\n\u001b[0;32m   2156\u001b[0m         \u001b[0mmagic_name\u001b[0m\u001b[1;33m,\u001b[0m \u001b[0m_\u001b[0m\u001b[1;33m,\u001b[0m \u001b[0mmagic_arg_s\u001b[0m \u001b[1;33m=\u001b[0m \u001b[0marg_s\u001b[0m\u001b[1;33m.\u001b[0m\u001b[0mpartition\u001b[0m\u001b[1;33m(\u001b[0m\u001b[1;34m' '\u001b[0m\u001b[1;33m)\u001b[0m\u001b[1;33m\u001b[0m\u001b[0m\n\u001b[0;32m   2157\u001b[0m         \u001b[0mmagic_name\u001b[0m \u001b[1;33m=\u001b[0m \u001b[0mmagic_name\u001b[0m\u001b[1;33m.\u001b[0m\u001b[0mlstrip\u001b[0m\u001b[1;33m(\u001b[0m\u001b[0mprefilter\u001b[0m\u001b[1;33m.\u001b[0m\u001b[0mESC_MAGIC\u001b[0m\u001b[1;33m)\u001b[0m\u001b[1;33m\u001b[0m\u001b[0m\n\u001b[1;32m-> 2158\u001b[1;33m         \u001b[1;32mreturn\u001b[0m \u001b[0mself\u001b[0m\u001b[1;33m.\u001b[0m\u001b[0mrun_line_magic\u001b[0m\u001b[1;33m(\u001b[0m\u001b[0mmagic_name\u001b[0m\u001b[1;33m,\u001b[0m \u001b[0mmagic_arg_s\u001b[0m\u001b[1;33m)\u001b[0m\u001b[1;33m\u001b[0m\u001b[0m\n\u001b[0m\u001b[0;32m   2159\u001b[0m \u001b[1;33m\u001b[0m\u001b[0m\n\u001b[0;32m   2160\u001b[0m     \u001b[1;31m#-------------------------------------------------------------------------\u001b[0m\u001b[1;33m\u001b[0m\u001b[1;33m\u001b[0m\u001b[0m\n",
      "\u001b[1;32mC:\\ProgramData\\Anaconda3\\envs\\py35\\lib\\site-packages\\IPython\\core\\interactiveshell.py\u001b[0m in \u001b[0;36mrun_line_magic\u001b[1;34m(self, magic_name, line)\u001b[0m\n\u001b[0;32m   2077\u001b[0m                 \u001b[0mkwargs\u001b[0m\u001b[1;33m[\u001b[0m\u001b[1;34m'local_ns'\u001b[0m\u001b[1;33m]\u001b[0m \u001b[1;33m=\u001b[0m \u001b[0msys\u001b[0m\u001b[1;33m.\u001b[0m\u001b[0m_getframe\u001b[0m\u001b[1;33m(\u001b[0m\u001b[0mstack_depth\u001b[0m\u001b[1;33m)\u001b[0m\u001b[1;33m.\u001b[0m\u001b[0mf_locals\u001b[0m\u001b[1;33m\u001b[0m\u001b[0m\n\u001b[0;32m   2078\u001b[0m             \u001b[1;32mwith\u001b[0m \u001b[0mself\u001b[0m\u001b[1;33m.\u001b[0m\u001b[0mbuiltin_trap\u001b[0m\u001b[1;33m:\u001b[0m\u001b[1;33m\u001b[0m\u001b[0m\n\u001b[1;32m-> 2079\u001b[1;33m                 \u001b[0mresult\u001b[0m \u001b[1;33m=\u001b[0m \u001b[0mfn\u001b[0m\u001b[1;33m(\u001b[0m\u001b[1;33m*\u001b[0m\u001b[0margs\u001b[0m\u001b[1;33m,\u001b[0m\u001b[1;33m**\u001b[0m\u001b[0mkwargs\u001b[0m\u001b[1;33m)\u001b[0m\u001b[1;33m\u001b[0m\u001b[0m\n\u001b[0m\u001b[0;32m   2080\u001b[0m             \u001b[1;32mreturn\u001b[0m \u001b[0mresult\u001b[0m\u001b[1;33m\u001b[0m\u001b[0m\n\u001b[0;32m   2081\u001b[0m \u001b[1;33m\u001b[0m\u001b[0m\n",
      "\u001b[1;32m<decorator-gen-59>\u001b[0m in \u001b[0;36mtimeit\u001b[1;34m(self, line, cell)\u001b[0m\n",
      "\u001b[1;32mC:\\ProgramData\\Anaconda3\\envs\\py35\\lib\\site-packages\\IPython\\core\\magic.py\u001b[0m in \u001b[0;36m<lambda>\u001b[1;34m(f, *a, **k)\u001b[0m\n\u001b[0;32m    186\u001b[0m     \u001b[1;31m# but it's overkill for just that one bit of state.\u001b[0m\u001b[1;33m\u001b[0m\u001b[1;33m\u001b[0m\u001b[0m\n\u001b[0;32m    187\u001b[0m     \u001b[1;32mdef\u001b[0m \u001b[0mmagic_deco\u001b[0m\u001b[1;33m(\u001b[0m\u001b[0marg\u001b[0m\u001b[1;33m)\u001b[0m\u001b[1;33m:\u001b[0m\u001b[1;33m\u001b[0m\u001b[0m\n\u001b[1;32m--> 188\u001b[1;33m         \u001b[0mcall\u001b[0m \u001b[1;33m=\u001b[0m \u001b[1;32mlambda\u001b[0m \u001b[0mf\u001b[0m\u001b[1;33m,\u001b[0m \u001b[1;33m*\u001b[0m\u001b[0ma\u001b[0m\u001b[1;33m,\u001b[0m \u001b[1;33m**\u001b[0m\u001b[0mk\u001b[0m\u001b[1;33m:\u001b[0m \u001b[0mf\u001b[0m\u001b[1;33m(\u001b[0m\u001b[1;33m*\u001b[0m\u001b[0ma\u001b[0m\u001b[1;33m,\u001b[0m \u001b[1;33m**\u001b[0m\u001b[0mk\u001b[0m\u001b[1;33m)\u001b[0m\u001b[1;33m\u001b[0m\u001b[0m\n\u001b[0m\u001b[0;32m    189\u001b[0m \u001b[1;33m\u001b[0m\u001b[0m\n\u001b[0;32m    190\u001b[0m         \u001b[1;32mif\u001b[0m \u001b[0mcallable\u001b[0m\u001b[1;33m(\u001b[0m\u001b[0marg\u001b[0m\u001b[1;33m)\u001b[0m\u001b[1;33m:\u001b[0m\u001b[1;33m\u001b[0m\u001b[0m\n",
      "\u001b[1;32mC:\\ProgramData\\Anaconda3\\envs\\py35\\lib\\site-packages\\IPython\\core\\magics\\execution.py\u001b[0m in \u001b[0;36mtimeit\u001b[1;34m(self, line, cell)\u001b[0m\n\u001b[0;32m   1047\u001b[0m             \u001b[0mnumber\u001b[0m \u001b[1;33m=\u001b[0m \u001b[1;36m1\u001b[0m\u001b[1;33m\u001b[0m\u001b[0m\n\u001b[0;32m   1048\u001b[0m             \u001b[1;32mfor\u001b[0m \u001b[0m_\u001b[0m \u001b[1;32min\u001b[0m \u001b[0mrange\u001b[0m\u001b[1;33m(\u001b[0m\u001b[1;36m1\u001b[0m\u001b[1;33m,\u001b[0m \u001b[1;36m10\u001b[0m\u001b[1;33m)\u001b[0m\u001b[1;33m:\u001b[0m\u001b[1;33m\u001b[0m\u001b[0m\n\u001b[1;32m-> 1049\u001b[1;33m                 \u001b[0mtime_number\u001b[0m \u001b[1;33m=\u001b[0m \u001b[0mtimer\u001b[0m\u001b[1;33m.\u001b[0m\u001b[0mtimeit\u001b[0m\u001b[1;33m(\u001b[0m\u001b[0mnumber\u001b[0m\u001b[1;33m)\u001b[0m\u001b[1;33m\u001b[0m\u001b[0m\n\u001b[0m\u001b[0;32m   1050\u001b[0m                 \u001b[0mworst_tuning\u001b[0m \u001b[1;33m=\u001b[0m \u001b[0mmax\u001b[0m\u001b[1;33m(\u001b[0m\u001b[0mworst_tuning\u001b[0m\u001b[1;33m,\u001b[0m \u001b[0mtime_number\u001b[0m \u001b[1;33m/\u001b[0m \u001b[0mnumber\u001b[0m\u001b[1;33m)\u001b[0m\u001b[1;33m\u001b[0m\u001b[0m\n\u001b[0;32m   1051\u001b[0m                 \u001b[1;32mif\u001b[0m \u001b[0mtime_number\u001b[0m \u001b[1;33m>=\u001b[0m \u001b[1;36m0.2\u001b[0m\u001b[1;33m:\u001b[0m\u001b[1;33m\u001b[0m\u001b[0m\n",
      "\u001b[1;32mC:\\ProgramData\\Anaconda3\\envs\\py35\\lib\\site-packages\\IPython\\core\\magics\\execution.py\u001b[0m in \u001b[0;36mtimeit\u001b[1;34m(self, number)\u001b[0m\n\u001b[0;32m    137\u001b[0m         \u001b[0mgc\u001b[0m\u001b[1;33m.\u001b[0m\u001b[0mdisable\u001b[0m\u001b[1;33m(\u001b[0m\u001b[1;33m)\u001b[0m\u001b[1;33m\u001b[0m\u001b[0m\n\u001b[0;32m    138\u001b[0m         \u001b[1;32mtry\u001b[0m\u001b[1;33m:\u001b[0m\u001b[1;33m\u001b[0m\u001b[0m\n\u001b[1;32m--> 139\u001b[1;33m             \u001b[0mtiming\u001b[0m \u001b[1;33m=\u001b[0m \u001b[0mself\u001b[0m\u001b[1;33m.\u001b[0m\u001b[0minner\u001b[0m\u001b[1;33m(\u001b[0m\u001b[0mit\u001b[0m\u001b[1;33m,\u001b[0m \u001b[0mself\u001b[0m\u001b[1;33m.\u001b[0m\u001b[0mtimer\u001b[0m\u001b[1;33m)\u001b[0m\u001b[1;33m\u001b[0m\u001b[0m\n\u001b[0m\u001b[0;32m    140\u001b[0m         \u001b[1;32mfinally\u001b[0m\u001b[1;33m:\u001b[0m\u001b[1;33m\u001b[0m\u001b[0m\n\u001b[0;32m    141\u001b[0m             \u001b[1;32mif\u001b[0m \u001b[0mgcold\u001b[0m\u001b[1;33m:\u001b[0m\u001b[1;33m\u001b[0m\u001b[0m\n",
      "\u001b[1;32m<magic-timeit>\u001b[0m in \u001b[0;36minner\u001b[1;34m(_it, _timer)\u001b[0m\n",
      "\u001b[1;31mNameError\u001b[0m: name 'c' is not defined"
     ]
    }
   ],
   "source": [
    "result3 = %timeit -o run_tuflp_cplex(G,I,J,C,c,f,expid)"
   ]
  },
  {
   "cell_type": "code",
   "execution_count": 114,
   "metadata": {},
   "outputs": [
    {
     "name": "stderr",
     "output_type": "stream",
     "text": [
      "Default row names c1, c2 ... being created.\n"
     ]
    },
    {
     "name": "stdout",
     "output_type": "stream",
     "text": [
      "Tried aggregator 1 time.\n",
      "MIP Presolve modified 25 coefficients.\n",
      "Reduced MIP has 75 rows, 6325 columns, and 18925 nonzeros.\n",
      "Reduced MIP has 6325 binaries, 0 generals, 0 SOSs, and 0 indicators.\n",
      "Presolve time = 0.06 sec. (8.22 ticks)\n",
      "Found incumbent of value 9600.868169 after 0.14 sec. (23.65 ticks)\n",
      "Tried aggregator 1 time.\n",
      "Reduced MIP has 75 rows, 6325 columns, and 18925 nonzeros.\n",
      "Reduced MIP has 6325 binaries, 0 generals, 0 SOSs, and 0 indicators.\n",
      "Presolve time = 0.08 sec. (7.95 ticks)\n",
      "Probing time = 0.03 sec. (3.57 ticks)\n",
      "Clique table members: 12650.\n",
      "MIP emphasis: balance optimality and feasibility.\n",
      "MIP search method: dynamic search.\n",
      "Parallel mode: deterministic, using up to 8 threads.\n",
      "Root relaxation solution time = 0.05 sec. (7.64 ticks)\n",
      "\n",
      "        Nodes                                         Cuts/\n",
      "   Node  Left     Objective  IInf  Best Integer    Best Bound    ItCnt     Gap\n",
      "\n",
      "*     0+    0                         9600.8682        0.0000           100.00%\n",
      "*     0+    0                         5227.9221        0.0000           100.00%\n",
      "*     0+    0                         4960.2263        0.0000           100.00%\n",
      "*     0+    0                         4696.4218        0.0000           100.00%\n",
      "      0     0     4102.3402    22     4696.4218     4102.3402      164   12.65%\n",
      "      0     0     4146.6800    91     4696.4218      Cuts: 91      286   11.71%\n",
      "*     0+    0                         4564.1677     4146.6800             9.15%\n",
      "      0     0     4157.0461   115     4564.1677      Cuts: 68      337    8.92%\n",
      "*     0+    0                         4436.6254     4157.0461             6.30%\n",
      "      0     0     4162.1883   101     4436.6254      Cuts: 41      388    6.19%\n",
      "      0     0     4163.5787   108     4436.6254      Cuts: 38      423    6.15%\n",
      "*     0+    0                         4404.4863     4163.5787             5.47%\n",
      "      0     0     4164.1394   114     4404.4863      Cuts: 13      441    5.46%\n",
      "*     0+    0                         4391.1429     4164.1394             5.17%\n",
      "      0     0     4165.0475   124     4391.1429      Cuts: 24      476    5.15%\n",
      "      0     0     4165.3398   122     4391.1429      Cuts: 17      499    5.14%\n",
      "      0     0     4165.5219   125     4391.1429      Cuts: 11      522    5.14%\n",
      "      0     0     4165.5294   122     4391.1429       Cuts: 3      526    5.14%\n",
      "*     0+    0                         4316.8004     4165.5294             3.50%\n",
      "*     0+    0                         4306.8593     4165.5294             3.28%\n",
      "*     0+    0                         4272.7501     4166.5149             2.49%\n",
      "*     0+    0                         4266.3234     4166.5149             2.34%\n",
      "\n",
      "Repeating presolve.\n",
      "Tried aggregator 1 time.\n",
      "MIP Presolve eliminated 2 rows and 1879 columns.\n",
      "Reduced MIP has 73 rows, 4446 columns, and 13292 nonzeros.\n",
      "Reduced MIP has 4446 binaries, 0 generals, 0 SOSs, and 0 indicators.\n",
      "Presolve time = 0.03 sec. (6.49 ticks)\n",
      "Tried aggregator 1 time.\n",
      "Reduced MIP has 73 rows, 4446 columns, and 13292 nonzeros.\n",
      "Reduced MIP has 4446 binaries, 0 generals, 0 SOSs, and 0 indicators.\n",
      "Presolve time = 0.02 sec. (5.77 ticks)\n",
      "Represolve time = 0.11 sec. (23.58 ticks)\n",
      "Probing time = 0.01 sec. (2.94 ticks)\n",
      "Clique table members: 8896.\n",
      "MIP emphasis: balance optimality and feasibility.\n",
      "MIP search method: dynamic search.\n",
      "Parallel mode: deterministic, using up to 8 threads.\n",
      "Root relaxation solution time = 0.06 sec. (31.32 ticks)\n",
      "\n",
      "        Nodes                                         Cuts/\n",
      "   Node  Left     Objective  IInf  Best Integer    Best Bound    ItCnt     Gap\n",
      "\n",
      "*     0+    0                         4266.3234     4166.5149             2.34%\n",
      "      0     0     4165.5294   122     4266.3234     4166.5149     1094    2.34%\n",
      "      0     0     4165.5576   126     4266.3234   ZeroHalf: 3     1105    2.34%\n",
      "      0     0     4165.6232   119     4266.3234       Cuts: 6     1115    2.34%\n",
      "      0     0     4165.6587   128     4266.3234      Cuts: 21     1129    2.34%\n",
      "      0     2     4165.6587   128     4266.3234     4166.5149     1129    2.34%\n",
      "Elapsed time = 3.03 sec. (630.28 ticks, tree = 0.01 MB, solutions = 12)\n",
      "    836   574     4230.4787    22     4266.3234     4166.5149     8983    2.34%\n",
      "   2226  1792     4198.2545    76     4266.3234     4166.5149    22143    2.34%\n",
      "   3447  3105     4202.4443    82     4266.3234     4202.4443    33409    1.50%\n",
      "   3474    89     4231.3770    51     4266.3234     4202.8989    33807    1.49%\n",
      "   3953   311     4247.2237    31     4266.3234     4203.2974    38648    1.48%\n",
      "   4964  1081     4242.1525    28     4266.3234     4206.3285    46553    1.41%\n",
      "   5811  1648        cutoff           4266.3234     4210.1788    61295    1.32%\n",
      "   6659  2142     4222.6361    26     4266.3234     4212.8292    75357    1.25%\n",
      "   7523  2653     4218.4768    50     4266.3234     4214.7074    89191    1.21%\n",
      "  11109  4302     4231.1918    19     4266.3234     4220.1873   154709    1.08%\n",
      "Elapsed time = 11.72 sec. (4537.75 ticks, tree = 18.27 MB, solutions = 12)\n",
      "  14754  5675     4255.7717    18     4266.3234     4224.0854   222326    0.99%\n",
      "  18608  6832        cutoff           4266.3234     4227.6688   291833    0.91%\n",
      "  22233  7610     4247.5116    29     4266.3234     4230.6044   356058    0.84%\n",
      "  26623  8657     4253.2460    22     4266.3234     4233.9973   452203    0.76%\n",
      "  30906  9120        cutoff           4266.3234     4236.9976   526652    0.69%\n",
      "  35522  9134        cutoff           4266.3234     4240.3938   605530    0.61%\n",
      "  37850  8807     4247.9038    35     4266.3234     4241.3227   656667    0.59%\n",
      "  40295  8347        cutoff           4266.3234     4241.3227   694927    0.59%\n",
      "  43244  7438     4256.8485    15     4266.3234     4241.3227   740615    0.59%\n",
      "  46465  5970        cutoff           4266.3234     4241.4784   785966    0.58%\n",
      "Elapsed time = 37.50 sec. (14076.94 ticks, tree = 32.66 MB, solutions = 12)\n",
      "  52017  2072        cutoff           4266.3234     4259.8319   842631    0.15%\n",
      "\n",
      "GUB cover cuts applied:  32\n",
      "Clique cuts applied:  50\n",
      "Cover cuts applied:  209\n",
      "Flow cuts applied:  8\n",
      "Mixed integer rounding cuts applied:  39\n",
      "Zero-half cuts applied:  30\n",
      "Gomory fractional cuts applied:  4\n",
      "\n",
      "Root node processing (before b&c):\n",
      "  Real time             =    3.03 sec. (629.70 ticks)\n",
      "Parallel b&c, 8 threads:\n",
      "  Real time             =   38.30 sec. (14659.06 ticks)\n",
      "  Sync time (average)   =    6.19 sec.\n",
      "  Wait time (average)   =    0.12 sec.\n",
      "                          ------------\n",
      "Total (root+branch&cut) =   41.32 sec. (15288.76 ticks)\n"
     ]
    },
    {
     "name": "stderr",
     "output_type": "stream",
     "text": [
      "Default row names c1, c2 ... being created.\n"
     ]
    },
    {
     "name": "stdout",
     "output_type": "stream",
     "text": [
      "Tried aggregator 1 time.\n",
      "MIP Presolve modified 25 coefficients.\n",
      "Reduced MIP has 75 rows, 6325 columns, and 18925 nonzeros.\n",
      "Reduced MIP has 6325 binaries, 0 generals, 0 SOSs, and 0 indicators.\n",
      "Presolve time = 0.03 sec. (8.22 ticks)\n",
      "Found incumbent of value 9600.868169 after 0.05 sec. (23.65 ticks)\n",
      "Tried aggregator 1 time.\n",
      "Reduced MIP has 75 rows, 6325 columns, and 18925 nonzeros.\n",
      "Reduced MIP has 6325 binaries, 0 generals, 0 SOSs, and 0 indicators.\n",
      "Presolve time = 0.01 sec. (7.95 ticks)\n",
      "Probing time = 0.13 sec. (3.57 ticks)\n",
      "Clique table members: 12650.\n",
      "MIP emphasis: balance optimality and feasibility.\n",
      "MIP search method: dynamic search.\n",
      "Parallel mode: deterministic, using up to 8 threads.\n",
      "Root relaxation solution time = 0.02 sec. (7.64 ticks)\n",
      "\n",
      "        Nodes                                         Cuts/\n",
      "   Node  Left     Objective  IInf  Best Integer    Best Bound    ItCnt     Gap\n",
      "\n",
      "*     0+    0                         9600.8682        0.0000           100.00%\n",
      "*     0+    0                         5227.9221        0.0000           100.00%\n",
      "*     0+    0                         4960.2263        0.0000           100.00%\n",
      "*     0+    0                         4696.4218        0.0000           100.00%\n",
      "      0     0     4102.3402    22     4696.4218     4102.3402      164   12.65%\n",
      "      0     0     4146.6800    91     4696.4218      Cuts: 91      286   11.71%\n",
      "*     0+    0                         4564.1677     4146.6800             9.15%\n",
      "      0     0     4157.0461   115     4564.1677      Cuts: 68      337    8.92%\n",
      "*     0+    0                         4436.6254     4157.0461             6.30%\n",
      "      0     0     4162.1883   101     4436.6254      Cuts: 41      388    6.19%\n",
      "      0     0     4163.5787   108     4436.6254      Cuts: 38      423    6.15%\n",
      "*     0+    0                         4404.4863     4163.5787             5.47%\n",
      "      0     0     4164.1394   114     4404.4863      Cuts: 13      441    5.46%\n",
      "*     0+    0                         4391.1429     4164.1394             5.17%\n",
      "      0     0     4165.0475   124     4391.1429      Cuts: 24      476    5.15%\n",
      "      0     0     4165.3398   122     4391.1429      Cuts: 17      499    5.14%\n",
      "      0     0     4165.5219   125     4391.1429      Cuts: 11      522    5.14%\n",
      "      0     0     4165.5294   122     4391.1429       Cuts: 3      526    5.14%\n",
      "*     0+    0                         4316.8004     4165.5294             3.50%\n",
      "*     0+    0                         4306.8593     4165.5294             3.28%\n",
      "*     0+    0                         4272.7501     4166.5149             2.49%\n",
      "*     0+    0                         4266.3234     4166.5149             2.34%\n",
      "\n",
      "Repeating presolve.\n",
      "Tried aggregator 1 time.\n",
      "MIP Presolve eliminated 2 rows and 1879 columns.\n",
      "Reduced MIP has 73 rows, 4446 columns, and 13292 nonzeros.\n",
      "Reduced MIP has 4446 binaries, 0 generals, 0 SOSs, and 0 indicators.\n",
      "Presolve time = 0.01 sec. (6.49 ticks)\n",
      "Tried aggregator 1 time.\n",
      "Reduced MIP has 73 rows, 4446 columns, and 13292 nonzeros.\n",
      "Reduced MIP has 4446 binaries, 0 generals, 0 SOSs, and 0 indicators.\n",
      "Presolve time = 0.02 sec. (5.77 ticks)\n",
      "Represolve time = 0.06 sec. (23.58 ticks)\n",
      "Probing time = 0.00 sec. (2.94 ticks)\n",
      "Clique table members: 8896.\n",
      "MIP emphasis: balance optimality and feasibility.\n",
      "MIP search method: dynamic search.\n",
      "Parallel mode: deterministic, using up to 8 threads.\n",
      "Root relaxation solution time = 0.03 sec. (31.32 ticks)\n",
      "\n",
      "        Nodes                                         Cuts/\n",
      "   Node  Left     Objective  IInf  Best Integer    Best Bound    ItCnt     Gap\n",
      "\n",
      "*     0+    0                         4266.3234     4166.5149             2.34%\n",
      "      0     0     4165.5294   122     4266.3234     4166.5149     1094    2.34%\n",
      "      0     0     4165.5576   126     4266.3234   ZeroHalf: 3     1105    2.34%\n",
      "      0     0     4165.6232   119     4266.3234       Cuts: 6     1115    2.34%\n",
      "      0     0     4165.6587   128     4266.3234      Cuts: 21     1129    2.34%\n",
      "      0     2     4165.6587   128     4266.3234     4166.5149     1129    2.34%\n",
      "Elapsed time = 1.92 sec. (630.28 ticks, tree = 0.01 MB, solutions = 12)\n",
      "    836   574     4230.4787    22     4266.3234     4166.5149     8983    2.34%\n",
      "   2226  1792     4198.2545    76     4266.3234     4166.5149    22143    2.34%\n",
      "   3447  3105     4202.4443    82     4266.3234     4202.4443    33409    1.50%\n",
      "   3474    89     4231.3770    51     4266.3234     4202.8989    33807    1.49%\n",
      "   3953   311     4247.2237    31     4266.3234     4203.2974    38648    1.48%\n",
      "   4964  1081     4242.1525    28     4266.3234     4206.3285    46553    1.41%\n",
      "   5811  1648        cutoff           4266.3234     4210.1788    61295    1.32%\n",
      "   6659  2142     4222.6361    26     4266.3234     4212.8292    75357    1.25%\n",
      "   7523  2653     4218.4768    50     4266.3234     4214.7074    89191    1.21%\n",
      "  11109  4302     4231.1918    19     4266.3234     4220.1873   154709    1.08%\n",
      "Elapsed time = 12.57 sec. (4537.75 ticks, tree = 18.27 MB, solutions = 12)\n",
      "  14754  5675     4255.7717    18     4266.3234     4224.0854   222326    0.99%\n",
      "  18608  6832        cutoff           4266.3234     4227.6688   291833    0.91%\n",
      "  22233  7610     4247.5116    29     4266.3234     4230.6044   356058    0.84%\n",
      "  26623  8657     4253.2460    22     4266.3234     4233.9973   452203    0.76%\n",
      "  30906  9120        cutoff           4266.3234     4236.9976   526652    0.69%\n",
      "  35522  9134        cutoff           4266.3234     4240.3938   605530    0.61%\n",
      "  37850  8807     4247.9038    35     4266.3234     4241.3227   656667    0.59%\n",
      "  40295  8347        cutoff           4266.3234     4241.3227   694927    0.59%\n",
      "  43244  7438     4256.8485    15     4266.3234     4241.3227   740615    0.59%\n",
      "  46465  5970        cutoff           4266.3234     4241.4784   785966    0.58%\n",
      "Elapsed time = 37.41 sec. (14076.94 ticks, tree = 32.66 MB, solutions = 12)\n",
      "  52017  2072        cutoff           4266.3234     4259.8319   842631    0.15%\n",
      "\n",
      "GUB cover cuts applied:  32\n",
      "Clique cuts applied:  50\n",
      "Cover cuts applied:  209\n",
      "Flow cuts applied:  8\n",
      "Mixed integer rounding cuts applied:  39\n",
      "Zero-half cuts applied:  30\n",
      "Gomory fractional cuts applied:  4\n",
      "\n",
      "Root node processing (before b&c):\n",
      "  Real time             =    1.92 sec. (629.70 ticks)\n",
      "Parallel b&c, 8 threads:\n",
      "  Real time             =   39.03 sec. (14659.06 ticks)\n",
      "  Sync time (average)   =    5.09 sec.\n",
      "  Wait time (average)   =    0.09 sec.\n",
      "                          ------------\n",
      "Total (root+branch&cut) =   40.95 sec. (15288.76 ticks)\n"
     ]
    },
    {
     "name": "stderr",
     "output_type": "stream",
     "text": [
      "Default row names c1, c2 ... being created.\n"
     ]
    },
    {
     "name": "stdout",
     "output_type": "stream",
     "text": [
      "Tried aggregator 1 time.\n",
      "MIP Presolve modified 25 coefficients.\n",
      "Reduced MIP has 75 rows, 6325 columns, and 18925 nonzeros.\n",
      "Reduced MIP has 6325 binaries, 0 generals, 0 SOSs, and 0 indicators.\n",
      "Presolve time = 0.05 sec. (8.22 ticks)\n",
      "Found incumbent of value 9600.868169 after 0.12 sec. (23.65 ticks)\n",
      "Tried aggregator 1 time.\n",
      "Reduced MIP has 75 rows, 6325 columns, and 18925 nonzeros.\n",
      "Reduced MIP has 6325 binaries, 0 generals, 0 SOSs, and 0 indicators.\n",
      "Presolve time = 0.06 sec. (7.95 ticks)\n",
      "Probing time = 0.28 sec. (3.57 ticks)\n",
      "Clique table members: 12650.\n",
      "MIP emphasis: balance optimality and feasibility.\n",
      "MIP search method: dynamic search.\n",
      "Parallel mode: deterministic, using up to 8 threads.\n",
      "Root relaxation solution time = 0.06 sec. (7.64 ticks)\n",
      "\n",
      "        Nodes                                         Cuts/\n",
      "   Node  Left     Objective  IInf  Best Integer    Best Bound    ItCnt     Gap\n",
      "\n",
      "*     0+    0                         9600.8682        0.0000           100.00%\n",
      "*     0+    0                         5227.9221        0.0000           100.00%\n",
      "*     0+    0                         4960.2263        0.0000           100.00%\n",
      "*     0+    0                         4696.4218        0.0000           100.00%\n",
      "      0     0     4102.3402    22     4696.4218     4102.3402      164   12.65%\n",
      "      0     0     4146.6800    91     4696.4218      Cuts: 91      286   11.71%\n",
      "*     0+    0                         4564.1677     4146.6800             9.15%\n",
      "      0     0     4157.0461   115     4564.1677      Cuts: 68      337    8.92%\n",
      "*     0+    0                         4436.6254     4157.0461             6.30%\n",
      "      0     0     4162.1883   101     4436.6254      Cuts: 41      388    6.19%\n",
      "      0     0     4163.5787   108     4436.6254      Cuts: 38      423    6.15%\n",
      "*     0+    0                         4404.4863     4163.5787             5.47%\n",
      "      0     0     4164.1394   114     4404.4863      Cuts: 13      441    5.46%\n",
      "*     0+    0                         4391.1429     4164.1394             5.17%\n",
      "      0     0     4165.0475   124     4391.1429      Cuts: 24      476    5.15%\n",
      "      0     0     4165.3398   122     4391.1429      Cuts: 17      499    5.14%\n",
      "      0     0     4165.5219   125     4391.1429      Cuts: 11      522    5.14%\n",
      "      0     0     4165.5294   122     4391.1429       Cuts: 3      526    5.14%\n",
      "*     0+    0                         4316.8004     4165.5294             3.50%\n",
      "*     0+    0                         4306.8593     4165.5294             3.28%\n",
      "*     0+    0                         4272.7501     4166.5149             2.49%\n",
      "*     0+    0                         4266.3234     4166.5149             2.34%\n",
      "\n",
      "Repeating presolve.\n",
      "Tried aggregator 1 time.\n",
      "MIP Presolve eliminated 2 rows and 1879 columns.\n",
      "Reduced MIP has 73 rows, 4446 columns, and 13292 nonzeros.\n",
      "Reduced MIP has 4446 binaries, 0 generals, 0 SOSs, and 0 indicators.\n",
      "Presolve time = 0.03 sec. (6.49 ticks)\n",
      "Tried aggregator 1 time.\n",
      "Reduced MIP has 73 rows, 4446 columns, and 13292 nonzeros.\n",
      "Reduced MIP has 4446 binaries, 0 generals, 0 SOSs, and 0 indicators.\n",
      "Presolve time = 0.03 sec. (5.77 ticks)\n",
      "Represolve time = 0.11 sec. (23.58 ticks)\n",
      "Probing time = 0.02 sec. (2.94 ticks)\n",
      "Clique table members: 8896.\n",
      "MIP emphasis: balance optimality and feasibility.\n",
      "MIP search method: dynamic search.\n",
      "Parallel mode: deterministic, using up to 8 threads.\n",
      "Root relaxation solution time = 0.06 sec. (31.32 ticks)\n",
      "\n",
      "        Nodes                                         Cuts/\n",
      "   Node  Left     Objective  IInf  Best Integer    Best Bound    ItCnt     Gap\n",
      "\n",
      "*     0+    0                         4266.3234     4166.5149             2.34%\n",
      "      0     0     4165.5294   122     4266.3234     4166.5149     1094    2.34%\n",
      "      0     0     4165.5576   126     4266.3234   ZeroHalf: 3     1105    2.34%\n",
      "      0     0     4165.6232   119     4266.3234       Cuts: 6     1115    2.34%\n",
      "      0     0     4165.6587   128     4266.3234      Cuts: 21     1129    2.34%\n",
      "      0     2     4165.6587   128     4266.3234     4166.5149     1129    2.34%\n",
      "Elapsed time = 3.21 sec. (630.28 ticks, tree = 0.01 MB, solutions = 12)\n",
      "    836   574     4230.4787    22     4266.3234     4166.5149     8983    2.34%\n",
      "   2226  1792     4198.2545    76     4266.3234     4166.5149    22143    2.34%\n",
      "   3447  3105     4202.4443    82     4266.3234     4202.4443    33409    1.50%\n",
      "   3474    89     4231.3770    51     4266.3234     4202.8989    33807    1.49%\n",
      "   3953   311     4247.2237    31     4266.3234     4203.2974    38648    1.48%\n",
      "   4964  1081     4242.1525    28     4266.3234     4206.3285    46553    1.41%\n",
      "   5811  1648        cutoff           4266.3234     4210.1788    61295    1.32%\n",
      "   6659  2142     4222.6361    26     4266.3234     4212.8292    75357    1.25%\n",
      "   7523  2653     4218.4768    50     4266.3234     4214.7074    89191    1.21%\n",
      "  11109  4302     4231.1918    19     4266.3234     4220.1873   154709    1.08%\n",
      "Elapsed time = 11.97 sec. (4537.75 ticks, tree = 18.27 MB, solutions = 12)\n",
      "  14754  5675     4255.7717    18     4266.3234     4224.0854   222326    0.99%\n",
      "  18608  6832        cutoff           4266.3234     4227.6688   291833    0.91%\n",
      "  22233  7610     4247.5116    29     4266.3234     4230.6044   356058    0.84%\n",
      "  26623  8657     4253.2460    22     4266.3234     4233.9973   452203    0.76%\n",
      "  30906  9120        cutoff           4266.3234     4236.9976   526652    0.69%\n",
      "  35522  9134        cutoff           4266.3234     4240.3938   605530    0.61%\n",
      "  37850  8807     4247.9038    35     4266.3234     4241.3227   656667    0.59%\n",
      "  40295  8347        cutoff           4266.3234     4241.3227   694927    0.59%\n",
      "  43244  7438     4256.8485    15     4266.3234     4241.3227   740615    0.59%\n",
      "  46465  5970        cutoff           4266.3234     4241.4784   785966    0.58%\n",
      "Elapsed time = 37.00 sec. (14076.94 ticks, tree = 32.66 MB, solutions = 12)\n",
      "  52017  2072        cutoff           4266.3234     4259.8319   842631    0.15%\n",
      "\n",
      "GUB cover cuts applied:  32\n",
      "Clique cuts applied:  50\n",
      "Cover cuts applied:  209\n",
      "Flow cuts applied:  8\n",
      "Mixed integer rounding cuts applied:  39\n",
      "Zero-half cuts applied:  30\n",
      "Gomory fractional cuts applied:  4\n",
      "\n",
      "Root node processing (before b&c):\n",
      "  Real time             =    3.20 sec. (629.70 ticks)\n",
      "Parallel b&c, 8 threads:\n",
      "  Real time             =   37.53 sec. (14659.06 ticks)\n",
      "  Sync time (average)   =    5.36 sec.\n",
      "  Wait time (average)   =    0.17 sec.\n",
      "                          ------------\n",
      "Total (root+branch&cut) =   40.73 sec. (15288.76 ticks)\n"
     ]
    },
    {
     "name": "stderr",
     "output_type": "stream",
     "text": [
      "Default row names c1, c2 ... being created.\n"
     ]
    },
    {
     "name": "stdout",
     "output_type": "stream",
     "text": [
      "Tried aggregator 1 time.\n",
      "MIP Presolve modified 25 coefficients.\n",
      "Reduced MIP has 75 rows, 6325 columns, and 18925 nonzeros.\n",
      "Reduced MIP has 6325 binaries, 0 generals, 0 SOSs, and 0 indicators.\n",
      "Presolve time = 0.02 sec. (8.22 ticks)\n",
      "Found incumbent of value 9600.868169 after 0.05 sec. (23.65 ticks)\n",
      "Tried aggregator 1 time.\n",
      "Reduced MIP has 75 rows, 6325 columns, and 18925 nonzeros.\n",
      "Reduced MIP has 6325 binaries, 0 generals, 0 SOSs, and 0 indicators.\n",
      "Presolve time = 0.01 sec. (7.95 ticks)\n",
      "Probing time = 0.19 sec. (3.57 ticks)\n",
      "Clique table members: 12650.\n",
      "MIP emphasis: balance optimality and feasibility.\n",
      "MIP search method: dynamic search.\n",
      "Parallel mode: deterministic, using up to 8 threads.\n",
      "Root relaxation solution time = 0.01 sec. (7.64 ticks)\n",
      "\n",
      "        Nodes                                         Cuts/\n",
      "   Node  Left     Objective  IInf  Best Integer    Best Bound    ItCnt     Gap\n",
      "\n",
      "*     0+    0                         9600.8682        0.0000           100.00%\n",
      "*     0+    0                         5227.9221        0.0000           100.00%\n",
      "*     0+    0                         4960.2263        0.0000           100.00%\n",
      "*     0+    0                         4696.4218        0.0000           100.00%\n",
      "      0     0     4102.3402    22     4696.4218     4102.3402      164   12.65%\n",
      "      0     0     4146.6800    91     4696.4218      Cuts: 91      286   11.71%\n",
      "*     0+    0                         4564.1677     4146.6800             9.15%\n",
      "      0     0     4157.0461   115     4564.1677      Cuts: 68      337    8.92%\n",
      "*     0+    0                         4436.6254     4157.0461             6.30%\n",
      "      0     0     4162.1883   101     4436.6254      Cuts: 41      388    6.19%\n",
      "      0     0     4163.5787   108     4436.6254      Cuts: 38      423    6.15%\n",
      "*     0+    0                         4404.4863     4163.5787             5.47%\n",
      "      0     0     4164.1394   114     4404.4863      Cuts: 13      441    5.46%\n",
      "*     0+    0                         4391.1429     4164.1394             5.17%\n",
      "      0     0     4165.0475   124     4391.1429      Cuts: 24      476    5.15%\n",
      "      0     0     4165.3398   122     4391.1429      Cuts: 17      499    5.14%\n",
      "      0     0     4165.5219   125     4391.1429      Cuts: 11      522    5.14%\n",
      "      0     0     4165.5294   122     4391.1429       Cuts: 3      526    5.14%\n",
      "*     0+    0                         4316.8004     4165.5294             3.50%\n",
      "*     0+    0                         4306.8593     4165.5294             3.28%\n",
      "*     0+    0                         4272.7501     4166.5149             2.49%\n",
      "*     0+    0                         4266.3234     4166.5149             2.34%\n",
      "\n",
      "Repeating presolve.\n",
      "Tried aggregator 1 time.\n",
      "MIP Presolve eliminated 2 rows and 1879 columns.\n",
      "Reduced MIP has 73 rows, 4446 columns, and 13292 nonzeros.\n",
      "Reduced MIP has 4446 binaries, 0 generals, 0 SOSs, and 0 indicators.\n",
      "Presolve time = 0.02 sec. (6.49 ticks)\n",
      "Tried aggregator 1 time.\n",
      "Reduced MIP has 73 rows, 4446 columns, and 13292 nonzeros.\n",
      "Reduced MIP has 4446 binaries, 0 generals, 0 SOSs, and 0 indicators.\n",
      "Presolve time = 0.02 sec. (5.77 ticks)\n",
      "Represolve time = 0.08 sec. (23.58 ticks)\n",
      "Probing time = 0.00 sec. (2.94 ticks)\n",
      "Clique table members: 8896.\n",
      "MIP emphasis: balance optimality and feasibility.\n",
      "MIP search method: dynamic search.\n",
      "Parallel mode: deterministic, using up to 8 threads.\n",
      "Root relaxation solution time = 0.03 sec. (31.32 ticks)\n",
      "\n",
      "        Nodes                                         Cuts/\n",
      "   Node  Left     Objective  IInf  Best Integer    Best Bound    ItCnt     Gap\n",
      "\n",
      "*     0+    0                         4266.3234     4166.5149             2.34%\n",
      "      0     0     4165.5294   122     4266.3234     4166.5149     1094    2.34%\n",
      "      0     0     4165.5576   126     4266.3234   ZeroHalf: 3     1105    2.34%\n",
      "      0     0     4165.6232   119     4266.3234       Cuts: 6     1115    2.34%\n",
      "      0     0     4165.6587   128     4266.3234      Cuts: 21     1129    2.34%\n",
      "      0     2     4165.6587   128     4266.3234     4166.5149     1129    2.34%\n",
      "Elapsed time = 1.90 sec. (630.28 ticks, tree = 0.01 MB, solutions = 12)\n",
      "    836   574     4230.4787    22     4266.3234     4166.5149     8983    2.34%\n",
      "   2226  1792     4198.2545    76     4266.3234     4166.5149    22143    2.34%\n",
      "   3447  3105     4202.4443    82     4266.3234     4202.4443    33409    1.50%\n",
      "   3474    89     4231.3770    51     4266.3234     4202.8989    33807    1.49%\n",
      "   3953   311     4247.2237    31     4266.3234     4203.2974    38648    1.48%\n",
      "   4964  1081     4242.1525    28     4266.3234     4206.3285    46553    1.41%\n",
      "   5811  1648        cutoff           4266.3234     4210.1788    61295    1.32%\n",
      "   6659  2142     4222.6361    26     4266.3234     4212.8292    75357    1.25%\n",
      "   7523  2653     4218.4768    50     4266.3234     4214.7074    89191    1.21%\n",
      "  11109  4302     4231.1918    19     4266.3234     4220.1873   154709    1.08%\n",
      "Elapsed time = 10.42 sec. (4537.75 ticks, tree = 18.27 MB, solutions = 12)\n",
      "  14754  5675     4255.7717    18     4266.3234     4224.0854   222326    0.99%\n",
      "  18608  6832        cutoff           4266.3234     4227.6688   291833    0.91%\n",
      "  22233  7610     4247.5116    29     4266.3234     4230.6044   356058    0.84%\n",
      "  26623  8657     4253.2460    22     4266.3234     4233.9973   452203    0.76%\n",
      "  30906  9120        cutoff           4266.3234     4236.9976   526652    0.69%\n",
      "  35522  9134        cutoff           4266.3234     4240.3938   605530    0.61%\n",
      "  37850  8807     4247.9038    35     4266.3234     4241.3227   656667    0.59%\n",
      "  40295  8347        cutoff           4266.3234     4241.3227   694927    0.59%\n",
      "  43244  7438     4256.8485    15     4266.3234     4241.3227   740615    0.59%\n",
      "  46465  5970        cutoff           4266.3234     4241.4784   785966    0.58%\n",
      "Elapsed time = 34.45 sec. (14076.94 ticks, tree = 32.87 MB, solutions = 12)\n",
      "  52017  2072        cutoff           4266.3234     4259.8319   842631    0.15%\n",
      "\n",
      "GUB cover cuts applied:  32\n",
      "Clique cuts applied:  50\n",
      "Cover cuts applied:  209\n",
      "Flow cuts applied:  8\n",
      "Mixed integer rounding cuts applied:  39\n",
      "Zero-half cuts applied:  30\n",
      "Gomory fractional cuts applied:  4\n",
      "\n",
      "Root node processing (before b&c):\n",
      "  Real time             =    1.90 sec. (629.70 ticks)\n",
      "Parallel b&c, 8 threads:\n",
      "  Real time             =   36.21 sec. (14659.06 ticks)\n",
      "  Sync time (average)   =    4.59 sec.\n",
      "  Wait time (average)   =    0.10 sec.\n",
      "                          ------------\n",
      "Total (root+branch&cut) =   38.11 sec. (15288.76 ticks)\n",
      "1 loop, best of 3: 39 s per loop\n"
     ]
    },
    {
     "data": {
      "image/png": "[encoded data removed]",
      "text/plain": [
       "<matplotlib.figure.Figure at 0xb0c2080>"
      ]
     },
     "metadata": {},
     "output_type": "display_data"
    }
   ],
   "source": [
    "result4 = %timeit -o run_tecflp_cplex(G,I,J,C,c,f,U,V,expid)"
   ]
  },
  {
   "cell_type": "markdown",
   "metadata": {
    "collapsed": true
   },
   "source": [
    "## Results"
   ]
  },
  {
   "cell_type": "code",
   "execution_count": 115,
   "metadata": {},
   "outputs": [
    {
     "data": {
      "image/png": "[encoded data removed]",
      "text/plain": [
       "<matplotlib.figure.Figure at 0xb19dbe0>"
      ]
     },
     "metadata": {},
     "output_type": "display_data"
    }
   ],
   "source": [
    "objects = ('UFLP', 'CFLP', 'TUFLP', 'TCFLP')\n",
    "y_pos = np.arange(len(objects))\n",
    "performance = [result1.best,result2.best,result3.best,result4.best]\n",
    " \n",
    "plt.bar(y_pos, performance, align='center', alpha=0.5)\n",
    "plt.xticks(y_pos, objects)\n",
    "plt.ylabel('Time s')\n",
    "plt.title('Best processing time for each subproblem')\n",
    " \n",
    "plt.show()"
   ]
  }
 ],
 "metadata": {
  "hide_input": false,
  "kernelspec": {
   "display_name": "Py35",
   "language": "python",
   "name": "py35"
  },
  "language_info": {
   "codemirror_mode": {
    "name": "ipython",
    "version": 3
   },
   "file_extension": ".py",
   "mimetype": "text/x-python",
   "name": "python",
   "nbconvert_exporter": "python",
   "pygments_lexer": "ipython3",
   "version": "3.5.3"
  },
  "toc": {
   "colors": {
    "hover_highlight": "#DAA520",
    "running_highlight": "#FF0000",
    "selected_highlight": "#FFD700"
   },
   "moveMenuLeft": true,
   "nav_menu": {
    "height": "192px",
    "width": "252px"
   },
   "navigate_menu": true,
   "number_sections": true,
   "sideBar": true,
   "threshold": 4,
   "toc_cell": false,
   "toc_section_display": "block",
   "toc_window_display": true,
   "widenNotebook": false
  }
 },
 "nbformat": 4,
 "nbformat_minor": 2
}
