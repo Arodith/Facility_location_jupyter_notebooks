{
 "cells": [
  {
   "cell_type": "markdown",
   "metadata": {},
   "source": [
    "# Datasets Generation\n",
    "\n",
    "This note book aim to provide function to create, manipulate, and analyze datasets\n",
    "\n",
    "The dataset is compose a several layers or type of facility/customer mainly represented by there location"
   ]
  },
  {
   "cell_type": "code",
   "execution_count": 102,
   "metadata": {},
   "outputs": [
    {
     "name": "stdout",
     "output_type": "stream",
     "text": [
      "The autoreload extension is already loaded. To reload it, use:\n",
      "  %reload_ext autoreload\n"
     ]
    },
    {
     "name": "stderr",
     "output_type": "stream",
     "text": [
      "C:\\ProgramData\\Anaconda3\\envs\\py35\\lib\\site-packages\\matplotlib\\__init__.py:1401: UserWarning:  This call to matplotlib.use() has no effect\n",
      "because the backend has already been chosen;\n",
      "matplotlib.use() must be called *before* pylab, matplotlib.pyplot,\n",
      "or matplotlib.backends is imported for the first time.\n",
      "\n",
      "  warnings.warn(_use_error_msg)\n"
     ]
    }
   ],
   "source": [
    "import csv\n",
    "import os\n",
    "\n",
    "from random import uniform as unif\n",
    "\n",
    "import networkx as nx\n",
    "\n",
    "import numpy as np\n",
    "from numpy import linalg as LA\n",
    "import scipy as sp\n",
    "from scipy import stats\n",
    "\n",
    "import matplotlib as mpl\n",
    "mpl.use(\"Agg\")  # Must come after importing mpl, but before importing plt\n",
    "import matplotlib.pyplot as plt\n",
    "\n",
    "%matplotlib inline\n",
    "%load_ext autoreload\n",
    "%autoreload 2"
   ]
  },
  {
   "cell_type": "code",
   "execution_count": 103,
   "metadata": {
    "collapsed": true
   },
   "outputs": [],
   "source": [
    "out_folder = \"./datasets/set1\""
   ]
  },
  {
   "cell_type": "code",
   "execution_count": 104,
   "metadata": {
    "code_folding": [
     0
    ],
    "collapsed": true
   },
   "outputs": [],
   "source": [
    "if not os.path.exists(out_folder):\n",
    "    os.makedirs(out_folder)"
   ]
  },
  {
   "cell_type": "markdown",
   "metadata": {},
   "source": [
    "## Characteristic\n",
    "\n",
    "A dataset for LRP is a set of several type of entities with a geographic position. Thus we represent it as a dictionary defining each type of entity as following:\n",
    "\n",
    "```JSON\n",
    "\"Entity Name\": {\n",
    "    \"number\": integer,\n",
    "    \"coordinate\" : string|array,\n",
    "    \"metadata\": {\n",
    "        \"color\": string|array,\n",
    "        \"size\":  string|array,\n",
    "    }\n",
    "```\n"
   ]
  },
  {
   "cell_type": "code",
   "execution_count": 129,
   "metadata": {
    "code_folding": [],
    "collapsed": true
   },
   "outputs": [],
   "source": [
    "datasets = {\n",
    "    \"lvl1\": {\n",
    "        \"number\": 25,\n",
    "        \"coordinate\" : [(i,j) for i in range(5) for j in range(5)],\n",
    "        \"metadata\": {\n",
    "            \"color\": [\"red\" for i in range(25)],\n",
    "            \"size\":  [10 for i in range(25)],\n",
    "        }\n",
    "    },\n",
    "    \"lvl2\": {\n",
    "        \"number\": 16,\n",
    "        \"coordinate\" : [(i,j) for i in range(4) for j in range(4)],\n",
    "        \"metadata\": {\n",
    "            \"color\": [\"green\" for i in range(16)],\n",
    "            \"size\":  [20 for i in range(16)],\n",
    "        }\n",
    "    },\n",
    "    \"lvl3\": {\n",
    "        \"number\": 9,\n",
    "        \"coordinate\" : [(i,j) for i in range(3) for j in range(3)],\n",
    "        \"metadata\": {\n",
    "            \"color\": [\"blue\" for i in range(9)],\n",
    "            \"size\":  [30 for i in range(9)],\n",
    "        }\n",
    "    }\n",
    "}"
   ]
  },
  {
   "cell_type": "markdown",
   "metadata": {},
   "source": [
    "By using strings instead of arrays you signify than you want the given key to be consider has having the same expression for all element. The following example shows an example of short syntax. The function called `expand_short_syntax` define later on can be use to convert the short syntax to a full syntax."
   ]
  },
  {
   "cell_type": "code",
   "execution_count": 130,
   "metadata": {
    "code_folding": [
     0
    ],
    "collapsed": true
   },
   "outputs": [],
   "source": [
    "datasets_short_syntax = {\n",
    "    \"lvl1\": {\n",
    "        \"number\": 1,\n",
    "        \"coordinate\" : \"(unif(20,100),unif(20,70))\",\n",
    "        \"metadata\": {\n",
    "            \"color\": \"red\",\n",
    "            \"size\":  10,\n",
    "        }\n",
    "    },\n",
    "    \"lvl2\": {\n",
    "        \"number\": 1,\n",
    "        \"coordinate\" : [(unif(20,100),unif(20,70)) for i in range(10)],\n",
    "        \"metadata\": {\n",
    "            \"color\": \"green\",\n",
    "            \"size\":  20,\n",
    "        }\n",
    "    },\n",
    "    \"lvl3\": {\n",
    "        \"number\": 10,\n",
    "        \"coordinate\" : [(unif(20,100),unif(20,70)) for i in range(10)],\n",
    "        \"metadata\": {\n",
    "            \"color\": [\"blue\" for i in range(10)],\n",
    "            \"size\":  [30 for i in range(5)]+[10 for i in range(5)],\n",
    "        }\n",
    "    }\n",
    "}"
   ]
  },
  {
   "cell_type": "code",
   "execution_count": 131,
   "metadata": {
    "code_folding": [
     0
    ]
   },
   "outputs": [],
   "source": [
    "def expand_short_syntax(datasets):\n",
    "    \"\"\"\n",
    "    Given a dataset dictionary using the short syntax. Output the full version\n",
    "    \"\"\"\n",
    "    for dataset in datasets:\n",
    "        d = datasets[dataset]\n",
    "        \n",
    "        if type(d[\"coordinate\"]) is str:\n",
    "            d[\"coordinate\"] = eval(\"[\"+ str(d[\"coordinate\"]) +\" for i in range(\"+ str(d[\"number\"]) +\")]\")\n",
    "        \n",
    "        for metadata in d[\"metadata\"]:\n",
    "            if type(d[\"metadata\"][metadata]) is str:\n",
    "                d[\"metadata\"][metadata] = eval(\"[ \\\"\"+ d[\"metadata\"][metadata] +\"\\\" for i in range(\"+ str(d[\"number\"]) +\")]\")\n",
    "            if type(d[\"metadata\"][metadata]) is int:\n",
    "                d[\"metadata\"][metadata] = eval(\"[\"+ str(d[\"metadata\"][metadata]) +\" for i in range(\"+ str(d[\"number\"]) +\")]\")\n",
    "            \n",
    "    return datasets"
   ]
  },
  {
   "cell_type": "code",
   "execution_count": 132,
   "metadata": {},
   "outputs": [
    {
     "data": {
      "text/plain": [
       "{'lvl1': {'coordinate': [(91.85225961702838, 31.460375252236503)],\n",
       "  'metadata': {'color': ['red'], 'size': [10]},\n",
       "  'number': 1},\n",
       " 'lvl2': {'coordinate': [(70.45417944700517, 53.99483668981287),\n",
       "   (24.190019892262384, 34.35063138113162),\n",
       "   (21.664648497818977, 64.27848633212112),\n",
       "   (54.39917200946104, 47.54926276857229),\n",
       "   (29.942038545701433, 22.54758915669338),\n",
       "   (49.55877464037597, 26.478847246962477),\n",
       "   (74.66978890404884, 50.46373073751617),\n",
       "   (65.14708955580183, 46.989962381825165),\n",
       "   (41.4270073874473, 56.03934831955177),\n",
       "   (34.43215476679175, 41.175438858170196)],\n",
       "  'metadata': {'color': ['green'], 'size': [20]},\n",
       "  'number': 1},\n",
       " 'lvl3': {'coordinate': [(86.86032233428452, 28.494259754144128),\n",
       "   (78.9366351230743, 51.195317734397776),\n",
       "   (74.2985289078018, 23.120910775523008),\n",
       "   (45.201342880287385, 52.15987653068231),\n",
       "   (50.2872820713999, 33.06623005705342),\n",
       "   (20.18077171588657, 53.82982881322048),\n",
       "   (99.8531453862991, 49.62018274660693),\n",
       "   (80.34019551603302, 56.807938895355996),\n",
       "   (39.8447045267557, 32.04209797205437),\n",
       "   (57.47266702460668, 32.49081272743543)],\n",
       "  'metadata': {'color': ['blue',\n",
       "    'blue',\n",
       "    'blue',\n",
       "    'blue',\n",
       "    'blue',\n",
       "    'blue',\n",
       "    'blue',\n",
       "    'blue',\n",
       "    'blue',\n",
       "    'blue'],\n",
       "   'size': [30, 30, 30, 30, 30, 10, 10, 10, 10, 10]},\n",
       "  'number': 10}}"
      ]
     },
     "execution_count": 132,
     "metadata": {},
     "output_type": "execute_result"
    }
   ],
   "source": [
    "expand_short_syntax(datasets_short_syntax)"
   ]
  },
  {
   "cell_type": "markdown",
   "metadata": {},
   "source": [
    "## Refactoring data\n",
    "\n",
    "It is much easier to work with coordinate and distance matrix where entities are sorted according to their coordinates"
   ]
  },
  {
   "cell_type": "code",
   "execution_count": 133,
   "metadata": {
    "code_folding": [],
    "collapsed": true
   },
   "outputs": [],
   "source": [
    "def sort_coordinates(datasets):\n",
    "    \"\"\"\n",
    "    Sort coordinate of each dataset in increasing order\n",
    "    \"\"\"\n",
    "\n",
    "    for dataset in datasets:\n",
    "        d = datasets[dataset]\n",
    "\n",
    "        d[\"coordinate\"] = sorted(d[\"coordinate\"], key=lambda k: [k[0], k[1]])"
   ]
  },
  {
   "cell_type": "code",
   "execution_count": 134,
   "metadata": {},
   "outputs": [],
   "source": [
    "sort_coordinates(datasets)"
   ]
  },
  {
   "cell_type": "markdown",
   "metadata": {},
   "source": [
    "# Dataset representation"
   ]
  },
  {
   "cell_type": "markdown",
   "metadata": {},
   "source": [
    "## Dot Plot"
   ]
  },
  {
   "cell_type": "code",
   "execution_count": 135,
   "metadata": {
    "collapsed": true
   },
   "outputs": [],
   "source": [
    "def draw_dataset(datasets):\n",
    "    \"\"\"\n",
    "    Draw a dot plot of the given dataset\n",
    "    \"\"\"\n",
    "    G = nx.Graph()\n",
    "    nbr_nodes = 0\n",
    "\n",
    "    for dataset in datasets:\n",
    "        d = datasets[dataset]\n",
    "\n",
    "        for i,xy in enumerate(d[\"coordinate\"]):\n",
    "            G.add_node(i+nbr_nodes,\n",
    "               pos=xy,color=d[\"metadata\"][\"color\"][i],\n",
    "               size=d[\"metadata\"][\"size\"][i])\n",
    "\n",
    "        nbr_nodes += d[\"number\"]\n",
    "\n",
    "    # Prepare drawing\n",
    "    pos    = nx.get_node_attributes(G,'pos')\n",
    "    colors = list(nx.get_node_attributes(G,'color').values())\n",
    "    size   = list(nx.get_node_attributes(G,'size').values())\n",
    "\n",
    "    # Draw\n",
    "    nx.draw_networkx(\n",
    "        G,pos, node_color=colors,\n",
    "        node_size=size, with_labels=False\n",
    "    )"
   ]
  },
  {
   "cell_type": "code",
   "execution_count": 136,
   "metadata": {
    "scrolled": false
   },
   "outputs": [
    {
     "data": {
      "image/png": "[encoded data removed]",
      "text/plain": [
       "<matplotlib.figure.Figure at 0xa10f438>"
      ]
     },
     "metadata": {},
     "output_type": "display_data"
    }
   ],
   "source": [
    "draw_dataset(datasets)"
   ]
  },
  {
   "cell_type": "markdown",
   "metadata": {},
   "source": [
    "## Distance Matrices"
   ]
  },
  {
   "cell_type": "code",
   "execution_count": 137,
   "metadata": {
    "collapsed": true
   },
   "outputs": [],
   "source": [
    "def distance_matrices(datasets):\n",
    "    \"\"\"\n",
    "    Return a dictionary containing all the distance matrices for a\n",
    "    given instance of the problem\n",
    "    \"\"\"\n",
    "    M = {}\n",
    "\n",
    "    for dataset1 in datasets:\n",
    "        d1 = datasets[dataset1]\n",
    "        for dataset2 in datasets:\n",
    "            d2 = datasets[dataset2]\n",
    "            \n",
    "            M[dataset1+dataset2] = np.zeros((d1[\"number\"],d2[\"number\"]))\n",
    "\n",
    "            for i,ixy in enumerate(d1[\"coordinate\"]):\n",
    "                for j,jxy in enumerate(d2[\"coordinate\"]):\n",
    "                    M[dataset1+dataset2][i][j] = LA.norm(np.subtract(ixy,jxy))\n",
    "                \n",
    "    return M"
   ]
  },
  {
   "cell_type": "code",
   "execution_count": 138,
   "metadata": {
    "code_folding": [],
    "collapsed": true
   },
   "outputs": [],
   "source": [
    "# distance_matrices(datasets)"
   ]
  },
  {
   "cell_type": "code",
   "execution_count": 139,
   "metadata": {
    "collapsed": true
   },
   "outputs": [],
   "source": [
    "def distance_matrices_plot(datasets):\n",
    "    \"\"\"\n",
    "        Plot the matrix representation of a dataset\n",
    "    \"\"\"\n",
    "    dist = distance_matrices(datasets)\n",
    "    len_datasets = len(datasets)\n",
    "    fig = plt.figure()\n",
    "\n",
    "    for i,dataset1 in enumerate(datasets):\n",
    "        for j,dataset2 in enumerate(datasets):\n",
    "            if j <= i:\n",
    "                ax = fig.add_subplot(len_datasets,len_datasets,i+len_datasets*j+1)\n",
    "                ax.set_aspect('equal')\n",
    "                plt.imshow(dist[dataset1+dataset2], interpolation='nearest', cmap=plt.cm.ocean)\n",
    "                if i == len_datasets-1:\n",
    "                    plt.colorbar()\n",
    "\n",
    "    plt.show()"
   ]
  },
  {
   "cell_type": "code",
   "execution_count": 140,
   "metadata": {},
   "outputs": [
    {
     "data": {
      "image/png": "[encoded data removed]",
      "text/plain": [
       "<matplotlib.figure.Figure at 0xa21b7b8>"
      ]
     },
     "metadata": {},
     "output_type": "display_data"
    }
   ],
   "source": [
    "distance_matrices_plot(datasets)"
   ]
  },
  {
   "cell_type": "markdown",
   "metadata": {
    "collapsed": true
   },
   "source": [
    "# Dataset Metrics"
   ]
  },
  {
   "cell_type": "code",
   "execution_count": null,
   "metadata": {
    "collapsed": true
   },
   "outputs": [],
   "source": []
  }
 ],
 "metadata": {
  "hide_input": false,
  "kernelspec": {
   "display_name": "Py35",
   "language": "python",
   "name": "py35"
  },
  "language_info": {
   "codemirror_mode": {
    "name": "ipython",
    "version": 3
   },
   "file_extension": ".py",
   "mimetype": "text/x-python",
   "name": "python",
   "nbconvert_exporter": "python",
   "pygments_lexer": "ipython3",
   "version": "3.5.3"
  },
  "toc": {
   "colors": {
    "hover_highlight": "#DAA520",
    "running_highlight": "#FF0000",
    "selected_highlight": "#FFD700"
   },
   "moveMenuLeft": true,
   "nav_menu": {
    "height": "66px",
    "width": "252px"
   },
   "navigate_menu": true,
   "number_sections": true,
   "sideBar": true,
   "threshold": 4,
   "toc_cell": false,
   "toc_section_display": "block",
   "toc_window_display": true,
   "widenNotebook": false
  }
 },
 "nbformat": 4,
 "nbformat_minor": 2
}
