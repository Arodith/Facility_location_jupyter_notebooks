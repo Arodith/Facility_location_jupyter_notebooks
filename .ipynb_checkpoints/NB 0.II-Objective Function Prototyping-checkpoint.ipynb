{
 "cells": [
  {
   "cell_type": "markdown",
   "metadata": {
    "deletable": true,
    "editable": true
   },
   "source": [
    "Objective Function\n",
    "---"
   ]
  },
  {
   "cell_type": "code",
   "execution_count": 13,
   "metadata": {
    "code_folding": [
     0
    ],
    "collapsed": false
   },
   "outputs": [],
   "source": [
    "def objective_lr_1(Y,I,J,x_cus,x_icp,y_cus,y_icp):\n",
    "    \"\"\"Calculate The cost distances Custoner/ICP\n",
    "    \n",
    "        Parameters:\n",
    "        I,J sets of customers and ICP\n",
    "        x_cus,y_cus geographique position of customers\n",
    "        x_icp,y_icp geographique position of ICPs\n",
    "        \n",
    "        Decision variable:\n",
    "        Y_ij if customer i associated with ICP j\n",
    "    \"\"\"\n",
    "    s = 0\n",
    "    for i in range(I):\n",
    "        for j in range(J):\n",
    "            s += sqrt((x_cus[i] - x_icp[i])**2 +  (y_cus[i]  - y_icp[i])**2) * Y[i][j]\n",
    "            \n",
    "    return s"
   ]
  },
  {
   "cell_type": "code",
   "execution_count": 14,
   "metadata": {
    "code_folding": [
     0
    ],
    "collapsed": true
   },
   "outputs": [],
   "source": [
    "def objective_lr_2(N,J,FCT):\n",
    "    \"\"\"Setup cost for ICPs\n",
    "    \n",
    "        Parameters:\n",
    "        J sets of ICP\n",
    "        FTC_j setup cost for ICP j\n",
    "\n",
    "        Decision variable:\n",
    "        N_j ICP j is open\n",
    "    \"\"\"\n",
    "    s = 0\n",
    "    for j in range(J):\n",
    "        s += FTC[j]*N[j]\n",
    "            \n",
    "    return s"
   ]
  },
  {
   "cell_type": "code",
   "execution_count": 16,
   "metadata": {
    "code_folding": [
     0
    ],
    "collapsed": true
   },
   "outputs": [],
   "source": [
    "def objective_lr_3(I,K,V,q,IP):\n",
    "    \"\"\"Product acquisition cost\n",
    "    \n",
    "        Parameters:\n",
    "        I,K,V sets of customers, quality level, and product varieties\n",
    "        q_iv unit of return product custoner i quality v\n",
    "        IP incentive cost for acquisition\n",
    "\n",
    "        Decision variable:\n",
    "\n",
    "    \"\"\"\n",
    "    s = 0\n",
    "    for i in range(I):\n",
    "        for k in range(K):\n",
    "            for v in range(V):\n",
    "                s += q[i][v] * IP[i][k][v]\n",
    "            \n",
    "    return s"
   ]
  },
  {
   "cell_type": "code",
   "execution_count": null,
   "metadata": {
    "code_folding": [
     0
    ],
    "collapsed": true
   },
   "outputs": [],
   "source": [
    "def objective_lr_4(Z,C,J,B,D_crc_icp,D_crc_pc):\n",
    "    \"\"\"Routing ICP->CRC->PC\n",
    "    \n",
    "        Parameters:\n",
    "        C,J,B sets of customers, quality level, and product varieties\n",
    "        D_crc_icp distance between CRC_c and ICP_j\n",
    "        D_crc_pc  distance between CRC_c and PC\n",
    "\n",
    "        Decision variable:\n",
    "        Z_cjb vehicle travel from CRC_c to ICP_j on route b\n",
    "    \"\"\"\n",
    "    s = 0\n",
    "    for c in range(C):\n",
    "        for j in range(J):\n",
    "            for b in range(B):\n",
    "                s += (D_crc_icp[c][j] + D_crc_pc[c])* Z[c][j][b]\n",
    "            \n",
    "    return s"
   ]
  },
  {
   "cell_type": "code",
   "execution_count": null,
   "metadata": {
    "code_folding": [
     0
    ],
    "collapsed": true
   },
   "outputs": [],
   "source": [
    "def objective_lr_5(N,S,FCR):\n",
    "    \"\"\"Product acquisition cost\n",
    "    \n",
    "        Parameters:\n",
    "        S set of CRC\n",
    "        FCR setup cost of CRC_c\n",
    "\n",
    "        Decision variable:\n",
    "\n",
    "    \"\"\"\n",
    "    s = 0\n",
    "    for c in range(S):\n",
    "        s += FCR[c]*N\n",
    "            \n",
    "    return s"
   ]
  },
  {
   "cell_type": "code",
   "execution_count": 17,
   "metadata": {
    "code_folding": [
     0
    ],
    "collapsed": true
   },
   "outputs": [],
   "source": [
    "def objective_lr_6(I,K,V,q,PC):\n",
    "    \"\"\"Processing cost\n",
    "    \n",
    "        Parameters:\n",
    "        I,K,V sets of customers, quality level, and product varieties\n",
    "        q_iv unit of return product custoner i quality v\n",
    "        PC procesing cost\n",
    "\n",
    "        Decision variable:\n",
    "\n",
    "    \"\"\"\n",
    "    s = 0\n",
    "    for i in range(I):\n",
    "        for k in range(K):\n",
    "            for v in range(V):\n",
    "                s += q[i][v] * PC[i][k][v]\n",
    "            \n",
    "    return s"
   ]
  },
  {
   "cell_type": "code",
   "execution_count": 18,
   "metadata": {
    "code_folding": [],
    "collapsed": true
   },
   "outputs": [],
   "source": [
    "def objective_lr_6(Z,C,J,B,FCV):\n",
    "    \"\"\"Routing ICP->CRC->PC\n",
    "    \n",
    "        Parameters:\n",
    "        C,J,B sets of customers, quality level, and product varieties\n",
    "        FCV_b fixed cost associated to vehivle b\n",
    "\n",
    "        Decision variable:\n",
    "        Z_cjb vehicle travel from CRC_c to ICP_j on route b\n",
    "\n",
    "    \"\"\"\n",
    "    s = 0\n",
    "    for b in range(B):\n",
    "        s_sub = 0\n",
    "        for c in range(C):\n",
    "            for j in range(J):\n",
    "                s_sub += Z[c][j][b]\n",
    "        s += FCV[b] * sum_7_sub\n",
    "            \n",
    "    return s"
   ]
  },
  {
   "cell_type": "code",
   "execution_count": 8,
   "metadata": {
    "code_folding": [],
    "collapsed": false,
    "deletable": true,
    "editable": true,
    "run_control": {
     "marked": false
    }
   },
   "outputs": [],
   "source": [
    "def objective_lr(decisionVariables, p):\n",
    "    \"\"\"\n",
    "    Parameters:\n",
    "        Sets:\n",
    "            I,J,C,K,V,B -> customer, ICPs, CRCs, qualities, varieties, vehicles\n",
    "        Costs:\n",
    "            FCT, FCR, FCV\n",
    "            IP, PC\n",
    "         Weight:\n",
    "            q,\n",
    "            D_crc_icp, D_crc_pc\n",
    "     \n",
    "     Decision Vqriables:\n",
    "        Y_ij customer i associated to ICP j\n",
    "        Z_cjb vehicle travel from CRC_c to ICP_j on route b\n",
    "        N_icp, N_crc -> ICP / CRC i is open\n",
    "    \"\"\"\n",
    "    \n",
    "    ############################################\n",
    "    ## Variable cost\n",
    "    \n",
    "    # 1. Distance betwwen customer and facilies\n",
    "    objective_lr_distances(Y,I,J,x_cus,x_icp,y_cus,y_icp)\n",
    "    # 4. Routing ICP->CRC->PC\n",
    "    objective_lr_4(Z,C,J,B,D_crc_icp,D_crc_pc)\n",
    "    \n",
    "    ############################################\n",
    "    ## Fixed costs\n",
    "    \n",
    "    # 2. Cost of establishing ICPs\n",
    "    objective_lr_2(N_icp,J,FCT)\n",
    "    # 5. Fixe cost for establishing CRCs\n",
    "    objective_lr_5(N_crc,S,FCR)\n",
    "    # 7. Fixe cost for vehicles\n",
    "    objective_lr_6(Z,C,J,B,FCV)\n",
    "    ############################################\n",
    "    ## Acquisition an processing cost\n",
    "    \n",
    "    # 3. Acquisition cost\n",
    "    objective_lr_3(I,K,V,q,IP)\n",
    "    # 6. Processing cost\n",
    "    objective_lr_6(I,K,V,q,PC)\n"
   ]
  },
  {
   "cell_type": "code",
   "execution_count": null,
   "metadata": {
    "collapsed": true
   },
   "outputs": [],
   "source": []
  },
  {
   "cell_type": "code",
   "execution_count": null,
   "metadata": {
    "collapsed": true
   },
   "outputs": [],
   "source": []
  }
 ],
 "metadata": {
  "kernelspec": {
   "display_name": "Python 3.5",
   "language": "python",
   "name": "py35"
  },
  "language_info": {
   "codemirror_mode": {
    "name": "ipython",
    "version": 3
   },
   "file_extension": ".py",
   "mimetype": "text/x-python",
   "name": "python",
   "nbconvert_exporter": "python",
   "pygments_lexer": "ipython3",
   "version": "3.5.3"
  },
  "toc": {
   "colors": {
    "hover_highlight": "#DAA520",
    "running_highlight": "#FF0000",
    "selected_highlight": "#FFD700"
   },
   "moveMenuLeft": true,
   "nav_menu": {
    "height": "30px",
    "width": "252px"
   },
   "navigate_menu": true,
   "number_sections": true,
   "sideBar": true,
   "threshold": 4,
   "toc_cell": false,
   "toc_section_display": "block",
   "toc_window_display": false
  }
 },
 "nbformat": 4,
 "nbformat_minor": 2
}
