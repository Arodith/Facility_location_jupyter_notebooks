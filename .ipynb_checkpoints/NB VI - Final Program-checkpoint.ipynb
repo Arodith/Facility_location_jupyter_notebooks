{
 "cells": [
  {
   "cell_type": "code",
   "execution_count": null,
   "metadata": {
    "collapsed": true
   },
   "outputs": [],
   "source": [
    "import csv\n",
    "import math as m\n",
    "from random import uniform as unif\n",
    "import networkx as nx\n",
    "import pandas as pd\n",
    "import os\n",
    "\n",
    "import numpy as np\n",
    "import matplotlib as mpl\n",
    "import matplotlib.pyplot as plt\n",
    "from IPython.display import display, HTML\n",
    "%matplotlib inline\n",
    "\n",
    "%load_ext autoreload\n",
    "%autoreload 2"
   ]
  },
  {
   "cell_type": "code",
   "execution_count": null,
   "metadata": {
    "collapsed": true
   },
   "outputs": [],
   "source": [
    "expid = \"./exp3_run8\""
   ]
  },
  {
   "cell_type": "code",
   "execution_count": null,
   "metadata": {
    "collapsed": true
   },
   "outputs": [],
   "source": [
    "if not os.path.exists(expid):\n",
    "    os.makedirs(expid)"
   ]
  },
  {
   "cell_type": "markdown",
   "metadata": {},
   "source": [
    "# Problem instance"
   ]
  },
  {
   "cell_type": "markdown",
   "metadata": {
    "heading_collapsed": true
   },
   "source": [
    "## Geographic data"
   ]
  },
  {
   "cell_type": "code",
   "execution_count": null,
   "metadata": {
    "collapsed": true,
    "hidden": true
   },
   "outputs": [],
   "source": [
    "from pkg.read_problem import read_problem, extract_problem"
   ]
  },
  {
   "cell_type": "code",
   "execution_count": null,
   "metadata": {
    "collapsed": true,
    "hidden": true
   },
   "outputs": [],
   "source": [
    "xy_customers, xy_icps, xy_crcs, xy_pc, q = read_problem('./datasets/original')"
   ]
  },
  {
   "cell_type": "code",
   "execution_count": null,
   "metadata": {
    "collapsed": true,
    "hidden": true
   },
   "outputs": [],
   "source": [
    "xy_icps = xy_icps + [[unif(20,100),unif(20,70)] for i in range(5)]\n",
    "xy_crcs = xy_crcs + [[unif(20,100),unif(20,70)] for i in range(5)]"
   ]
  },
  {
   "cell_type": "code",
   "execution_count": null,
   "metadata": {
    "collapsed": true,
    "hidden": true,
    "run_control": {
     "marked": false
    }
   },
   "outputs": [],
   "source": [
    "I,J,C,B,K,V,W,DjUc,Dcj,Dc,FCV,FCT,FCR,U = extract_problem(xy_customers, xy_icps, xy_crcs, xy_pc, q)"
   ]
  },
  {
   "cell_type": "markdown",
   "metadata": {
    "heading_collapsed": true
   },
   "source": [
    "## Capacity constraints"
   ]
  },
  {
   "cell_type": "code",
   "execution_count": null,
   "metadata": {
    "collapsed": true,
    "hidden": true
   },
   "outputs": [],
   "source": [
    "Q_icp = [200 for j in range(J)]\n",
    "Q_crc = [800 for c in range(C)]\n",
    "V = [Q_icp,Q_crc]"
   ]
  },
  {
   "cell_type": "markdown",
   "metadata": {
    "heading_collapsed": true
   },
   "source": [
    "## Adapting costs"
   ]
  },
  {
   "cell_type": "code",
   "execution_count": null,
   "metadata": {
    "collapsed": true,
    "hidden": true
   },
   "outputs": [],
   "source": [
    "# two-level cost\n",
    "FCRD = []\n",
    "for c in range(C):\n",
    "    FCRD.append(FCR[c] + Dc[c])\n",
    "\n",
    "f = FCT+FCRD\n",
    "c = [[[W[i][j1] + Dcj[j1][j2] for j2 in range(C)] for j1 in range(J)] for i in range(I)]"
   ]
  },
  {
   "cell_type": "markdown",
   "metadata": {
    "heading_collapsed": true
   },
   "source": [
    "# Plot Problem"
   ]
  },
  {
   "cell_type": "code",
   "execution_count": null,
   "metadata": {
    "hidden": true
   },
   "outputs": [],
   "source": [
    "from pkg.lrp_nodes_graph import lrp_nodes_graph, lrp_draw_and_save\n",
    "G, pos, labels, colors, size = lrp_nodes_graph(xy_customers, xy_icps, xy_crcs, xy_pc)\n",
    "\n",
    "lrp_draw_and_save(G, pos, labels, colors, size, expid+\"/problem.png\")"
   ]
  },
  {
   "cell_type": "code",
   "execution_count": null,
   "metadata": {
    "hidden": true
   },
   "outputs": [],
   "source": [
    "%%file \"./pkg/draw_solution_II.py\"\n",
    "\n",
    "def draw_solution_II(I,J,C,\n",
    "                    N_crc, N_icp,\n",
    "                    Y1,Y2, routes, expid,\n",
    "                    G, pos, labels, colors, size, path=None):\n",
    "    \n",
    "    from IPython.display import display, HTML\n",
    "    import pandas as pd\n",
    "    from pkg.draw_solution_II import draw_solution_II\n",
    "    from pkg.lrp_nodes_graph import lrp_nodes_graph, lrp_draw_and_save\n",
    "    \n",
    "    H1 = [j for j,vj in enumerate(N_icp) if vj > 0.5]\n",
    "    \n",
    "    ###############################\n",
    "    # DataFrames\n",
    "    display(pd.DataFrame(N_crc).transpose())\n",
    "    display(pd.DataFrame(N_icp).transpose())\n",
    "    display(pd.DataFrame(routes).transpose())   \n",
    "    ###############################\n",
    "    # Network\n",
    "    G2 = G.copy()\n",
    "    colors = colors[:];size = size[:]; labels = labels.copy()\n",
    "    # ICP-Cus\n",
    "    for j,vj in enumerate(Y1):\n",
    "        for i,vi in enumerate(vj):\n",
    "            if vi == 1:\n",
    "                G2.add_edge(I+i,j)\n",
    "    # ICP\n",
    "    for j,vj in enumerate(N_icp):\n",
    "        if vj < 0.5:\n",
    "            colors[I+j] = \"grey\"\n",
    "            labels[I+j] = \"\"\n",
    "            size[I+j] = 50\n",
    "\n",
    "    # ICP-CRC\n",
    "    for j,vj in enumerate(Y2):\n",
    "        for i,vi in enumerate(vj):\n",
    "            if vi == 1:\n",
    "                G2.add_edge(I+J+i,I+H1[j])\n",
    "    # CRC\n",
    "    for j,vj in enumerate(N_crc):\n",
    "        if vj < 0.5:\n",
    "            colors[I+J+j] = \"grey\"\n",
    "            labels[I+J+j] = \"\"\n",
    "            size[I+J+j] = 50\n",
    "\n",
    "    # Routes\n",
    "    for r,vr in enumerate(routes):\n",
    "        for c, vc in enumerate(vr):\n",
    "            G2.add_edge(I+vc[0],I+vc[1])\n",
    "\n",
    "    lrp_draw_and_save(G2, pos, labels, colors, size, path)\n",
    "    \n",
    "    return G2"
   ]
  },
  {
   "cell_type": "markdown",
   "metadata": {},
   "source": [
    "# Define Functions"
   ]
  },
  {
   "cell_type": "markdown",
   "metadata": {},
   "source": [
    "## Capacity problem"
   ]
  },
  {
   "cell_type": "code",
   "execution_count": null,
   "metadata": {
    "code_folding": [],
    "run_control": {
     "marked": false
    }
   },
   "outputs": [],
   "source": [
    "%%file \"./pkg/capacity_vector.py\"\n",
    "\n",
    "import numpy as np\n",
    "\n",
    "def capacity_vector(Y,U,J,Q):\n",
    "    cluster_q = np.zeros(J)\n",
    "    violated = []\n",
    "    for i,vi in enumerate(Y):\n",
    "        for j,vj in enumerate(vi):\n",
    "            cluster_q[j] += U[i]*Y[i][j]\n",
    "    \n",
    "    for j,vj in enumerate(cluster_q):\n",
    "        if cluster_q[j] > Q[j]:\n",
    "            violated.append(j)\n",
    "            \n",
    "    return cluster_q, violated"
   ]
  },
  {
   "cell_type": "code",
   "execution_count": null,
   "metadata": {
    "collapsed": true
   },
   "outputs": [],
   "source": [
    "from pkg.capacity_vector import capacity_vector"
   ]
  },
  {
   "cell_type": "code",
   "execution_count": null,
   "metadata": {
    "code_folding": [
     0
    ]
   },
   "outputs": [],
   "source": [
    "%%file \"./pkg/capacity_balancing.py\"\n",
    "\n",
    "import numpy as np\n",
    "from pkg.capacity_vector import capacity_vector\n",
    "\n",
    "def capacity_balancing(Y,W,U,J,Q,N_icp):\n",
    "    l = len(capacity_vector(Y,U,J,Q)[1])\n",
    "    max_loop = 10;\n",
    "\n",
    "    # capacity balancing\n",
    "    Ycp = np.copy(Y)\n",
    "    Wcp = np.copy(W)\n",
    "    while l != 0:\n",
    "        max_loop +=-1\n",
    "        j = capacity_vector(Ycp,U,J,Q)[1][0]\n",
    "        i = np.argmax(np.multiply(Ycp,W)[:,j])\n",
    "        # Find condidate and update\n",
    "        Ycp[i][j] = 0\n",
    "        Wcp[i][j] = 100\n",
    "        stop = False\n",
    "        while not stop:\n",
    "            candidate = np.argmin(Wcp[i])\n",
    "            if N_icp[candidate] > 0.5 and candidate != j:\n",
    "                stop = True\n",
    "            else:\n",
    "                Wcp[i][candidate] = 200\n",
    "\n",
    "        print(i,j,candidate)\n",
    "\n",
    "        Ycp[i][candidate] = 1\n",
    "        Wcp[i][candidate] = 100\n",
    "\n",
    "        l = len(capacity_vector(Ycp,U,J,Q)[1])\n",
    "        \n",
    "    return Ycp"
   ]
  },
  {
   "cell_type": "code",
   "execution_count": null,
   "metadata": {
    "collapsed": true
   },
   "outputs": [],
   "source": [
    "from pkg.capacity_balancing import capacity_balancing"
   ]
  },
  {
   "cell_type": "markdown",
   "metadata": {},
   "source": [
    "## Swap problem"
   ]
  },
  {
   "cell_type": "code",
   "execution_count": null,
   "metadata": {
    "code_folding": []
   },
   "outputs": [],
   "source": [
    "%%file \"./pkg/swap_list_icp.py\"\n",
    "import numpy as np\n",
    "\n",
    "def swap_list_icp(Y,W,Djj,N):\n",
    "    cluster_len = np.max(np.multiply(Y,W),axis=0)\n",
    "    swaps = []\n",
    "    for j,l in enumerate(cluster_len):\n",
    "        for j_bis,n in enumerate(DjUc[j]):\n",
    "            if n<l:\n",
    "                print(j,j_bis,n,l)\n",
    "                if j != j_bis and j_bis < len(N) and N[j_bis] == 0:\n",
    "                    swaps.append((j,j_bis))\n",
    "    return swaps"
   ]
  },
  {
   "cell_type": "code",
   "execution_count": null,
   "metadata": {},
   "outputs": [],
   "source": [
    "from pkg.swap_list_icp import swap_list_icp"
   ]
  },
  {
   "cell_type": "code",
   "execution_count": null,
   "metadata": {},
   "outputs": [],
   "source": [
    "%%file \"./pkg/swap_list_crc.py\"\n",
    "\n",
    "import numpy as np\n",
    "\n",
    "def swap_list_crc(Y,W,Dcc,N):\n",
    "    cluster_len = np.max(np.multiply(Y,W),axis=0)\n",
    "    print(cluster_len)\n",
    "    swaps = []\n",
    "    for j,l in enumerate(cluster_len):\n",
    "        for j_bis,n in enumerate(Dcc[j]):\n",
    "            if n<l and j_bis != j:\n",
    "                swaps.append((j,j_bis))\n",
    "    return swaps"
   ]
  },
  {
   "cell_type": "code",
   "execution_count": null,
   "metadata": {
    "collapsed": true
   },
   "outputs": [],
   "source": [
    "from pkg.swap_list_crc import swap_list_crc"
   ]
  },
  {
   "cell_type": "code",
   "execution_count": null,
   "metadata": {
    "code_folding": []
   },
   "outputs": [],
   "source": [
    "%%file \"./pkg/swap_list_byRoute.py\"\n",
    "\n",
    "import numpy as np\n",
    "\n",
    "def swap_list_byRoute(Y,W,DjUc,N_icp,routes):\n",
    "    \"\"\"\n",
    "        find the 2 routes and arcs to swap\n",
    "        find wich elemtent to swap with which other element\n",
    "    \"\"\"\n",
    "    cluster_len = np.max(np.multiply(Y,W),axis=0)\n",
    "    swaps = []\n",
    "    for iroute,route in enumerate(routes):\n",
    "        for iarc,arc in enumerate(route): #chose on element\n",
    "            if arc[0] < len(cluster_len): # do not select CRC\n",
    "                for j_bis,n in enumerate(DjUc[arc[0]]): # look at other\n",
    "                    if j_bis < len(cluster_len):\n",
    "                        if n<cluster_len[arc[0]] and cluster_len[j_bis] == 0 and arc[0] != j_bis:\n",
    "                            coarc = [[iroute, ico] for ico,co in enumerate(route) if co[1] == arc[0]]\n",
    "                            swaps.append(([iroute,iarc],coarc[0],arc[0],j_bis))         \n",
    "    return swaps"
   ]
  },
  {
   "cell_type": "code",
   "execution_count": null,
   "metadata": {},
   "outputs": [],
   "source": [
    "from pkg.swap_list_byRoute import swap_list_byRoute"
   ]
  },
  {
   "cell_type": "code",
   "execution_count": null,
   "metadata": {},
   "outputs": [],
   "source": [
    "%%file \"./pkg/swap_arcs.py\"\n",
    "\n",
    "import numpy as np\n",
    "\n",
    "def swap_arcs(swap, routes, N):\n",
    "    routes_swap = np.copy(routes)\n",
    "    N_swap = N[:]\n",
    "    remove = swap[2]\n",
    "    introduce = swap[3]\n",
    "    \n",
    "    print(\"swap: %s %s\" % (remove,introduce))\n",
    "\n",
    "    arc1 = routes_swap[swap[0][0]][swap[0][1]]\n",
    "    arc2 = routes_swap[swap[1][0]][swap[1][1]]\n",
    "\n",
    "    if arc1[0] == remove:\n",
    "        arc1 = (introduce, arc1[1])\n",
    "    else:\n",
    "        arc1 = (arc1[0], introduce)\n",
    "\n",
    "    if arc2[0] == remove:\n",
    "        arc2 = (introduce, arc2[1])\n",
    "    else:\n",
    "        arc2 = (arc2[0], introduce)\n",
    "\n",
    "    routes_swap[swap[0][0]][swap[0][1]] = arc1\n",
    "    routes_swap[swap[1][0]][swap[1][1]] = arc2\n",
    "    N_swap[remove] = 0\n",
    "    N_swap[introduce] = 1\n",
    "\n",
    "    return routes_swap, N_swap"
   ]
  },
  {
   "cell_type": "code",
   "execution_count": null,
   "metadata": {},
   "outputs": [],
   "source": [
    "from pkg.swap_arcs import swap_arcs"
   ]
  },
  {
   "cell_type": "code",
   "execution_count": null,
   "metadata": {},
   "outputs": [],
   "source": [
    "from pkg.objective_III import objective_III"
   ]
  },
  {
   "cell_type": "code",
   "execution_count": null,
   "metadata": {
    "run_control": {
     "marked": false
    }
   },
   "outputs": [],
   "source": [
    "%%file \"./pkg/new_assignement.py\"\n",
    "\n",
    "import numpy as np\n",
    "\n",
    "def new_assignement(I,J,W,N_icp_swap):\n",
    "    H1 = [j for j,vj in enumerate(N_icp_swap) if vj > 0.5]\n",
    "    asso = np.argmin(np.transpose(W)[H1],axis=0)\n",
    "    new_Y = np.zeros((I,J))\n",
    "    for a,va in enumerate(asso):\n",
    "        new_Y[a][H1[va]] = 1\n",
    "    return new_Y"
   ]
  },
  {
   "cell_type": "code",
   "execution_count": null,
   "metadata": {},
   "outputs": [],
   "source": [
    "from pkg.draw_solution_II import draw_solution_II\n",
    "from pkg.new_assignement import new_assignement"
   ]
  },
  {
   "cell_type": "markdown",
   "metadata": {},
   "source": [
    "## final Algorithm"
   ]
  },
  {
   "cell_type": "markdown",
   "metadata": {},
   "source": [
    "### Step 1\n",
    "\n",
    "Find the initial solution SO"
   ]
  },
  {
   "cell_type": "code",
   "execution_count": null,
   "metadata": {
    "collapsed": true
   },
   "outputs": [],
   "source": [
    "best_solution = []"
   ]
  },
  {
   "cell_type": "markdown",
   "metadata": {},
   "source": [
    "solving with Cplex two p-MD problem"
   ]
  },
  {
   "cell_type": "code",
   "execution_count": null,
   "metadata": {},
   "outputs": [],
   "source": [
    "%%time\n",
    "# %%file \"./pkg/pmd_first_tsp_second.py\"\n",
    "\n",
    "# def pmd_first_tsp_second(G,pos, labels, colors, size,\n",
    "#                 I,J,C,\n",
    "#                 W1,W2,W3,F1,F2,\n",
    "#                 U,Q_icp,Q_crc,\n",
    "#                 plots=True, expid=\"\"):\n",
    "    \n",
    "from pkg.cflp_cplex import cflp_cplex\n",
    "from pkg.pm_flp_cplex import pm_flp_cplex\n",
    "from pkg.tsp_cplex import tsp_cplex\n",
    "from pkg.read_problem import read_problem, extract_problem\n",
    "from pkg.draw_solution_II import draw_solution_II\n",
    "from pkg.lrp_nodes_graph import lrp_nodes_graph, lrp_draw_and_save\n",
    "import numpy as np\n",
    "import pandas as pd\n",
    "from IPython.display import display, HTML\n",
    "\n",
    "W1,W2,W3,F1,F2 = W,Dcj,DjUc,FCT,FCRD\n",
    "plots = True\n",
    "\n",
    "#######################################################################\n",
    "# 1 Solve first problem\n",
    "prob1, Y1, N_icp = pm_flp_cplex(I,J,\n",
    "            W1,8,\n",
    "            relaxation=False)\n",
    "\n",
    "#######################################################################\n",
    "# 2 Prepare 2nd problem\n",
    "H1 = [j for j,vj in enumerate(N_icp) if vj > 0.5]\n",
    "\n",
    "# 12 Prepare 2nd problem\n",
    "Y1_capa = capacity_balancing(Y1,W,U,J,Q_icp,N_icp)\n",
    "\n",
    "c2=[];    u2=[];\n",
    "for j in H1:\n",
    "    c2.append(W2[j])\n",
    "    sqi = 0\n",
    "    for i in range(I):\n",
    "        sqi += U[i]*Y1[i][j]\n",
    "    u2.append(sqi)\n",
    "\n",
    "#######################################################################        \n",
    "# 3. Solve Second problem\n",
    "prob2, Y2, N_crc = pm_flp_cplex(len(u2),C,\n",
    "        c2,2,\n",
    "        relaxation=False)"
   ]
  },
  {
   "cell_type": "markdown",
   "metadata": {},
   "source": [
    "Solving with Cplex p TSP"
   ]
  },
  {
   "cell_type": "code",
   "execution_count": null,
   "metadata": {},
   "outputs": [],
   "source": [
    "%%time\n",
    "#######################################################################\n",
    "# Preparing TSP\n",
    "H2 = [j for j,vj in enumerate(N_crc) if vj > 0.5]\n",
    "tY2 = np.transpose(Y2)\n",
    "W3 = np.asarray(W3)\n",
    "\n",
    "#/!\\ Use H1 as a labeling array\n",
    "\n",
    "S_tsp = [] #set of ICP in each TSP\n",
    "for c,vc in enumerate(H2):\n",
    "    S_tsp.append([H1[j] for j,vj in enumerate(tY2[c]) if vj > 0.5]+[J+vc])\n",
    "\n",
    "w_tsp = []\n",
    "for submat in S_tsp:\n",
    "    w_tsp.append(W3[submat,:][:,submat])\n",
    "#######################################################################\n",
    "# Solving TSP\n",
    "routes = []\n",
    "for c,vc in enumerate(w_tsp):\n",
    "    prob, X = tsp_cplex(len(vc),vc, relaxation=False)\n",
    "    # Extract routes\n",
    "    path = []\n",
    "    for j,xj in enumerate(X):\n",
    "        for i,xij in enumerate(xj):\n",
    "            if xij == 1:\n",
    "                path.append((S_tsp[c][i],S_tsp[c][j]))\n",
    "    routes.append(path)\n",
    "#######################################################################\n",
    "# Draw solution\n",
    "if(plots):\n",
    "     draw_solution_II(I,J,C,N_crc, N_icp,\n",
    "                Y1,Y2, routes, expid,\n",
    "                G, pos, labels, colors, size)\n",
    "\n",
    "#######################################################################\n",
    "# Compute objective funtion\n",
    "obj = objective_III(Y1,routes,N_icp, N_crc,\n",
    "            I,J,C,B,\n",
    "            W,DjUc,Dc,\n",
    "            FCV,FCT,FCR)\n",
    "\n",
    "best_solution = { \"obj\" : obj,\n",
    "                  \"Y1\" : Y1,\n",
    "                  \"Y2\" : Y2,\n",
    "                  \"N_crc\" : N_crc,\n",
    "                  \"N_icp\" : N_icp,\n",
    "                  \"routes\" : routes}\n",
    "\n",
    "obj"
   ]
  },
  {
   "cell_type": "markdown",
   "metadata": {},
   "source": [
    "### Step 2\n",
    "\n",
    "Swapping loop for ICP"
   ]
  },
  {
   "cell_type": "code",
   "execution_count": null,
   "metadata": {
    "scrolled": false
   },
   "outputs": [],
   "source": [
    "%%time\n",
    "# ICP swaping\n",
    "swap_list_icp = swap_list_byRoute(best_solution[\"Y1\"],W,DjUc,best_solution[\"N_icp\"],best_solution[\"routes\"])\n",
    "swap_result = []\n",
    "for iswap, swap in enumerate(swap_list_icp):\n",
    "\n",
    "    routes_swap, N_icp_swap = swap_arcs(swap, best_solution[\"routes\"], best_solution[\"N_icp\"])\n",
    "    new_Y = new_assignement(I,J,W,N_icp_swap)\n",
    "    new_Y = capacity_balancing(new_Y,W,U,J,Q_icp,best_solution[\"N_icp\"])\n",
    "    # Draw\n",
    "    draw_solution_II(I,J,C,N_crc, N_icp_swap,\n",
    "            new_Y, np.zeros((3,8)), routes_swap.tolist(), expid,\n",
    "            G, pos, labels, colors, size, path=expid+ \"/\"+ str(iswap) +\"_swap.png\")\n",
    "    plt.clf();plt.cla();plt.close()\n",
    "    # Solution\n",
    "    swap_result.append(objective_III(new_Y,routes_swap,N_icp_swap, N_crc,\n",
    "                I,J,C,B,\n",
    "                W,DjUc,Dc,\n",
    "                FCV,FCT,FCR))"
   ]
  },
  {
   "cell_type": "code",
   "execution_count": null,
   "metadata": {},
   "outputs": [],
   "source": [
    "len(swap_result)"
   ]
  },
  {
   "cell_type": "markdown",
   "metadata": {},
   "source": [
    "### Step 3\n",
    "\n",
    "Swappinf loop for CRC"
   ]
  },
  {
   "cell_type": "code",
   "execution_count": null,
   "metadata": {
    "collapsed": true
   },
   "outputs": [],
   "source": [
    "new_Dcj = [Dcj[j] for j,vj in enumerate(best_solution[\"N_icp\"]) if vj > 0.5]"
   ]
  },
  {
   "cell_type": "code",
   "execution_count": null,
   "metadata": {
    "collapsed": true,
    "run_control": {
     "marked": false
    }
   },
   "outputs": [],
   "source": [
    "new_DjUc = [[DjUc[c][j] for c in range(J,C+J,1)] for j in range(J,C+J,1) ]"
   ]
  },
  {
   "cell_type": "code",
   "execution_count": null,
   "metadata": {},
   "outputs": [],
   "source": [
    "range(J,C+J,1)"
   ]
  },
  {
   "cell_type": "code",
   "execution_count": null,
   "metadata": {},
   "outputs": [],
   "source": [
    "swap_list_crc = swap_list_crc(best_solution[\"Y2\"],new_Dcj,new_DjUc,best_solution[\"N_crc\"])"
   ]
  },
  {
   "cell_type": "code",
   "execution_count": null,
   "metadata": {},
   "outputs": [],
   "source": [
    "swap_list_crc"
   ]
  },
  {
   "cell_type": "code",
   "execution_count": null,
   "metadata": {
    "collapsed": true
   },
   "outputs": [],
   "source": [
    "import copy"
   ]
  },
  {
   "cell_type": "code",
   "execution_count": null,
   "metadata": {},
   "outputs": [],
   "source": [
    "# swap\n",
    "best_solution_route_to_swap = copy.deepcopy(best_solution[\"routes\"])\n",
    "swap_crc1 = swap_list_crc[2]\n",
    "\n",
    "remove    = swap_crc1[0] + J\n",
    "introduce = swap_crc1[1] + J\n",
    "print(remove,introduce)\n",
    "\n",
    "N_crc_swap = copy.deepcopy(best_solution[\"N_crc\"])\n",
    "\n",
    "N_crc_swap[swap_crc1[0]] = 0\n",
    "N_crc_swap[swap_crc1[1]] = 1\n",
    "\n",
    "for iroute,route in enumerate(best_solution_route_to_swap):\n",
    "    for iarc,arc in enumerate(route):\n",
    "        if arc[0] == remove:\n",
    "            best_solution_route_to_swap[iroute][iarc] = (introduce, best_solution_route_to_swap[iroute][iarc][1])\n",
    "        if arc[1] == remove:\n",
    "            best_solution_route_to_swap[iroute][iarc] = (best_solution_route_to_swap[iroute][iarc][0], introduce)"
   ]
  },
  {
   "cell_type": "code",
   "execution_count": null,
   "metadata": {},
   "outputs": [],
   "source": [
    "best_solution_route_to_swap"
   ]
  },
  {
   "cell_type": "code",
   "execution_count": null,
   "metadata": {},
   "outputs": [],
   "source": [
    "draw_solution_II(I,J,C,N_crc_swap, best_solution[\"N_icp\"],\n",
    "        new_Y, np.zeros((3,8)), best_solution_route_to_swap, expid,\n",
    "        G, pos, labels, colors, size, path=expid+ \"/\"+ str(iswap) +\"_swap_crc.png\")\n",
    "\n",
    "objective_III(new_Y,best_solution_route_to_swap,best_solution[\"N_icp\"], N_crc_swap,\n",
    "                I,J,C,B,\n",
    "                W,DjUc,Dc,\n",
    "                FCV,FCT,FCR)"
   ]
  },
  {
   "cell_type": "code",
   "execution_count": null,
   "metadata": {
    "code_folding": []
   },
   "outputs": [],
   "source": [
    "# This is the loop vertion for creatinf picture of the each possible swap\n",
    "for iswap,swap_crc1 in enumerate(swap_list_crc):\n",
    "    print(swap_crc1)\n",
    "\n",
    "    best_solution_route_to_swap = copy.deepcopy(best_solution[\"routes\"])\n",
    "\n",
    "    remove    = swap_crc1[0] + J\n",
    "    introduce = swap_crc1[1] + J\n",
    "    print(remove,introduce)\n",
    "\n",
    "    N_crc_swap = best_solution[\"N_crc\"]\n",
    "\n",
    "    N_crc_swap[swap_crc1[0]] = 0\n",
    "    N_crc_swap[swap_crc1[1]] = 1\n",
    "\n",
    "    for iroute,route in enumerate(best_solution_route_to_swap):\n",
    "        for iarc,arc in enumerate(route):\n",
    "            if arc[0] == remove:\n",
    "                best_solution_route_to_swap[iroute][iarc] = (introduce, best_solution_route_to_swap[iroute][iarc][1])\n",
    "            if arc[1] == remove:\n",
    "                best_solution_route_to_swap[iroute][iarc] = (best_solution_route_to_swap[iroute][iarc][0], introduce)\n",
    "\n",
    "    draw_solution_II(I,J,C,N_crc_swap, best_solution[\"N_icp\"],\n",
    "            new_Y, np.zeros((3,8)), best_solution_route_to_swap, expid,\n",
    "            G, pos, labels, colors, size, path=expid+ \"/\"+ str(iswap) +\"_swap_crc.png\")\n",
    "    plt.clf();plt.cla();plt.close()"
   ]
  },
  {
   "cell_type": "markdown",
   "metadata": {},
   "source": [
    "## Step 4\n",
    "\n",
    "Go back to step 2"
   ]
  },
  {
   "cell_type": "markdown",
   "metadata": {},
   "source": [
    "# Run experiment"
   ]
  },
  {
   "cell_type": "markdown",
   "metadata": {
    "collapsed": true
   },
   "source": [
    "## Results"
   ]
  },
  {
   "cell_type": "code",
   "execution_count": null,
   "metadata": {},
   "outputs": [],
   "source": [
    "objects = ('UFLP', 'CFLP', 'TUFLP', 'TCFLP')\n",
    "y_pos = np.arange(len(objects))\n",
    "performance = [result1.best,result2.best,result3.best,result4.best]\n",
    " \n",
    "plt.bar(y_pos, performance, align='center', alpha=0.5)\n",
    "plt.xticks(y_pos, objects)\n",
    "plt.ylabel('Time s')\n",
    "plt.title('Best processing time for each subproblem')\n",
    " \n",
    "plt.show()"
   ]
  }
 ],
 "metadata": {
  "hide_input": false,
  "kernelspec": {
   "display_name": "Py35",
   "language": "python",
   "name": "py35"
  },
  "language_info": {
   "codemirror_mode": {
    "name": "ipython",
    "version": 3
   },
   "file_extension": ".py",
   "mimetype": "text/x-python",
   "name": "python",
   "nbconvert_exporter": "python",
   "pygments_lexer": "ipython3",
   "version": "3.5.3"
  },
  "toc": {
   "colors": {
    "hover_highlight": "#DAA520",
    "running_highlight": "#FF0000",
    "selected_highlight": "#FFD700"
   },
   "moveMenuLeft": true,
   "nav_menu": {
    "height": "192px",
    "width": "252px"
   },
   "navigate_menu": true,
   "number_sections": true,
   "sideBar": false,
   "threshold": 4,
   "toc_cell": false,
   "toc_position": {
    "height": "785px",
    "left": "3px",
    "right": "20px",
    "top": "106px",
    "width": "170px"
   },
   "toc_section_display": "block",
   "toc_window_display": true,
   "widenNotebook": false
  }
 },
 "nbformat": 4,
 "nbformat_minor": 2
}
