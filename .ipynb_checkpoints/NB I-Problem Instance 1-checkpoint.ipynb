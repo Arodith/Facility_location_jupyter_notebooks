{
 "cells": [
  {
   "cell_type": "markdown",
   "metadata": {
    "collapsed": false,
    "deletable": true,
    "editable": true
   },
   "source": [
    "Problem instance 1\n",
    "---"
   ]
  },
  {
   "cell_type": "code",
   "execution_count": null,
   "metadata": {
    "collapsed": true,
    "deletable": true,
    "editable": true
   },
   "outputs": [],
   "source": [
    "import pandas as pd"
   ]
  },
  {
   "cell_type": "markdown",
   "metadata": {
    "deletable": true,
    "editable": true
   },
   "source": [
    "# Input"
   ]
  },
  {
   "cell_type": "markdown",
   "metadata": {
    "deletable": true,
    "editable": true,
    "heading_collapsed": true
   },
   "source": [
    "## Customer Data\n",
    "* $x_i,y_i$ geometric position (cadran) of customer i\n",
    "* $q_{iv}$ quantity of return product variety v from customer i"
   ]
  },
  {
   "cell_type": "code",
   "execution_count": 9,
   "metadata": {
    "collapsed": true,
    "deletable": true,
    "editable": true,
    "hidden": true
   },
   "outputs": [],
   "source": [
    "Cus_coor = [(x,y) for x in range(20,100,10) for y in range(20,80,10)] + [(100,20),(100,30)]"
   ]
  },
  {
   "cell_type": "code",
   "execution_count": 10,
   "metadata": {
    "collapsed": false,
    "deletable": true,
    "editable": true,
    "hidden": true
   },
   "outputs": [],
   "source": [
    "Cus_qi1 = '10 5 7 4 8 12 11 9 13 14 17 19 16 4 5 9 8 7 4 14 2 3 5 12 6 4 12 2 4 5 7 4 3 16 10 2 20 5 6 4 14 8 10 19 24 10 12 22 11 14'.split()"
   ]
  },
  {
   "cell_type": "code",
   "execution_count": 11,
   "metadata": {
    "collapsed": true,
    "deletable": true,
    "editable": true,
    "hidden": true
   },
   "outputs": [],
   "source": [
    "Cus_qi2 = '8 15 9 15 6 6 9 8 8 6 4 3 5 19 13 4 12 5 5 7 8 2 15 5 15 13 6 8 14 5 13 7 4 5 6 4 6 15 12 7 7 22 16 21 18 18 14 14 20 19'.split()"
   ]
  },
  {
   "cell_type": "code",
   "execution_count": 12,
   "metadata": {
    "collapsed": true,
    "deletable": true,
    "editable": true,
    "hidden": true
   },
   "outputs": [],
   "source": [
    "Cus_qi3 = '7 5 9 6 11 7 5 8 4 5 4 3 4 2 7 12 5 13 16 4 15 20 5 8 4 8 7 15 7 15 5 14 18 4 9 19 4 10 12 19 9 10 14 10 8 12 9 9 9 17'.split()"
   ]
  },
  {
   "cell_type": "code",
   "execution_count": 16,
   "metadata": {
    "collapsed": false,
    "deletable": true,
    "editable": true,
    "hidden": true
   },
   "outputs": [
    {
     "data": {
      "text/html": [
       "<div>\n",
       "<table border=\"1\" class=\"dataframe\">\n",
       "  <thead>\n",
       "    <tr style=\"text-align: right;\">\n",
       "      <th></th>\n",
       "      <th>0</th>\n",
       "      <th>1</th>\n",
       "      <th>2</th>\n",
       "      <th>3</th>\n",
       "      <th>4</th>\n",
       "      <th>5</th>\n",
       "      <th>6</th>\n",
       "      <th>7</th>\n",
       "      <th>8</th>\n",
       "      <th>9</th>\n",
       "      <th>...</th>\n",
       "      <th>40</th>\n",
       "      <th>41</th>\n",
       "      <th>42</th>\n",
       "      <th>43</th>\n",
       "      <th>44</th>\n",
       "      <th>45</th>\n",
       "      <th>46</th>\n",
       "      <th>47</th>\n",
       "      <th>48</th>\n",
       "      <th>49</th>\n",
       "    </tr>\n",
       "  </thead>\n",
       "  <tbody>\n",
       "    <tr>\n",
       "      <th>0</th>\n",
       "      <td>(20, 20)</td>\n",
       "      <td>(20, 30)</td>\n",
       "      <td>(20, 40)</td>\n",
       "      <td>(20, 50)</td>\n",
       "      <td>(20, 60)</td>\n",
       "      <td>(20, 70)</td>\n",
       "      <td>(30, 20)</td>\n",
       "      <td>(30, 30)</td>\n",
       "      <td>(30, 40)</td>\n",
       "      <td>(30, 50)</td>\n",
       "      <td>...</td>\n",
       "      <td>(80, 60)</td>\n",
       "      <td>(80, 70)</td>\n",
       "      <td>(90, 20)</td>\n",
       "      <td>(90, 30)</td>\n",
       "      <td>(90, 40)</td>\n",
       "      <td>(90, 50)</td>\n",
       "      <td>(90, 60)</td>\n",
       "      <td>(90, 70)</td>\n",
       "      <td>(100, 20)</td>\n",
       "      <td>(100, 30)</td>\n",
       "    </tr>\n",
       "    <tr>\n",
       "      <th>1</th>\n",
       "      <td>10</td>\n",
       "      <td>5</td>\n",
       "      <td>7</td>\n",
       "      <td>4</td>\n",
       "      <td>8</td>\n",
       "      <td>12</td>\n",
       "      <td>11</td>\n",
       "      <td>9</td>\n",
       "      <td>13</td>\n",
       "      <td>14</td>\n",
       "      <td>...</td>\n",
       "      <td>14</td>\n",
       "      <td>8</td>\n",
       "      <td>10</td>\n",
       "      <td>19</td>\n",
       "      <td>24</td>\n",
       "      <td>10</td>\n",
       "      <td>12</td>\n",
       "      <td>22</td>\n",
       "      <td>11</td>\n",
       "      <td>14</td>\n",
       "    </tr>\n",
       "    <tr>\n",
       "      <th>2</th>\n",
       "      <td>8</td>\n",
       "      <td>15</td>\n",
       "      <td>9</td>\n",
       "      <td>15</td>\n",
       "      <td>6</td>\n",
       "      <td>6</td>\n",
       "      <td>9</td>\n",
       "      <td>8</td>\n",
       "      <td>8</td>\n",
       "      <td>6</td>\n",
       "      <td>...</td>\n",
       "      <td>7</td>\n",
       "      <td>22</td>\n",
       "      <td>16</td>\n",
       "      <td>21</td>\n",
       "      <td>18</td>\n",
       "      <td>18</td>\n",
       "      <td>14</td>\n",
       "      <td>14</td>\n",
       "      <td>20</td>\n",
       "      <td>19</td>\n",
       "    </tr>\n",
       "    <tr>\n",
       "      <th>3</th>\n",
       "      <td>7</td>\n",
       "      <td>5</td>\n",
       "      <td>9</td>\n",
       "      <td>6</td>\n",
       "      <td>11</td>\n",
       "      <td>7</td>\n",
       "      <td>5</td>\n",
       "      <td>8</td>\n",
       "      <td>4</td>\n",
       "      <td>5</td>\n",
       "      <td>...</td>\n",
       "      <td>9</td>\n",
       "      <td>10</td>\n",
       "      <td>14</td>\n",
       "      <td>10</td>\n",
       "      <td>8</td>\n",
       "      <td>12</td>\n",
       "      <td>9</td>\n",
       "      <td>9</td>\n",
       "      <td>9</td>\n",
       "      <td>17</td>\n",
       "    </tr>\n",
       "  </tbody>\n",
       "</table>\n",
       "<p>4 rows × 50 columns</p>\n",
       "</div>"
      ],
      "text/plain": [
       "         0         1         2         3         4         5         6   \\\n",
       "0  (20, 20)  (20, 30)  (20, 40)  (20, 50)  (20, 60)  (20, 70)  (30, 20)   \n",
       "1        10         5         7         4         8        12        11   \n",
       "2         8        15         9        15         6         6         9   \n",
       "3         7         5         9         6        11         7         5   \n",
       "\n",
       "         7         8         9     ...            40        41        42  \\\n",
       "0  (30, 30)  (30, 40)  (30, 50)    ...      (80, 60)  (80, 70)  (90, 20)   \n",
       "1         9        13        14    ...            14         8        10   \n",
       "2         8         8         6    ...             7        22        16   \n",
       "3         8         4         5    ...             9        10        14   \n",
       "\n",
       "         43        44        45        46        47         48         49  \n",
       "0  (90, 30)  (90, 40)  (90, 50)  (90, 60)  (90, 70)  (100, 20)  (100, 30)  \n",
       "1        19        24        10        12        22         11         14  \n",
       "2        21        18        18        14        14         20         19  \n",
       "3        10         8        12         9         9          9         17  \n",
       "\n",
       "[4 rows x 50 columns]"
      ]
     },
     "execution_count": 16,
     "metadata": {},
     "output_type": "execute_result"
    }
   ],
   "source": [
    "pd.DataFrame([Cus_coor,Cus_qi1,Cus_qi2,Cus_qi3])"
   ]
  },
  {
   "cell_type": "markdown",
   "metadata": {
    "deletable": true,
    "editable": true,
    "heading_collapsed": true
   },
   "source": [
    "## Product Data\n",
    "* $P_k$ Range of probability for deciding the product quality level k of customer i\n",
    "* $nq$ number of product quality levels"
   ]
  },
  {
   "cell_type": "code",
   "execution_count": 18,
   "metadata": {
    "collapsed": true,
    "deletable": true,
    "editable": true,
    "hidden": true
   },
   "outputs": [],
   "source": [
    "nq = 3"
   ]
  },
  {
   "cell_type": "code",
   "execution_count": 20,
   "metadata": {
    "collapsed": true,
    "deletable": true,
    "editable": true,
    "hidden": true
   },
   "outputs": [],
   "source": [
    "P_A = (0.6, 1.0)\n",
    "P_B = (0.4, 0.6)\n",
    "P_C = (0.01, 0.4)"
   ]
  },
  {
   "cell_type": "markdown",
   "metadata": {
    "deletable": true,
    "editable": true,
    "heading_collapsed": true
   },
   "source": [
    "## ICP, CRC,Vehicle data\n",
    "* $t,s,a$ total number of ICP, CRC, Vehicle\n",
    "* $Q_j,Q_c,Q_b$ capacity of ICP j, CRC c, Vehicle b\n",
    "* $FTC_j,FCR_c,FCV_$ fixed cost of establishing ICP j"
   ]
  },
  {
   "cell_type": "code",
   "execution_count": 21,
   "metadata": {
    "collapsed": true,
    "deletable": true,
    "editable": true,
    "hidden": true
   },
   "outputs": [],
   "source": [
    "t = 8\n",
    "s = 2\n",
    "a = 2"
   ]
  },
  {
   "cell_type": "code",
   "execution_count": 24,
   "metadata": {
    "collapsed": true,
    "deletable": true,
    "editable": true,
    "hidden": true
   },
   "outputs": [],
   "source": [
    "Q_j = 200\n",
    "Q_c = 800\n",
    "Q_b = 800"
   ]
  },
  {
   "cell_type": "code",
   "execution_count": 25,
   "metadata": {
    "collapsed": true,
    "deletable": true,
    "editable": true,
    "hidden": true
   },
   "outputs": [],
   "source": [
    "FTC_j = 100\n",
    "FCR_c = 200\n",
    "FCV_b = 300"
   ]
  },
  {
   "cell_type": "markdown",
   "metadata": {
    "deletable": true,
    "editable": true,
    "heading_collapsed": true
   },
   "source": [
    "## Processing center Data\n",
    "x,y  geometric position (cadran) of prcessing center"
   ]
  },
  {
   "cell_type": "code",
   "execution_count": 27,
   "metadata": {
    "collapsed": true,
    "deletable": true,
    "editable": true,
    "hidden": true
   },
   "outputs": [],
   "source": [
    "x = 100\n",
    "y = 60"
   ]
  },
  {
   "cell_type": "markdown",
   "metadata": {
    "deletable": true,
    "editable": true
   },
   "source": [
    "# Inspection result"
   ]
  },
  {
   "cell_type": "code",
   "execution_count": null,
   "metadata": {
    "collapsed": true,
    "deletable": true,
    "editable": true
   },
   "outputs": [],
   "source": []
  },
  {
   "cell_type": "markdown",
   "metadata": {
    "deletable": true,
    "editable": true,
    "heading_collapsed": true
   },
   "source": [
    "# Outputs"
   ]
  },
  {
   "cell_type": "markdown",
   "metadata": {
    "deletable": true,
    "editable": true,
    "hidden": true
   },
   "source": [
    "## ICP result\n",
    "* $N_j$ =1 if ICP j is open\n",
    "* $x_j,y_j$ geometric position of ICP\n",
    "* $V_j$ number of unit allocated\n",
    "* $n_j$ number of customer allocated"
   ]
  },
  {
   "cell_type": "markdown",
   "metadata": {
    "deletable": true,
    "editable": true,
    "hidden": true
   },
   "source": [
    "## CRC result\n",
    "* $N_c$ =1 if CRC j is open\n",
    "* $x_c,y_c$ geometric position of ICP\n",
    "* $V_c$ number of unit allocated\n",
    "* $n_c$ number of customer allocated"
   ]
  },
  {
   "cell_type": "markdown",
   "metadata": {
    "deletable": true,
    "editable": true,
    "hidden": true
   },
   "source": [
    "## Vehicle routing result\n",
    "* $ Y_{ij} = 1$ if custoner i is associated to ICP j\n",
    "* $ X_{cj} = 1$ if ICP j is associated with CRC c\n",
    "* $ Z_{cjb} = 1$ if vehicle b  trqvel from CRC b to ICP j on route b"
   ]
  },
  {
   "cell_type": "markdown",
   "metadata": {},
   "source": [
    "# Solution visualization"
   ]
  }
 ],
 "metadata": {
  "kernelspec": {
   "display_name": "Python 3.5",
   "language": "python",
   "name": "py35"
  },
  "language_info": {
   "codemirror_mode": {
    "name": "ipython",
    "version": 3
   },
   "file_extension": ".py",
   "mimetype": "text/x-python",
   "name": "python",
   "nbconvert_exporter": "python",
   "pygments_lexer": "ipython3",
   "version": "3.5.3"
  },
  "toc": {
   "colors": {
    "hover_highlight": "#DAA520",
    "running_highlight": "#FF0000",
    "selected_highlight": "#FFD700"
   },
   "moveMenuLeft": true,
   "nav_menu": {
    "height": "210px",
    "width": "252px"
   },
   "navigate_menu": true,
   "number_sections": true,
   "sideBar": true,
   "threshold": 4,
   "toc_cell": false,
   "toc_section_display": "block",
   "toc_window_display": false
  }
 },
 "nbformat": 4,
 "nbformat_minor": 2
}
