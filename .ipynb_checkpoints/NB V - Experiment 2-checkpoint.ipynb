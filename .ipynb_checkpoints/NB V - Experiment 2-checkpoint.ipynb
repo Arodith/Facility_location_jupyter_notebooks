{
 "cells": [
  {
   "cell_type": "code",
   "execution_count": 429,
   "metadata": {},
   "outputs": [
    {
     "name": "stdout",
     "output_type": "stream",
     "text": [
      "The autoreload extension is already loaded. To reload it, use:\n",
      "  %reload_ext autoreload\n"
     ]
    }
   ],
   "source": [
    "import csv\n",
    "import math as m\n",
    "from random import uniform as unif\n",
    "import networkx as nx\n",
    "import pandas as pd\n",
    "import os\n",
    "\n",
    "import numpy as np\n",
    "import matplotlib as mpl\n",
    "import matplotlib.pyplot as plt\n",
    "from IPython.display import display, HTML\n",
    "%matplotlib inline\n",
    "\n",
    "%load_ext autoreload\n",
    "%autoreload 2"
   ]
  },
  {
   "cell_type": "code",
   "execution_count": 430,
   "metadata": {
    "collapsed": true
   },
   "outputs": [],
   "source": [
    "expid = \"./exp2_run1\""
   ]
  },
  {
   "cell_type": "code",
   "execution_count": 431,
   "metadata": {
    "collapsed": true
   },
   "outputs": [],
   "source": [
    "if not os.path.exists(expid):\n",
    "    os.makedirs(expid)"
   ]
  },
  {
   "cell_type": "markdown",
   "metadata": {},
   "source": [
    "# Problem instance"
   ]
  },
  {
   "cell_type": "markdown",
   "metadata": {},
   "source": [
    "## Geographic data"
   ]
  },
  {
   "cell_type": "code",
   "execution_count": 432,
   "metadata": {
    "collapsed": true
   },
   "outputs": [],
   "source": [
    "from pkg.read_problem import read_problem, extract_problem"
   ]
  },
  {
   "cell_type": "code",
   "execution_count": 433,
   "metadata": {
    "collapsed": true
   },
   "outputs": [],
   "source": [
    "xy_customers, xy_icps, xy_crcs, xy_pc, q = read_problem('./datasets/original')"
   ]
  },
  {
   "cell_type": "code",
   "execution_count": 434,
   "metadata": {
    "collapsed": true
   },
   "outputs": [],
   "source": [
    "xy_icps = xy_icps + [[unif(20,100),unif(20,70)] for i in range(5)]\n",
    "xy_crcs = xy_crcs + [[unif(20,100),unif(20,70)] for i in range(1)]"
   ]
  },
  {
   "cell_type": "code",
   "execution_count": 435,
   "metadata": {
    "collapsed": true,
    "run_control": {
     "marked": false
    }
   },
   "outputs": [],
   "source": [
    "I,J,C,B,K,V,W,DjUc,Dcj,Dc,FCV,FCT,FCR,U = extract_problem(xy_customers, xy_icps, xy_crcs, xy_pc, q)"
   ]
  },
  {
   "cell_type": "markdown",
   "metadata": {},
   "source": [
    "## Capacity constraints"
   ]
  },
  {
   "cell_type": "code",
   "execution_count": 436,
   "metadata": {
    "collapsed": true
   },
   "outputs": [],
   "source": [
    "Q_icp = [200 for j in range(J)]\n",
    "Q_crc = [800 for c in range(C)]\n",
    "V = [Q_icp,Q_crc]"
   ]
  },
  {
   "cell_type": "markdown",
   "metadata": {},
   "source": [
    "## Adapting costs"
   ]
  },
  {
   "cell_type": "code",
   "execution_count": 437,
   "metadata": {
    "collapsed": true
   },
   "outputs": [],
   "source": [
    "# two-level cost\n",
    "FCRD = []\n",
    "for c in range(C):\n",
    "    FCRD.append(FCR[c] + Dc[c])\n",
    "\n",
    "f = FCT+FCRD\n",
    "c = [[[W[i][j1] + Dcj[j1][j2] for j2 in range(C)] for j1 in range(J)] for i in range(I)]"
   ]
  },
  {
   "cell_type": "markdown",
   "metadata": {},
   "source": [
    "# Plot Problem"
   ]
  },
  {
   "cell_type": "code",
   "execution_count": 438,
   "metadata": {},
   "outputs": [
    {
     "data": {
      "image/png": "[encoded data removed]",
      "text/plain": [
       "<matplotlib.figure.Figure at 0xb1cbd68>"
      ]
     },
     "metadata": {},
     "output_type": "display_data"
    }
   ],
   "source": [
    "from pkg.lrp_nodes_graph import lrp_nodes_graph, lrp_draw_and_save\n",
    "G, pos, labels, colors, size = lrp_nodes_graph(xy_customers, xy_icps, xy_crcs, xy_pc)\n",
    "\n",
    "lrp_draw_and_save(G, pos, labels, colors, size, expid+\"/problem.png\")"
   ]
  },
  {
   "cell_type": "code",
   "execution_count": 439,
   "metadata": {},
   "outputs": [
    {
     "name": "stdout",
     "output_type": "stream",
     "text": [
      "Overwriting ./pkg/draw_solution_II.py\n"
     ]
    }
   ],
   "source": [
    "%%file \"./pkg/draw_solution_II.py\"\n",
    "\n",
    "def draw_solution_II(I,J,C,\n",
    "                    N_crc, N_icp,\n",
    "                    Y1,Y2, routes, expid,\n",
    "                    G, pos, labels, colors, size, path=None):\n",
    "    \n",
    "    from IPython.display import display, HTML\n",
    "    import pandas as pd\n",
    "    from pkg.draw_solution_II import draw_solution_II\n",
    "    from pkg.lrp_nodes_graph import lrp_nodes_graph, lrp_draw_and_save\n",
    "    \n",
    "    H1 = [j for j,vj in enumerate(N_icp) if vj > 0.5]\n",
    "    \n",
    "    ###############################\n",
    "    # DataFrames\n",
    "    display(pd.DataFrame(N_crc).transpose())\n",
    "    display(pd.DataFrame(N_icp).transpose())\n",
    "    display(pd.DataFrame(routes).transpose())   \n",
    "    ###############################\n",
    "    # Network\n",
    "    G2 = G.copy()\n",
    "    colors = colors[:];size = size[:]; labels = labels.copy()\n",
    "    # ICP-Cus\n",
    "    for j,vj in enumerate(Y1):\n",
    "        for i,vi in enumerate(vj):\n",
    "            if vi == 1:\n",
    "                G2.add_edge(I+i,j)\n",
    "    # ICP\n",
    "    for j,vj in enumerate(N_icp):\n",
    "        if vj < 0.5:\n",
    "            colors[I+j] = \"grey\"\n",
    "            labels[I+j] = \"\"\n",
    "            size[I+j] = 50\n",
    "\n",
    "    # ICP-CRC\n",
    "    for j,vj in enumerate(Y2):\n",
    "        for i,vi in enumerate(vj):\n",
    "            if vi == 1:\n",
    "                G2.add_edge(I+J+i,I+H1[j])\n",
    "    # CRC\n",
    "    for j,vj in enumerate(N_crc):\n",
    "        if vj < 0.5:\n",
    "            colors[I+J+j] = \"grey\"\n",
    "            labels[I+J+j] = \"\"\n",
    "            size[I+J+j] = 50\n",
    "\n",
    "    # Routes\n",
    "    for r,vr in enumerate(routes):\n",
    "        for c, vc in enumerate(vr):\n",
    "            G2.add_edge(I+vc[0],I+vc[1])\n",
    "\n",
    "    lrp_draw_and_save(G2, pos, labels, colors, size, path)\n",
    "    \n",
    "    return G2"
   ]
  },
  {
   "cell_type": "markdown",
   "metadata": {},
   "source": [
    "# Define Functions"
   ]
  },
  {
   "cell_type": "markdown",
   "metadata": {},
   "source": [
    "## cflp_first_tsp_second"
   ]
  },
  {
   "cell_type": "code",
   "execution_count": 440,
   "metadata": {
    "code_folding": []
   },
   "outputs": [
    {
     "name": "stdout",
     "output_type": "stream",
     "text": [
      "Overwriting ./pkg/cflp_first_tsp_second.py\n"
     ]
    }
   ],
   "source": [
    "%%file \"./pkg/cflp_first_tsp_second.py\"\n",
    "\n",
    "def cflp_first_tsp_second(G,pos, labels, colors, size,\n",
    "                I,J,C,\n",
    "                W1,W2,W3,F1,F2,\n",
    "                U,Q_icp,Q_crc,\n",
    "                plots=True, expid=\"\"):\n",
    "    \n",
    "    from pkg.cflp_cplex import cflp_cplex\n",
    "    from pkg.tsp_cplex import tsp_cplex\n",
    "    from pkg.read_problem import read_problem, extract_problem\n",
    "    from pkg.draw_solution_II import draw_solution_II\n",
    "    from pkg.lrp_nodes_graph import lrp_nodes_graph, lrp_draw_and_save\n",
    "    import numpy as np\n",
    "    import pandas as pd\n",
    "    from IPython.display import display, HTML\n",
    "\n",
    "    #######################################################################\n",
    "    # Solve first problem\n",
    "    prob1, Y1, N_icp = cflp_cplex(I,J,\n",
    "                W1,F1,U,Q_icp,\n",
    "                relaxation=False)\n",
    "    \n",
    "    #######################################################################\n",
    "    # Prepare 2nd problem\n",
    "    H1 = [j for j,vj in enumerate(N_icp) if vj > 0.5]\n",
    "    \n",
    "    c2=[];    u2=[];\n",
    "    for j in H1:\n",
    "        c2.append(W2[j])\n",
    "        sqi = 0\n",
    "        for i in range(I):\n",
    "            sqi += U[i]*Y1[i][j]\n",
    "        u2.append(sqi)\n",
    "    #######################################################################        \n",
    "    # Solve Second problem\n",
    "    prob2, Y2, N_crc = cflp_cplex(len(u2),C,\n",
    "            c2,F2,u2,Q_crc,\n",
    "            relaxation=False)    \n",
    "    #######################################################################\n",
    "    # Preparing TSP\n",
    "    H2 = [j for j,vj in enumerate(N_crc) if vj > 0.5]\n",
    "    tY2 = np.transpose(Y2)\n",
    "    W3 = np.asarray(W3)\n",
    "    \n",
    "    #/!\\ Use H1 as a labeling array\n",
    "\n",
    "    S_tsp = [] #set of ICP in each TSP\n",
    "    for c,vc in enumerate(H2):\n",
    "        S_tsp.append([H1[j] for j,vj in enumerate(tY2[c]) if vj > 0.5]+[J+vc])\n",
    "    \n",
    "    w_tsp = []\n",
    "    for submat in S_tsp:\n",
    "        w_tsp.append(W3[submat,:][:,submat])\n",
    "    #######################################################################\n",
    "    # Solving TSP\n",
    "    routes = []\n",
    "    for c,vc in enumerate(w_tsp):\n",
    "        prob, X = tsp_cplex(len(vc),vc, relaxation=False)\n",
    "        # Extract routes\n",
    "        path = []\n",
    "        for j,xj in enumerate(X):\n",
    "            for i,xij in enumerate(xj):\n",
    "                if xij == 1:\n",
    "                    path.append((S_tsp[c][i],S_tsp[c][j]))\n",
    "        routes.append(path)\n",
    "    #######################################################################\n",
    "    # Draw solution\n",
    "    if(plots):\n",
    "        draw_solution_II(I,J,C,N_crc, N_icp,\n",
    "                    Y1,Y2, routes, expid,\n",
    "                    G, pos, labels, colors, size)\n",
    "    \n",
    "    return Y1, Y2, N_icp, N_crc, routes"
   ]
  },
  {
   "cell_type": "code",
   "execution_count": 441,
   "metadata": {},
   "outputs": [],
   "source": [
    "from pkg.cflp_first_tsp_second import cflp_first_tsp_second"
   ]
  },
  {
   "cell_type": "code",
   "execution_count": 442,
   "metadata": {
    "code_folding": []
   },
   "outputs": [
    {
     "data": {
      "text/html": [
       "<div>\n",
       "<table border=\"1\" class=\"dataframe\">\n",
       "  <thead>\n",
       "    <tr style=\"text-align: right;\">\n",
       "      <th></th>\n",
       "      <th>0</th>\n",
       "      <th>1</th>\n",
       "      <th>2</th>\n",
       "    </tr>\n",
       "  </thead>\n",
       "  <tbody>\n",
       "    <tr>\n",
       "      <th>0</th>\n",
       "      <td>1.0</td>\n",
       "      <td>1.0</td>\n",
       "      <td>-0.0</td>\n",
       "    </tr>\n",
       "  </tbody>\n",
       "</table>\n",
       "</div>"
      ],
      "text/plain": [
       "     0    1    2\n",
       "0  1.0  1.0 -0.0"
      ]
     },
     "metadata": {},
     "output_type": "display_data"
    },
    {
     "data": {
      "text/html": [
       "<div>\n",
       "<table border=\"1\" class=\"dataframe\">\n",
       "  <thead>\n",
       "    <tr style=\"text-align: right;\">\n",
       "      <th></th>\n",
       "      <th>0</th>\n",
       "      <th>1</th>\n",
       "      <th>2</th>\n",
       "      <th>3</th>\n",
       "      <th>4</th>\n",
       "      <th>5</th>\n",
       "      <th>6</th>\n",
       "      <th>7</th>\n",
       "      <th>8</th>\n",
       "      <th>9</th>\n",
       "      <th>10</th>\n",
       "      <th>11</th>\n",
       "      <th>12</th>\n",
       "    </tr>\n",
       "  </thead>\n",
       "  <tbody>\n",
       "    <tr>\n",
       "      <th>0</th>\n",
       "      <td>1.0</td>\n",
       "      <td>1.0</td>\n",
       "      <td>1.0</td>\n",
       "      <td>1.0</td>\n",
       "      <td>1.0</td>\n",
       "      <td>1.0</td>\n",
       "      <td>1.0</td>\n",
       "      <td>1.0</td>\n",
       "      <td>0.0</td>\n",
       "      <td>0.0</td>\n",
       "      <td>0.0</td>\n",
       "      <td>0.0</td>\n",
       "      <td>0.0</td>\n",
       "    </tr>\n",
       "  </tbody>\n",
       "</table>\n",
       "</div>"
      ],
      "text/plain": [
       "    0    1    2    3    4    5    6    7    8    9    10   11   12\n",
       "0  1.0  1.0  1.0  1.0  1.0  1.0  1.0  1.0  0.0  0.0  0.0  0.0  0.0"
      ]
     },
     "metadata": {},
     "output_type": "display_data"
    },
    {
     "data": {
      "text/html": [
       "<div>\n",
       "<table border=\"1\" class=\"dataframe\">\n",
       "  <thead>\n",
       "    <tr style=\"text-align: right;\">\n",
       "      <th></th>\n",
       "      <th>0</th>\n",
       "      <th>1</th>\n",
       "    </tr>\n",
       "  </thead>\n",
       "  <tbody>\n",
       "    <tr>\n",
       "      <th>0</th>\n",
       "      <td>(13, 1)</td>\n",
       "      <td>(5, 0)</td>\n",
       "    </tr>\n",
       "    <tr>\n",
       "      <th>1</th>\n",
       "      <td>(3, 2)</td>\n",
       "      <td>(6, 5)</td>\n",
       "    </tr>\n",
       "    <tr>\n",
       "      <th>2</th>\n",
       "      <td>(1, 3)</td>\n",
       "      <td>(14, 6)</td>\n",
       "    </tr>\n",
       "    <tr>\n",
       "      <th>3</th>\n",
       "      <td>(2, 4)</td>\n",
       "      <td>(0, 7)</td>\n",
       "    </tr>\n",
       "    <tr>\n",
       "      <th>4</th>\n",
       "      <td>(4, 13)</td>\n",
       "      <td>(7, 14)</td>\n",
       "    </tr>\n",
       "  </tbody>\n",
       "</table>\n",
       "</div>"
      ],
      "text/plain": [
       "         0        1\n",
       "0  (13, 1)   (5, 0)\n",
       "1   (3, 2)   (6, 5)\n",
       "2   (1, 3)  (14, 6)\n",
       "3   (2, 4)   (0, 7)\n",
       "4  (4, 13)  (7, 14)"
      ]
     },
     "metadata": {},
     "output_type": "display_data"
    },
    {
     "name": "stdout",
     "output_type": "stream",
     "text": [
      "Wall time: 507 ms\n"
     ]
    },
    {
     "data": {
      "image/png": "[encoded data removed]",
      "text/plain": [
       "<matplotlib.figure.Figure at 0xacdec88>"
      ]
     },
     "metadata": {},
     "output_type": "display_data"
    }
   ],
   "source": [
    "%%time\n",
    "Y1, Y2, N_icp, N_crc, routes = cflp_first_tsp_second(G,pos, labels, colors, size,\n",
    "                I,J,C,\n",
    "                W,Dcj,DjUc,FCT,FCRD,\n",
    "                U,Q_icp,Q_crc,\n",
    "                expid=expid)"
   ]
  },
  {
   "cell_type": "code",
   "execution_count": 443,
   "metadata": {
    "code_folding": []
   },
   "outputs": [
    {
     "data": {
      "text/plain": [
       "(2570.1543527942758,\n",
       " 514.90978984208959,\n",
       " 176.175733426272,\n",
       " 800.0,\n",
       " 1079.0688295259142)"
      ]
     },
     "execution_count": 443,
     "metadata": {},
     "output_type": "execute_result"
    }
   ],
   "source": [
    "from pkg.objective_III import objective_III\n",
    "objective_III(Y1,routes,N_icp, N_crc,\n",
    "                I,J,C,B,\n",
    "                W,DjUc,Dc,\n",
    "                FCV,FCT,FCR)"
   ]
  },
  {
   "cell_type": "markdown",
   "metadata": {},
   "source": [
    "## pmd_first_tsp_second"
   ]
  },
  {
   "cell_type": "code",
   "execution_count": 444,
   "metadata": {
    "code_folding": []
   },
   "outputs": [
    {
     "name": "stdout",
     "output_type": "stream",
     "text": [
      "Overwriting ./pkg/pmd_first_tsp_second.py\n"
     ]
    }
   ],
   "source": [
    "%%file \"./pkg/pmd_first_tsp_second.py\"\n",
    "\n",
    "def pmd_first_tsp_second(G,pos, labels, colors, size,\n",
    "                I,J,C,\n",
    "                W1,W2,W3,F1,F2,\n",
    "                U,Q_icp,Q_crc,\n",
    "                plots=True, expid=\"\"):\n",
    "    \n",
    "    from pkg.cflp_cplex import cflp_cplex\n",
    "    from pkg.pm_flp_cplex import pm_flp_cplex\n",
    "    from pkg.tsp_cplex import tsp_cplex\n",
    "    from pkg.read_problem import read_problem, extract_problem\n",
    "    from pkg.draw_solution_II import draw_solution_II\n",
    "    from pkg.lrp_nodes_graph import lrp_nodes_graph, lrp_draw_and_save\n",
    "    import numpy as np\n",
    "    import pandas as pd\n",
    "    from IPython.display import display, HTML\n",
    "\n",
    "    #######################################################################\n",
    "    # Solve first problem\n",
    "    prob1, Y1, N_icp = pm_flp_cplex(I,J,\n",
    "                W1,8,\n",
    "                relaxation=False)\n",
    "    \n",
    "    #######################################################################\n",
    "    # Prepare 2nd problem\n",
    "    H1 = [j for j,vj in enumerate(N_icp) if vj > 0.5]\n",
    "    \n",
    "    c2=[];    u2=[];\n",
    "    for j in H1:\n",
    "        c2.append(W2[j])\n",
    "        sqi = 0\n",
    "        for i in range(I):\n",
    "            sqi += U[i]*Y1[i][j]\n",
    "        u2.append(sqi)\n",
    "        \n",
    "    print(u2)\n",
    "    #######################################################################        \n",
    "    # Solve Second problem\n",
    "    prob2, Y2, N_crc = pm_flp_cplex(len(u2),C,\n",
    "            c2,2,\n",
    "            relaxation=False)    \n",
    "    #######################################################################\n",
    "    # Preparing TSP\n",
    "    H2 = [j for j,vj in enumerate(N_crc) if vj > 0.5]\n",
    "    tY2 = np.transpose(Y2)\n",
    "    W3 = np.asarray(W3)\n",
    "    \n",
    "    #/!\\ Use H1 as a labeling array\n",
    "\n",
    "    S_tsp = [] #set of ICP in each TSP\n",
    "    for c,vc in enumerate(H2):\n",
    "        S_tsp.append([H1[j] for j,vj in enumerate(tY2[c]) if vj > 0.5]+[J+vc])\n",
    "    \n",
    "    w_tsp = []\n",
    "    for submat in S_tsp:\n",
    "        w_tsp.append(W3[submat,:][:,submat])\n",
    "    #######################################################################\n",
    "    # Solving TSP\n",
    "    routes = []\n",
    "    for c,vc in enumerate(w_tsp):\n",
    "        prob, X = tsp_cplex(len(vc),vc, relaxation=False)\n",
    "        # Extract routes\n",
    "        path = []\n",
    "        for j,xj in enumerate(X):\n",
    "            for i,xij in enumerate(xj):\n",
    "                if xij == 1:\n",
    "                    path.append((S_tsp[c][i],S_tsp[c][j]))\n",
    "        routes.append(path)\n",
    "    #######################################################################\n",
    "    # Draw solution\n",
    "    if(plots):\n",
    "         draw_solution_II(I,J,C,N_crc, N_icp,\n",
    "                    Y1,Y2, routes, expid,\n",
    "                    G, pos, labels, colors, size)\n",
    "            \n",
    "    return Y1, Y2 , N_icp, N_crc, routes"
   ]
  },
  {
   "cell_type": "code",
   "execution_count": 445,
   "metadata": {
    "collapsed": true
   },
   "outputs": [],
   "source": [
    "from pkg.pmd_first_tsp_second import pmd_first_tsp_second"
   ]
  },
  {
   "cell_type": "code",
   "execution_count": 446,
   "metadata": {},
   "outputs": [
    {
     "name": "stdout",
     "output_type": "stream",
     "text": [
      "[150.0, 200.0, 200.0, 175.0, 150.0, 175.0, 290.0, 100.0]\n"
     ]
    },
    {
     "data": {
      "text/html": [
       "<div>\n",
       "<table border=\"1\" class=\"dataframe\">\n",
       "  <thead>\n",
       "    <tr style=\"text-align: right;\">\n",
       "      <th></th>\n",
       "      <th>0</th>\n",
       "      <th>1</th>\n",
       "      <th>2</th>\n",
       "    </tr>\n",
       "  </thead>\n",
       "  <tbody>\n",
       "    <tr>\n",
       "      <th>0</th>\n",
       "      <td>1.0</td>\n",
       "      <td>1.0</td>\n",
       "      <td>0.0</td>\n",
       "    </tr>\n",
       "  </tbody>\n",
       "</table>\n",
       "</div>"
      ],
      "text/plain": [
       "     0    1    2\n",
       "0  1.0  1.0  0.0"
      ]
     },
     "metadata": {},
     "output_type": "display_data"
    },
    {
     "data": {
      "text/html": [
       "<div>\n",
       "<table border=\"1\" class=\"dataframe\">\n",
       "  <thead>\n",
       "    <tr style=\"text-align: right;\">\n",
       "      <th></th>\n",
       "      <th>0</th>\n",
       "      <th>1</th>\n",
       "      <th>2</th>\n",
       "      <th>3</th>\n",
       "      <th>4</th>\n",
       "      <th>5</th>\n",
       "      <th>6</th>\n",
       "      <th>7</th>\n",
       "      <th>8</th>\n",
       "      <th>9</th>\n",
       "      <th>10</th>\n",
       "      <th>11</th>\n",
       "      <th>12</th>\n",
       "    </tr>\n",
       "  </thead>\n",
       "  <tbody>\n",
       "    <tr>\n",
       "      <th>0</th>\n",
       "      <td>-0.0</td>\n",
       "      <td>1.0</td>\n",
       "      <td>1.0</td>\n",
       "      <td>1.0</td>\n",
       "      <td>1.0</td>\n",
       "      <td>1.0</td>\n",
       "      <td>1.0</td>\n",
       "      <td>1.0</td>\n",
       "      <td>0.0</td>\n",
       "      <td>1.0</td>\n",
       "      <td>-0.0</td>\n",
       "      <td>0.0</td>\n",
       "      <td>0.0</td>\n",
       "    </tr>\n",
       "  </tbody>\n",
       "</table>\n",
       "</div>"
      ],
      "text/plain": [
       "    0    1    2    3    4    5    6    7    8    9    10   11   12\n",
       "0 -0.0  1.0  1.0  1.0  1.0  1.0  1.0  1.0  0.0  1.0 -0.0  0.0  0.0"
      ]
     },
     "metadata": {},
     "output_type": "display_data"
    },
    {
     "data": {
      "text/html": [
       "<div>\n",
       "<table border=\"1\" class=\"dataframe\">\n",
       "  <thead>\n",
       "    <tr style=\"text-align: right;\">\n",
       "      <th></th>\n",
       "      <th>0</th>\n",
       "      <th>1</th>\n",
       "    </tr>\n",
       "  </thead>\n",
       "  <tbody>\n",
       "    <tr>\n",
       "      <th>0</th>\n",
       "      <td>(13, 1)</td>\n",
       "      <td>(9, 5)</td>\n",
       "    </tr>\n",
       "    <tr>\n",
       "      <th>1</th>\n",
       "      <td>(3, 2)</td>\n",
       "      <td>(5, 6)</td>\n",
       "    </tr>\n",
       "    <tr>\n",
       "      <th>2</th>\n",
       "      <td>(1, 3)</td>\n",
       "      <td>(14, 7)</td>\n",
       "    </tr>\n",
       "    <tr>\n",
       "      <th>3</th>\n",
       "      <td>(2, 4)</td>\n",
       "      <td>(7, 9)</td>\n",
       "    </tr>\n",
       "    <tr>\n",
       "      <th>4</th>\n",
       "      <td>(4, 13)</td>\n",
       "      <td>(6, 14)</td>\n",
       "    </tr>\n",
       "  </tbody>\n",
       "</table>\n",
       "</div>"
      ],
      "text/plain": [
       "         0        1\n",
       "0  (13, 1)   (9, 5)\n",
       "1   (3, 2)   (5, 6)\n",
       "2   (1, 3)  (14, 7)\n",
       "3   (2, 4)   (7, 9)\n",
       "4  (4, 13)  (6, 14)"
      ]
     },
     "metadata": {},
     "output_type": "display_data"
    },
    {
     "name": "stdout",
     "output_type": "stream",
     "text": [
      "Wall time: 250 ms\n"
     ]
    },
    {
     "data": {
      "image/png": "[encoded data removed]",
      "text/plain": [
       "<matplotlib.figure.Figure at 0xa63a080>"
      ]
     },
     "metadata": {},
     "output_type": "display_data"
    }
   ],
   "source": [
    "%%time\n",
    "Y12, Y22, N_icp2, N_crc2, routes2 = pmd_first_tsp_second(G,pos, labels, colors, size,\n",
    "                I,J,C,\n",
    "                W,Dcj,DjUc,FCT,FCRD,\n",
    "                U,Q_icp,Q_crc,\n",
    "                expid=expid)"
   ]
  },
  {
   "cell_type": "code",
   "execution_count": 447,
   "metadata": {},
   "outputs": [
    {
     "data": {
      "text/plain": [
       "(2579.8546516480469,\n",
       " 509.59844637640157,\n",
       " 191.18737574573123,\n",
       " 800.0,\n",
       " 1079.0688295259142)"
      ]
     },
     "execution_count": 447,
     "metadata": {},
     "output_type": "execute_result"
    }
   ],
   "source": [
    "from pkg.objective_III import objective_III\n",
    "objective_III(Y12,routes2,N_icp2, N_crc2,\n",
    "                I,J,C,B,\n",
    "                W,DjUc,Dc,\n",
    "                FCV,FCT,FCR)"
   ]
  },
  {
   "cell_type": "markdown",
   "metadata": {},
   "source": [
    "## Capacity problem"
   ]
  },
  {
   "cell_type": "code",
   "execution_count": 448,
   "metadata": {
    "run_control": {
     "marked": false
    }
   },
   "outputs": [
    {
     "name": "stdout",
     "output_type": "stream",
     "text": [
      "Overwriting ./pkg/capacity_vector.py\n"
     ]
    }
   ],
   "source": [
    "%%file \"./pkg/capacity_vector.py\"\n",
    "\n",
    "import numpy as np\n",
    "\n",
    "def capacity_vector(Y,U,J,Q):\n",
    "    cluster_q = np.zeros(J)\n",
    "    violated = []\n",
    "    for i,vi in enumerate(Y):\n",
    "        for j,vj in enumerate(vi):\n",
    "            cluster_q[j] += U[i]*Y[i][j]\n",
    "    \n",
    "    for j,vj in enumerate(cluster_q):\n",
    "        if cluster_q[j] > Q[j]:\n",
    "            violated.append(j)\n",
    "            \n",
    "    return cluster_q, violated"
   ]
  },
  {
   "cell_type": "code",
   "execution_count": 449,
   "metadata": {},
   "outputs": [],
   "source": [
    "from pkg.capacity_vector import capacity_vector"
   ]
  },
  {
   "cell_type": "code",
   "execution_count": 450,
   "metadata": {},
   "outputs": [
    {
     "data": {
      "text/plain": [
       "(array([ 160.,  175.,  200.,  200.,  175.,  175.,  175.,  180.,    0.,\n",
       "           0.,    0.,    0.,    0.]), [])"
      ]
     },
     "execution_count": 450,
     "metadata": {},
     "output_type": "execute_result"
    }
   ],
   "source": [
    "capacity_vector(Y1,U,J,Q_icp)"
   ]
  },
  {
   "cell_type": "code",
   "execution_count": 451,
   "metadata": {},
   "outputs": [
    {
     "data": {
      "text/plain": [
       "(array([   0.,  150.,  200.,  200.,  175.,  150.,  175.,  290.,    0.,\n",
       "         100.,    0.,    0.,    0.]), [7])"
      ]
     },
     "execution_count": 451,
     "metadata": {},
     "output_type": "execute_result"
    }
   ],
   "source": [
    "capacity_vector(Y12,U,J,Q_icp)"
   ]
  },
  {
   "cell_type": "code",
   "execution_count": 452,
   "metadata": {
    "code_folding": []
   },
   "outputs": [
    {
     "name": "stdout",
     "output_type": "stream",
     "text": [
      "Overwriting ./pkg/capacity_balancing.py\n"
     ]
    }
   ],
   "source": [
    "%%file \"./pkg/capacity_balancing.py\"\n",
    "\n",
    "import numpy as np\n",
    "from pkg.capacity_vector import capacity_vector\n",
    "\n",
    "def capacity_balancing(Y,W,U,J,Q,N_icp):\n",
    "    l = len(capacity_vector(Y,U,J,Q)[1])\n",
    "    max_loop = 10;\n",
    "\n",
    "    # capacity balancing\n",
    "    Ycp = np.copy(Y)\n",
    "    Wcp = np.copy(W)\n",
    "    while l != 0 or max_loop == 0:\n",
    "        max_loop +=-1\n",
    "        j = capacity_vector(Ycp,U,J,Q)[1][0]\n",
    "        i = np.argmax(np.multiply(Ycp,W)[:,j])\n",
    "        # Find condidate and update\n",
    "        Ycp[i][j] = 0\n",
    "        Wcp[i][j] = 100\n",
    "        stop = False\n",
    "        while not stop:\n",
    "            candidate = np.argmin(Wcp[i])\n",
    "            if N_icp[candidate] > 0.5 and candidate != j:\n",
    "                stop = True\n",
    "            else:\n",
    "                Wcp[i][candidate] = 200\n",
    "\n",
    "        print(i,j,candidate)\n",
    "\n",
    "        Ycp[i][candidate] = 1\n",
    "        Wcp[i][candidate] = 100\n",
    "\n",
    "        l = len(capacity_vector(Ycp,U,J,Q)[1])\n",
    "        \n",
    "    return Ycp"
   ]
  },
  {
   "cell_type": "code",
   "execution_count": 453,
   "metadata": {},
   "outputs": [
    {
     "data": {
      "text/plain": [
       "(array([   0.,  150.,  200.,  200.,  175.,  150.,  175.,  290.,    0.,\n",
       "         100.,    0.,    0.,    0.]), [7])"
      ]
     },
     "execution_count": 453,
     "metadata": {},
     "output_type": "execute_result"
    }
   ],
   "source": [
    "capacity_vector(Y12,U,J,Q_icp)"
   ]
  },
  {
   "cell_type": "code",
   "execution_count": 454,
   "metadata": {
    "collapsed": true
   },
   "outputs": [],
   "source": [
    "from pkg.capacity_balancing import capacity_balancing"
   ]
  },
  {
   "cell_type": "code",
   "execution_count": 455,
   "metadata": {
    "code_folding": []
   },
   "outputs": [
    {
     "name": "stdout",
     "output_type": "stream",
     "text": [
      "44 7 5\n",
      "48 7 5\n",
      "48 5 9\n",
      "(array([   0.,  150.,  200.,  200.,  175.,  200.,  175.,  200.,    0.,\n",
      "        140.,    0.,    0.,    0.]), [])\n",
      "Wall time: 6 ms\n"
     ]
    }
   ],
   "source": [
    "%%time\n",
    "Y12_capa = capacity_balancing(Y12,W,U,J,Q_icp,N_icp2)\n",
    "print(capacity_vector(Y12_capa,U,J,Q_icp))"
   ]
  },
  {
   "cell_type": "markdown",
   "metadata": {},
   "source": [
    "## Swap problem"
   ]
  },
  {
   "cell_type": "code",
   "execution_count": 587,
   "metadata": {
    "code_folding": []
   },
   "outputs": [],
   "source": [
    "def swap_list_icp(Y,W,Djj,N):\n",
    "    cluster_len = np.max(np.multiply(Y,W),axis=0)\n",
    "    swaps = []\n",
    "    for j,l in enumerate(cluster_len):\n",
    "        for j_bis,n in enumerate(DjUc[j]):\n",
    "            if n<l:\n",
    "                print(j,j_bis,n,l)\n",
    "                if j != j_bis and j_bis < len(N) and N[j_bis] == 0:\n",
    "                    swaps.append((j,j_bis))\n",
    "    return swaps"
   ]
  },
  {
   "cell_type": "code",
   "execution_count": 588,
   "metadata": {},
   "outputs": [
    {
     "name": "stdout",
     "output_type": "stream",
     "text": [
      "1 1 0.0 14.4826137144\n",
      "1 10 13.689983356966932 14.4826137144\n",
      "1 15 12.71322623537254 14.4826137144\n",
      "2 2 0.0 14.8802150522\n",
      "3 1 19.250000000000004 19.3784416298\n",
      "3 3 0.0 19.3784416298\n",
      "3 10 5.613750053106135 19.3784416298\n",
      "3 13 19.288696171592314 19.3784416298\n",
      "3 15 13.49805727450025 19.3784416298\n",
      "4 4 0.0 19.7355516771\n",
      "4 8 10.841023134319904 19.7355516771\n",
      "4 12 2.275413310908256 19.7355516771\n",
      "4 13 6.104506532063019 19.7355516771\n",
      "5 5 0.0 13.5250027726\n",
      "5 11 12.827080004349503 13.5250027726\n",
      "5 14 6.953855045943942 13.5250027726\n",
      "6 6 0.0 12.8368999373\n",
      "6 11 9.547774703294817 12.8368999373\n",
      "7 0 6.394137940332537 13.6111608616\n",
      "7 7 0.0 13.6111608616\n",
      "9 1 16.790827180934066 19.2381611416\n",
      "9 5 15.01926905758292 19.2381611416\n",
      "9 8 14.780301789135153 19.2381611416\n",
      "9 9 0.0 19.2381611416\n",
      "9 14 17.518498081551922 19.2381611416\n"
     ]
    },
    {
     "data": {
      "text/plain": [
       "[(1, 10), (3, 10), (4, 8), (4, 12), (5, 11), (6, 11), (7, 0), (9, 8)]"
      ]
     },
     "execution_count": 588,
     "metadata": {},
     "output_type": "execute_result"
    }
   ],
   "source": [
    "swap_list_icp(Y1,W,DjUc[0:J][0:J],N_icp)"
   ]
  },
  {
   "cell_type": "code",
   "execution_count": null,
   "metadata": {
    "collapsed": true
   },
   "outputs": [],
   "source": []
  },
  {
   "cell_type": "code",
   "execution_count": 480,
   "metadata": {
    "code_folding": []
   },
   "outputs": [],
   "source": [
    "def swap_list_byRoute(Y,W,DjUc,N_icp):\n",
    "    cluster_len = np.max(np.multiply(Y,W),axis=0)\n",
    "    swaps = []\n",
    "    for iroute,route in enumerate(routes):\n",
    "        for iarc,arc in enumerate(route): #chose on element\n",
    "            if arc[0] < len(cluster_len): # do not select CRC\n",
    "                for j_bis,n in enumerate(DjUc[arc[0]]): # look at other\n",
    "                    if j_bis < len(cluster_len):\n",
    "                        if n<cluster_len[arc[0]] and cluster_len[j_bis] == 0 and arc[0] != j_bis:\n",
    "                            coarc = [[iroute, ico] for ico,co in enumerate(route) if co[1] == arc[0]]\n",
    "                            swaps.append(([iroute,iarc],coarc[0],arc[0],j_bis))         \n",
    "    return swaps"
   ]
  },
  {
   "cell_type": "code",
   "execution_count": 459,
   "metadata": {},
   "outputs": [
    {
     "data": {
      "text/plain": [
       "[([0, 1], [0, 2], 3, 10),\n",
       " ([0, 2], [0, 0], 1, 10),\n",
       " ([0, 4], [0, 3], 4, 8),\n",
       " ([0, 4], [0, 3], 4, 12),\n",
       " ([1, 0], [1, 1], 5, 11),\n",
       " ([1, 1], [1, 2], 6, 11)]"
      ]
     },
     "execution_count": 459,
     "metadata": {},
     "output_type": "execute_result"
    }
   ],
   "source": [
    "swap_list = swap_list_byRoute(Y1,W,DjUc,N_icp)\n",
    "swap_list"
   ]
  },
  {
   "cell_type": "code",
   "execution_count": 460,
   "metadata": {},
   "outputs": [
    {
     "name": "stdout",
     "output_type": "stream",
     "text": [
      "(3, 2)\n",
      "(1, 3)\n"
     ]
    }
   ],
   "source": [
    "print(routes[0][1])\n",
    "print(routes[0][2])"
   ]
  },
  {
   "cell_type": "code",
   "execution_count": 461,
   "metadata": {},
   "outputs": [
    {
     "data": {
      "text/plain": [
       "[[(13, 1), (3, 2), (1, 3), (2, 4), (4, 13)],\n",
       " [(5, 0), (6, 5), (14, 6), (0, 7), (7, 14)]]"
      ]
     },
     "execution_count": 461,
     "metadata": {},
     "output_type": "execute_result"
    }
   ],
   "source": [
    "routes"
   ]
  },
  {
   "cell_type": "code",
   "execution_count": 462,
   "metadata": {
    "collapsed": true
   },
   "outputs": [],
   "source": [
    "swap = swap_list[0]"
   ]
  },
  {
   "cell_type": "code",
   "execution_count": 463,
   "metadata": {},
   "outputs": [],
   "source": [
    "def swap_arcs(swap, routes, N_icp):\n",
    "    routes_swap = np.copy(routes)\n",
    "    N_icp_swap = N_icp[:]\n",
    "    remove = swap[2]\n",
    "    introduce = swap[3]\n",
    "    \n",
    "    print(\"swap: %s %s\" % (remove,introduce))\n",
    "\n",
    "    arc1 = routes_swap[swap[0][0]][swap[0][1]]\n",
    "    arc2 = routes_swap[swap[1][0]][swap[1][1]]\n",
    "\n",
    "    if arc1[0] == remove:\n",
    "        arc1 = (introduce, arc1[1])\n",
    "    else:\n",
    "        arc1 = (arc1[0], introduce)\n",
    "\n",
    "    if arc2[0] == remove:\n",
    "        arc2 = (introduce, arc2[1])\n",
    "    else:\n",
    "        arc2 = (arc2[0], introduce)\n",
    "\n",
    "    routes_swap[swap[0][0]][swap[0][1]] = arc1\n",
    "    routes_swap[swap[1][0]][swap[1][1]] = arc2\n",
    "    N_icp_swap[remove] = 0\n",
    "    N_icp_swap[introduce] = 1\n",
    "\n",
    "    return routes_swap, N_icp_swap"
   ]
  },
  {
   "cell_type": "code",
   "execution_count": 464,
   "metadata": {},
   "outputs": [
    {
     "name": "stdout",
     "output_type": "stream",
     "text": [
      "swap: 3 10\n"
     ]
    }
   ],
   "source": [
    "routes_swap, N_icp_swap = swap_arcs(swap, routes, N_icp)"
   ]
  },
  {
   "cell_type": "code",
   "execution_count": 465,
   "metadata": {},
   "outputs": [
    {
     "data": {
      "text/plain": [
       "array([[[13,  1],\n",
       "        [10,  2],\n",
       "        [ 1, 10],\n",
       "        [ 2,  4],\n",
       "        [ 4, 13]],\n",
       "\n",
       "       [[ 5,  0],\n",
       "        [ 6,  5],\n",
       "        [14,  6],\n",
       "        [ 0,  7],\n",
       "        [ 7, 14]]])"
      ]
     },
     "execution_count": 465,
     "metadata": {},
     "output_type": "execute_result"
    }
   ],
   "source": [
    "routes_swap"
   ]
  },
  {
   "cell_type": "code",
   "execution_count": 466,
   "metadata": {},
   "outputs": [
    {
     "data": {
      "text/plain": [
       "(2567.8034912256148,\n",
       " 514.90978984208959,\n",
       " 173.82487185761107,\n",
       " 800.0,\n",
       " 1079.0688295259142)"
      ]
     },
     "execution_count": 466,
     "metadata": {},
     "output_type": "execute_result"
    }
   ],
   "source": [
    "from pkg.objective_III import objective_III\n",
    "objective_III(Y1,routes_swap,N_icp_swap, N_crc,\n",
    "                I,J,C,B,\n",
    "                W,DjUc,Dc,\n",
    "                FCV,FCT,FCR)"
   ]
  },
  {
   "cell_type": "code",
   "execution_count": 467,
   "metadata": {
    "scrolled": true
   },
   "outputs": [
    {
     "data": {
      "text/html": [
       "<div>\n",
       "<table border=\"1\" class=\"dataframe\">\n",
       "  <thead>\n",
       "    <tr style=\"text-align: right;\">\n",
       "      <th></th>\n",
       "      <th>0</th>\n",
       "      <th>1</th>\n",
       "      <th>2</th>\n",
       "    </tr>\n",
       "  </thead>\n",
       "  <tbody>\n",
       "    <tr>\n",
       "      <th>0</th>\n",
       "      <td>1.0</td>\n",
       "      <td>1.0</td>\n",
       "      <td>-0.0</td>\n",
       "    </tr>\n",
       "  </tbody>\n",
       "</table>\n",
       "</div>"
      ],
      "text/plain": [
       "     0    1    2\n",
       "0  1.0  1.0 -0.0"
      ]
     },
     "metadata": {},
     "output_type": "display_data"
    },
    {
     "data": {
      "text/html": [
       "<div>\n",
       "<table border=\"1\" class=\"dataframe\">\n",
       "  <thead>\n",
       "    <tr style=\"text-align: right;\">\n",
       "      <th></th>\n",
       "      <th>0</th>\n",
       "      <th>1</th>\n",
       "      <th>2</th>\n",
       "      <th>3</th>\n",
       "      <th>4</th>\n",
       "      <th>5</th>\n",
       "      <th>6</th>\n",
       "      <th>7</th>\n",
       "      <th>8</th>\n",
       "      <th>9</th>\n",
       "      <th>10</th>\n",
       "      <th>11</th>\n",
       "      <th>12</th>\n",
       "    </tr>\n",
       "  </thead>\n",
       "  <tbody>\n",
       "    <tr>\n",
       "      <th>0</th>\n",
       "      <td>1.0</td>\n",
       "      <td>1.0</td>\n",
       "      <td>1.0</td>\n",
       "      <td>0.0</td>\n",
       "      <td>1.0</td>\n",
       "      <td>1.0</td>\n",
       "      <td>1.0</td>\n",
       "      <td>1.0</td>\n",
       "      <td>0.0</td>\n",
       "      <td>0.0</td>\n",
       "      <td>1.0</td>\n",
       "      <td>0.0</td>\n",
       "      <td>0.0</td>\n",
       "    </tr>\n",
       "  </tbody>\n",
       "</table>\n",
       "</div>"
      ],
      "text/plain": [
       "    0    1    2    3    4    5    6    7    8    9    10   11   12\n",
       "0  1.0  1.0  1.0  0.0  1.0  1.0  1.0  1.0  0.0  0.0  1.0  0.0  0.0"
      ]
     },
     "metadata": {},
     "output_type": "display_data"
    },
    {
     "data": {
      "text/html": [
       "<div>\n",
       "<table border=\"1\" class=\"dataframe\">\n",
       "  <thead>\n",
       "    <tr style=\"text-align: right;\">\n",
       "      <th></th>\n",
       "      <th>0</th>\n",
       "      <th>1</th>\n",
       "    </tr>\n",
       "  </thead>\n",
       "  <tbody>\n",
       "    <tr>\n",
       "      <th>0</th>\n",
       "      <td>[13, 1]</td>\n",
       "      <td>[5, 0]</td>\n",
       "    </tr>\n",
       "    <tr>\n",
       "      <th>1</th>\n",
       "      <td>[10, 2]</td>\n",
       "      <td>[6, 5]</td>\n",
       "    </tr>\n",
       "    <tr>\n",
       "      <th>2</th>\n",
       "      <td>[1, 10]</td>\n",
       "      <td>[14, 6]</td>\n",
       "    </tr>\n",
       "    <tr>\n",
       "      <th>3</th>\n",
       "      <td>[2, 4]</td>\n",
       "      <td>[0, 7]</td>\n",
       "    </tr>\n",
       "    <tr>\n",
       "      <th>4</th>\n",
       "      <td>[4, 13]</td>\n",
       "      <td>[7, 14]</td>\n",
       "    </tr>\n",
       "  </tbody>\n",
       "</table>\n",
       "</div>"
      ],
      "text/plain": [
       "         0        1\n",
       "0  [13, 1]   [5, 0]\n",
       "1  [10, 2]   [6, 5]\n",
       "2  [1, 10]  [14, 6]\n",
       "3   [2, 4]   [0, 7]\n",
       "4  [4, 13]  [7, 14]"
      ]
     },
     "metadata": {},
     "output_type": "display_data"
    },
    {
     "data": {
      "image/png": "[encoded data removed]",
      "text/plain": [
       "<matplotlib.figure.Figure at 0xb1ecf60>"
      ]
     },
     "metadata": {},
     "output_type": "display_data"
    }
   ],
   "source": [
    "from pkg.draw_solution_II import draw_solution_II\n",
    "g3 = draw_solution_II(I,J,C,N_crc, N_icp_swap,\n",
    "            Y1, np.zeros((3,8)), routes_swap.tolist(), expid,\n",
    "            G, pos, labels, colors, size)"
   ]
  },
  {
   "cell_type": "code",
   "execution_count": 468,
   "metadata": {
    "run_control": {
     "marked": false
    }
   },
   "outputs": [],
   "source": [
    "# swapp customers\n",
    "def new_assignement(W,N_icp_swap):\n",
    "    H1 = [j for j,vj in enumerate(N_icp_swap) if vj > 0.5]\n",
    "    asso = np.argmin(np.transpose(W)[H1],axis=0)\n",
    "    new_Y = np.zeros((I,J))\n",
    "    for a,va in enumerate(asso):\n",
    "        new_Y[a][H1[va]] = 1\n",
    "    return new_Y"
   ]
  },
  {
   "cell_type": "code",
   "execution_count": 469,
   "metadata": {},
   "outputs": [
    {
     "data": {
      "text/html": [
       "<div>\n",
       "<table border=\"1\" class=\"dataframe\">\n",
       "  <thead>\n",
       "    <tr style=\"text-align: right;\">\n",
       "      <th></th>\n",
       "      <th>0</th>\n",
       "      <th>1</th>\n",
       "      <th>2</th>\n",
       "      <th>3</th>\n",
       "      <th>4</th>\n",
       "      <th>5</th>\n",
       "      <th>6</th>\n",
       "      <th>7</th>\n",
       "      <th>8</th>\n",
       "      <th>9</th>\n",
       "      <th>...</th>\n",
       "      <th>40</th>\n",
       "      <th>41</th>\n",
       "      <th>42</th>\n",
       "      <th>43</th>\n",
       "      <th>44</th>\n",
       "      <th>45</th>\n",
       "      <th>46</th>\n",
       "      <th>47</th>\n",
       "      <th>48</th>\n",
       "      <th>49</th>\n",
       "    </tr>\n",
       "  </thead>\n",
       "  <tbody>\n",
       "    <tr>\n",
       "      <th>0</th>\n",
       "      <td>63.460199</td>\n",
       "      <td>62.806026</td>\n",
       "      <td>63.733797</td>\n",
       "      <td>66.177012</td>\n",
       "      <td>69.977117</td>\n",
       "      <td>74.927945</td>\n",
       "      <td>53.583551</td>\n",
       "      <td>52.807167</td>\n",
       "      <td>53.907299</td>\n",
       "      <td>56.774967</td>\n",
       "      <td>...</td>\n",
       "      <td>30.996724</td>\n",
       "      <td>40.965802</td>\n",
       "      <td>11.627420</td>\n",
       "      <td>7.252372</td>\n",
       "      <td>13.038286</td>\n",
       "      <td>22.077067</td>\n",
       "      <td>31.698532</td>\n",
       "      <td>41.499360</td>\n",
       "      <td>19.472979</td>\n",
       "      <td>17.221989</td>\n",
       "    </tr>\n",
       "    <tr>\n",
       "      <th>1</th>\n",
       "      <td>32.436802</td>\n",
       "      <td>31.066801</td>\n",
       "      <td>32.835135</td>\n",
       "      <td>37.298071</td>\n",
       "      <td>43.636523</td>\n",
       "      <td>51.158050</td>\n",
       "      <td>23.042268</td>\n",
       "      <td>21.070028</td>\n",
       "      <td>23.599706</td>\n",
       "      <td>29.494849</td>\n",
       "      <td>...</td>\n",
       "      <td>42.153838</td>\n",
       "      <td>49.899360</td>\n",
       "      <td>40.046799</td>\n",
       "      <td>38.945425</td>\n",
       "      <td>40.370114</td>\n",
       "      <td>44.076594</td>\n",
       "      <td>49.555485</td>\n",
       "      <td>56.291617</td>\n",
       "      <td>49.825155</td>\n",
       "      <td>48.944316</td>\n",
       "    </tr>\n",
       "    <tr>\n",
       "      <th>2</th>\n",
       "      <td>40.455170</td>\n",
       "      <td>30.838625</td>\n",
       "      <td>21.573614</td>\n",
       "      <td>13.409728</td>\n",
       "      <td>9.706740</td>\n",
       "      <td>14.443711</td>\n",
       "      <td>39.281303</td>\n",
       "      <td>29.281749</td>\n",
       "      <td>19.282655</td>\n",
       "      <td>9.285516</td>\n",
       "      <td>...</td>\n",
       "      <td>50.325151</td>\n",
       "      <td>51.449206</td>\n",
       "      <td>71.982087</td>\n",
       "      <td>67.050882</td>\n",
       "      <td>63.326304</td>\n",
       "      <td>61.029671</td>\n",
       "      <td>60.324297</td>\n",
       "      <td>61.265168</td>\n",
       "      <td>80.547010</td>\n",
       "      <td>76.172310</td>\n",
       "    </tr>\n",
       "    <tr>\n",
       "      <th>3</th>\n",
       "      <td>19.378442</td>\n",
       "      <td>13.443363</td>\n",
       "      <td>13.635395</td>\n",
       "      <td>19.776855</td>\n",
       "      <td>28.219213</td>\n",
       "      <td>37.436934</td>\n",
       "      <td>14.964090</td>\n",
       "      <td>5.396666</td>\n",
       "      <td>5.858669</td>\n",
       "      <td>15.476563</td>\n",
       "      <td>...</td>\n",
       "      <td>53.728242</td>\n",
       "      <td>59.092504</td>\n",
       "      <td>59.281734</td>\n",
       "      <td>57.615310</td>\n",
       "      <td>57.660420</td>\n",
       "      <td>59.413164</td>\n",
       "      <td>62.730567</td>\n",
       "      <td>67.381926</td>\n",
       "      <td>69.012492</td>\n",
       "      <td>67.586419</td>\n",
       "    </tr>\n",
       "    <tr>\n",
       "      <th>4</th>\n",
       "      <td>44.464503</td>\n",
       "      <td>37.553855</td>\n",
       "      <td>32.303127</td>\n",
       "      <td>29.608985</td>\n",
       "      <td>30.164416</td>\n",
       "      <td>33.809644</td>\n",
       "      <td>38.583572</td>\n",
       "      <td>30.362674</td>\n",
       "      <td>23.560390</td>\n",
       "      <td>19.705126</td>\n",
       "      <td>...</td>\n",
       "      <td>31.296837</td>\n",
       "      <td>34.823728</td>\n",
       "      <td>52.519444</td>\n",
       "      <td>46.813374</td>\n",
       "      <td>42.716414</td>\n",
       "      <td>40.717220</td>\n",
       "      <td>41.122889</td>\n",
       "      <td>43.866753</td>\n",
       "      <td>60.579634</td>\n",
       "      <td>55.705404</td>\n",
       "    </tr>\n",
       "    <tr>\n",
       "      <th>5</th>\n",
       "      <td>63.244966</td>\n",
       "      <td>59.456923</td>\n",
       "      <td>57.186762</td>\n",
       "      <td>56.617362</td>\n",
       "      <td>57.799011</td>\n",
       "      <td>60.629413</td>\n",
       "      <td>54.480508</td>\n",
       "      <td>50.033246</td>\n",
       "      <td>47.313061</td>\n",
       "      <td>46.623231</td>\n",
       "      <td>...</td>\n",
       "      <td>12.244415</td>\n",
       "      <td>22.025569</td>\n",
       "      <td>31.262209</td>\n",
       "      <td>22.639030</td>\n",
       "      <td>15.739304</td>\n",
       "      <td>13.525003</td>\n",
       "      <td>17.836079</td>\n",
       "      <td>25.560237</td>\n",
       "      <td>36.681408</td>\n",
       "      <td>29.677023</td>\n",
       "    </tr>\n",
       "    <tr>\n",
       "      <th>6</th>\n",
       "      <td>77.580835</td>\n",
       "      <td>72.066539</td>\n",
       "      <td>67.589837</td>\n",
       "      <td>64.367585</td>\n",
       "      <td>62.593818</td>\n",
       "      <td>62.392195</td>\n",
       "      <td>69.808209</td>\n",
       "      <td>63.623785</td>\n",
       "      <td>58.504581</td>\n",
       "      <td>54.750215</td>\n",
       "      <td>...</td>\n",
       "      <td>6.662282</td>\n",
       "      <td>4.380183</td>\n",
       "      <td>46.899744</td>\n",
       "      <td>37.072712</td>\n",
       "      <td>27.371262</td>\n",
       "      <td>17.999611</td>\n",
       "      <td>9.939115</td>\n",
       "      <td>8.578228</td>\n",
       "      <td>49.537723</td>\n",
       "      <td>40.358221</td>\n",
       "    </tr>\n",
       "    <tr>\n",
       "      <th>7</th>\n",
       "      <td>42.953771</td>\n",
       "      <td>35.766515</td>\n",
       "      <td>30.223513</td>\n",
       "      <td>27.343699</td>\n",
       "      <td>27.962387</td>\n",
       "      <td>31.876515</td>\n",
       "      <td>37.444937</td>\n",
       "      <td>28.919552</td>\n",
       "      <td>21.692340</td>\n",
       "      <td>17.457800</td>\n",
       "      <td>...</td>\n",
       "      <td>33.533214</td>\n",
       "      <td>36.860461</td>\n",
       "      <td>54.265133</td>\n",
       "      <td>48.774192</td>\n",
       "      <td>44.868018</td>\n",
       "      <td>42.980882</td>\n",
       "      <td>43.377106</td>\n",
       "      <td>45.997723</td>\n",
       "      <td>62.464403</td>\n",
       "      <td>57.758279</td>\n",
       "    </tr>\n",
       "  </tbody>\n",
       "</table>\n",
       "<p>8 rows × 50 columns</p>\n",
       "</div>"
      ],
      "text/plain": [
       "          0          1          2          3          4          5   \\\n",
       "0  63.460199  62.806026  63.733797  66.177012  69.977117  74.927945   \n",
       "1  32.436802  31.066801  32.835135  37.298071  43.636523  51.158050   \n",
       "2  40.455170  30.838625  21.573614  13.409728   9.706740  14.443711   \n",
       "3  19.378442  13.443363  13.635395  19.776855  28.219213  37.436934   \n",
       "4  44.464503  37.553855  32.303127  29.608985  30.164416  33.809644   \n",
       "5  63.244966  59.456923  57.186762  56.617362  57.799011  60.629413   \n",
       "6  77.580835  72.066539  67.589837  64.367585  62.593818  62.392195   \n",
       "7  42.953771  35.766515  30.223513  27.343699  27.962387  31.876515   \n",
       "\n",
       "          6          7          8          9     ...             40  \\\n",
       "0  53.583551  52.807167  53.907299  56.774967    ...      30.996724   \n",
       "1  23.042268  21.070028  23.599706  29.494849    ...      42.153838   \n",
       "2  39.281303  29.281749  19.282655   9.285516    ...      50.325151   \n",
       "3  14.964090   5.396666   5.858669  15.476563    ...      53.728242   \n",
       "4  38.583572  30.362674  23.560390  19.705126    ...      31.296837   \n",
       "5  54.480508  50.033246  47.313061  46.623231    ...      12.244415   \n",
       "6  69.808209  63.623785  58.504581  54.750215    ...       6.662282   \n",
       "7  37.444937  28.919552  21.692340  17.457800    ...      33.533214   \n",
       "\n",
       "          41         42         43         44         45         46  \\\n",
       "0  40.965802  11.627420   7.252372  13.038286  22.077067  31.698532   \n",
       "1  49.899360  40.046799  38.945425  40.370114  44.076594  49.555485   \n",
       "2  51.449206  71.982087  67.050882  63.326304  61.029671  60.324297   \n",
       "3  59.092504  59.281734  57.615310  57.660420  59.413164  62.730567   \n",
       "4  34.823728  52.519444  46.813374  42.716414  40.717220  41.122889   \n",
       "5  22.025569  31.262209  22.639030  15.739304  13.525003  17.836079   \n",
       "6   4.380183  46.899744  37.072712  27.371262  17.999611   9.939115   \n",
       "7  36.860461  54.265133  48.774192  44.868018  42.980882  43.377106   \n",
       "\n",
       "          47         48         49  \n",
       "0  41.499360  19.472979  17.221989  \n",
       "1  56.291617  49.825155  48.944316  \n",
       "2  61.265168  80.547010  76.172310  \n",
       "3  67.381926  69.012492  67.586419  \n",
       "4  43.866753  60.579634  55.705404  \n",
       "5  25.560237  36.681408  29.677023  \n",
       "6   8.578228  49.537723  40.358221  \n",
       "7  45.997723  62.464403  57.758279  \n",
       "\n",
       "[8 rows x 50 columns]"
      ]
     },
     "execution_count": 469,
     "metadata": {},
     "output_type": "execute_result"
    }
   ],
   "source": [
    "pd.DataFrame(np.transpose(W)[H1])"
   ]
  },
  {
   "cell_type": "code",
   "execution_count": 470,
   "metadata": {},
   "outputs": [
    {
     "data": {
      "text/html": [
       "<div>\n",
       "<table border=\"1\" class=\"dataframe\">\n",
       "  <thead>\n",
       "    <tr style=\"text-align: right;\">\n",
       "      <th></th>\n",
       "      <th>0</th>\n",
       "      <th>1</th>\n",
       "      <th>2</th>\n",
       "    </tr>\n",
       "  </thead>\n",
       "  <tbody>\n",
       "    <tr>\n",
       "      <th>0</th>\n",
       "      <td>1.0</td>\n",
       "      <td>1.0</td>\n",
       "      <td>-0.0</td>\n",
       "    </tr>\n",
       "  </tbody>\n",
       "</table>\n",
       "</div>"
      ],
      "text/plain": [
       "     0    1    2\n",
       "0  1.0  1.0 -0.0"
      ]
     },
     "metadata": {},
     "output_type": "display_data"
    },
    {
     "data": {
      "text/html": [
       "<div>\n",
       "<table border=\"1\" class=\"dataframe\">\n",
       "  <thead>\n",
       "    <tr style=\"text-align: right;\">\n",
       "      <th></th>\n",
       "      <th>0</th>\n",
       "      <th>1</th>\n",
       "      <th>2</th>\n",
       "      <th>3</th>\n",
       "      <th>4</th>\n",
       "      <th>5</th>\n",
       "      <th>6</th>\n",
       "      <th>7</th>\n",
       "      <th>8</th>\n",
       "      <th>9</th>\n",
       "      <th>10</th>\n",
       "      <th>11</th>\n",
       "      <th>12</th>\n",
       "    </tr>\n",
       "  </thead>\n",
       "  <tbody>\n",
       "    <tr>\n",
       "      <th>0</th>\n",
       "      <td>1.0</td>\n",
       "      <td>1.0</td>\n",
       "      <td>1.0</td>\n",
       "      <td>0.0</td>\n",
       "      <td>1.0</td>\n",
       "      <td>1.0</td>\n",
       "      <td>1.0</td>\n",
       "      <td>1.0</td>\n",
       "      <td>0.0</td>\n",
       "      <td>0.0</td>\n",
       "      <td>1.0</td>\n",
       "      <td>0.0</td>\n",
       "      <td>0.0</td>\n",
       "    </tr>\n",
       "  </tbody>\n",
       "</table>\n",
       "</div>"
      ],
      "text/plain": [
       "    0    1    2    3    4    5    6    7    8    9    10   11   12\n",
       "0  1.0  1.0  1.0  0.0  1.0  1.0  1.0  1.0  0.0  0.0  1.0  0.0  0.0"
      ]
     },
     "metadata": {},
     "output_type": "display_data"
    },
    {
     "data": {
      "text/html": [
       "<div>\n",
       "<table border=\"1\" class=\"dataframe\">\n",
       "  <thead>\n",
       "    <tr style=\"text-align: right;\">\n",
       "      <th></th>\n",
       "      <th>0</th>\n",
       "      <th>1</th>\n",
       "    </tr>\n",
       "  </thead>\n",
       "  <tbody>\n",
       "    <tr>\n",
       "      <th>0</th>\n",
       "      <td>[13, 1]</td>\n",
       "      <td>[5, 0]</td>\n",
       "    </tr>\n",
       "    <tr>\n",
       "      <th>1</th>\n",
       "      <td>[10, 2]</td>\n",
       "      <td>[6, 5]</td>\n",
       "    </tr>\n",
       "    <tr>\n",
       "      <th>2</th>\n",
       "      <td>[1, 10]</td>\n",
       "      <td>[14, 6]</td>\n",
       "    </tr>\n",
       "    <tr>\n",
       "      <th>3</th>\n",
       "      <td>[2, 4]</td>\n",
       "      <td>[0, 7]</td>\n",
       "    </tr>\n",
       "    <tr>\n",
       "      <th>4</th>\n",
       "      <td>[4, 13]</td>\n",
       "      <td>[7, 14]</td>\n",
       "    </tr>\n",
       "  </tbody>\n",
       "</table>\n",
       "</div>"
      ],
      "text/plain": [
       "         0        1\n",
       "0  [13, 1]   [5, 0]\n",
       "1  [10, 2]   [6, 5]\n",
       "2  [1, 10]  [14, 6]\n",
       "3   [2, 4]   [0, 7]\n",
       "4  [4, 13]  [7, 14]"
      ]
     },
     "metadata": {},
     "output_type": "display_data"
    },
    {
     "data": {
      "image/png": "[encoded data removed]",
      "text/plain": [
       "<matplotlib.figure.Figure at 0xaa40668>"
      ]
     },
     "metadata": {},
     "output_type": "display_data"
    }
   ],
   "source": [
    "from pkg.draw_solution_II import draw_solution_II\n",
    "\n",
    "new_Y = new_assignement(W,N_icp_swap)\n",
    "g3 = draw_solution_II(I,J,C,N_crc, N_icp_swap,\n",
    "            new_Y, np.zeros((3,8)), routes_swap.tolist(), expid,\n",
    "            G, pos, labels, colors, size)"
   ]
  },
  {
   "cell_type": "code",
   "execution_count": 471,
   "metadata": {},
   "outputs": [
    {
     "data": {
      "text/plain": [
       "(2579.2586454037591,\n",
       " 526.36494402023391,\n",
       " 173.82487185761107,\n",
       " 800.0,\n",
       " 1079.0688295259142)"
      ]
     },
     "execution_count": 471,
     "metadata": {},
     "output_type": "execute_result"
    }
   ],
   "source": [
    "from pkg.objective_III import objective_III\n",
    "objective_III(new_Y,routes_swap,N_icp_swap, N_crc,\n",
    "                I,J,C,B,\n",
    "                W,DjUc,Dc,\n",
    "                FCV,FCT,FCR)"
   ]
  },
  {
   "cell_type": "markdown",
   "metadata": {},
   "source": [
    "## final Algorithm"
   ]
  },
  {
   "cell_type": "code",
   "execution_count": 472,
   "metadata": {
    "collapsed": true
   },
   "outputs": [],
   "source": [
    "best_solution = []"
   ]
  },
  {
   "cell_type": "code",
   "execution_count": 473,
   "metadata": {},
   "outputs": [
    {
     "name": "stdout",
     "output_type": "stream",
     "text": [
      "44 7 5\n",
      "48 7 5\n",
      "48 5 9\n"
     ]
    },
    {
     "data": {
      "text/html": [
       "<div>\n",
       "<table border=\"1\" class=\"dataframe\">\n",
       "  <thead>\n",
       "    <tr style=\"text-align: right;\">\n",
       "      <th></th>\n",
       "      <th>0</th>\n",
       "      <th>1</th>\n",
       "      <th>2</th>\n",
       "    </tr>\n",
       "  </thead>\n",
       "  <tbody>\n",
       "    <tr>\n",
       "      <th>0</th>\n",
       "      <td>1.0</td>\n",
       "      <td>1.0</td>\n",
       "      <td>0.0</td>\n",
       "    </tr>\n",
       "  </tbody>\n",
       "</table>\n",
       "</div>"
      ],
      "text/plain": [
       "     0    1    2\n",
       "0  1.0  1.0  0.0"
      ]
     },
     "metadata": {},
     "output_type": "display_data"
    },
    {
     "data": {
      "text/html": [
       "<div>\n",
       "<table border=\"1\" class=\"dataframe\">\n",
       "  <thead>\n",
       "    <tr style=\"text-align: right;\">\n",
       "      <th></th>\n",
       "      <th>0</th>\n",
       "      <th>1</th>\n",
       "      <th>2</th>\n",
       "      <th>3</th>\n",
       "      <th>4</th>\n",
       "      <th>5</th>\n",
       "      <th>6</th>\n",
       "      <th>7</th>\n",
       "      <th>8</th>\n",
       "      <th>9</th>\n",
       "      <th>10</th>\n",
       "      <th>11</th>\n",
       "      <th>12</th>\n",
       "    </tr>\n",
       "  </thead>\n",
       "  <tbody>\n",
       "    <tr>\n",
       "      <th>0</th>\n",
       "      <td>-0.0</td>\n",
       "      <td>1.0</td>\n",
       "      <td>1.0</td>\n",
       "      <td>1.0</td>\n",
       "      <td>1.0</td>\n",
       "      <td>1.0</td>\n",
       "      <td>1.0</td>\n",
       "      <td>1.0</td>\n",
       "      <td>0.0</td>\n",
       "      <td>1.0</td>\n",
       "      <td>-0.0</td>\n",
       "      <td>0.0</td>\n",
       "      <td>0.0</td>\n",
       "    </tr>\n",
       "  </tbody>\n",
       "</table>\n",
       "</div>"
      ],
      "text/plain": [
       "    0    1    2    3    4    5    6    7    8    9    10   11   12\n",
       "0 -0.0  1.0  1.0  1.0  1.0  1.0  1.0  1.0  0.0  1.0 -0.0  0.0  0.0"
      ]
     },
     "metadata": {},
     "output_type": "display_data"
    },
    {
     "data": {
      "text/html": [
       "<div>\n",
       "<table border=\"1\" class=\"dataframe\">\n",
       "  <thead>\n",
       "    <tr style=\"text-align: right;\">\n",
       "      <th></th>\n",
       "      <th>0</th>\n",
       "      <th>1</th>\n",
       "    </tr>\n",
       "  </thead>\n",
       "  <tbody>\n",
       "    <tr>\n",
       "      <th>0</th>\n",
       "      <td>(13, 1)</td>\n",
       "      <td>(9, 5)</td>\n",
       "    </tr>\n",
       "    <tr>\n",
       "      <th>1</th>\n",
       "      <td>(3, 2)</td>\n",
       "      <td>(5, 6)</td>\n",
       "    </tr>\n",
       "    <tr>\n",
       "      <th>2</th>\n",
       "      <td>(1, 3)</td>\n",
       "      <td>(14, 7)</td>\n",
       "    </tr>\n",
       "    <tr>\n",
       "      <th>3</th>\n",
       "      <td>(2, 4)</td>\n",
       "      <td>(7, 9)</td>\n",
       "    </tr>\n",
       "    <tr>\n",
       "      <th>4</th>\n",
       "      <td>(4, 13)</td>\n",
       "      <td>(6, 14)</td>\n",
       "    </tr>\n",
       "  </tbody>\n",
       "</table>\n",
       "</div>"
      ],
      "text/plain": [
       "         0        1\n",
       "0  (13, 1)   (9, 5)\n",
       "1   (3, 2)   (5, 6)\n",
       "2   (1, 3)  (14, 7)\n",
       "3   (2, 4)   (7, 9)\n",
       "4  (4, 13)  (6, 14)"
      ]
     },
     "metadata": {},
     "output_type": "display_data"
    },
    {
     "data": {
      "image/png": "[encoded data removed]",
      "text/plain": [
       "<matplotlib.figure.Figure at 0xad75b00>"
      ]
     },
     "metadata": {},
     "output_type": "display_data"
    }
   ],
   "source": [
    "# %%file \"./pkg/pmd_first_tsp_second.py\"\n",
    "\n",
    "# def pmd_first_tsp_second(G,pos, labels, colors, size,\n",
    "#                 I,J,C,\n",
    "#                 W1,W2,W3,F1,F2,\n",
    "#                 U,Q_icp,Q_crc,\n",
    "#                 plots=True, expid=\"\"):\n",
    "    \n",
    "from pkg.cflp_cplex import cflp_cplex\n",
    "from pkg.pm_flp_cplex import pm_flp_cplex\n",
    "from pkg.tsp_cplex import tsp_cplex\n",
    "from pkg.read_problem import read_problem, extract_problem\n",
    "from pkg.draw_solution_II import draw_solution_II\n",
    "from pkg.lrp_nodes_graph import lrp_nodes_graph, lrp_draw_and_save\n",
    "import numpy as np\n",
    "import pandas as pd\n",
    "from IPython.display import display, HTML\n",
    "\n",
    "W1,W2,W3,F1,F2 = W,Dcj,DjUc,FCT,FCRD\n",
    "plots = True\n",
    "\n",
    "#######################################################################\n",
    "# 1 Solve first problem\n",
    "prob1, Y1, N_icp = pm_flp_cplex(I,J,\n",
    "            W1,8,\n",
    "            relaxation=False)\n",
    "\n",
    "#######################################################################\n",
    "# 2 Prepare 2nd problem\n",
    "H1 = [j for j,vj in enumerate(N_icp) if vj > 0.5]\n",
    "\n",
    "# 12 Prepare 2nd problem\n",
    "Y1_capa = capacity_balancing(Y12,W,U,J,Q_icp,N_icp2)\n",
    "\n",
    "c2=[];    u2=[];\n",
    "for j in H1:\n",
    "    c2.append(W2[j])\n",
    "    sqi = 0\n",
    "    for i in range(I):\n",
    "        sqi += U[i]*Y1[i][j]\n",
    "    u2.append(sqi)\n",
    "\n",
    "#######################################################################        \n",
    "# 3. Solve Second problem\n",
    "prob2, Y2, N_crc = pm_flp_cplex(len(u2),C,\n",
    "        c2,2,\n",
    "        relaxation=False)    \n",
    "\n",
    "#######################################################################\n",
    "# Preparing TSP\n",
    "H2 = [j for j,vj in enumerate(N_crc) if vj > 0.5]\n",
    "tY2 = np.transpose(Y2)\n",
    "W3 = np.asarray(W3)\n",
    "\n",
    "#/!\\ Use H1 as a labeling array\n",
    "\n",
    "S_tsp = [] #set of ICP in each TSP\n",
    "for c,vc in enumerate(H2):\n",
    "    S_tsp.append([H1[j] for j,vj in enumerate(tY2[c]) if vj > 0.5]+[J+vc])\n",
    "\n",
    "w_tsp = []\n",
    "for submat in S_tsp:\n",
    "    w_tsp.append(W3[submat,:][:,submat])\n",
    "#######################################################################\n",
    "# Solving TSP\n",
    "routes = []\n",
    "for c,vc in enumerate(w_tsp):\n",
    "    prob, X = tsp_cplex(len(vc),vc, relaxation=False)\n",
    "    # Extract routes\n",
    "    path = []\n",
    "    for j,xj in enumerate(X):\n",
    "        for i,xij in enumerate(xj):\n",
    "            if xij == 1:\n",
    "                path.append((S_tsp[c][i],S_tsp[c][j]))\n",
    "    routes.append(path)\n",
    "#######################################################################\n",
    "# Draw solution\n",
    "if(plots):\n",
    "     draw_solution_II(I,J,C,N_crc, N_icp,\n",
    "                Y1,Y2, routes, expid,\n",
    "                G, pos, labels, colors, size)\n",
    "\n",
    "#######################################################################\n",
    "# Compute objective funtion\n",
    "obj = objective_III(new_Y,routes_swap,N_icp_swap, N_crc,\n",
    "                I,J,C,B,\n",
    "                W,DjUc,Dc,\n",
    "                FCV,FCT,FCR)\n",
    "\n",
    "best_solution = { \"obj\" : obj,\n",
    "                  \"Y1\" : Y1,\n",
    "                  \"Y2\" : Y2,\n",
    "                  \"N_crc\" : N_crc,\n",
    "                  \"N_icp\" : N_icp,\n",
    "                  \"routes\" : routes}"
   ]
  },
  {
   "cell_type": "code",
   "execution_count": 496,
   "metadata": {
    "scrolled": false
   },
   "outputs": [
    {
     "name": "stdout",
     "output_type": "stream",
     "text": [
      "swap: 3 10\n",
      "44 7 5\n",
      "48 7 5\n",
      "48 5 9\n",
      "0 10 3\n"
     ]
    },
    {
     "data": {
      "text/html": [
       "<div>\n",
       "<table border=\"1\" class=\"dataframe\">\n",
       "  <thead>\n",
       "    <tr style=\"text-align: right;\">\n",
       "      <th></th>\n",
       "      <th>0</th>\n",
       "      <th>1</th>\n",
       "      <th>2</th>\n",
       "    </tr>\n",
       "  </thead>\n",
       "  <tbody>\n",
       "    <tr>\n",
       "      <th>0</th>\n",
       "      <td>1.0</td>\n",
       "      <td>1.0</td>\n",
       "      <td>0.0</td>\n",
       "    </tr>\n",
       "  </tbody>\n",
       "</table>\n",
       "</div>"
      ],
      "text/plain": [
       "     0    1    2\n",
       "0  1.0  1.0  0.0"
      ]
     },
     "metadata": {},
     "output_type": "display_data"
    },
    {
     "data": {
      "text/html": [
       "<div>\n",
       "<table border=\"1\" class=\"dataframe\">\n",
       "  <thead>\n",
       "    <tr style=\"text-align: right;\">\n",
       "      <th></th>\n",
       "      <th>0</th>\n",
       "      <th>1</th>\n",
       "      <th>2</th>\n",
       "      <th>3</th>\n",
       "      <th>4</th>\n",
       "      <th>5</th>\n",
       "      <th>6</th>\n",
       "      <th>7</th>\n",
       "      <th>8</th>\n",
       "      <th>9</th>\n",
       "      <th>10</th>\n",
       "      <th>11</th>\n",
       "      <th>12</th>\n",
       "    </tr>\n",
       "  </thead>\n",
       "  <tbody>\n",
       "    <tr>\n",
       "      <th>0</th>\n",
       "      <td>-0.0</td>\n",
       "      <td>1.0</td>\n",
       "      <td>1.0</td>\n",
       "      <td>0.0</td>\n",
       "      <td>1.0</td>\n",
       "      <td>1.0</td>\n",
       "      <td>1.0</td>\n",
       "      <td>1.0</td>\n",
       "      <td>0.0</td>\n",
       "      <td>1.0</td>\n",
       "      <td>1.0</td>\n",
       "      <td>0.0</td>\n",
       "      <td>0.0</td>\n",
       "    </tr>\n",
       "  </tbody>\n",
       "</table>\n",
       "</div>"
      ],
      "text/plain": [
       "    0    1    2    3    4    5    6    7    8    9    10   11   12\n",
       "0 -0.0  1.0  1.0  0.0  1.0  1.0  1.0  1.0  0.0  1.0  1.0  0.0  0.0"
      ]
     },
     "metadata": {},
     "output_type": "display_data"
    },
    {
     "data": {
      "text/html": [
       "<div>\n",
       "<table border=\"1\" class=\"dataframe\">\n",
       "  <thead>\n",
       "    <tr style=\"text-align: right;\">\n",
       "      <th></th>\n",
       "      <th>0</th>\n",
       "      <th>1</th>\n",
       "    </tr>\n",
       "  </thead>\n",
       "  <tbody>\n",
       "    <tr>\n",
       "      <th>0</th>\n",
       "      <td>[13, 1]</td>\n",
       "      <td>[9, 5]</td>\n",
       "    </tr>\n",
       "    <tr>\n",
       "      <th>1</th>\n",
       "      <td>[10, 2]</td>\n",
       "      <td>[5, 6]</td>\n",
       "    </tr>\n",
       "    <tr>\n",
       "      <th>2</th>\n",
       "      <td>[1, 10]</td>\n",
       "      <td>[14, 7]</td>\n",
       "    </tr>\n",
       "    <tr>\n",
       "      <th>3</th>\n",
       "      <td>[2, 4]</td>\n",
       "      <td>[7, 9]</td>\n",
       "    </tr>\n",
       "    <tr>\n",
       "      <th>4</th>\n",
       "      <td>[4, 13]</td>\n",
       "      <td>[6, 14]</td>\n",
       "    </tr>\n",
       "  </tbody>\n",
       "</table>\n",
       "</div>"
      ],
      "text/plain": [
       "         0        1\n",
       "0  [13, 1]   [9, 5]\n",
       "1  [10, 2]   [5, 6]\n",
       "2  [1, 10]  [14, 7]\n",
       "3   [2, 4]   [7, 9]\n",
       "4  [4, 13]  [6, 14]"
      ]
     },
     "metadata": {},
     "output_type": "display_data"
    },
    {
     "name": "stdout",
     "output_type": "stream",
     "text": [
      "swap: 1 10\n",
      "44 7 5\n",
      "48 7 5\n",
      "48 5 9\n"
     ]
    },
    {
     "data": {
      "text/html": [
       "<div>\n",
       "<table border=\"1\" class=\"dataframe\">\n",
       "  <thead>\n",
       "    <tr style=\"text-align: right;\">\n",
       "      <th></th>\n",
       "      <th>0</th>\n",
       "      <th>1</th>\n",
       "      <th>2</th>\n",
       "    </tr>\n",
       "  </thead>\n",
       "  <tbody>\n",
       "    <tr>\n",
       "      <th>0</th>\n",
       "      <td>1.0</td>\n",
       "      <td>1.0</td>\n",
       "      <td>0.0</td>\n",
       "    </tr>\n",
       "  </tbody>\n",
       "</table>\n",
       "</div>"
      ],
      "text/plain": [
       "     0    1    2\n",
       "0  1.0  1.0  0.0"
      ]
     },
     "metadata": {},
     "output_type": "display_data"
    },
    {
     "data": {
      "text/html": [
       "<div>\n",
       "<table border=\"1\" class=\"dataframe\">\n",
       "  <thead>\n",
       "    <tr style=\"text-align: right;\">\n",
       "      <th></th>\n",
       "      <th>0</th>\n",
       "      <th>1</th>\n",
       "      <th>2</th>\n",
       "      <th>3</th>\n",
       "      <th>4</th>\n",
       "      <th>5</th>\n",
       "      <th>6</th>\n",
       "      <th>7</th>\n",
       "      <th>8</th>\n",
       "      <th>9</th>\n",
       "      <th>10</th>\n",
       "      <th>11</th>\n",
       "      <th>12</th>\n",
       "    </tr>\n",
       "  </thead>\n",
       "  <tbody>\n",
       "    <tr>\n",
       "      <th>0</th>\n",
       "      <td>-0.0</td>\n",
       "      <td>0.0</td>\n",
       "      <td>1.0</td>\n",
       "      <td>1.0</td>\n",
       "      <td>1.0</td>\n",
       "      <td>1.0</td>\n",
       "      <td>1.0</td>\n",
       "      <td>1.0</td>\n",
       "      <td>0.0</td>\n",
       "      <td>1.0</td>\n",
       "      <td>1.0</td>\n",
       "      <td>0.0</td>\n",
       "      <td>0.0</td>\n",
       "    </tr>\n",
       "  </tbody>\n",
       "</table>\n",
       "</div>"
      ],
      "text/plain": [
       "    0    1    2    3    4    5    6    7    8    9    10   11   12\n",
       "0 -0.0  0.0  1.0  1.0  1.0  1.0  1.0  1.0  0.0  1.0  1.0  0.0  0.0"
      ]
     },
     "metadata": {},
     "output_type": "display_data"
    },
    {
     "data": {
      "text/html": [
       "<div>\n",
       "<table border=\"1\" class=\"dataframe\">\n",
       "  <thead>\n",
       "    <tr style=\"text-align: right;\">\n",
       "      <th></th>\n",
       "      <th>0</th>\n",
       "      <th>1</th>\n",
       "    </tr>\n",
       "  </thead>\n",
       "  <tbody>\n",
       "    <tr>\n",
       "      <th>0</th>\n",
       "      <td>[13, 10]</td>\n",
       "      <td>[9, 5]</td>\n",
       "    </tr>\n",
       "    <tr>\n",
       "      <th>1</th>\n",
       "      <td>[3, 2]</td>\n",
       "      <td>[5, 6]</td>\n",
       "    </tr>\n",
       "    <tr>\n",
       "      <th>2</th>\n",
       "      <td>[10, 3]</td>\n",
       "      <td>[14, 7]</td>\n",
       "    </tr>\n",
       "    <tr>\n",
       "      <th>3</th>\n",
       "      <td>[2, 4]</td>\n",
       "      <td>[7, 9]</td>\n",
       "    </tr>\n",
       "    <tr>\n",
       "      <th>4</th>\n",
       "      <td>[4, 13]</td>\n",
       "      <td>[6, 14]</td>\n",
       "    </tr>\n",
       "  </tbody>\n",
       "</table>\n",
       "</div>"
      ],
      "text/plain": [
       "          0        1\n",
       "0  [13, 10]   [9, 5]\n",
       "1    [3, 2]   [5, 6]\n",
       "2   [10, 3]  [14, 7]\n",
       "3    [2, 4]   [7, 9]\n",
       "4   [4, 13]  [6, 14]"
      ]
     },
     "metadata": {},
     "output_type": "display_data"
    },
    {
     "name": "stdout",
     "output_type": "stream",
     "text": [
      "swap: 4 8\n",
      "17 2 4\n",
      "44 7 5\n",
      "48 7 5\n",
      "48 5 9\n"
     ]
    },
    {
     "data": {
      "text/html": [
       "<div>\n",
       "<table border=\"1\" class=\"dataframe\">\n",
       "  <thead>\n",
       "    <tr style=\"text-align: right;\">\n",
       "      <th></th>\n",
       "      <th>0</th>\n",
       "      <th>1</th>\n",
       "      <th>2</th>\n",
       "    </tr>\n",
       "  </thead>\n",
       "  <tbody>\n",
       "    <tr>\n",
       "      <th>0</th>\n",
       "      <td>1.0</td>\n",
       "      <td>1.0</td>\n",
       "      <td>0.0</td>\n",
       "    </tr>\n",
       "  </tbody>\n",
       "</table>\n",
       "</div>"
      ],
      "text/plain": [
       "     0    1    2\n",
       "0  1.0  1.0  0.0"
      ]
     },
     "metadata": {},
     "output_type": "display_data"
    },
    {
     "data": {
      "text/html": [
       "<div>\n",
       "<table border=\"1\" class=\"dataframe\">\n",
       "  <thead>\n",
       "    <tr style=\"text-align: right;\">\n",
       "      <th></th>\n",
       "      <th>0</th>\n",
       "      <th>1</th>\n",
       "      <th>2</th>\n",
       "      <th>3</th>\n",
       "      <th>4</th>\n",
       "      <th>5</th>\n",
       "      <th>6</th>\n",
       "      <th>7</th>\n",
       "      <th>8</th>\n",
       "      <th>9</th>\n",
       "      <th>10</th>\n",
       "      <th>11</th>\n",
       "      <th>12</th>\n",
       "    </tr>\n",
       "  </thead>\n",
       "  <tbody>\n",
       "    <tr>\n",
       "      <th>0</th>\n",
       "      <td>-0.0</td>\n",
       "      <td>1.0</td>\n",
       "      <td>1.0</td>\n",
       "      <td>1.0</td>\n",
       "      <td>0.0</td>\n",
       "      <td>1.0</td>\n",
       "      <td>1.0</td>\n",
       "      <td>1.0</td>\n",
       "      <td>1.0</td>\n",
       "      <td>1.0</td>\n",
       "      <td>-0.0</td>\n",
       "      <td>0.0</td>\n",
       "      <td>0.0</td>\n",
       "    </tr>\n",
       "  </tbody>\n",
       "</table>\n",
       "</div>"
      ],
      "text/plain": [
       "    0    1    2    3    4    5    6    7    8    9    10   11   12\n",
       "0 -0.0  1.0  1.0  1.0  0.0  1.0  1.0  1.0  1.0  1.0 -0.0  0.0  0.0"
      ]
     },
     "metadata": {},
     "output_type": "display_data"
    },
    {
     "data": {
      "text/html": [
       "<div>\n",
       "<table border=\"1\" class=\"dataframe\">\n",
       "  <thead>\n",
       "    <tr style=\"text-align: right;\">\n",
       "      <th></th>\n",
       "      <th>0</th>\n",
       "      <th>1</th>\n",
       "    </tr>\n",
       "  </thead>\n",
       "  <tbody>\n",
       "    <tr>\n",
       "      <th>0</th>\n",
       "      <td>[13, 1]</td>\n",
       "      <td>[9, 5]</td>\n",
       "    </tr>\n",
       "    <tr>\n",
       "      <th>1</th>\n",
       "      <td>[3, 2]</td>\n",
       "      <td>[5, 6]</td>\n",
       "    </tr>\n",
       "    <tr>\n",
       "      <th>2</th>\n",
       "      <td>[1, 3]</td>\n",
       "      <td>[14, 7]</td>\n",
       "    </tr>\n",
       "    <tr>\n",
       "      <th>3</th>\n",
       "      <td>[2, 8]</td>\n",
       "      <td>[7, 9]</td>\n",
       "    </tr>\n",
       "    <tr>\n",
       "      <th>4</th>\n",
       "      <td>[8, 13]</td>\n",
       "      <td>[6, 14]</td>\n",
       "    </tr>\n",
       "  </tbody>\n",
       "</table>\n",
       "</div>"
      ],
      "text/plain": [
       "         0        1\n",
       "0  [13, 1]   [9, 5]\n",
       "1   [3, 2]   [5, 6]\n",
       "2   [1, 3]  [14, 7]\n",
       "3   [2, 8]   [7, 9]\n",
       "4  [8, 13]  [6, 14]"
      ]
     },
     "metadata": {},
     "output_type": "display_data"
    },
    {
     "name": "stdout",
     "output_type": "stream",
     "text": [
      "swap: 4 12\n",
      "44 7 5\n",
      "48 7 5\n",
      "48 5 9\n"
     ]
    },
    {
     "data": {
      "text/html": [
       "<div>\n",
       "<table border=\"1\" class=\"dataframe\">\n",
       "  <thead>\n",
       "    <tr style=\"text-align: right;\">\n",
       "      <th></th>\n",
       "      <th>0</th>\n",
       "      <th>1</th>\n",
       "      <th>2</th>\n",
       "    </tr>\n",
       "  </thead>\n",
       "  <tbody>\n",
       "    <tr>\n",
       "      <th>0</th>\n",
       "      <td>1.0</td>\n",
       "      <td>1.0</td>\n",
       "      <td>0.0</td>\n",
       "    </tr>\n",
       "  </tbody>\n",
       "</table>\n",
       "</div>"
      ],
      "text/plain": [
       "     0    1    2\n",
       "0  1.0  1.0  0.0"
      ]
     },
     "metadata": {},
     "output_type": "display_data"
    },
    {
     "data": {
      "text/html": [
       "<div>\n",
       "<table border=\"1\" class=\"dataframe\">\n",
       "  <thead>\n",
       "    <tr style=\"text-align: right;\">\n",
       "      <th></th>\n",
       "      <th>0</th>\n",
       "      <th>1</th>\n",
       "      <th>2</th>\n",
       "      <th>3</th>\n",
       "      <th>4</th>\n",
       "      <th>5</th>\n",
       "      <th>6</th>\n",
       "      <th>7</th>\n",
       "      <th>8</th>\n",
       "      <th>9</th>\n",
       "      <th>10</th>\n",
       "      <th>11</th>\n",
       "      <th>12</th>\n",
       "    </tr>\n",
       "  </thead>\n",
       "  <tbody>\n",
       "    <tr>\n",
       "      <th>0</th>\n",
       "      <td>-0.0</td>\n",
       "      <td>1.0</td>\n",
       "      <td>1.0</td>\n",
       "      <td>1.0</td>\n",
       "      <td>0.0</td>\n",
       "      <td>1.0</td>\n",
       "      <td>1.0</td>\n",
       "      <td>1.0</td>\n",
       "      <td>0.0</td>\n",
       "      <td>1.0</td>\n",
       "      <td>-0.0</td>\n",
       "      <td>0.0</td>\n",
       "      <td>1.0</td>\n",
       "    </tr>\n",
       "  </tbody>\n",
       "</table>\n",
       "</div>"
      ],
      "text/plain": [
       "    0    1    2    3    4    5    6    7    8    9    10   11   12\n",
       "0 -0.0  1.0  1.0  1.0  0.0  1.0  1.0  1.0  0.0  1.0 -0.0  0.0  1.0"
      ]
     },
     "metadata": {},
     "output_type": "display_data"
    },
    {
     "data": {
      "text/html": [
       "<div>\n",
       "<table border=\"1\" class=\"dataframe\">\n",
       "  <thead>\n",
       "    <tr style=\"text-align: right;\">\n",
       "      <th></th>\n",
       "      <th>0</th>\n",
       "      <th>1</th>\n",
       "    </tr>\n",
       "  </thead>\n",
       "  <tbody>\n",
       "    <tr>\n",
       "      <th>0</th>\n",
       "      <td>[13, 1]</td>\n",
       "      <td>[9, 5]</td>\n",
       "    </tr>\n",
       "    <tr>\n",
       "      <th>1</th>\n",
       "      <td>[3, 2]</td>\n",
       "      <td>[5, 6]</td>\n",
       "    </tr>\n",
       "    <tr>\n",
       "      <th>2</th>\n",
       "      <td>[1, 3]</td>\n",
       "      <td>[14, 7]</td>\n",
       "    </tr>\n",
       "    <tr>\n",
       "      <th>3</th>\n",
       "      <td>[2, 12]</td>\n",
       "      <td>[7, 9]</td>\n",
       "    </tr>\n",
       "    <tr>\n",
       "      <th>4</th>\n",
       "      <td>[12, 13]</td>\n",
       "      <td>[6, 14]</td>\n",
       "    </tr>\n",
       "  </tbody>\n",
       "</table>\n",
       "</div>"
      ],
      "text/plain": [
       "          0        1\n",
       "0   [13, 1]   [9, 5]\n",
       "1    [3, 2]   [5, 6]\n",
       "2    [1, 3]  [14, 7]\n",
       "3   [2, 12]   [7, 9]\n",
       "4  [12, 13]  [6, 14]"
      ]
     },
     "metadata": {},
     "output_type": "display_data"
    },
    {
     "name": "stdout",
     "output_type": "stream",
     "text": [
      "swap: 9 8\n",
      "30 7 9\n",
      "31 7 9\n",
      "44 7 5\n",
      "48 7 5\n",
      "48 5 9\n"
     ]
    },
    {
     "data": {
      "text/html": [
       "<div>\n",
       "<table border=\"1\" class=\"dataframe\">\n",
       "  <thead>\n",
       "    <tr style=\"text-align: right;\">\n",
       "      <th></th>\n",
       "      <th>0</th>\n",
       "      <th>1</th>\n",
       "      <th>2</th>\n",
       "    </tr>\n",
       "  </thead>\n",
       "  <tbody>\n",
       "    <tr>\n",
       "      <th>0</th>\n",
       "      <td>1.0</td>\n",
       "      <td>1.0</td>\n",
       "      <td>0.0</td>\n",
       "    </tr>\n",
       "  </tbody>\n",
       "</table>\n",
       "</div>"
      ],
      "text/plain": [
       "     0    1    2\n",
       "0  1.0  1.0  0.0"
      ]
     },
     "metadata": {},
     "output_type": "display_data"
    },
    {
     "data": {
      "text/html": [
       "<div>\n",
       "<table border=\"1\" class=\"dataframe\">\n",
       "  <thead>\n",
       "    <tr style=\"text-align: right;\">\n",
       "      <th></th>\n",
       "      <th>0</th>\n",
       "      <th>1</th>\n",
       "      <th>2</th>\n",
       "      <th>3</th>\n",
       "      <th>4</th>\n",
       "      <th>5</th>\n",
       "      <th>6</th>\n",
       "      <th>7</th>\n",
       "      <th>8</th>\n",
       "      <th>9</th>\n",
       "      <th>10</th>\n",
       "      <th>11</th>\n",
       "      <th>12</th>\n",
       "    </tr>\n",
       "  </thead>\n",
       "  <tbody>\n",
       "    <tr>\n",
       "      <th>0</th>\n",
       "      <td>-0.0</td>\n",
       "      <td>1.0</td>\n",
       "      <td>1.0</td>\n",
       "      <td>1.0</td>\n",
       "      <td>1.0</td>\n",
       "      <td>1.0</td>\n",
       "      <td>1.0</td>\n",
       "      <td>1.0</td>\n",
       "      <td>1.0</td>\n",
       "      <td>0.0</td>\n",
       "      <td>-0.0</td>\n",
       "      <td>0.0</td>\n",
       "      <td>0.0</td>\n",
       "    </tr>\n",
       "  </tbody>\n",
       "</table>\n",
       "</div>"
      ],
      "text/plain": [
       "    0    1    2    3    4    5    6    7    8    9    10   11   12\n",
       "0 -0.0  1.0  1.0  1.0  1.0  1.0  1.0  1.0  1.0  0.0 -0.0  0.0  0.0"
      ]
     },
     "metadata": {},
     "output_type": "display_data"
    },
    {
     "data": {
      "text/html": [
       "<div>\n",
       "<table border=\"1\" class=\"dataframe\">\n",
       "  <thead>\n",
       "    <tr style=\"text-align: right;\">\n",
       "      <th></th>\n",
       "      <th>0</th>\n",
       "      <th>1</th>\n",
       "    </tr>\n",
       "  </thead>\n",
       "  <tbody>\n",
       "    <tr>\n",
       "      <th>0</th>\n",
       "      <td>[13, 1]</td>\n",
       "      <td>[8, 5]</td>\n",
       "    </tr>\n",
       "    <tr>\n",
       "      <th>1</th>\n",
       "      <td>[3, 2]</td>\n",
       "      <td>[5, 6]</td>\n",
       "    </tr>\n",
       "    <tr>\n",
       "      <th>2</th>\n",
       "      <td>[1, 3]</td>\n",
       "      <td>[14, 7]</td>\n",
       "    </tr>\n",
       "    <tr>\n",
       "      <th>3</th>\n",
       "      <td>[2, 4]</td>\n",
       "      <td>[7, 8]</td>\n",
       "    </tr>\n",
       "    <tr>\n",
       "      <th>4</th>\n",
       "      <td>[4, 13]</td>\n",
       "      <td>[6, 14]</td>\n",
       "    </tr>\n",
       "  </tbody>\n",
       "</table>\n",
       "</div>"
      ],
      "text/plain": [
       "         0        1\n",
       "0  [13, 1]   [8, 5]\n",
       "1   [3, 2]   [5, 6]\n",
       "2   [1, 3]  [14, 7]\n",
       "3   [2, 4]   [7, 8]\n",
       "4  [4, 13]  [6, 14]"
      ]
     },
     "metadata": {},
     "output_type": "display_data"
    },
    {
     "name": "stdout",
     "output_type": "stream",
     "text": [
      "swap: 5 11\n",
      "44 7 5\n",
      "48 7 5\n"
     ]
    },
    {
     "data": {
      "text/html": [
       "<div>\n",
       "<table border=\"1\" class=\"dataframe\">\n",
       "  <thead>\n",
       "    <tr style=\"text-align: right;\">\n",
       "      <th></th>\n",
       "      <th>0</th>\n",
       "      <th>1</th>\n",
       "      <th>2</th>\n",
       "    </tr>\n",
       "  </thead>\n",
       "  <tbody>\n",
       "    <tr>\n",
       "      <th>0</th>\n",
       "      <td>1.0</td>\n",
       "      <td>1.0</td>\n",
       "      <td>0.0</td>\n",
       "    </tr>\n",
       "  </tbody>\n",
       "</table>\n",
       "</div>"
      ],
      "text/plain": [
       "     0    1    2\n",
       "0  1.0  1.0  0.0"
      ]
     },
     "metadata": {},
     "output_type": "display_data"
    },
    {
     "data": {
      "text/html": [
       "<div>\n",
       "<table border=\"1\" class=\"dataframe\">\n",
       "  <thead>\n",
       "    <tr style=\"text-align: right;\">\n",
       "      <th></th>\n",
       "      <th>0</th>\n",
       "      <th>1</th>\n",
       "      <th>2</th>\n",
       "      <th>3</th>\n",
       "      <th>4</th>\n",
       "      <th>5</th>\n",
       "      <th>6</th>\n",
       "      <th>7</th>\n",
       "      <th>8</th>\n",
       "      <th>9</th>\n",
       "      <th>10</th>\n",
       "      <th>11</th>\n",
       "      <th>12</th>\n",
       "    </tr>\n",
       "  </thead>\n",
       "  <tbody>\n",
       "    <tr>\n",
       "      <th>0</th>\n",
       "      <td>-0.0</td>\n",
       "      <td>1.0</td>\n",
       "      <td>1.0</td>\n",
       "      <td>1.0</td>\n",
       "      <td>1.0</td>\n",
       "      <td>0.0</td>\n",
       "      <td>1.0</td>\n",
       "      <td>1.0</td>\n",
       "      <td>0.0</td>\n",
       "      <td>1.0</td>\n",
       "      <td>-0.0</td>\n",
       "      <td>1.0</td>\n",
       "      <td>0.0</td>\n",
       "    </tr>\n",
       "  </tbody>\n",
       "</table>\n",
       "</div>"
      ],
      "text/plain": [
       "    0    1    2    3    4    5    6    7    8    9    10   11   12\n",
       "0 -0.0  1.0  1.0  1.0  1.0  0.0  1.0  1.0  0.0  1.0 -0.0  1.0  0.0"
      ]
     },
     "metadata": {},
     "output_type": "display_data"
    },
    {
     "data": {
      "text/html": [
       "<div>\n",
       "<table border=\"1\" class=\"dataframe\">\n",
       "  <thead>\n",
       "    <tr style=\"text-align: right;\">\n",
       "      <th></th>\n",
       "      <th>0</th>\n",
       "      <th>1</th>\n",
       "    </tr>\n",
       "  </thead>\n",
       "  <tbody>\n",
       "    <tr>\n",
       "      <th>0</th>\n",
       "      <td>[13, 1]</td>\n",
       "      <td>[9, 11]</td>\n",
       "    </tr>\n",
       "    <tr>\n",
       "      <th>1</th>\n",
       "      <td>[3, 2]</td>\n",
       "      <td>[11, 6]</td>\n",
       "    </tr>\n",
       "    <tr>\n",
       "      <th>2</th>\n",
       "      <td>[1, 3]</td>\n",
       "      <td>[14, 7]</td>\n",
       "    </tr>\n",
       "    <tr>\n",
       "      <th>3</th>\n",
       "      <td>[2, 4]</td>\n",
       "      <td>[7, 9]</td>\n",
       "    </tr>\n",
       "    <tr>\n",
       "      <th>4</th>\n",
       "      <td>[4, 13]</td>\n",
       "      <td>[6, 14]</td>\n",
       "    </tr>\n",
       "  </tbody>\n",
       "</table>\n",
       "</div>"
      ],
      "text/plain": [
       "         0        1\n",
       "0  [13, 1]  [9, 11]\n",
       "1   [3, 2]  [11, 6]\n",
       "2   [1, 3]  [14, 7]\n",
       "3   [2, 4]   [7, 9]\n",
       "4  [4, 13]  [6, 14]"
      ]
     },
     "metadata": {},
     "output_type": "display_data"
    },
    {
     "name": "stdout",
     "output_type": "stream",
     "text": [
      "swap: 7 0\n",
      "48 0 7\n",
      "49 0 7\n",
      "30 0 9\n"
     ]
    },
    {
     "data": {
      "text/html": [
       "<div>\n",
       "<table border=\"1\" class=\"dataframe\">\n",
       "  <thead>\n",
       "    <tr style=\"text-align: right;\">\n",
       "      <th></th>\n",
       "      <th>0</th>\n",
       "      <th>1</th>\n",
       "      <th>2</th>\n",
       "    </tr>\n",
       "  </thead>\n",
       "  <tbody>\n",
       "    <tr>\n",
       "      <th>0</th>\n",
       "      <td>1.0</td>\n",
       "      <td>1.0</td>\n",
       "      <td>0.0</td>\n",
       "    </tr>\n",
       "  </tbody>\n",
       "</table>\n",
       "</div>"
      ],
      "text/plain": [
       "     0    1    2\n",
       "0  1.0  1.0  0.0"
      ]
     },
     "metadata": {},
     "output_type": "display_data"
    },
    {
     "data": {
      "text/html": [
       "<div>\n",
       "<table border=\"1\" class=\"dataframe\">\n",
       "  <thead>\n",
       "    <tr style=\"text-align: right;\">\n",
       "      <th></th>\n",
       "      <th>0</th>\n",
       "      <th>1</th>\n",
       "      <th>2</th>\n",
       "      <th>3</th>\n",
       "      <th>4</th>\n",
       "      <th>5</th>\n",
       "      <th>6</th>\n",
       "      <th>7</th>\n",
       "      <th>8</th>\n",
       "      <th>9</th>\n",
       "      <th>10</th>\n",
       "      <th>11</th>\n",
       "      <th>12</th>\n",
       "    </tr>\n",
       "  </thead>\n",
       "  <tbody>\n",
       "    <tr>\n",
       "      <th>0</th>\n",
       "      <td>1.0</td>\n",
       "      <td>1.0</td>\n",
       "      <td>1.0</td>\n",
       "      <td>1.0</td>\n",
       "      <td>1.0</td>\n",
       "      <td>1.0</td>\n",
       "      <td>1.0</td>\n",
       "      <td>0.0</td>\n",
       "      <td>0.0</td>\n",
       "      <td>1.0</td>\n",
       "      <td>-0.0</td>\n",
       "      <td>0.0</td>\n",
       "      <td>0.0</td>\n",
       "    </tr>\n",
       "  </tbody>\n",
       "</table>\n",
       "</div>"
      ],
      "text/plain": [
       "    0    1    2    3    4    5    6    7    8    9    10   11   12\n",
       "0  1.0  1.0  1.0  1.0  1.0  1.0  1.0  0.0  0.0  1.0 -0.0  0.0  0.0"
      ]
     },
     "metadata": {},
     "output_type": "display_data"
    },
    {
     "data": {
      "text/html": [
       "<div>\n",
       "<table border=\"1\" class=\"dataframe\">\n",
       "  <thead>\n",
       "    <tr style=\"text-align: right;\">\n",
       "      <th></th>\n",
       "      <th>0</th>\n",
       "      <th>1</th>\n",
       "    </tr>\n",
       "  </thead>\n",
       "  <tbody>\n",
       "    <tr>\n",
       "      <th>0</th>\n",
       "      <td>[13, 1]</td>\n",
       "      <td>[9, 5]</td>\n",
       "    </tr>\n",
       "    <tr>\n",
       "      <th>1</th>\n",
       "      <td>[3, 2]</td>\n",
       "      <td>[5, 6]</td>\n",
       "    </tr>\n",
       "    <tr>\n",
       "      <th>2</th>\n",
       "      <td>[1, 3]</td>\n",
       "      <td>[14, 0]</td>\n",
       "    </tr>\n",
       "    <tr>\n",
       "      <th>3</th>\n",
       "      <td>[2, 4]</td>\n",
       "      <td>[0, 9]</td>\n",
       "    </tr>\n",
       "    <tr>\n",
       "      <th>4</th>\n",
       "      <td>[4, 13]</td>\n",
       "      <td>[6, 14]</td>\n",
       "    </tr>\n",
       "  </tbody>\n",
       "</table>\n",
       "</div>"
      ],
      "text/plain": [
       "         0        1\n",
       "0  [13, 1]   [9, 5]\n",
       "1   [3, 2]   [5, 6]\n",
       "2   [1, 3]  [14, 0]\n",
       "3   [2, 4]   [0, 9]\n",
       "4  [4, 13]  [6, 14]"
      ]
     },
     "metadata": {},
     "output_type": "display_data"
    },
    {
     "name": "stdout",
     "output_type": "stream",
     "text": [
      "swap: 6 11\n",
      "44 7 5\n",
      "48 7 5\n",
      "48 5 9\n",
      "47 11 6\n"
     ]
    },
    {
     "data": {
      "text/html": [
       "<div>\n",
       "<table border=\"1\" class=\"dataframe\">\n",
       "  <thead>\n",
       "    <tr style=\"text-align: right;\">\n",
       "      <th></th>\n",
       "      <th>0</th>\n",
       "      <th>1</th>\n",
       "      <th>2</th>\n",
       "    </tr>\n",
       "  </thead>\n",
       "  <tbody>\n",
       "    <tr>\n",
       "      <th>0</th>\n",
       "      <td>1.0</td>\n",
       "      <td>1.0</td>\n",
       "      <td>0.0</td>\n",
       "    </tr>\n",
       "  </tbody>\n",
       "</table>\n",
       "</div>"
      ],
      "text/plain": [
       "     0    1    2\n",
       "0  1.0  1.0  0.0"
      ]
     },
     "metadata": {},
     "output_type": "display_data"
    },
    {
     "data": {
      "text/html": [
       "<div>\n",
       "<table border=\"1\" class=\"dataframe\">\n",
       "  <thead>\n",
       "    <tr style=\"text-align: right;\">\n",
       "      <th></th>\n",
       "      <th>0</th>\n",
       "      <th>1</th>\n",
       "      <th>2</th>\n",
       "      <th>3</th>\n",
       "      <th>4</th>\n",
       "      <th>5</th>\n",
       "      <th>6</th>\n",
       "      <th>7</th>\n",
       "      <th>8</th>\n",
       "      <th>9</th>\n",
       "      <th>10</th>\n",
       "      <th>11</th>\n",
       "      <th>12</th>\n",
       "    </tr>\n",
       "  </thead>\n",
       "  <tbody>\n",
       "    <tr>\n",
       "      <th>0</th>\n",
       "      <td>-0.0</td>\n",
       "      <td>1.0</td>\n",
       "      <td>1.0</td>\n",
       "      <td>1.0</td>\n",
       "      <td>1.0</td>\n",
       "      <td>1.0</td>\n",
       "      <td>0.0</td>\n",
       "      <td>1.0</td>\n",
       "      <td>0.0</td>\n",
       "      <td>1.0</td>\n",
       "      <td>-0.0</td>\n",
       "      <td>1.0</td>\n",
       "      <td>0.0</td>\n",
       "    </tr>\n",
       "  </tbody>\n",
       "</table>\n",
       "</div>"
      ],
      "text/plain": [
       "    0    1    2    3    4    5    6    7    8    9    10   11   12\n",
       "0 -0.0  1.0  1.0  1.0  1.0  1.0  0.0  1.0  0.0  1.0 -0.0  1.0  0.0"
      ]
     },
     "metadata": {},
     "output_type": "display_data"
    },
    {
     "data": {
      "text/html": [
       "<div>\n",
       "<table border=\"1\" class=\"dataframe\">\n",
       "  <thead>\n",
       "    <tr style=\"text-align: right;\">\n",
       "      <th></th>\n",
       "      <th>0</th>\n",
       "      <th>1</th>\n",
       "    </tr>\n",
       "  </thead>\n",
       "  <tbody>\n",
       "    <tr>\n",
       "      <th>0</th>\n",
       "      <td>[13, 1]</td>\n",
       "      <td>[9, 5]</td>\n",
       "    </tr>\n",
       "    <tr>\n",
       "      <th>1</th>\n",
       "      <td>[3, 2]</td>\n",
       "      <td>[5, 11]</td>\n",
       "    </tr>\n",
       "    <tr>\n",
       "      <th>2</th>\n",
       "      <td>[1, 3]</td>\n",
       "      <td>[14, 7]</td>\n",
       "    </tr>\n",
       "    <tr>\n",
       "      <th>3</th>\n",
       "      <td>[2, 4]</td>\n",
       "      <td>[7, 9]</td>\n",
       "    </tr>\n",
       "    <tr>\n",
       "      <th>4</th>\n",
       "      <td>[4, 13]</td>\n",
       "      <td>[11, 14]</td>\n",
       "    </tr>\n",
       "  </tbody>\n",
       "</table>\n",
       "</div>"
      ],
      "text/plain": [
       "         0         1\n",
       "0  [13, 1]    [9, 5]\n",
       "1   [3, 2]   [5, 11]\n",
       "2   [1, 3]   [14, 7]\n",
       "3   [2, 4]    [7, 9]\n",
       "4  [4, 13]  [11, 14]"
      ]
     },
     "metadata": {},
     "output_type": "display_data"
    }
   ],
   "source": [
    "# ICP swaping\n",
    "swap_list_icp = swap_list_byRoute(best_solution[\"Y1\"],W,DjUc,best_solution[\"N_icp\"])\n",
    "\n",
    "for iswap, swap in enumerate(swap_list):\n",
    "    routes_swap, N_icp_swap = swap_arcs(swap, best_solution[\"routes\"], best_solution[\"N_icp\"])\n",
    "    new_Y = new_assignement(W,N_icp_swap)\n",
    "    new_Y = capacity_balancing(new_Y,W,U,J,Q_icp,best_solution[\"N_icp\"])\n",
    "    draw_solution_II(I,J,C,N_crc, N_icp_swap,\n",
    "            new_Y, np.zeros((3,8)), routes_swap.tolist(), expid,\n",
    "            G, pos, labels, colors, size, path=expid+ \"/\"+ str(iswap) +\"_swap.png\")\n",
    "    plt.clf();plt.cla();plt.close()"
   ]
  },
  {
   "cell_type": "code",
   "execution_count": 570,
   "metadata": {},
   "outputs": [],
   "source": [
    "new_Dcj = [Dcj[j] for j,vj in enumerate(best_solution[\"N_icp\"]) if vj > 0.5]"
   ]
  },
  {
   "cell_type": "code",
   "execution_count": 571,
   "metadata": {},
   "outputs": [
    {
     "data": {
      "text/plain": [
       "array([[ 19.02400852,   0.        ,   0.        ],\n",
       "       [ 20.49899998,   0.        ,   0.        ],\n",
       "       [ 19.28869617,   0.        ,   0.        ],\n",
       "       [  6.10450653,   0.        ,   0.        ],\n",
       "       [  0.        ,   6.95385505,   0.        ],\n",
       "       [  0.        ,  22.58428657,   0.        ],\n",
       "       [  0.        ,  18.50300786,   0.        ],\n",
       "       [  0.        ,  17.51849808,   0.        ]])"
      ]
     },
     "execution_count": 571,
     "metadata": {},
     "output_type": "execute_result"
    }
   ],
   "source": [
    "np.multiply(best_solution[\"Y2\"],new_Dcj)"
   ]
  },
  {
   "cell_type": "code",
   "execution_count": 572,
   "metadata": {},
   "outputs": [
    {
     "data": {
      "text/plain": [
       "[1.0, 1.0, 0.0]"
      ]
     },
     "execution_count": 572,
     "metadata": {},
     "output_type": "execute_result"
    }
   ],
   "source": [
    "best_solution[\"N_crc\"]"
   ]
  },
  {
   "cell_type": "code",
   "execution_count": 573,
   "metadata": {
    "run_control": {
     "marked": false
    }
   },
   "outputs": [],
   "source": [
    "new_DjUc = [[DjUc[c][j] for c in range(J,C+J,1)] for j in range(J,C+J,1) ]"
   ]
  },
  {
   "cell_type": "code",
   "execution_count": 574,
   "metadata": {},
   "outputs": [
    {
     "data": {
      "text/plain": [
       "([[0.0, 35.37899094095252, 25.45003256411768],\n",
       "  [35.37899094095252, 0.0, 46.65173135190099],\n",
       "  [25.45003256411768, 46.65173135190099, 0.0]],\n",
       " [[19.024008515557384, 33.95227974672687, 12.71322623537254],\n",
       "  [20.49899997560857, 54.44286546463182, 37.327094933437245],\n",
       "  [19.288696171592314, 50.064670177681194, 13.49805727450025],\n",
       "  [6.104506532063019, 33.828567808880116, 31.468737509616943],\n",
       "  [29.882290742177048, 6.953855045943942, 44.37424604691913],\n",
       "  [40.04268971984774, 22.58428657274788, 60.33973378473606],\n",
       "  [47.05314123414078, 18.503007863588014, 48.86373122924829],\n",
       "  [20.573368455736514, 17.518498081551922, 29.47281569815272]])"
      ]
     },
     "execution_count": 574,
     "metadata": {},
     "output_type": "execute_result"
    }
   ],
   "source": [
    "new_DjUc, new_Dcj"
   ]
  },
  {
   "cell_type": "code",
   "execution_count": 584,
   "metadata": {},
   "outputs": [
    {
     "name": "stdout",
     "output_type": "stream",
     "text": [
      "0 0 0.0 20.4989999756\n",
      "0 5 20.093685575324404 20.4989999756\n",
      "0 7 6.394137940332537 20.4989999756\n",
      "0 9 20.094729260575196 20.4989999756\n",
      "0 14 14.581635710715036 20.4989999756\n",
      "1 1 0.0 22.5842865727\n",
      "1 3 19.250000000000004 22.5842865727\n",
      "1 9 16.790827180934066 22.5842865727\n",
      "1 10 13.689983356966932 22.5842865727\n",
      "1 13 19.024008515557384 22.5842865727\n",
      "1 15 12.71322623537254 22.5842865727\n"
     ]
    }
   ],
   "source": [
    "# CRC swaping swap_list(Y,W,DjUc,N_icp)\n",
    "swap_list_crc = swap_list(best_solution[\"Y2\"],new_Dcj,new_DjUc,best_solution[\"N_crc\"])"
   ]
  },
  {
   "cell_type": "code",
   "execution_count": 567,
   "metadata": {},
   "outputs": [
    {
     "data": {
      "text/plain": [
       "[]"
      ]
     },
     "execution_count": 567,
     "metadata": {},
     "output_type": "execute_result"
    }
   ],
   "source": [
    "swap_list_crc"
   ]
  },
  {
   "cell_type": "markdown",
   "metadata": {},
   "source": [
    "# Run experiment"
   ]
  },
  {
   "cell_type": "markdown",
   "metadata": {
    "collapsed": true
   },
   "source": [
    "## Results"
   ]
  },
  {
   "cell_type": "code",
   "execution_count": null,
   "metadata": {},
   "outputs": [],
   "source": [
    "objects = ('UFLP', 'CFLP', 'TUFLP', 'TCFLP')\n",
    "y_pos = np.arange(len(objects))\n",
    "performance = [result1.best,result2.best,result3.best,result4.best]\n",
    " \n",
    "plt.bar(y_pos, performance, align='center', alpha=0.5)\n",
    "plt.xticks(y_pos, objects)\n",
    "plt.ylabel('Time s')\n",
    "plt.title('Best processing time for each subproblem')\n",
    " \n",
    "plt.show()"
   ]
  }
 ],
 "metadata": {
  "hide_input": false,
  "kernelspec": {
   "display_name": "Py35",
   "language": "python",
   "name": "py35"
  },
  "language_info": {
   "codemirror_mode": {
    "name": "ipython",
    "version": 3
   },
   "file_extension": ".py",
   "mimetype": "text/x-python",
   "name": "python",
   "nbconvert_exporter": "python",
   "pygments_lexer": "ipython3",
   "version": "3.5.3"
  },
  "toc": {
   "colors": {
    "hover_highlight": "#DAA520",
    "running_highlight": "#FF0000",
    "selected_highlight": "#FFD700"
   },
   "moveMenuLeft": true,
   "nav_menu": {
    "height": "192px",
    "width": "252px"
   },
   "navigate_menu": true,
   "number_sections": true,
   "sideBar": true,
   "threshold": 4,
   "toc_cell": false,
   "toc_section_display": "block",
   "toc_window_display": true,
   "widenNotebook": false
  }
 },
 "nbformat": 4,
 "nbformat_minor": 2
}
