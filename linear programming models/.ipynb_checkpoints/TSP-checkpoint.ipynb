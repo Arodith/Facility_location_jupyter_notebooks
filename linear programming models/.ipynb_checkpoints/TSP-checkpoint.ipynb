{
 "cells": [
  {
   "cell_type": "markdown",
   "metadata": {
    "collapsed": true
   },
   "source": [
    "sTSP\n",
    "\n",
    "Symetric Traveling Sales Man\n",
    "---"
   ]
  },
  {
   "cell_type": "markdown",
   "metadata": {},
   "source": [
    "# Formulation"
   ]
  },
  {
   "cell_type": "markdown",
   "metadata": {},
   "source": [
    "The **Symmetric** Traveling Salesman Problem for a **complete graph** can be stated as:\n",
    "\n",
    "$min_x$\n",
    "$$ \\sum_{i,j \\in N, i < j} c_{ij}x_{ij} $$\n",
    "$s.t$\n",
    "$$\\tag{1} \\sum_{i \\in N} x_{ik} = 1, \\forall j \\in N$$\n",
    "$$\\tag{2} \\sum_{j \\in N} x_{ik} = 1, \\forall i \\in N$$\n",
    "$$\\tag{3} u_i - u_j + |N|x_{ij} \\le |N|-1 , \\forall (i,j) \\in N\\setminus\\lbrace{1}\\rbrace, i \\neq j$$"
   ]
  },
  {
   "cell_type": "markdown",
   "metadata": {},
   "source": [
    "# Solve with Cplex"
   ]
  },
  {
   "cell_type": "code",
   "execution_count": 68,
   "metadata": {},
   "outputs": [
    {
     "name": "stdout",
     "output_type": "stream",
     "text": [
      "Overwriting ../pkg/tsp_cplex.py\n"
     ]
    }
   ],
   "source": [
    "%%file \"../pkg/tsp_cplex.py\"\n",
    "\n",
    "import numpy as np              # mathematic tools library\n",
    "import networkx as nx           # network representation library\n",
    "from pkg.cplex_solve import cplex_solve\n",
    "import cplex\n",
    "\n",
    "def tsp_cplex(N,\n",
    "            c,\n",
    "            relaxation=False,path=None):\n",
    "\n",
    "    #####################################################################\n",
    "    # Decision variables\n",
    "    \n",
    "    def X(i,j):\n",
    "        return \"X_\" + str(i) + \"_\" + str(j)\n",
    "    \n",
    "    def U(i):\n",
    "        return \"U_\" + str(i)\n",
    "    \n",
    "    N = range(N);\n",
    "    #####################################################################\n",
    "    # Objective function\n",
    "    \n",
    "    obj1 = [c[i][j] for i in N for j in N]\n",
    "    obj2 = [0 for i in N]\n",
    "    \n",
    "    ## variables name\n",
    "    Xs = [X(i,j) for i in N for j in N]\n",
    "    Us = [U(i) for i in N]\n",
    "\n",
    "    ## Objective function sum aggregation\n",
    "    obj = obj1 + obj2\n",
    "    colnames = Xs + Us\n",
    "    if relaxation:\n",
    "        types    = \"C\" * (len(Xs)+len(Us)) #Integrality constraint\n",
    "    else:\n",
    "        types    = \"I\" * len(Xs) + \"C\" * len(Us) #Integrality constraint\n",
    "\n",
    "    #####################################################################\n",
    "    # Constraints\n",
    "    \n",
    "    c1 = [\n",
    "            [[X(i,j) for i in N], [1 for i in N]]\n",
    "        for j in N]\n",
    "    \n",
    "    c2 = [\n",
    "            [[X(i,j) for j in N], [1 for j in N]]\n",
    "        for i in N]\n",
    "    \n",
    "    subtours = [(i,j) for i in N for j in N if j > 0 and i > 0]\n",
    "    \n",
    "    c3 = [\n",
    "            [[U(i),U(j),X(i,j)], [1,-1,len(N)]]\n",
    "        for i,j in subtours]\n",
    "    \n",
    "    s1 = \"E\" * len(N)\n",
    "    s2 = \"E\" * len(N)\n",
    "    s3 = \"L\" * len(subtours)\n",
    "\n",
    "    r1 = [1 for i in N]\n",
    "    r2 = [1 for i in N]\n",
    "    r3 = [len(N)-1 for i in range(len(subtours))]\n",
    "\n",
    "    rows = c1+c2+c3\n",
    "    senses = s1+s2+s3\n",
    "    rhs =  r1+r2+r3\n",
    "    \n",
    "    #####################################################################\n",
    "    # Bounds\n",
    "    ub = [1 for i in range(len(Xs))] + [cplex.infinity for i in range(len(Us))]\n",
    "    lb = [0 for i in range((len(Xs)+len(Us)))]\n",
    "    \n",
    "    #####################################################################\n",
    "    # Solving\n",
    "    prob = cplex_solve(obj,ub,lb,colnames,types, rows, senses, rhs, minimize=True, path=path)\n",
    "\n",
    "    #####################################################################\n",
    "    # Extract solution\n",
    "    N = len(N)\n",
    "    \n",
    "    solution = prob.solution.get_values()\n",
    "\n",
    "    return prob"
   ]
  },
  {
   "cell_type": "code",
   "execution_count": null,
   "metadata": {
    "collapsed": true
   },
   "outputs": [],
   "source": []
  }
 ],
 "metadata": {
  "hide_input": false,
  "kernelspec": {
   "display_name": "Py35",
   "language": "python",
   "name": "py35"
  },
  "language_info": {
   "codemirror_mode": {
    "name": "ipython",
    "version": 3
   },
   "file_extension": ".py",
   "mimetype": "text/x-python",
   "name": "python",
   "nbconvert_exporter": "python",
   "pygments_lexer": "ipython3",
   "version": "3.5.3"
  },
  "toc": {
   "colors": {
    "hover_highlight": "#DAA520",
    "running_highlight": "#FF0000",
    "selected_highlight": "#FFD700"
   },
   "moveMenuLeft": true,
   "nav_menu": {
    "height": "12px",
    "width": "252px"
   },
   "navigate_menu": true,
   "number_sections": true,
   "sideBar": true,
   "threshold": 4,
   "toc_cell": false,
   "toc_section_display": "block",
   "toc_window_display": false,
   "widenNotebook": false
  }
 },
 "nbformat": 4,
 "nbformat_minor": 2
}
