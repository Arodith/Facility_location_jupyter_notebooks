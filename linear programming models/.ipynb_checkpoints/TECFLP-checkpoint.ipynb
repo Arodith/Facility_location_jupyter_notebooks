{
 "cells": [
  {
   "cell_type": "markdown",
   "metadata": {
    "collapsed": true
   },
   "source": [
    "TUFLP\n",
    "\n",
    "Two-level uncapacitated facility location problem\n",
    "---"
   ]
  },
  {
   "cell_type": "markdown",
   "metadata": {},
   "source": [
    "# Formulation"
   ]
  },
  {
   "cell_type": "markdown",
   "metadata": {},
   "source": [
    "$min_x$ \n",
    "\n",
    "$$\\sum_{r =1}^2 \\sum_{j \\in V_r} f_{jr} z_{jr} + \\sum_{i \\in I} \\sum_{j_1 \\in V_1} \\sum_{j_2 \\in V_2} c_{i j_1 j_2} x_{i j_1 j_2}$$\n",
    "\n",
    "$s.t.$\n",
    "$$\\tag{1} \\sum_{j_1 \\in V_1} \\sum_{j_2 \\in V_2} x_{i j_1 j_2} = 1, \\forall i \\in I$$\n",
    "$$\\tag{2} \\sum_{j_1 \\in V_1} x_{i j_1 j_2} \\le z_{j_1}, \\forall i \\in I, \\forall j_2 \\in V_2$$\n",
    "$$\\tag{3} \\sum_{j_2 \\in V_2} x_{i j_1 j_2} \\le z_{j_2}, \\forall i \\in I, \\forall j_1 \\in V_1$$\n",
    "$$x_{i j_1 j_2}, z_{j} \\in {0,1}$$\n"
   ]
  },
  {
   "cell_type": "markdown",
   "metadata": {},
   "source": []
  },
  {
   "cell_type": "markdown",
   "metadata": {},
   "source": [
    "# Solve with Cplex"
   ]
  },
  {
   "cell_type": "code",
   "execution_count": 17,
   "metadata": {},
   "outputs": [
    {
     "name": "stdout",
     "output_type": "stream",
     "text": [
      "Overwriting ../pkg/tuflp_cplex.py\n"
     ]
    }
   ],
   "source": [
    "%%file \"../pkg/tuflp_cplex.py\"\n",
    "\n",
    "from pkg.cplex_solve import cplex_solve\n",
    "import numpy as np              # mathematic tools library\n",
    "import networkx as nx           # network representation library\n",
    "\n",
    "def tuflp_cplex(I,V1,V2,\n",
    "            c,f,\n",
    "            relaxation=False,path=None):\n",
    "    \"\"\"\n",
    "    I,J,C sets of customers, ICPs, CRCs\n",
    "    c,f cost matrix for connection and setup\n",
    "    \"\"\"\n",
    "    #####################################################################\n",
    "    # Decision variables\n",
    "    \n",
    "    def X(i,j1,j2):\n",
    "        return \"X_\" + str(i) + \"_\" + str(j1) + \"_\" + str(j2)\n",
    "\n",
    "    def Z(j,r):\n",
    "        return \"Z_\" + str(j) + \"_\" + str(r)\n",
    "\n",
    "    #####################################################################\n",
    "    # Objective function\n",
    "    \n",
    "    objx = [c[i][j1][j2]  for i in range(I) for j1 in range(V1) for j2 in range(V2)]\n",
    "    objz = [f[j] for j in range(V1+V2)]\n",
    "    \n",
    "    ## variablesnames\n",
    "    Xs = [ X(i,j1,j2) for i in range(I) for j1 in range(V1) for j2 in range(V2)]\n",
    "    Zs = [ Z(j,1) for j in range(V1)] + [ Z(j,2) for j in range(V2)]\n",
    "\n",
    "    ## Objective function sum aggregation\n",
    "    obj = objx + objz\n",
    "    colnames = Xs + Zs\n",
    "    if relaxation:\n",
    "        types    = \"C\" * (I*V1*V2+(V1+V2)) #Integrality constraint\n",
    "    else:\n",
    "        types    = \"I\" * (I*V1*V2+(V1+V2)) #Integrality constraint\n",
    "\n",
    "    #####################################################################\n",
    "    # Constraints\n",
    "    \n",
    "    c1 = [\n",
    "            [[X(i,j1,j2) for j1 in range(V1) for j2 in range(V2)], [1 for j in range(V1*V2)]] \n",
    "          for i in range(I)]\n",
    "    c2 = [\n",
    "            [[X(i,j1,j2) for j1 in range(V1)]+[Z(j2,2)], [1 for j1 in range(V1)]+ [-1]]\n",
    "          for i in range(I) for j2 in range(V2)]\n",
    "    c3 = [\n",
    "            [[X(i,j1,j2) for j2 in range(V2)]+[Z(j1,1)], [1 for j2 in range(V2)]+ [-1]]\n",
    "          for i in range(I) for j1 in range(V1)]\n",
    "    \n",
    "    s1 = \"E\" * I\n",
    "    s2 = \"L\" * (I*V1)\n",
    "    s3 = \"L\" * (I*V2)\n",
    "    \n",
    "    r1 = [1 for i in range(I)]\n",
    "    r2 = [0 for i in range(I) for j2 in range(V2)]\n",
    "    r3 = [0 for i in range(I) for j1 in range(V1)]\n",
    "    \n",
    "    rows = c1+c2+c3\n",
    "    senses = s1+s2+s3\n",
    "    rhs =  r1+r2+r3\n",
    "    \n",
    "    #####################################################################\n",
    "    # Bounds\n",
    "    ub = [1 for i in range(I*V1*V2+(V1+V2))]\n",
    "    lb = [0 for i in range(I*V1*V2+(V1+V2))]\n",
    "\n",
    "    #####################################################################\n",
    "    # Solving\n",
    "    prob = cplex_solve(obj,ub,lb,colnames,types, rows, senses, rhs, minimize=True, path=path)\n",
    "\n",
    "    #####################################################################\n",
    "    # Extract solution\n",
    "    solution = prob.solution.get_values()\n",
    "    X = np.reshape(solution[0:I*V1*V2],(I,V1,V2))\n",
    "    Z = solution[I*V1*V2:]\n",
    "\n",
    "    return prob, X, Z"
   ]
  },
  {
   "cell_type": "code",
   "execution_count": null,
   "metadata": {
    "collapsed": true
   },
   "outputs": [],
   "source": []
  }
 ],
 "metadata": {
  "hide_input": false,
  "kernelspec": {
   "display_name": "Py35",
   "language": "python",
   "name": "py35"
  },
  "language_info": {
   "codemirror_mode": {
    "name": "ipython",
    "version": 3
   },
   "file_extension": ".py",
   "mimetype": "text/x-python",
   "name": "python",
   "nbconvert_exporter": "python",
   "pygments_lexer": "ipython3",
   "version": "3.5.3"
  },
  "toc": {
   "colors": {
    "hover_highlight": "#DAA520",
    "running_highlight": "#FF0000",
    "selected_highlight": "#FFD700"
   },
   "moveMenuLeft": true,
   "nav_menu": {
    "height": "12px",
    "width": "252px"
   },
   "navigate_menu": true,
   "number_sections": true,
   "sideBar": true,
   "threshold": 4,
   "toc_cell": false,
   "toc_section_display": "block",
   "toc_window_display": false,
   "widenNotebook": false
  }
 },
 "nbformat": 4,
 "nbformat_minor": 2
}
