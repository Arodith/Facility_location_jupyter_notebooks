{
 "cells": [
  {
   "cell_type": "code",
   "execution_count": 378,
   "metadata": {},
   "outputs": [
    {
     "name": "stdout",
     "output_type": "stream",
     "text": [
      "The autoreload extension is already loaded. To reload it, use:\n",
      "  %reload_ext autoreload\n"
     ]
    }
   ],
   "source": [
    "import csv\n",
    "import math as m\n",
    "from random import uniform as unif\n",
    "import networkx as nx\n",
    "import pandas as pd\n",
    "import os\n",
    "\n",
    "import numpy as np\n",
    "import matplotlib as mpl\n",
    "import matplotlib.pyplot as plt\n",
    "from IPython.display import display, HTML\n",
    "%matplotlib inline\n",
    "\n",
    "%load_ext autoreload\n",
    "%autoreload 2"
   ]
  },
  {
   "cell_type": "code",
   "execution_count": 379,
   "metadata": {
    "collapsed": true
   },
   "outputs": [],
   "source": [
    "expid = \"./exp2_run0\""
   ]
  },
  {
   "cell_type": "code",
   "execution_count": 380,
   "metadata": {
    "collapsed": true
   },
   "outputs": [],
   "source": [
    "if not os.path.exists(expid):\n",
    "    os.makedirs(expid)"
   ]
  },
  {
   "cell_type": "markdown",
   "metadata": {},
   "source": [
    "# Problem instance"
   ]
  },
  {
   "cell_type": "markdown",
   "metadata": {},
   "source": [
    "## Geographic data"
   ]
  },
  {
   "cell_type": "code",
   "execution_count": 381,
   "metadata": {
    "collapsed": true
   },
   "outputs": [],
   "source": [
    "from pkg.read_problem import read_problem, extract_problem"
   ]
  },
  {
   "cell_type": "code",
   "execution_count": 382,
   "metadata": {
    "collapsed": true
   },
   "outputs": [],
   "source": [
    "xy_customers, xy_icps, xy_crcs, xy_pc, q = read_problem('./datasets/original')"
   ]
  },
  {
   "cell_type": "code",
   "execution_count": 383,
   "metadata": {
    "collapsed": true
   },
   "outputs": [],
   "source": [
    "xy_icps = xy_icps + [[unif(20,100),unif(20,70)] for i in range(5)]\n",
    "xy_crcs = xy_crcs + [[unif(20,100),unif(20,70)] for i in range(1)]"
   ]
  },
  {
   "cell_type": "code",
   "execution_count": 384,
   "metadata": {
    "collapsed": true
   },
   "outputs": [],
   "source": [
    "I,J,C,B,K,V,W,DjUc,Dcj,Dc,FCV,FCT,FCR,U = extract_problem(xy_customers, xy_icps, xy_crcs, xy_pc, q)"
   ]
  },
  {
   "cell_type": "markdown",
   "metadata": {},
   "source": [
    "## Capacity constraints"
   ]
  },
  {
   "cell_type": "code",
   "execution_count": 385,
   "metadata": {
    "collapsed": true
   },
   "outputs": [],
   "source": [
    "Q_icp = [200 for j in range(J)]\n",
    "Q_crc = [800 for c in range(C)]\n",
    "V = [Q_icp,Q_crc]"
   ]
  },
  {
   "cell_type": "markdown",
   "metadata": {},
   "source": [
    "## Adapting costs"
   ]
  },
  {
   "cell_type": "code",
   "execution_count": 386,
   "metadata": {
    "collapsed": true
   },
   "outputs": [],
   "source": [
    "# two-level cost\n",
    "FCRD = []\n",
    "for c in range(C):\n",
    "    FCRD.append(FCR[c] + Dc[c])\n",
    "\n",
    "f = FCT+FCRD\n",
    "c = [[[W[i][j1] + Dcj[j1][j2] for j2 in range(C)] for j1 in range(J)] for i in range(I)]"
   ]
  },
  {
   "cell_type": "markdown",
   "metadata": {},
   "source": [
    "# Plot Problem"
   ]
  },
  {
   "cell_type": "code",
   "execution_count": 387,
   "metadata": {},
   "outputs": [
    {
     "data": {
      "image/png": "[encoded data removed]",
      "text/plain": [
       "<matplotlib.figure.Figure at 0xb22f400>"
      ]
     },
     "metadata": {},
     "output_type": "display_data"
    }
   ],
   "source": [
    "from pkg.lrp_nodes_graph import lrp_nodes_graph, lrp_draw_and_save\n",
    "G, pos, labels, colors, size = lrp_nodes_graph(xy_customers, xy_icps, xy_crcs, xy_pc)\n",
    "\n",
    "lrp_draw_and_save(G, pos, labels, colors, size, expid+\"/problem.png\")"
   ]
  },
  {
   "cell_type": "code",
   "execution_count": 388,
   "metadata": {},
   "outputs": [
    {
     "name": "stdout",
     "output_type": "stream",
     "text": [
      "Overwriting ./pkg/draw_solution_II.py\n"
     ]
    }
   ],
   "source": [
    "%%file \"./pkg/draw_solution_II.py\"\n",
    "\n",
    "def draw_solution_II(I,J,C,\n",
    "                    N_crc, N_icp,\n",
    "                    Y1,Y2, routes, expid,\n",
    "                    G, pos, labels, colors, size, path=None):\n",
    "    \n",
    "    from IPython.display import display, HTML\n",
    "    import pandas as pd\n",
    "    from pkg.draw_solution_II import draw_solution_II\n",
    "    from pkg.lrp_nodes_graph import lrp_nodes_graph, lrp_draw_and_save\n",
    "    \n",
    "    H1 = [j for j,vj in enumerate(N_icp) if vj > 0.5]\n",
    "    \n",
    "    ###############################\n",
    "    # DataFrames\n",
    "    display(pd.DataFrame(N_crc).transpose())\n",
    "    display(pd.DataFrame(N_icp).transpose())\n",
    "    display(pd.DataFrame(routes).transpose())   \n",
    "    ###############################\n",
    "    # Network\n",
    "    G2 = G.copy()\n",
    "    colors = colors[:];size = size[:]; labels = labels.copy()\n",
    "    # ICP-Cus\n",
    "    for j,vj in enumerate(Y1):\n",
    "        for i,vi in enumerate(vj):\n",
    "            if vi == 1:\n",
    "                G2.add_edge(I+i,j)\n",
    "    # ICP\n",
    "    for j,vj in enumerate(N_icp):\n",
    "        if vj < 0.5:\n",
    "            colors[I+j] = \"grey\"\n",
    "            labels[I+j] = \"\"\n",
    "            size[I+j] = 50\n",
    "\n",
    "    # ICP-CRC\n",
    "    for j,vj in enumerate(Y2):\n",
    "        for i,vi in enumerate(vj):\n",
    "            if vi == 1:\n",
    "                G2.add_edge(I+J+i,I+H1[j])\n",
    "    # CRC\n",
    "    for j,vj in enumerate(N_crc):\n",
    "        if vj < 0.5:\n",
    "            colors[I+J+j] = \"grey\"\n",
    "            labels[I+J+j] = \"\"\n",
    "            size[I+J+j] = 50\n",
    "\n",
    "    # Routes\n",
    "    for r,vr in enumerate(routes):\n",
    "        for c, vc in enumerate(vr):\n",
    "            G2.add_edge(I+vc[0],I+vc[1])\n",
    "\n",
    "    lrp_draw_and_save(G2, pos, labels, colors, size, path)\n",
    "    \n",
    "    return G2"
   ]
  },
  {
   "cell_type": "markdown",
   "metadata": {},
   "source": [
    "# Define Functions"
   ]
  },
  {
   "cell_type": "markdown",
   "metadata": {},
   "source": [
    "## cflp_first_tsp_second"
   ]
  },
  {
   "cell_type": "code",
   "execution_count": 389,
   "metadata": {
    "code_folding": []
   },
   "outputs": [
    {
     "name": "stdout",
     "output_type": "stream",
     "text": [
      "Overwriting ./pkg/cflp_first_tsp_second.py\n"
     ]
    }
   ],
   "source": [
    "%%file \"./pkg/cflp_first_tsp_second.py\"\n",
    "\n",
    "def cflp_first_tsp_second(G,pos, labels, colors, size,\n",
    "                I,J,C,\n",
    "                W1,W2,W3,F1,F2,\n",
    "                U,Q_icp,Q_crc,\n",
    "                plots=True, expid=\"\"):\n",
    "    \n",
    "    from pkg.cflp_cplex import cflp_cplex\n",
    "    from pkg.tsp_cplex import tsp_cplex\n",
    "    from pkg.read_problem import read_problem, extract_problem\n",
    "    from pkg.draw_solution_II import draw_solution_II\n",
    "    from pkg.lrp_nodes_graph import lrp_nodes_graph, lrp_draw_and_save\n",
    "    import numpy as np\n",
    "    import pandas as pd\n",
    "    from IPython.display import display, HTML\n",
    "\n",
    "    #######################################################################\n",
    "    # Solve first problem\n",
    "    prob1, Y1, N_icp = cflp_cplex(I,J,\n",
    "                W1,F1,U,Q_icp,\n",
    "                relaxation=False)\n",
    "    \n",
    "    #######################################################################\n",
    "    # Prepare 2nd problem\n",
    "    H1 = [j for j,vj in enumerate(N_icp) if vj > 0.5]\n",
    "    \n",
    "    c2=[];    u2=[];\n",
    "    for j in H1:\n",
    "        c2.append(W2[j])\n",
    "        sqi = 0\n",
    "        for i in range(I):\n",
    "            sqi += U[i]*Y1[i][j]\n",
    "        u2.append(sqi)\n",
    "    #######################################################################        \n",
    "    # Solve Second problem\n",
    "    prob2, Y2, N_crc = cflp_cplex(len(u2),C,\n",
    "            c2,F2,u2,Q_crc,\n",
    "            relaxation=False)    \n",
    "    #######################################################################\n",
    "    # Preparing TSP\n",
    "    H2 = [j for j,vj in enumerate(N_crc) if vj > 0.5]\n",
    "    tY2 = np.transpose(Y2)\n",
    "    W3 = np.asarray(W3)\n",
    "    \n",
    "    #/!\\ Use H1 as a labeling array\n",
    "\n",
    "    S_tsp = [] #set of ICP in each TSP\n",
    "    for c,vc in enumerate(H2):\n",
    "        S_tsp.append([H1[j] for j,vj in enumerate(tY2[c]) if vj > 0.5]+[J+vc])\n",
    "    \n",
    "    w_tsp = []\n",
    "    for submat in S_tsp:\n",
    "        w_tsp.append(W3[submat,:][:,submat])\n",
    "    #######################################################################\n",
    "    # Solving TSP\n",
    "    routes = []\n",
    "    for c,vc in enumerate(w_tsp):\n",
    "        prob, X = tsp_cplex(len(vc),vc, relaxation=False)\n",
    "        # Extract routes\n",
    "        path = []\n",
    "        for j,xj in enumerate(X):\n",
    "            for i,xij in enumerate(xj):\n",
    "                if xij == 1:\n",
    "                    path.append((S_tsp[c][i],S_tsp[c][j]))\n",
    "        routes.append(path)\n",
    "    #######################################################################\n",
    "    # Draw solution\n",
    "    if(plots):\n",
    "        draw_solution_II(I,J,C,N_crc, N_icp,\n",
    "                    Y1,Y2, routes, expid,\n",
    "                    G, pos, labels, colors, size)\n",
    "    \n",
    "    return Y1, Y2, N_icp, N_crc, routes"
   ]
  },
  {
   "cell_type": "code",
   "execution_count": 390,
   "metadata": {},
   "outputs": [],
   "source": [
    "from pkg.cflp_first_tsp_second import cflp_first_tsp_second"
   ]
  },
  {
   "cell_type": "code",
   "execution_count": 391,
   "metadata": {
    "code_folding": []
   },
   "outputs": [
    {
     "data": {
      "text/html": [
       "<div>\n",
       "<table border=\"1\" class=\"dataframe\">\n",
       "  <thead>\n",
       "    <tr style=\"text-align: right;\">\n",
       "      <th></th>\n",
       "      <th>0</th>\n",
       "      <th>1</th>\n",
       "      <th>2</th>\n",
       "    </tr>\n",
       "  </thead>\n",
       "  <tbody>\n",
       "    <tr>\n",
       "      <th>0</th>\n",
       "      <td>1.0</td>\n",
       "      <td>1.0</td>\n",
       "      <td>-0.0</td>\n",
       "    </tr>\n",
       "  </tbody>\n",
       "</table>\n",
       "</div>"
      ],
      "text/plain": [
       "     0    1    2\n",
       "0  1.0  1.0 -0.0"
      ]
     },
     "metadata": {},
     "output_type": "display_data"
    },
    {
     "data": {
      "text/html": [
       "<div>\n",
       "<table border=\"1\" class=\"dataframe\">\n",
       "  <thead>\n",
       "    <tr style=\"text-align: right;\">\n",
       "      <th></th>\n",
       "      <th>0</th>\n",
       "      <th>1</th>\n",
       "      <th>2</th>\n",
       "      <th>3</th>\n",
       "      <th>4</th>\n",
       "      <th>5</th>\n",
       "      <th>6</th>\n",
       "      <th>7</th>\n",
       "      <th>8</th>\n",
       "      <th>9</th>\n",
       "      <th>10</th>\n",
       "      <th>11</th>\n",
       "      <th>12</th>\n",
       "    </tr>\n",
       "  </thead>\n",
       "  <tbody>\n",
       "    <tr>\n",
       "      <th>0</th>\n",
       "      <td>1.0</td>\n",
       "      <td>1.0</td>\n",
       "      <td>1.0</td>\n",
       "      <td>1.0</td>\n",
       "      <td>1.0</td>\n",
       "      <td>1.0</td>\n",
       "      <td>1.0</td>\n",
       "      <td>0.0</td>\n",
       "      <td>0.0</td>\n",
       "      <td>0.0</td>\n",
       "      <td>0.0</td>\n",
       "      <td>0.0</td>\n",
       "      <td>1.0</td>\n",
       "    </tr>\n",
       "  </tbody>\n",
       "</table>\n",
       "</div>"
      ],
      "text/plain": [
       "    0    1    2    3    4    5    6    7    8    9    10   11   12\n",
       "0  1.0  1.0  1.0  1.0  1.0  1.0  1.0  0.0  0.0  0.0  0.0  0.0  1.0"
      ]
     },
     "metadata": {},
     "output_type": "display_data"
    },
    {
     "data": {
      "text/html": [
       "<div>\n",
       "<table border=\"1\" class=\"dataframe\">\n",
       "  <thead>\n",
       "    <tr style=\"text-align: right;\">\n",
       "      <th></th>\n",
       "      <th>0</th>\n",
       "      <th>1</th>\n",
       "    </tr>\n",
       "  </thead>\n",
       "  <tbody>\n",
       "    <tr>\n",
       "      <th>0</th>\n",
       "      <td>(13, 1)</td>\n",
       "      <td>(12, 0)</td>\n",
       "    </tr>\n",
       "    <tr>\n",
       "      <th>1</th>\n",
       "      <td>(3, 2)</td>\n",
       "      <td>(14, 5)</td>\n",
       "    </tr>\n",
       "    <tr>\n",
       "      <th>2</th>\n",
       "      <td>(1, 3)</td>\n",
       "      <td>(5, 6)</td>\n",
       "    </tr>\n",
       "    <tr>\n",
       "      <th>3</th>\n",
       "      <td>(2, 4)</td>\n",
       "      <td>(6, 12)</td>\n",
       "    </tr>\n",
       "    <tr>\n",
       "      <th>4</th>\n",
       "      <td>(4, 13)</td>\n",
       "      <td>(0, 14)</td>\n",
       "    </tr>\n",
       "  </tbody>\n",
       "</table>\n",
       "</div>"
      ],
      "text/plain": [
       "         0        1\n",
       "0  (13, 1)  (12, 0)\n",
       "1   (3, 2)  (14, 5)\n",
       "2   (1, 3)   (5, 6)\n",
       "3   (2, 4)  (6, 12)\n",
       "4  (4, 13)  (0, 14)"
      ]
     },
     "metadata": {},
     "output_type": "display_data"
    },
    {
     "name": "stdout",
     "output_type": "stream",
     "text": [
      "Wall time: 763 ms\n"
     ]
    },
    {
     "data": {
      "image/png": "[encoded data removed]",
      "text/plain": [
       "<matplotlib.figure.Figure at 0xab355f8>"
      ]
     },
     "metadata": {},
     "output_type": "display_data"
    }
   ],
   "source": [
    "%%time\n",
    "Y1, Y2, N_icp, N_crc, routes = cflp_first_tsp_second(G,pos, labels, colors, size,\n",
    "                I,J,C,\n",
    "                W,Dcj,DjUc,FCT,FCRD,\n",
    "                U,Q_icp,Q_crc,\n",
    "                expid=expid)"
   ]
  },
  {
   "cell_type": "code",
   "execution_count": 392,
   "metadata": {
    "code_folding": []
   },
   "outputs": [
    {
     "data": {
      "text/plain": [
       "(2576.2606677432714,\n",
       " 508.12249649077626,\n",
       " 189.06934172658094,\n",
       " 800.0,\n",
       " 1079.0688295259142)"
      ]
     },
     "execution_count": 392,
     "metadata": {},
     "output_type": "execute_result"
    }
   ],
   "source": [
    "from pkg.objective_III import objective_III\n",
    "objective_III(Y1,routes,N_icp, N_crc,\n",
    "                I,J,C,B,\n",
    "                W,DjUc,Dc,\n",
    "                FCV,FCT,FCR)"
   ]
  },
  {
   "cell_type": "markdown",
   "metadata": {},
   "source": [
    "## pmd_first_tsp_second"
   ]
  },
  {
   "cell_type": "code",
   "execution_count": 393,
   "metadata": {
    "code_folding": []
   },
   "outputs": [
    {
     "name": "stdout",
     "output_type": "stream",
     "text": [
      "Overwriting ./pkg/pmd_first_tsp_second.py\n"
     ]
    }
   ],
   "source": [
    "%%file \"./pkg/pmd_first_tsp_second.py\"\n",
    "\n",
    "def pmd_first_tsp_second(G,pos, labels, colors, size,\n",
    "                I,J,C,\n",
    "                W1,W2,W3,F1,F2,\n",
    "                U,Q_icp,Q_crc,\n",
    "                plots=True, expid=\"\"):\n",
    "    \n",
    "    from pkg.cflp_cplex import cflp_cplex\n",
    "    from pkg.pm_flp_cplex import pm_flp_cplex\n",
    "    from pkg.tsp_cplex import tsp_cplex\n",
    "    from pkg.read_problem import read_problem, extract_problem\n",
    "    from pkg.draw_solution_II import draw_solution_II\n",
    "    from pkg.lrp_nodes_graph import lrp_nodes_graph, lrp_draw_and_save\n",
    "    import numpy as np\n",
    "    import pandas as pd\n",
    "    from IPython.display import display, HTML\n",
    "\n",
    "    #######################################################################\n",
    "    # Solve first problem\n",
    "    prob1, Y1, N_icp = pm_flp_cplex(I,J,\n",
    "                W1,8,\n",
    "                relaxation=False)\n",
    "    \n",
    "    #######################################################################\n",
    "    # Prepare 2nd problem\n",
    "    H1 = [j for j,vj in enumerate(N_icp) if vj > 0.5]\n",
    "    \n",
    "    c2=[];    u2=[];\n",
    "    for j in H1:\n",
    "        c2.append(W2[j])\n",
    "        sqi = 0\n",
    "        for i in range(I):\n",
    "            sqi += U[i]*Y1[i][j]\n",
    "        u2.append(sqi)\n",
    "        \n",
    "    print(u2)\n",
    "    #######################################################################        \n",
    "    # Solve Second problem\n",
    "    prob2, Y2, N_crc = pm_flp_cplex(len(u2),C,\n",
    "            c2,2,\n",
    "            relaxation=False)    \n",
    "    #######################################################################\n",
    "    # Preparing TSP\n",
    "    H2 = [j for j,vj in enumerate(N_crc) if vj > 0.5]\n",
    "    tY2 = np.transpose(Y2)\n",
    "    W3 = np.asarray(W3)\n",
    "    \n",
    "    #/!\\ Use H1 as a labeling array\n",
    "\n",
    "    S_tsp = [] #set of ICP in each TSP\n",
    "    for c,vc in enumerate(H2):\n",
    "        S_tsp.append([H1[j] for j,vj in enumerate(tY2[c]) if vj > 0.5]+[J+vc])\n",
    "    \n",
    "    w_tsp = []\n",
    "    for submat in S_tsp:\n",
    "        w_tsp.append(W3[submat,:][:,submat])\n",
    "    #######################################################################\n",
    "    # Solving TSP\n",
    "    routes = []\n",
    "    for c,vc in enumerate(w_tsp):\n",
    "        prob, X = tsp_cplex(len(vc),vc, relaxation=False)\n",
    "        # Extract routes\n",
    "        path = []\n",
    "        for j,xj in enumerate(X):\n",
    "            for i,xij in enumerate(xj):\n",
    "                if xij == 1:\n",
    "                    path.append((S_tsp[c][i],S_tsp[c][j]))\n",
    "        routes.append(path)\n",
    "    #######################################################################\n",
    "    # Draw solution\n",
    "    if(plots):\n",
    "         draw_solution_II(I,J,C,N_crc, N_icp,\n",
    "                    Y1,Y2, routes, expid,\n",
    "                    G, pos, labels, colors, size)\n",
    "            \n",
    "    return Y1, Y2 , N_icp, N_crc, routes"
   ]
  },
  {
   "cell_type": "code",
   "execution_count": 394,
   "metadata": {
    "collapsed": true
   },
   "outputs": [],
   "source": [
    "from pkg.pmd_first_tsp_second import pmd_first_tsp_second"
   ]
  },
  {
   "cell_type": "code",
   "execution_count": 395,
   "metadata": {},
   "outputs": [
    {
     "name": "stdout",
     "output_type": "stream",
     "text": [
      "[210.0, 175.0, 200.0, 200.0, 175.0, 175.0, 175.0, 130.0]\n"
     ]
    },
    {
     "data": {
      "text/html": [
       "<div>\n",
       "<table border=\"1\" class=\"dataframe\">\n",
       "  <thead>\n",
       "    <tr style=\"text-align: right;\">\n",
       "      <th></th>\n",
       "      <th>0</th>\n",
       "      <th>1</th>\n",
       "      <th>2</th>\n",
       "    </tr>\n",
       "  </thead>\n",
       "  <tbody>\n",
       "    <tr>\n",
       "      <th>0</th>\n",
       "      <td>1.0</td>\n",
       "      <td>1.0</td>\n",
       "      <td>0.0</td>\n",
       "    </tr>\n",
       "  </tbody>\n",
       "</table>\n",
       "</div>"
      ],
      "text/plain": [
       "     0    1    2\n",
       "0  1.0  1.0  0.0"
      ]
     },
     "metadata": {},
     "output_type": "display_data"
    },
    {
     "data": {
      "text/html": [
       "<div>\n",
       "<table border=\"1\" class=\"dataframe\">\n",
       "  <thead>\n",
       "    <tr style=\"text-align: right;\">\n",
       "      <th></th>\n",
       "      <th>0</th>\n",
       "      <th>1</th>\n",
       "      <th>2</th>\n",
       "      <th>3</th>\n",
       "      <th>4</th>\n",
       "      <th>5</th>\n",
       "      <th>6</th>\n",
       "      <th>7</th>\n",
       "      <th>8</th>\n",
       "      <th>9</th>\n",
       "      <th>10</th>\n",
       "      <th>11</th>\n",
       "      <th>12</th>\n",
       "    </tr>\n",
       "  </thead>\n",
       "  <tbody>\n",
       "    <tr>\n",
       "      <th>0</th>\n",
       "      <td>1.0</td>\n",
       "      <td>1.0</td>\n",
       "      <td>1.0</td>\n",
       "      <td>1.0</td>\n",
       "      <td>1.0</td>\n",
       "      <td>1.0</td>\n",
       "      <td>1.0</td>\n",
       "      <td>-0.0</td>\n",
       "      <td>-0.0</td>\n",
       "      <td>0.0</td>\n",
       "      <td>0.0</td>\n",
       "      <td>-0.0</td>\n",
       "      <td>1.0</td>\n",
       "    </tr>\n",
       "  </tbody>\n",
       "</table>\n",
       "</div>"
      ],
      "text/plain": [
       "    0    1    2    3    4    5    6    7    8    9    10   11   12\n",
       "0  1.0  1.0  1.0  1.0  1.0  1.0  1.0 -0.0 -0.0  0.0  0.0 -0.0  1.0"
      ]
     },
     "metadata": {},
     "output_type": "display_data"
    },
    {
     "data": {
      "text/html": [
       "<div>\n",
       "<table border=\"1\" class=\"dataframe\">\n",
       "  <thead>\n",
       "    <tr style=\"text-align: right;\">\n",
       "      <th></th>\n",
       "      <th>0</th>\n",
       "      <th>1</th>\n",
       "    </tr>\n",
       "  </thead>\n",
       "  <tbody>\n",
       "    <tr>\n",
       "      <th>0</th>\n",
       "      <td>(13, 1)</td>\n",
       "      <td>(12, 0)</td>\n",
       "    </tr>\n",
       "    <tr>\n",
       "      <th>1</th>\n",
       "      <td>(3, 2)</td>\n",
       "      <td>(14, 5)</td>\n",
       "    </tr>\n",
       "    <tr>\n",
       "      <th>2</th>\n",
       "      <td>(1, 3)</td>\n",
       "      <td>(5, 6)</td>\n",
       "    </tr>\n",
       "    <tr>\n",
       "      <th>3</th>\n",
       "      <td>(2, 4)</td>\n",
       "      <td>(6, 12)</td>\n",
       "    </tr>\n",
       "    <tr>\n",
       "      <th>4</th>\n",
       "      <td>(4, 13)</td>\n",
       "      <td>(0, 14)</td>\n",
       "    </tr>\n",
       "  </tbody>\n",
       "</table>\n",
       "</div>"
      ],
      "text/plain": [
       "         0        1\n",
       "0  (13, 1)  (12, 0)\n",
       "1   (3, 2)  (14, 5)\n",
       "2   (1, 3)   (5, 6)\n",
       "3   (2, 4)  (6, 12)\n",
       "4  (4, 13)  (0, 14)"
      ]
     },
     "metadata": {},
     "output_type": "display_data"
    },
    {
     "name": "stdout",
     "output_type": "stream",
     "text": [
      "Wall time: 255 ms\n"
     ]
    },
    {
     "data": {
      "image/png": "[encoded data removed]",
      "text/plain": [
       "<matplotlib.figure.Figure at 0xaf749b0>"
      ]
     },
     "metadata": {},
     "output_type": "display_data"
    }
   ],
   "source": [
    "%%time\n",
    "Y12, Y22, N_icp2, N_crc2, routes2 = pmd_first_tsp_second(G,pos, labels, colors, size,\n",
    "                I,J,C,\n",
    "                W,Dcj,DjUc,FCT,FCRD,\n",
    "                U,Q_icp,Q_crc,\n",
    "                expid=expid)"
   ]
  },
  {
   "cell_type": "code",
   "execution_count": 396,
   "metadata": {},
   "outputs": [
    {
     "data": {
      "text/plain": [
       "(2574.8363423188098,\n",
       " 506.69817106631467,\n",
       " 189.06934172658094,\n",
       " 800.0,\n",
       " 1079.0688295259142)"
      ]
     },
     "execution_count": 396,
     "metadata": {},
     "output_type": "execute_result"
    }
   ],
   "source": [
    "from pkg.objective_III import objective_III\n",
    "objective_III(Y12,routes2,N_icp2, N_crc2,\n",
    "                I,J,C,B,\n",
    "                W,DjUc,Dc,\n",
    "                FCV,FCT,FCR)"
   ]
  },
  {
   "cell_type": "markdown",
   "metadata": {},
   "source": [
    "## Capacity problem"
   ]
  },
  {
   "cell_type": "code",
   "execution_count": 397,
   "metadata": {
    "run_control": {
     "marked": false
    }
   },
   "outputs": [
    {
     "name": "stdout",
     "output_type": "stream",
     "text": [
      "Overwriting ./pkg/capacity_vector.py\n"
     ]
    }
   ],
   "source": [
    "%%file \"./pkg/capacity_vector.py\"\n",
    "\n",
    "import numpy as np\n",
    "\n",
    "def capacity_vector(Y,U,J,Q):\n",
    "    cluster_q = np.zeros(J)\n",
    "    violated = []\n",
    "    for i,vi in enumerate(Y):\n",
    "        for j,vj in enumerate(vi):\n",
    "            cluster_q[j] += U[i]*Y[i][j]\n",
    "    \n",
    "    for j,vj in enumerate(cluster_q):\n",
    "        if cluster_q[j] > Q[j]:\n",
    "            violated.append(j)\n",
    "            \n",
    "    return cluster_q, violated"
   ]
  },
  {
   "cell_type": "code",
   "execution_count": 398,
   "metadata": {},
   "outputs": [],
   "source": [
    "from pkg.capacity_vector import capacity_vector"
   ]
  },
  {
   "cell_type": "code",
   "execution_count": 399,
   "metadata": {},
   "outputs": [
    {
     "data": {
      "text/plain": [
       "(array([ 160.,  175.,  200.,  200.,  175.,  175.,  175.,    0.,    0.,\n",
       "           0.,    0.,    0.,  180.]), [])"
      ]
     },
     "execution_count": 399,
     "metadata": {},
     "output_type": "execute_result"
    }
   ],
   "source": [
    "capacity_vector(Y1,U,J,Q_icp)"
   ]
  },
  {
   "cell_type": "code",
   "execution_count": 400,
   "metadata": {},
   "outputs": [
    {
     "data": {
      "text/plain": [
       "(array([ 210.,  175.,  200.,  200.,  175.,  175.,  175.,    0.,    0.,\n",
       "           0.,    0.,    0.,  130.]), [0])"
      ]
     },
     "execution_count": 400,
     "metadata": {},
     "output_type": "execute_result"
    }
   ],
   "source": [
    "capacity_vector(Y12,U,J,Q_icp)"
   ]
  },
  {
   "cell_type": "code",
   "execution_count": 401,
   "metadata": {
    "code_folding": []
   },
   "outputs": [
    {
     "name": "stdout",
     "output_type": "stream",
     "text": [
      "Overwriting ./pkg/capacity_balancing.py\n"
     ]
    }
   ],
   "source": [
    "%%file \"./pkg/capacity_balancing.py\"\n",
    "\n",
    "import numpy as np\n",
    "from pkg.capacity_vector import capacity_vector\n",
    "\n",
    "def capacity_balancing(Y,W,U,J,Q,N_icp):\n",
    "    l = len(capacity_vector(Y,U,J,Q)[1])\n",
    "    max_loop = 10;\n",
    "\n",
    "    # capacity balancing\n",
    "    Ycp = np.copy(Y)\n",
    "    Wcp = np.copy(W)\n",
    "    while l != 0 or max_loop == 0:\n",
    "        max_loop +=-1\n",
    "        j = capacity_vector(Ycp,U,J,Q)[1][0]\n",
    "        i = np.argmax(np.multiply(Ycp,W)[:,j])\n",
    "        # Find condidate and update\n",
    "        Ycp[i][j] = 0\n",
    "        Wcp[i][j] = 100\n",
    "        stop = False\n",
    "        while not stop:\n",
    "            candidate = np.argmin(Wcp[i])\n",
    "            if N_icp[candidate] > 0.5 and candidate != j:\n",
    "                stop = True\n",
    "            else:\n",
    "                Wcp[i][candidate] = 200\n",
    "\n",
    "        print(i,j,candidate)\n",
    "\n",
    "        Ycp[i][candidate] = 1\n",
    "        Wcp[i][candidate] = 100\n",
    "\n",
    "        l = len(capacity_vector(Ycp,U,J,Q)[1])\n",
    "        \n",
    "    return Ycp"
   ]
  },
  {
   "cell_type": "code",
   "execution_count": 402,
   "metadata": {},
   "outputs": [
    {
     "data": {
      "text/plain": [
       "(array([ 210.,  175.,  200.,  200.,  175.,  175.,  175.,    0.,    0.,\n",
       "           0.,    0.,    0.,  130.]), [0])"
      ]
     },
     "execution_count": 402,
     "metadata": {},
     "output_type": "execute_result"
    }
   ],
   "source": [
    "capacity_vector(Y12,U,J,Q_icp)"
   ]
  },
  {
   "cell_type": "code",
   "execution_count": 403,
   "metadata": {
    "collapsed": true
   },
   "outputs": [],
   "source": [
    "from pkg.capacity_balancing import capacity_balancing"
   ]
  },
  {
   "cell_type": "code",
   "execution_count": 404,
   "metadata": {
    "code_folding": []
   },
   "outputs": [
    {
     "name": "stdout",
     "output_type": "stream",
     "text": [
      "30 0 1\n",
      "(array([ 185.,  200.,  200.,  200.,  175.,  175.,  175.,    0.,    0.,\n",
      "          0.,    0.,    0.,  130.]), [])\n",
      "Wall time: 2 ms\n"
     ]
    }
   ],
   "source": [
    "%%time\n",
    "Y12_capa = capacity_balancing(Y12,W,U,J,Q_icp,N_icp2)\n",
    "print(capacity_vector(Y12_capa,U,J,Q_icp))"
   ]
  },
  {
   "cell_type": "markdown",
   "metadata": {},
   "source": [
    "## Swap problem"
   ]
  },
  {
   "cell_type": "code",
   "execution_count": 405,
   "metadata": {
    "code_folding": [],
    "collapsed": true
   },
   "outputs": [],
   "source": [
    "def swap_list(Y,W,DjUc,N_icp):\n",
    "    cluster_len = np.max(np.multiply(Y,W),axis=0)\n",
    "    swaps = []\n",
    "    for j,l in enumerate(cluster_len):\n",
    "        for j_bis,n in enumerate(DjUc[j]):\n",
    "            if n<l and j != j_bis and j_bis < J and N_icp[j_bis] == 0:\n",
    "                swaps.append((j,j_bis))\n",
    "    return swaps"
   ]
  },
  {
   "cell_type": "code",
   "execution_count": 406,
   "metadata": {},
   "outputs": [
    {
     "data": {
      "text/plain": [
       "[(0, 7), (1, 8), (4, 10), (12, 7)]"
      ]
     },
     "execution_count": 406,
     "metadata": {},
     "output_type": "execute_result"
    }
   ],
   "source": [
    "swap_list(Y1,W,DjUc,N_icp)"
   ]
  },
  {
   "cell_type": "code",
   "execution_count": 407,
   "metadata": {
    "code_folding": []
   },
   "outputs": [],
   "source": [
    "def swap_list_byRoute(Y,W,DjUc,N_icp):\n",
    "    cluster_len = np.max(np.multiply(Y,W),axis=0)\n",
    "    swaps = []\n",
    "    for iroute,route in enumerate(routes):\n",
    "        for iarc,arc in enumerate(route): #chose on element\n",
    "            if arc[0] < len(cluster_len): # do not select CRC\n",
    "                for j_bis,n in enumerate(DjUc[arc[0]]): # look at other\n",
    "                    if j_bis < len(cluster_len):\n",
    "                        if n<cluster_len[arc[0]] and cluster_len[j_bis] == 0 and arc[0] != j_bis:\n",
    "                            coarc = [[iroute, ico] for ico,co in enumerate(route) if co[1] == arc[0]]\n",
    "                            swaps.append(([iroute,iarc],coarc[0],arc[0],j_bis))         \n",
    "    return swaps"
   ]
  },
  {
   "cell_type": "code",
   "execution_count": 408,
   "metadata": {},
   "outputs": [
    {
     "data": {
      "text/plain": [
       "[([0, 2], [0, 0], 1, 8),\n",
       " ([0, 4], [0, 3], 4, 10),\n",
       " ([1, 0], [1, 3], 12, 7),\n",
       " ([1, 4], [1, 0], 0, 7)]"
      ]
     },
     "execution_count": 408,
     "metadata": {},
     "output_type": "execute_result"
    }
   ],
   "source": [
    "swap_list = swap_list_byRoute(Y1,W,DjUc,N_icp)\n",
    "swap_list"
   ]
  },
  {
   "cell_type": "code",
   "execution_count": 409,
   "metadata": {},
   "outputs": [
    {
     "name": "stdout",
     "output_type": "stream",
     "text": [
      "(3, 2)\n",
      "(1, 3)\n"
     ]
    }
   ],
   "source": [
    "print(routes[0][1])\n",
    "print(routes[0][2])"
   ]
  },
  {
   "cell_type": "code",
   "execution_count": 410,
   "metadata": {},
   "outputs": [
    {
     "data": {
      "text/plain": [
       "[[(13, 1), (3, 2), (1, 3), (2, 4), (4, 13)],\n",
       " [(12, 0), (14, 5), (5, 6), (6, 12), (0, 14)]]"
      ]
     },
     "execution_count": 410,
     "metadata": {},
     "output_type": "execute_result"
    }
   ],
   "source": [
    "routes"
   ]
  },
  {
   "cell_type": "code",
   "execution_count": 411,
   "metadata": {
    "collapsed": true
   },
   "outputs": [],
   "source": [
    "swap = swap_list[0]"
   ]
  },
  {
   "cell_type": "code",
   "execution_count": 412,
   "metadata": {},
   "outputs": [],
   "source": [
    "def swap_arcs(swap, routes, N_icp):\n",
    "    routes_swap = np.copy(routes)\n",
    "    N_icp_swap = N_icp[:]\n",
    "    remove = swap[2]\n",
    "    introduce = swap[3]\n",
    "    \n",
    "    print(\"swap: %s %s\" % (remove,introduce))\n",
    "\n",
    "    arc1 = routes_swap[swap[0][0]][swap[0][1]]\n",
    "    arc2 = routes_swap[swap[1][0]][swap[1][1]]\n",
    "\n",
    "    if arc1[0] == remove:\n",
    "        arc1 = (introduce, arc1[1])\n",
    "    else:\n",
    "        arc1 = (arc1[0], introduce)\n",
    "\n",
    "    if arc2[0] == remove:\n",
    "        arc2 = (introduce, arc2[1])\n",
    "    else:\n",
    "        arc2 = (arc2[0], introduce)\n",
    "\n",
    "    routes_swap[swap[0][0]][swap[0][1]] = arc1\n",
    "    routes_swap[swap[1][0]][swap[1][1]] = arc2\n",
    "    N_icp_swap[remove] = 0\n",
    "    N_icp_swap[introduce] = 1\n",
    "\n",
    "    return routes_swap, N_icp_swap"
   ]
  },
  {
   "cell_type": "code",
   "execution_count": 413,
   "metadata": {},
   "outputs": [
    {
     "name": "stdout",
     "output_type": "stream",
     "text": [
      "swap: 1 8\n"
     ]
    }
   ],
   "source": [
    "routes_swap, N_icp_swap = swap_arcs(swap, routes, N_icp)"
   ]
  },
  {
   "cell_type": "code",
   "execution_count": 414,
   "metadata": {},
   "outputs": [
    {
     "data": {
      "text/plain": [
       "array([[[13,  8],\n",
       "        [ 3,  2],\n",
       "        [ 8,  3],\n",
       "        [ 2,  4],\n",
       "        [ 4, 13]],\n",
       "\n",
       "       [[12,  0],\n",
       "        [14,  5],\n",
       "        [ 5,  6],\n",
       "        [ 6, 12],\n",
       "        [ 0, 14]]])"
      ]
     },
     "execution_count": 414,
     "metadata": {},
     "output_type": "execute_result"
    }
   ],
   "source": [
    "routes_swap"
   ]
  },
  {
   "cell_type": "code",
   "execution_count": 415,
   "metadata": {},
   "outputs": [
    {
     "data": {
      "text/plain": [
       "(2584.7291661448603,\n",
       " 508.12249649077626,\n",
       " 197.53784012816996,\n",
       " 800.0,\n",
       " 1079.0688295259142)"
      ]
     },
     "execution_count": 415,
     "metadata": {},
     "output_type": "execute_result"
    }
   ],
   "source": [
    "from pkg.objective_III import objective_III\n",
    "objective_III(Y1,routes_swap,N_icp_swap, N_crc,\n",
    "                I,J,C,B,\n",
    "                W,DjUc,Dc,\n",
    "                FCV,FCT,FCR)"
   ]
  },
  {
   "cell_type": "code",
   "execution_count": 416,
   "metadata": {
    "scrolled": true
   },
   "outputs": [
    {
     "data": {
      "text/html": [
       "<div>\n",
       "<table border=\"1\" class=\"dataframe\">\n",
       "  <thead>\n",
       "    <tr style=\"text-align: right;\">\n",
       "      <th></th>\n",
       "      <th>0</th>\n",
       "      <th>1</th>\n",
       "      <th>2</th>\n",
       "    </tr>\n",
       "  </thead>\n",
       "  <tbody>\n",
       "    <tr>\n",
       "      <th>0</th>\n",
       "      <td>1.0</td>\n",
       "      <td>1.0</td>\n",
       "      <td>-0.0</td>\n",
       "    </tr>\n",
       "  </tbody>\n",
       "</table>\n",
       "</div>"
      ],
      "text/plain": [
       "     0    1    2\n",
       "0  1.0  1.0 -0.0"
      ]
     },
     "metadata": {},
     "output_type": "display_data"
    },
    {
     "data": {
      "text/html": [
       "<div>\n",
       "<table border=\"1\" class=\"dataframe\">\n",
       "  <thead>\n",
       "    <tr style=\"text-align: right;\">\n",
       "      <th></th>\n",
       "      <th>0</th>\n",
       "      <th>1</th>\n",
       "      <th>2</th>\n",
       "      <th>3</th>\n",
       "      <th>4</th>\n",
       "      <th>5</th>\n",
       "      <th>6</th>\n",
       "      <th>7</th>\n",
       "      <th>8</th>\n",
       "      <th>9</th>\n",
       "      <th>10</th>\n",
       "      <th>11</th>\n",
       "      <th>12</th>\n",
       "    </tr>\n",
       "  </thead>\n",
       "  <tbody>\n",
       "    <tr>\n",
       "      <th>0</th>\n",
       "      <td>1.0</td>\n",
       "      <td>0.0</td>\n",
       "      <td>1.0</td>\n",
       "      <td>1.0</td>\n",
       "      <td>1.0</td>\n",
       "      <td>1.0</td>\n",
       "      <td>1.0</td>\n",
       "      <td>0.0</td>\n",
       "      <td>1.0</td>\n",
       "      <td>0.0</td>\n",
       "      <td>0.0</td>\n",
       "      <td>0.0</td>\n",
       "      <td>1.0</td>\n",
       "    </tr>\n",
       "  </tbody>\n",
       "</table>\n",
       "</div>"
      ],
      "text/plain": [
       "    0    1    2    3    4    5    6    7    8    9    10   11   12\n",
       "0  1.0  0.0  1.0  1.0  1.0  1.0  1.0  0.0  1.0  0.0  0.0  0.0  1.0"
      ]
     },
     "metadata": {},
     "output_type": "display_data"
    },
    {
     "data": {
      "text/html": [
       "<div>\n",
       "<table border=\"1\" class=\"dataframe\">\n",
       "  <thead>\n",
       "    <tr style=\"text-align: right;\">\n",
       "      <th></th>\n",
       "      <th>0</th>\n",
       "      <th>1</th>\n",
       "    </tr>\n",
       "  </thead>\n",
       "  <tbody>\n",
       "    <tr>\n",
       "      <th>0</th>\n",
       "      <td>[13, 8]</td>\n",
       "      <td>[12, 0]</td>\n",
       "    </tr>\n",
       "    <tr>\n",
       "      <th>1</th>\n",
       "      <td>[3, 2]</td>\n",
       "      <td>[14, 5]</td>\n",
       "    </tr>\n",
       "    <tr>\n",
       "      <th>2</th>\n",
       "      <td>[8, 3]</td>\n",
       "      <td>[5, 6]</td>\n",
       "    </tr>\n",
       "    <tr>\n",
       "      <th>3</th>\n",
       "      <td>[2, 4]</td>\n",
       "      <td>[6, 12]</td>\n",
       "    </tr>\n",
       "    <tr>\n",
       "      <th>4</th>\n",
       "      <td>[4, 13]</td>\n",
       "      <td>[0, 14]</td>\n",
       "    </tr>\n",
       "  </tbody>\n",
       "</table>\n",
       "</div>"
      ],
      "text/plain": [
       "         0        1\n",
       "0  [13, 8]  [12, 0]\n",
       "1   [3, 2]  [14, 5]\n",
       "2   [8, 3]   [5, 6]\n",
       "3   [2, 4]  [6, 12]\n",
       "4  [4, 13]  [0, 14]"
      ]
     },
     "metadata": {},
     "output_type": "display_data"
    },
    {
     "data": {
      "image/png": "[encoded data removed]",
      "text/plain": [
       "<matplotlib.figure.Figure at 0xa8c7eb8>"
      ]
     },
     "metadata": {},
     "output_type": "display_data"
    }
   ],
   "source": [
    "from pkg.draw_solution_II import draw_solution_II\n",
    "g3 = draw_solution_II(I,J,C,N_crc, N_icp_swap,\n",
    "            Y1, np.zeros((3,8)), routes_swap.tolist(), expid,\n",
    "            G, pos, labels, colors, size)"
   ]
  },
  {
   "cell_type": "code",
   "execution_count": 417,
   "metadata": {
    "run_control": {
     "marked": false
    }
   },
   "outputs": [],
   "source": [
    "# swapp customers\n",
    "def new_assignement(W,N_icp_swap):\n",
    "    H1 = [j for j,vj in enumerate(N_icp_swap) if vj > 0.5]\n",
    "    asso = np.argmin(np.transpose(W)[H1],axis=0)\n",
    "    new_Y = np.zeros((I,J))\n",
    "    for a,va in enumerate(asso):\n",
    "        new_Y[a][H1[va]] = 1\n",
    "    return new_Y"
   ]
  },
  {
   "cell_type": "code",
   "execution_count": 418,
   "metadata": {},
   "outputs": [
    {
     "data": {
      "text/html": [
       "<div>\n",
       "<table border=\"1\" class=\"dataframe\">\n",
       "  <thead>\n",
       "    <tr style=\"text-align: right;\">\n",
       "      <th></th>\n",
       "      <th>0</th>\n",
       "      <th>1</th>\n",
       "      <th>2</th>\n",
       "      <th>3</th>\n",
       "      <th>4</th>\n",
       "      <th>5</th>\n",
       "      <th>6</th>\n",
       "      <th>7</th>\n",
       "      <th>8</th>\n",
       "      <th>9</th>\n",
       "      <th>...</th>\n",
       "      <th>40</th>\n",
       "      <th>41</th>\n",
       "      <th>42</th>\n",
       "      <th>43</th>\n",
       "      <th>44</th>\n",
       "      <th>45</th>\n",
       "      <th>46</th>\n",
       "      <th>47</th>\n",
       "      <th>48</th>\n",
       "      <th>49</th>\n",
       "    </tr>\n",
       "  </thead>\n",
       "  <tbody>\n",
       "    <tr>\n",
       "      <th>0</th>\n",
       "      <td>32.436802</td>\n",
       "      <td>31.066801</td>\n",
       "      <td>32.835135</td>\n",
       "      <td>37.298071</td>\n",
       "      <td>43.636523</td>\n",
       "      <td>51.158050</td>\n",
       "      <td>23.042268</td>\n",
       "      <td>21.070028</td>\n",
       "      <td>23.599706</td>\n",
       "      <td>29.494849</td>\n",
       "      <td>...</td>\n",
       "      <td>42.153838</td>\n",
       "      <td>49.899360</td>\n",
       "      <td>40.046799</td>\n",
       "      <td>38.945425</td>\n",
       "      <td>40.370114</td>\n",
       "      <td>44.076594</td>\n",
       "      <td>49.555485</td>\n",
       "      <td>56.291617</td>\n",
       "      <td>49.825155</td>\n",
       "      <td>48.944316</td>\n",
       "    </tr>\n",
       "    <tr>\n",
       "      <th>1</th>\n",
       "      <td>40.455170</td>\n",
       "      <td>30.838625</td>\n",
       "      <td>21.573614</td>\n",
       "      <td>13.409728</td>\n",
       "      <td>9.706740</td>\n",
       "      <td>14.443711</td>\n",
       "      <td>39.281303</td>\n",
       "      <td>29.281749</td>\n",
       "      <td>19.282655</td>\n",
       "      <td>9.285516</td>\n",
       "      <td>...</td>\n",
       "      <td>50.325151</td>\n",
       "      <td>51.449206</td>\n",
       "      <td>71.982087</td>\n",
       "      <td>67.050882</td>\n",
       "      <td>63.326304</td>\n",
       "      <td>61.029671</td>\n",
       "      <td>60.324297</td>\n",
       "      <td>61.265168</td>\n",
       "      <td>80.547010</td>\n",
       "      <td>76.172310</td>\n",
       "    </tr>\n",
       "    <tr>\n",
       "      <th>2</th>\n",
       "      <td>19.378442</td>\n",
       "      <td>13.443363</td>\n",
       "      <td>13.635395</td>\n",
       "      <td>19.776855</td>\n",
       "      <td>28.219213</td>\n",
       "      <td>37.436934</td>\n",
       "      <td>14.964090</td>\n",
       "      <td>5.396666</td>\n",
       "      <td>5.858669</td>\n",
       "      <td>15.476563</td>\n",
       "      <td>...</td>\n",
       "      <td>53.728242</td>\n",
       "      <td>59.092504</td>\n",
       "      <td>59.281734</td>\n",
       "      <td>57.615310</td>\n",
       "      <td>57.660420</td>\n",
       "      <td>59.413164</td>\n",
       "      <td>62.730567</td>\n",
       "      <td>67.381926</td>\n",
       "      <td>69.012492</td>\n",
       "      <td>67.586419</td>\n",
       "    </tr>\n",
       "    <tr>\n",
       "      <th>3</th>\n",
       "      <td>44.464503</td>\n",
       "      <td>37.553855</td>\n",
       "      <td>32.303127</td>\n",
       "      <td>29.608985</td>\n",
       "      <td>30.164416</td>\n",
       "      <td>33.809644</td>\n",
       "      <td>38.583572</td>\n",
       "      <td>30.362674</td>\n",
       "      <td>23.560390</td>\n",
       "      <td>19.705126</td>\n",
       "      <td>...</td>\n",
       "      <td>31.296837</td>\n",
       "      <td>34.823728</td>\n",
       "      <td>52.519444</td>\n",
       "      <td>46.813374</td>\n",
       "      <td>42.716414</td>\n",
       "      <td>40.717220</td>\n",
       "      <td>41.122889</td>\n",
       "      <td>43.866753</td>\n",
       "      <td>60.579634</td>\n",
       "      <td>55.705404</td>\n",
       "    </tr>\n",
       "    <tr>\n",
       "      <th>4</th>\n",
       "      <td>63.244966</td>\n",
       "      <td>59.456923</td>\n",
       "      <td>57.186762</td>\n",
       "      <td>56.617362</td>\n",
       "      <td>57.799011</td>\n",
       "      <td>60.629413</td>\n",
       "      <td>54.480508</td>\n",
       "      <td>50.033246</td>\n",
       "      <td>47.313061</td>\n",
       "      <td>46.623231</td>\n",
       "      <td>...</td>\n",
       "      <td>12.244415</td>\n",
       "      <td>22.025569</td>\n",
       "      <td>31.262209</td>\n",
       "      <td>22.639030</td>\n",
       "      <td>15.739304</td>\n",
       "      <td>13.525003</td>\n",
       "      <td>17.836079</td>\n",
       "      <td>25.560237</td>\n",
       "      <td>36.681408</td>\n",
       "      <td>29.677023</td>\n",
       "    </tr>\n",
       "    <tr>\n",
       "      <th>5</th>\n",
       "      <td>77.580835</td>\n",
       "      <td>72.066539</td>\n",
       "      <td>67.589837</td>\n",
       "      <td>64.367585</td>\n",
       "      <td>62.593818</td>\n",
       "      <td>62.392195</td>\n",
       "      <td>69.808209</td>\n",
       "      <td>63.623785</td>\n",
       "      <td>58.504581</td>\n",
       "      <td>54.750215</td>\n",
       "      <td>...</td>\n",
       "      <td>6.662282</td>\n",
       "      <td>4.380183</td>\n",
       "      <td>46.899744</td>\n",
       "      <td>37.072712</td>\n",
       "      <td>27.371262</td>\n",
       "      <td>17.999611</td>\n",
       "      <td>9.939115</td>\n",
       "      <td>8.578228</td>\n",
       "      <td>49.537723</td>\n",
       "      <td>40.358221</td>\n",
       "    </tr>\n",
       "    <tr>\n",
       "      <th>6</th>\n",
       "      <td>68.913451</td>\n",
       "      <td>68.701264</td>\n",
       "      <td>69.933280</td>\n",
       "      <td>72.535948</td>\n",
       "      <td>76.369259</td>\n",
       "      <td>81.259238</td>\n",
       "      <td>58.964936</td>\n",
       "      <td>58.716809</td>\n",
       "      <td>60.153667</td>\n",
       "      <td>63.160618</td>\n",
       "      <td>...</td>\n",
       "      <td>34.627499</td>\n",
       "      <td>44.383147</td>\n",
       "      <td>6.607851</td>\n",
       "      <td>3.803117</td>\n",
       "      <td>13.611161</td>\n",
       "      <td>23.581003</td>\n",
       "      <td>33.568791</td>\n",
       "      <td>43.562182</td>\n",
       "      <td>13.094415</td>\n",
       "      <td>11.927435</td>\n",
       "    </tr>\n",
       "    <tr>\n",
       "      <th>7</th>\n",
       "      <td>75.123278</td>\n",
       "      <td>72.330643</td>\n",
       "      <td>70.851513</td>\n",
       "      <td>70.768298</td>\n",
       "      <td>72.085831</td>\n",
       "      <td>74.730061</td>\n",
       "      <td>65.809518</td>\n",
       "      <td>62.602777</td>\n",
       "      <td>60.887788</td>\n",
       "      <td>60.790935</td>\n",
       "      <td>...</td>\n",
       "      <td>17.907589</td>\n",
       "      <td>26.625116</td>\n",
       "      <td>25.597020</td>\n",
       "      <td>15.602002</td>\n",
       "      <td>5.624722</td>\n",
       "      <td>4.455617</td>\n",
       "      <td>14.424547</td>\n",
       "      <td>24.418898</td>\n",
       "      <td>27.250564</td>\n",
       "      <td>18.188135</td>\n",
       "    </tr>\n",
       "  </tbody>\n",
       "</table>\n",
       "<p>8 rows × 50 columns</p>\n",
       "</div>"
      ],
      "text/plain": [
       "          0          1          2          3          4          5   \\\n",
       "0  32.436802  31.066801  32.835135  37.298071  43.636523  51.158050   \n",
       "1  40.455170  30.838625  21.573614  13.409728   9.706740  14.443711   \n",
       "2  19.378442  13.443363  13.635395  19.776855  28.219213  37.436934   \n",
       "3  44.464503  37.553855  32.303127  29.608985  30.164416  33.809644   \n",
       "4  63.244966  59.456923  57.186762  56.617362  57.799011  60.629413   \n",
       "5  77.580835  72.066539  67.589837  64.367585  62.593818  62.392195   \n",
       "6  68.913451  68.701264  69.933280  72.535948  76.369259  81.259238   \n",
       "7  75.123278  72.330643  70.851513  70.768298  72.085831  74.730061   \n",
       "\n",
       "          6          7          8          9     ...             40  \\\n",
       "0  23.042268  21.070028  23.599706  29.494849    ...      42.153838   \n",
       "1  39.281303  29.281749  19.282655   9.285516    ...      50.325151   \n",
       "2  14.964090   5.396666   5.858669  15.476563    ...      53.728242   \n",
       "3  38.583572  30.362674  23.560390  19.705126    ...      31.296837   \n",
       "4  54.480508  50.033246  47.313061  46.623231    ...      12.244415   \n",
       "5  69.808209  63.623785  58.504581  54.750215    ...       6.662282   \n",
       "6  58.964936  58.716809  60.153667  63.160618    ...      34.627499   \n",
       "7  65.809518  62.602777  60.887788  60.790935    ...      17.907589   \n",
       "\n",
       "          41         42         43         44         45         46  \\\n",
       "0  49.899360  40.046799  38.945425  40.370114  44.076594  49.555485   \n",
       "1  51.449206  71.982087  67.050882  63.326304  61.029671  60.324297   \n",
       "2  59.092504  59.281734  57.615310  57.660420  59.413164  62.730567   \n",
       "3  34.823728  52.519444  46.813374  42.716414  40.717220  41.122889   \n",
       "4  22.025569  31.262209  22.639030  15.739304  13.525003  17.836079   \n",
       "5   4.380183  46.899744  37.072712  27.371262  17.999611   9.939115   \n",
       "6  44.383147   6.607851   3.803117  13.611161  23.581003  33.568791   \n",
       "7  26.625116  25.597020  15.602002   5.624722   4.455617  14.424547   \n",
       "\n",
       "          47         48         49  \n",
       "0  56.291617  49.825155  48.944316  \n",
       "1  61.265168  80.547010  76.172310  \n",
       "2  67.381926  69.012492  67.586419  \n",
       "3  43.866753  60.579634  55.705404  \n",
       "4  25.560237  36.681408  29.677023  \n",
       "5   8.578228  49.537723  40.358221  \n",
       "6  43.562182  13.094415  11.927435  \n",
       "7  24.418898  27.250564  18.188135  \n",
       "\n",
       "[8 rows x 50 columns]"
      ]
     },
     "execution_count": 418,
     "metadata": {},
     "output_type": "execute_result"
    }
   ],
   "source": [
    "pd.DataFrame(np.transpose(W)[H1])"
   ]
  },
  {
   "cell_type": "code",
   "execution_count": 419,
   "metadata": {},
   "outputs": [
    {
     "data": {
      "text/html": [
       "<div>\n",
       "<table border=\"1\" class=\"dataframe\">\n",
       "  <thead>\n",
       "    <tr style=\"text-align: right;\">\n",
       "      <th></th>\n",
       "      <th>0</th>\n",
       "      <th>1</th>\n",
       "      <th>2</th>\n",
       "    </tr>\n",
       "  </thead>\n",
       "  <tbody>\n",
       "    <tr>\n",
       "      <th>0</th>\n",
       "      <td>1.0</td>\n",
       "      <td>1.0</td>\n",
       "      <td>-0.0</td>\n",
       "    </tr>\n",
       "  </tbody>\n",
       "</table>\n",
       "</div>"
      ],
      "text/plain": [
       "     0    1    2\n",
       "0  1.0  1.0 -0.0"
      ]
     },
     "metadata": {},
     "output_type": "display_data"
    },
    {
     "data": {
      "text/html": [
       "<div>\n",
       "<table border=\"1\" class=\"dataframe\">\n",
       "  <thead>\n",
       "    <tr style=\"text-align: right;\">\n",
       "      <th></th>\n",
       "      <th>0</th>\n",
       "      <th>1</th>\n",
       "      <th>2</th>\n",
       "      <th>3</th>\n",
       "      <th>4</th>\n",
       "      <th>5</th>\n",
       "      <th>6</th>\n",
       "      <th>7</th>\n",
       "      <th>8</th>\n",
       "      <th>9</th>\n",
       "      <th>10</th>\n",
       "      <th>11</th>\n",
       "      <th>12</th>\n",
       "    </tr>\n",
       "  </thead>\n",
       "  <tbody>\n",
       "    <tr>\n",
       "      <th>0</th>\n",
       "      <td>1.0</td>\n",
       "      <td>0.0</td>\n",
       "      <td>1.0</td>\n",
       "      <td>1.0</td>\n",
       "      <td>1.0</td>\n",
       "      <td>1.0</td>\n",
       "      <td>1.0</td>\n",
       "      <td>0.0</td>\n",
       "      <td>1.0</td>\n",
       "      <td>0.0</td>\n",
       "      <td>0.0</td>\n",
       "      <td>0.0</td>\n",
       "      <td>1.0</td>\n",
       "    </tr>\n",
       "  </tbody>\n",
       "</table>\n",
       "</div>"
      ],
      "text/plain": [
       "    0    1    2    3    4    5    6    7    8    9    10   11   12\n",
       "0  1.0  0.0  1.0  1.0  1.0  1.0  1.0  0.0  1.0  0.0  0.0  0.0  1.0"
      ]
     },
     "metadata": {},
     "output_type": "display_data"
    },
    {
     "data": {
      "text/html": [
       "<div>\n",
       "<table border=\"1\" class=\"dataframe\">\n",
       "  <thead>\n",
       "    <tr style=\"text-align: right;\">\n",
       "      <th></th>\n",
       "      <th>0</th>\n",
       "      <th>1</th>\n",
       "    </tr>\n",
       "  </thead>\n",
       "  <tbody>\n",
       "    <tr>\n",
       "      <th>0</th>\n",
       "      <td>[13, 8]</td>\n",
       "      <td>[12, 0]</td>\n",
       "    </tr>\n",
       "    <tr>\n",
       "      <th>1</th>\n",
       "      <td>[3, 2]</td>\n",
       "      <td>[14, 5]</td>\n",
       "    </tr>\n",
       "    <tr>\n",
       "      <th>2</th>\n",
       "      <td>[8, 3]</td>\n",
       "      <td>[5, 6]</td>\n",
       "    </tr>\n",
       "    <tr>\n",
       "      <th>3</th>\n",
       "      <td>[2, 4]</td>\n",
       "      <td>[6, 12]</td>\n",
       "    </tr>\n",
       "    <tr>\n",
       "      <th>4</th>\n",
       "      <td>[4, 13]</td>\n",
       "      <td>[0, 14]</td>\n",
       "    </tr>\n",
       "  </tbody>\n",
       "</table>\n",
       "</div>"
      ],
      "text/plain": [
       "         0        1\n",
       "0  [13, 8]  [12, 0]\n",
       "1   [3, 2]  [14, 5]\n",
       "2   [8, 3]   [5, 6]\n",
       "3   [2, 4]  [6, 12]\n",
       "4  [4, 13]  [0, 14]"
      ]
     },
     "metadata": {},
     "output_type": "display_data"
    },
    {
     "data": {
      "image/png": "[encoded data removed]",
      "text/plain": [
       "<matplotlib.figure.Figure at 0xaa13198>"
      ]
     },
     "metadata": {},
     "output_type": "display_data"
    }
   ],
   "source": [
    "from pkg.draw_solution_II import draw_solution_II\n",
    "\n",
    "new_Y = new_assignement(W,N_icp_swap)\n",
    "g3 = draw_solution_II(I,J,C,N_crc, N_icp_swap,\n",
    "            new_Y, np.zeros((3,8)), routes_swap.tolist(), expid,\n",
    "            G, pos, labels, colors, size)"
   ]
  },
  {
   "cell_type": "code",
   "execution_count": 420,
   "metadata": {},
   "outputs": [
    {
     "data": {
      "text/plain": [
       "(2595.5420779979977,\n",
       " 518.93540834391376,\n",
       " 197.53784012816996,\n",
       " 800.0,\n",
       " 1079.0688295259142)"
      ]
     },
     "execution_count": 420,
     "metadata": {},
     "output_type": "execute_result"
    }
   ],
   "source": [
    "from pkg.objective_III import objective_III\n",
    "objective_III(new_Y,routes_swap,N_icp_swap, N_crc,\n",
    "                I,J,C,B,\n",
    "                W,DjUc,Dc,\n",
    "                FCV,FCT,FCR)"
   ]
  },
  {
   "cell_type": "markdown",
   "metadata": {},
   "source": [
    "## final Algorithm"
   ]
  },
  {
   "cell_type": "code",
   "execution_count": 421,
   "metadata": {
    "collapsed": true
   },
   "outputs": [],
   "source": [
    "best_solution = []"
   ]
  },
  {
   "cell_type": "code",
   "execution_count": 422,
   "metadata": {},
   "outputs": [
    {
     "name": "stdout",
     "output_type": "stream",
     "text": [
      "30 0 1\n"
     ]
    },
    {
     "data": {
      "text/html": [
       "<div>\n",
       "<table border=\"1\" class=\"dataframe\">\n",
       "  <thead>\n",
       "    <tr style=\"text-align: right;\">\n",
       "      <th></th>\n",
       "      <th>0</th>\n",
       "      <th>1</th>\n",
       "      <th>2</th>\n",
       "    </tr>\n",
       "  </thead>\n",
       "  <tbody>\n",
       "    <tr>\n",
       "      <th>0</th>\n",
       "      <td>1.0</td>\n",
       "      <td>1.0</td>\n",
       "      <td>0.0</td>\n",
       "    </tr>\n",
       "  </tbody>\n",
       "</table>\n",
       "</div>"
      ],
      "text/plain": [
       "     0    1    2\n",
       "0  1.0  1.0  0.0"
      ]
     },
     "metadata": {},
     "output_type": "display_data"
    },
    {
     "data": {
      "text/html": [
       "<div>\n",
       "<table border=\"1\" class=\"dataframe\">\n",
       "  <thead>\n",
       "    <tr style=\"text-align: right;\">\n",
       "      <th></th>\n",
       "      <th>0</th>\n",
       "      <th>1</th>\n",
       "      <th>2</th>\n",
       "      <th>3</th>\n",
       "      <th>4</th>\n",
       "      <th>5</th>\n",
       "      <th>6</th>\n",
       "      <th>7</th>\n",
       "      <th>8</th>\n",
       "      <th>9</th>\n",
       "      <th>10</th>\n",
       "      <th>11</th>\n",
       "      <th>12</th>\n",
       "    </tr>\n",
       "  </thead>\n",
       "  <tbody>\n",
       "    <tr>\n",
       "      <th>0</th>\n",
       "      <td>1.0</td>\n",
       "      <td>1.0</td>\n",
       "      <td>1.0</td>\n",
       "      <td>1.0</td>\n",
       "      <td>1.0</td>\n",
       "      <td>1.0</td>\n",
       "      <td>1.0</td>\n",
       "      <td>-0.0</td>\n",
       "      <td>-0.0</td>\n",
       "      <td>0.0</td>\n",
       "      <td>0.0</td>\n",
       "      <td>-0.0</td>\n",
       "      <td>1.0</td>\n",
       "    </tr>\n",
       "  </tbody>\n",
       "</table>\n",
       "</div>"
      ],
      "text/plain": [
       "    0    1    2    3    4    5    6    7    8    9    10   11   12\n",
       "0  1.0  1.0  1.0  1.0  1.0  1.0  1.0 -0.0 -0.0  0.0  0.0 -0.0  1.0"
      ]
     },
     "metadata": {},
     "output_type": "display_data"
    },
    {
     "data": {
      "text/html": [
       "<div>\n",
       "<table border=\"1\" class=\"dataframe\">\n",
       "  <thead>\n",
       "    <tr style=\"text-align: right;\">\n",
       "      <th></th>\n",
       "      <th>0</th>\n",
       "      <th>1</th>\n",
       "    </tr>\n",
       "  </thead>\n",
       "  <tbody>\n",
       "    <tr>\n",
       "      <th>0</th>\n",
       "      <td>(13, 1)</td>\n",
       "      <td>(12, 0)</td>\n",
       "    </tr>\n",
       "    <tr>\n",
       "      <th>1</th>\n",
       "      <td>(3, 2)</td>\n",
       "      <td>(14, 5)</td>\n",
       "    </tr>\n",
       "    <tr>\n",
       "      <th>2</th>\n",
       "      <td>(1, 3)</td>\n",
       "      <td>(5, 6)</td>\n",
       "    </tr>\n",
       "    <tr>\n",
       "      <th>3</th>\n",
       "      <td>(2, 4)</td>\n",
       "      <td>(6, 12)</td>\n",
       "    </tr>\n",
       "    <tr>\n",
       "      <th>4</th>\n",
       "      <td>(4, 13)</td>\n",
       "      <td>(0, 14)</td>\n",
       "    </tr>\n",
       "  </tbody>\n",
       "</table>\n",
       "</div>"
      ],
      "text/plain": [
       "         0        1\n",
       "0  (13, 1)  (12, 0)\n",
       "1   (3, 2)  (14, 5)\n",
       "2   (1, 3)   (5, 6)\n",
       "3   (2, 4)  (6, 12)\n",
       "4  (4, 13)  (0, 14)"
      ]
     },
     "metadata": {},
     "output_type": "display_data"
    },
    {
     "data": {
      "image/png": "[encoded data removed]",
      "text/plain": [
       "<matplotlib.figure.Figure at 0xaac6588>"
      ]
     },
     "metadata": {},
     "output_type": "display_data"
    }
   ],
   "source": [
    "# %%file \"./pkg/pmd_first_tsp_second.py\"\n",
    "\n",
    "# def pmd_first_tsp_second(G,pos, labels, colors, size,\n",
    "#                 I,J,C,\n",
    "#                 W1,W2,W3,F1,F2,\n",
    "#                 U,Q_icp,Q_crc,\n",
    "#                 plots=True, expid=\"\"):\n",
    "    \n",
    "from pkg.cflp_cplex import cflp_cplex\n",
    "from pkg.pm_flp_cplex import pm_flp_cplex\n",
    "from pkg.tsp_cplex import tsp_cplex\n",
    "from pkg.read_problem import read_problem, extract_problem\n",
    "from pkg.draw_solution_II import draw_solution_II\n",
    "from pkg.lrp_nodes_graph import lrp_nodes_graph, lrp_draw_and_save\n",
    "import numpy as np\n",
    "import pandas as pd\n",
    "from IPython.display import display, HTML\n",
    "\n",
    "W1,W2,W3,F1,F2 = W,Dcj,DjUc,FCT,FCRD\n",
    "plots = True\n",
    "\n",
    "#######################################################################\n",
    "# 1 Solve first problem\n",
    "prob1, Y1, N_icp = pm_flp_cplex(I,J,\n",
    "            W1,8,\n",
    "            relaxation=False)\n",
    "\n",
    "#######################################################################\n",
    "# 2 Prepare 2nd problem\n",
    "H1 = [j for j,vj in enumerate(N_icp) if vj > 0.5]\n",
    "\n",
    "# 12 Prepare 2nd problem\n",
    "Y1_capa = capacity_balancing(Y12,W,U,J,Q_icp,N_icp2)\n",
    "\n",
    "c2=[];    u2=[];\n",
    "for j in H1:\n",
    "    c2.append(W2[j])\n",
    "    sqi = 0\n",
    "    for i in range(I):\n",
    "        sqi += U[i]*Y1[i][j]\n",
    "    u2.append(sqi)\n",
    "\n",
    "#######################################################################        \n",
    "# 3. Solve Second problem\n",
    "prob2, Y2, N_crc = pm_flp_cplex(len(u2),C,\n",
    "        c2,2,\n",
    "        relaxation=False)    \n",
    "\n",
    "#######################################################################\n",
    "# Preparing TSP\n",
    "H2 = [j for j,vj in enumerate(N_crc) if vj > 0.5]\n",
    "tY2 = np.transpose(Y2)\n",
    "W3 = np.asarray(W3)\n",
    "\n",
    "#/!\\ Use H1 as a labeling array\n",
    "\n",
    "S_tsp = [] #set of ICP in each TSP\n",
    "for c,vc in enumerate(H2):\n",
    "    S_tsp.append([H1[j] for j,vj in enumerate(tY2[c]) if vj > 0.5]+[J+vc])\n",
    "\n",
    "w_tsp = []\n",
    "for submat in S_tsp:\n",
    "    w_tsp.append(W3[submat,:][:,submat])\n",
    "#######################################################################\n",
    "# Solving TSP\n",
    "routes = []\n",
    "for c,vc in enumerate(w_tsp):\n",
    "    prob, X = tsp_cplex(len(vc),vc, relaxation=False)\n",
    "    # Extract routes\n",
    "    path = []\n",
    "    for j,xj in enumerate(X):\n",
    "        for i,xij in enumerate(xj):\n",
    "            if xij == 1:\n",
    "                path.append((S_tsp[c][i],S_tsp[c][j]))\n",
    "    routes.append(path)\n",
    "#######################################################################\n",
    "# Draw solution\n",
    "if(plots):\n",
    "     draw_solution_II(I,J,C,N_crc, N_icp,\n",
    "                Y1,Y2, routes, expid,\n",
    "                G, pos, labels, colors, size)\n",
    "\n",
    "#######################################################################\n",
    "# Compute objective funtion\n",
    "obj = objective_III(new_Y,routes_swap,N_icp_swap, N_crc,\n",
    "                I,J,C,B,\n",
    "                W,DjUc,Dc,\n",
    "                FCV,FCT,FCR)\n",
    "\n",
    "best_solution = { \"obj\" : obj,\n",
    "                  \"Y1\" : Y1,\n",
    "                  \"Y2\" : Y2,\n",
    "                  \"N_crc\" : N_crc,\n",
    "                  \"N_icp\" : N_icp,\n",
    "                  \"routes\" : routes}"
   ]
  },
  {
   "cell_type": "code",
   "execution_count": 427,
   "metadata": {},
   "outputs": [
    {
     "name": "stdout",
     "output_type": "stream",
     "text": [
      "swap: 1 8\n"
     ]
    },
    {
     "data": {
      "text/html": [
       "<div>\n",
       "<table border=\"1\" class=\"dataframe\">\n",
       "  <thead>\n",
       "    <tr style=\"text-align: right;\">\n",
       "      <th></th>\n",
       "      <th>0</th>\n",
       "      <th>1</th>\n",
       "      <th>2</th>\n",
       "    </tr>\n",
       "  </thead>\n",
       "  <tbody>\n",
       "    <tr>\n",
       "      <th>0</th>\n",
       "      <td>1.0</td>\n",
       "      <td>1.0</td>\n",
       "      <td>0.0</td>\n",
       "    </tr>\n",
       "  </tbody>\n",
       "</table>\n",
       "</div>"
      ],
      "text/plain": [
       "     0    1    2\n",
       "0  1.0  1.0  0.0"
      ]
     },
     "metadata": {},
     "output_type": "display_data"
    },
    {
     "data": {
      "text/html": [
       "<div>\n",
       "<table border=\"1\" class=\"dataframe\">\n",
       "  <thead>\n",
       "    <tr style=\"text-align: right;\">\n",
       "      <th></th>\n",
       "      <th>0</th>\n",
       "      <th>1</th>\n",
       "      <th>2</th>\n",
       "      <th>3</th>\n",
       "      <th>4</th>\n",
       "      <th>5</th>\n",
       "      <th>6</th>\n",
       "      <th>7</th>\n",
       "      <th>8</th>\n",
       "      <th>9</th>\n",
       "      <th>10</th>\n",
       "      <th>11</th>\n",
       "      <th>12</th>\n",
       "    </tr>\n",
       "  </thead>\n",
       "  <tbody>\n",
       "    <tr>\n",
       "      <th>0</th>\n",
       "      <td>1.0</td>\n",
       "      <td>0.0</td>\n",
       "      <td>1.0</td>\n",
       "      <td>1.0</td>\n",
       "      <td>1.0</td>\n",
       "      <td>1.0</td>\n",
       "      <td>1.0</td>\n",
       "      <td>-0.0</td>\n",
       "      <td>1.0</td>\n",
       "      <td>0.0</td>\n",
       "      <td>0.0</td>\n",
       "      <td>-0.0</td>\n",
       "      <td>1.0</td>\n",
       "    </tr>\n",
       "  </tbody>\n",
       "</table>\n",
       "</div>"
      ],
      "text/plain": [
       "    0    1    2    3    4    5    6    7    8    9    10   11   12\n",
       "0  1.0  0.0  1.0  1.0  1.0  1.0  1.0 -0.0  1.0  0.0  0.0 -0.0  1.0"
      ]
     },
     "metadata": {},
     "output_type": "display_data"
    },
    {
     "data": {
      "text/html": [
       "<div>\n",
       "<table border=\"1\" class=\"dataframe\">\n",
       "  <thead>\n",
       "    <tr style=\"text-align: right;\">\n",
       "      <th></th>\n",
       "      <th>0</th>\n",
       "      <th>1</th>\n",
       "    </tr>\n",
       "  </thead>\n",
       "  <tbody>\n",
       "    <tr>\n",
       "      <th>0</th>\n",
       "      <td>[13, 8]</td>\n",
       "      <td>[12, 0]</td>\n",
       "    </tr>\n",
       "    <tr>\n",
       "      <th>1</th>\n",
       "      <td>[3, 2]</td>\n",
       "      <td>[14, 5]</td>\n",
       "    </tr>\n",
       "    <tr>\n",
       "      <th>2</th>\n",
       "      <td>[8, 3]</td>\n",
       "      <td>[5, 6]</td>\n",
       "    </tr>\n",
       "    <tr>\n",
       "      <th>3</th>\n",
       "      <td>[2, 4]</td>\n",
       "      <td>[6, 12]</td>\n",
       "    </tr>\n",
       "    <tr>\n",
       "      <th>4</th>\n",
       "      <td>[4, 13]</td>\n",
       "      <td>[0, 14]</td>\n",
       "    </tr>\n",
       "  </tbody>\n",
       "</table>\n",
       "</div>"
      ],
      "text/plain": [
       "         0        1\n",
       "0  [13, 8]  [12, 0]\n",
       "1   [3, 2]  [14, 5]\n",
       "2   [8, 3]   [5, 6]\n",
       "3   [2, 4]  [6, 12]\n",
       "4  [4, 13]  [0, 14]"
      ]
     },
     "metadata": {},
     "output_type": "display_data"
    },
    {
     "data": {
      "text/plain": [
       "<networkx.classes.graph.Graph at 0xa8d6cf8>"
      ]
     },
     "execution_count": 427,
     "metadata": {},
     "output_type": "execute_result"
    },
    {
     "data": {
      "image/png": "[encoded data removed]",
      "text/plain": [
       "<matplotlib.figure.Figure at 0xa8d62b0>"
      ]
     },
     "metadata": {},
     "output_type": "display_data"
    }
   ],
   "source": [
    "swap_list = swap_list_byRoute(best_solution[\"Y1\"],W,DjUc,best_solution[\"N_icp\"])\n",
    "\n",
    "for iswap, swap in enumerate(swap_list)\n",
    "\n",
    "routes_swap, N_icp_swap = swap_arcs(swap, best_solution[\"routes\"], best_solution[\"N_icp\"])\n",
    "ney_Y = new_assignement(W,N_icp_swap)\n",
    "draw_solution_II(I,J,C,N_crc, N_icp_swap,\n",
    "        new_Y, np.zeros((3,8)), routes_swap.tolist(), expid,\n",
    "        G, pos, labels, colors, size, path=expid+ \"/\"+ str(iswap) +\"_swap.png\")"
   ]
  },
  {
   "cell_type": "markdown",
   "metadata": {},
   "source": [
    "# Run experiment"
   ]
  },
  {
   "cell_type": "markdown",
   "metadata": {
    "collapsed": true
   },
   "source": [
    "## Results"
   ]
  },
  {
   "cell_type": "code",
   "execution_count": null,
   "metadata": {},
   "outputs": [],
   "source": [
    "objects = ('UFLP', 'CFLP', 'TUFLP', 'TCFLP')\n",
    "y_pos = np.arange(len(objects))\n",
    "performance = [result1.best,result2.best,result3.best,result4.best]\n",
    " \n",
    "plt.bar(y_pos, performance, align='center', alpha=0.5)\n",
    "plt.xticks(y_pos, objects)\n",
    "plt.ylabel('Time s')\n",
    "plt.title('Best processing time for each subproblem')\n",
    " \n",
    "plt.show()"
   ]
  }
 ],
 "metadata": {
  "hide_input": false,
  "kernelspec": {
   "display_name": "Py35",
   "language": "python",
   "name": "py35"
  },
  "language_info": {
   "codemirror_mode": {
    "name": "ipython",
    "version": 3
   },
   "file_extension": ".py",
   "mimetype": "text/x-python",
   "name": "python",
   "nbconvert_exporter": "python",
   "pygments_lexer": "ipython3",
   "version": "3.5.3"
  },
  "toc": {
   "colors": {
    "hover_highlight": "#DAA520",
    "running_highlight": "#FF0000",
    "selected_highlight": "#FFD700"
   },
   "moveMenuLeft": true,
   "nav_menu": {
    "height": "192px",
    "width": "252px"
   },
   "navigate_menu": true,
   "number_sections": true,
   "sideBar": true,
   "threshold": 4,
   "toc_cell": false,
   "toc_section_display": "block",
   "toc_window_display": true,
   "widenNotebook": false
  }
 },
 "nbformat": 4,
 "nbformat_minor": 2
}
