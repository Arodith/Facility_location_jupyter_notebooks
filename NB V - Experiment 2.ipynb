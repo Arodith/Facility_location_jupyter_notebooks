{
 "cells": [
  {
   "cell_type": "code",
   "execution_count": 3,
   "metadata": {},
   "outputs": [],
   "source": [
    "import csv\n",
    "import math as m\n",
    "from random import uniform as unif\n",
    "import networkx as nx\n",
    "import pandas as pd\n",
    "import os\n",
    "\n",
    "import numpy as np\n",
    "import matplotlib as mpl\n",
    "import matplotlib.pyplot as plt\n",
    "from IPython.display import display, HTML\n",
    "%matplotlib inline\n",
    "\n",
    "%load_ext autoreload\n",
    "%autoreload 2"
   ]
  },
  {
   "cell_type": "code",
   "execution_count": 4,
   "metadata": {
    "collapsed": true
   },
   "outputs": [],
   "source": [
    "expid = \"./exp2_run0\""
   ]
  },
  {
   "cell_type": "code",
   "execution_count": 5,
   "metadata": {
    "collapsed": true
   },
   "outputs": [],
   "source": [
    "if not os.path.exists(expid):\n",
    "    os.makedirs(expid)"
   ]
  },
  {
   "cell_type": "markdown",
   "metadata": {},
   "source": [
    "# Problem instance"
   ]
  },
  {
   "cell_type": "markdown",
   "metadata": {},
   "source": [
    "## Geographic data"
   ]
  },
  {
   "cell_type": "code",
   "execution_count": 6,
   "metadata": {
    "collapsed": true
   },
   "outputs": [],
   "source": [
    "from pkg.read_problem import read_problem, extract_problem"
   ]
  },
  {
   "cell_type": "code",
   "execution_count": 7,
   "metadata": {
    "collapsed": true
   },
   "outputs": [],
   "source": [
    "xy_customers, xy_icps, xy_crcs, xy_pc, q = read_problem('./datasets/original')"
   ]
  },
  {
   "cell_type": "code",
   "execution_count": 8,
   "metadata": {
    "collapsed": true
   },
   "outputs": [],
   "source": [
    "xy_icps = xy_icps + [[unif(20,100),unif(20,70)] for i in range(5)]\n",
    "xy_crcs = xy_crcs + [[unif(20,100),unif(20,70)] for i in range(1)]"
   ]
  },
  {
   "cell_type": "code",
   "execution_count": 9,
   "metadata": {
    "collapsed": true
   },
   "outputs": [],
   "source": [
    "I,J,C,B,K,V,W,DjUc,Dcj,Dc,FCV,FCT,FCR,U = extract_problem(xy_customers, xy_icps, xy_crcs, xy_pc, q)"
   ]
  },
  {
   "cell_type": "markdown",
   "metadata": {},
   "source": [
    "## Capacity constraints"
   ]
  },
  {
   "cell_type": "code",
   "execution_count": 10,
   "metadata": {
    "collapsed": true
   },
   "outputs": [],
   "source": [
    "Q_icp = [200 for j in range(J)]\n",
    "Q_crc = [800 for c in range(C)]\n",
    "V = [Q_icp,Q_crc]"
   ]
  },
  {
   "cell_type": "markdown",
   "metadata": {},
   "source": [
    "## Adapting costs"
   ]
  },
  {
   "cell_type": "code",
   "execution_count": 11,
   "metadata": {
    "collapsed": true
   },
   "outputs": [],
   "source": [
    "# two-level cost\n",
    "FCRD = []\n",
    "for c in range(C):\n",
    "    FCRD.append(FCR[c] + Dc[c])\n",
    "\n",
    "f = FCT+FCRD\n",
    "c = [[[W[i][j1] + Dcj[j1][j2] for j2 in range(C)] for j1 in range(J)] for i in range(I)]"
   ]
  },
  {
   "cell_type": "markdown",
   "metadata": {},
   "source": [
    "# Plot Problem"
   ]
  },
  {
   "cell_type": "code",
   "execution_count": 12,
   "metadata": {},
   "outputs": [
    {
     "data": {
      "image/png": "[encoded data removed]",
      "text/plain": [
       "<matplotlib.figure.Figure at 0xa63def0>"
      ]
     },
     "metadata": {},
     "output_type": "display_data"
    }
   ],
   "source": [
    "from pkg.lrp_nodes_graph import lrp_nodes_graph, lrp_draw_and_save\n",
    "G, pos, labels, colors, size = lrp_nodes_graph(xy_customers, xy_icps, xy_crcs, xy_pc)\n",
    "\n",
    "lrp_draw_and_save(G, pos, labels, colors, size, expid+\"/problem.png\")"
   ]
  },
  {
   "cell_type": "markdown",
   "metadata": {},
   "source": [
    "# Define Functions"
   ]
  },
  {
   "cell_type": "code",
   "execution_count": 27,
   "metadata": {
    "code_folding": []
   },
   "outputs": [
    {
     "name": "stdout",
     "output_type": "stream",
     "text": [
      "Overwriting ./pkg/cflp_first_tsp_second.py\n"
     ]
    }
   ],
   "source": [
    "%%file \"./pkg/cflp_first_tsp_second.py\"\n",
    "\n",
    "def cflp_first_tsp_second(G,pos, labels, colors, size,\n",
    "                I,J,C,\n",
    "                W1,W2,W3,F1,F2,\n",
    "                U,Q_icp,Q_crc,\n",
    "                plots=True, expid=\"\"):\n",
    "    \n",
    "    from pkg.cflp_cplex import cflp_cplex\n",
    "    from pkg.tsp_cplex import tsp_cplex\n",
    "    from pkg.read_problem import read_problem, extract_problem\n",
    "    from pkg.lrp_nodes_graph import lrp_nodes_graph, lrp_draw_and_save\n",
    "    import numpy as np\n",
    "    import pandas as pd\n",
    "    from IPython.display import display, HTML\n",
    "\n",
    "    #######################################################################\n",
    "    # Solve first problem\n",
    "    prob1, Y1, N_icp = cflp_cplex(I,J,\n",
    "                W1,F1,U,Q_icp,\n",
    "                relaxation=False)\n",
    "    \n",
    "    #######################################################################\n",
    "    # Prepare 2nd problem\n",
    "    H1 = [j for j,vj in enumerate(N_icp) if vj > 0.5]\n",
    "    \n",
    "    c2=[];    u2=[];\n",
    "    for j in H1:\n",
    "        c2.append(W2[j])\n",
    "        sqi = 0\n",
    "        for i in range(I):\n",
    "            sqi += U[i]*Y1[i][j]\n",
    "        u2.append(sqi)\n",
    "    #######################################################################        \n",
    "    # Solve Second problem\n",
    "    prob2, Y2, N_crc = cflp_cplex(len(u2),C,\n",
    "            c2,F2,u2,Q_crc,\n",
    "            relaxation=False)    \n",
    "    #######################################################################\n",
    "    # Preparing TSP\n",
    "    H2 = [j for j,vj in enumerate(N_crc) if vj > 0.5]\n",
    "    tY2 = np.transpose(Y2)\n",
    "    W3 = np.asarray(W3)\n",
    "    \n",
    "    #/!\\ Use H1 as a labeling array\n",
    "\n",
    "    S_tsp = [] #set of ICP in each TSP\n",
    "    for c,vc in enumerate(H2):\n",
    "        S_tsp.append([H1[j] for j,vj in enumerate(tY2[c]) if vj > 0.5]+[J+vc])\n",
    "    \n",
    "    w_tsp = []\n",
    "    for submat in S_tsp:\n",
    "        w_tsp.append(W3[submat,:][:,submat])\n",
    "    #######################################################################\n",
    "    # Solving TSP\n",
    "    routes = []\n",
    "    for c,vc in enumerate(w_tsp):\n",
    "        prob, X = tsp_cplex(len(vc),vc, relaxation=False)\n",
    "        # Extract routes\n",
    "        path = []\n",
    "        for j,xj in enumerate(X):\n",
    "            for i,xij in enumerate(xj):\n",
    "                if xij == 1:\n",
    "                    path.append((S_tsp[c][i],S_tsp[c][j]))\n",
    "        routes.append(path)\n",
    "    #######################################################################\n",
    "    # Draw solution\n",
    "    if(plots):\n",
    "        ###############################\n",
    "        # DataFrames\n",
    "        display(pd.DataFrame(N_crc).transpose())\n",
    "        display(pd.DataFrame(N_icp).transpose())\n",
    "        for c,vc in enumerate(w_tsp):\n",
    "            display(pd.DataFrame(path).transpose())   \n",
    "        ###############################\n",
    "        # Network\n",
    "        G2 = G.copy()\n",
    "        colors = colors[:];size = size[:];\n",
    "        # ICP-Cus\n",
    "        for j,vj in enumerate(Y1):\n",
    "            for i,vi in enumerate(vj):\n",
    "                if vi == 1:\n",
    "                    G2.add_edge(I+i,j)\n",
    "        # ICP\n",
    "        for j,vj in enumerate(N_icp):\n",
    "            if vj < 0.5:\n",
    "                colors[I+j] = \"grey\"\n",
    "                labels[I+j] = \"\"\n",
    "                size[I+j] = 50\n",
    "                \n",
    "        # ICP-CRC\n",
    "        for j,vj in enumerate(Y2):\n",
    "            for i,vi in enumerate(vj):\n",
    "                if vi == 1:\n",
    "                    G2.add_edge(I+J+i,I+H1[j])\n",
    "        # CRC\n",
    "        for j,vj in enumerate(N_crc):\n",
    "            if vj < 0.5:\n",
    "                colors[I+J+j] = \"grey\"\n",
    "                labels[I+J+j] = \"\"\n",
    "                size[I+J+j] = 50\n",
    "                \n",
    "        # Routes\n",
    "        for r,vr in enumerate(routes):\n",
    "            for c, vc in enumerate(vr):\n",
    "                G2.add_edge(I+vc[0],I+vc[1])\n",
    "\n",
    "        lrp_draw_and_save(G2, pos, labels, colors, size, expid+\"/cflp_cplex.png\")\n",
    "    \n",
    "    return Y1, N_icp, N_crc, routes"
   ]
  },
  {
   "cell_type": "code",
   "execution_count": 20,
   "metadata": {},
   "outputs": [],
   "source": [
    "from pkg.cflp_first_tsp_second import cflp_first_tsp_second"
   ]
  },
  {
   "cell_type": "code",
   "execution_count": 28,
   "metadata": {
    "code_folding": []
   },
   "outputs": [
    {
     "data": {
      "text/html": [
       "<div>\n",
       "<table border=\"1\" class=\"dataframe\">\n",
       "  <thead>\n",
       "    <tr style=\"text-align: right;\">\n",
       "      <th></th>\n",
       "      <th>0</th>\n",
       "      <th>1</th>\n",
       "      <th>2</th>\n",
       "    </tr>\n",
       "  </thead>\n",
       "  <tbody>\n",
       "    <tr>\n",
       "      <th>0</th>\n",
       "      <td>1.0</td>\n",
       "      <td>1.0</td>\n",
       "      <td>0.0</td>\n",
       "    </tr>\n",
       "  </tbody>\n",
       "</table>\n",
       "</div>"
      ],
      "text/plain": [
       "     0    1    2\n",
       "0  1.0  1.0  0.0"
      ]
     },
     "metadata": {},
     "output_type": "display_data"
    },
    {
     "data": {
      "text/html": [
       "<div>\n",
       "<table border=\"1\" class=\"dataframe\">\n",
       "  <thead>\n",
       "    <tr style=\"text-align: right;\">\n",
       "      <th></th>\n",
       "      <th>0</th>\n",
       "      <th>1</th>\n",
       "      <th>2</th>\n",
       "      <th>3</th>\n",
       "      <th>4</th>\n",
       "      <th>5</th>\n",
       "      <th>6</th>\n",
       "      <th>7</th>\n",
       "      <th>8</th>\n",
       "      <th>9</th>\n",
       "      <th>10</th>\n",
       "      <th>11</th>\n",
       "      <th>12</th>\n",
       "    </tr>\n",
       "  </thead>\n",
       "  <tbody>\n",
       "    <tr>\n",
       "      <th>0</th>\n",
       "      <td>0.0</td>\n",
       "      <td>1.0</td>\n",
       "      <td>1.0</td>\n",
       "      <td>1.0</td>\n",
       "      <td>1.0</td>\n",
       "      <td>1.0</td>\n",
       "      <td>1.0</td>\n",
       "      <td>1.0</td>\n",
       "      <td>1.0</td>\n",
       "      <td>0.0</td>\n",
       "      <td>0.0</td>\n",
       "      <td>0.0</td>\n",
       "      <td>0.0</td>\n",
       "    </tr>\n",
       "  </tbody>\n",
       "</table>\n",
       "</div>"
      ],
      "text/plain": [
       "    0    1    2    3    4    5    6    7    8    9    10   11   12\n",
       "0  0.0  1.0  1.0  1.0  1.0  1.0  1.0  1.0  1.0  0.0  0.0  0.0  0.0"
      ]
     },
     "metadata": {},
     "output_type": "display_data"
    },
    {
     "data": {
      "text/html": [
       "<div>\n",
       "<table border=\"1\" class=\"dataframe\">\n",
       "  <thead>\n",
       "    <tr style=\"text-align: right;\">\n",
       "      <th></th>\n",
       "      <th>0</th>\n",
       "      <th>1</th>\n",
       "      <th>2</th>\n",
       "      <th>3</th>\n",
       "      <th>4</th>\n",
       "    </tr>\n",
       "  </thead>\n",
       "  <tbody>\n",
       "    <tr>\n",
       "      <th>0</th>\n",
       "      <td>6</td>\n",
       "      <td>14</td>\n",
       "      <td>8</td>\n",
       "      <td>5</td>\n",
       "      <td>7</td>\n",
       "    </tr>\n",
       "    <tr>\n",
       "      <th>1</th>\n",
       "      <td>5</td>\n",
       "      <td>6</td>\n",
       "      <td>7</td>\n",
       "      <td>8</td>\n",
       "      <td>14</td>\n",
       "    </tr>\n",
       "  </tbody>\n",
       "</table>\n",
       "</div>"
      ],
      "text/plain": [
       "   0   1  2  3   4\n",
       "0  6  14  8  5   7\n",
       "1  5   6  7  8  14"
      ]
     },
     "metadata": {},
     "output_type": "display_data"
    },
    {
     "data": {
      "text/html": [
       "<div>\n",
       "<table border=\"1\" class=\"dataframe\">\n",
       "  <thead>\n",
       "    <tr style=\"text-align: right;\">\n",
       "      <th></th>\n",
       "      <th>0</th>\n",
       "      <th>1</th>\n",
       "      <th>2</th>\n",
       "      <th>3</th>\n",
       "      <th>4</th>\n",
       "    </tr>\n",
       "  </thead>\n",
       "  <tbody>\n",
       "    <tr>\n",
       "      <th>0</th>\n",
       "      <td>6</td>\n",
       "      <td>14</td>\n",
       "      <td>8</td>\n",
       "      <td>5</td>\n",
       "      <td>7</td>\n",
       "    </tr>\n",
       "    <tr>\n",
       "      <th>1</th>\n",
       "      <td>5</td>\n",
       "      <td>6</td>\n",
       "      <td>7</td>\n",
       "      <td>8</td>\n",
       "      <td>14</td>\n",
       "    </tr>\n",
       "  </tbody>\n",
       "</table>\n",
       "</div>"
      ],
      "text/plain": [
       "   0   1  2  3   4\n",
       "0  6  14  8  5   7\n",
       "1  5   6  7  8  14"
      ]
     },
     "metadata": {},
     "output_type": "display_data"
    },
    {
     "name": "stdout",
     "output_type": "stream",
     "text": [
      "Wall time: 364 ms\n"
     ]
    },
    {
     "data": {
      "image/png": "[encoded data removed]",
      "text/plain": [
       "<matplotlib.figure.Figure at 0xaad9208>"
      ]
     },
     "metadata": {},
     "output_type": "display_data"
    }
   ],
   "source": [
    "%%time\n",
    "Y, N_icp, N_crc, routes = cflp_first_tsp_second(G,pos, labels, colors, size,\n",
    "                I,J,C,\n",
    "                W,Dcj,DjUc,FCT,FCRD,\n",
    "                U,Q_icp,Q_crc,\n",
    "                expid=expid)"
   ]
  },
  {
   "cell_type": "code",
   "execution_count": 192,
   "metadata": {
    "collapsed": true
   },
   "outputs": [],
   "source": [
    "from pkg.objective_III import objective_III"
   ]
  },
  {
   "cell_type": "code",
   "execution_count": 193,
   "metadata": {},
   "outputs": [
    {
     "data": {
      "text/plain": [
       "(2570.1543527942758,\n",
       " 514.90978984208959,\n",
       " 176.175733426272,\n",
       " 800.0,\n",
       " 1079.0688295259142)"
      ]
     },
     "execution_count": 193,
     "metadata": {},
     "output_type": "execute_result"
    }
   ],
   "source": [
    "objective_III(Y,routes,N_icp, N_crc,\n",
    "                I,J,C,B,\n",
    "                W,DjUc,Dc,\n",
    "                FCV,FCT,FCR)"
   ]
  },
  {
   "cell_type": "code",
   "execution_count": 50,
   "metadata": {
    "collapsed": true
   },
   "outputs": [],
   "source": [
    "def swap_list(Y,W,DjUc,N_icp):\n",
    "    cluster_len = np.max(np.multiply(Y,W),axis=0)\n",
    "    swaps = []\n",
    "    for j,l in enumerate(cluster_len):\n",
    "        for j_bis,n in enumerate(DjUc[j]):\n",
    "            if n<l and j != j_bis and j_bis < J and N_icp[j_bis] == 0:\n",
    "                swaps.append((j,j_bis))\n",
    "    return swaps"
   ]
  },
  {
   "cell_type": "code",
   "execution_count": 51,
   "metadata": {},
   "outputs": [
    {
     "data": {
      "text/plain": [
       "[(1, 10), (4, 10), (5, 9), (6, 12), (7, 0), (7, 11)]"
      ]
     },
     "execution_count": 51,
     "metadata": {},
     "output_type": "execute_result"
    }
   ],
   "source": [
    "swap_list(Y,W,DjUc,N_icp)"
   ]
  },
  {
   "cell_type": "code",
   "execution_count": 64,
   "metadata": {},
   "outputs": [
    {
     "data": {
      "text/plain": [
       "[[(13, 1), (3, 2), (1, 3), (2, 4), (4, 13)],\n",
       " [(6, 5), (14, 6), (8, 7), (5, 8), (7, 14)]]"
      ]
     },
     "execution_count": 64,
     "metadata": {},
     "output_type": "execute_result"
    }
   ],
   "source": [
    "routes"
   ]
  },
  {
   "cell_type": "code",
   "execution_count": 72,
   "metadata": {},
   "outputs": [],
   "source": [
    "def swap_list_byRoute(Y,W,DjUc,N_icp):\n",
    "    cluster_len = np.max(np.multiply(Y,W),axis=0)\n",
    "    swaps = []\n",
    "    for iroute,route in enumerate(routes):\n",
    "        for iarc,arc in enumerate(route): #chose on element\n",
    "            if arc[0] < len(cluster_len): # do not select CRC\n",
    "                for j_bis,n in enumerate(DjUc[arc[0]]): # look at other\n",
    "                    if j_bis < len(cluster_len):\n",
    "                        if n<cluster_len[arc[0]] and cluster_len[j_bis] == 0 and arc[0] != j_bis:\n",
    "                            coarc = [co for co in route if co[1] == arc[0]]\n",
    "                            swaps.append((iroute,arc,coarc[0],j_bis))\n",
    "                            \n",
    "    return swaps"
   ]
  },
  {
   "cell_type": "code",
   "execution_count": 73,
   "metadata": {},
   "outputs": [
    {
     "data": {
      "text/plain": [
       "[(0, (1, 3), (13, 1), 10),\n",
       " (0, (4, 13), (2, 4), 10),\n",
       " (1, (6, 5), (14, 6), 12),\n",
       " (1, (5, 8), (6, 5), 9),\n",
       " (1, (7, 14), (8, 7), 0),\n",
       " (1, (7, 14), (8, 7), 11)]"
      ]
     },
     "execution_count": 73,
     "metadata": {},
     "output_type": "execute_result"
    }
   ],
   "source": [
    "swap_list_byRoute(Y,W,DjUc,N_icp)"
   ]
  },
  {
   "cell_type": "code",
   "execution_count": 238,
   "metadata": {},
   "outputs": [
    {
     "data": {
      "text/plain": [
       "(array([ 0.,  0.,  0.,  0.,  0.,  0.,  0.,  0.,  0.,  0.,  0.,  0.,  1.,\n",
       "         0.,  0.,  0.,  0.,  0.,  1.,  1.,  1.,  0.,  0.,  0.,  1.,  1.,\n",
       "         1.,  0.,  0.,  0.,  0.,  0.,  0.,  0.,  0.,  0.,  0.,  0.,  0.,\n",
       "         0.,  0.,  0.,  0.,  0.,  0.,  0.,  0.,  0.,  0.,  0.]),\n",
       " array([ 0.,  0.,  0.,  0.,  0.,  0.,  0.,  0.,  0.,  0.,  0.,  0.,  0.,\n",
       "         0.,  0.,  0.,  0.,  0.,  0.,  0.,  0.,  0.,  0.,  0.,  0.,  0.,\n",
       "         0.,  0.,  0.,  0.,  0.,  0.,  0.,  0.,  0.,  0.,  0.,  0.,  0.,\n",
       "         0.,  0.,  0.,  0.,  0.,  0.,  0.,  0.,  0.,  0.,  0.]))"
      ]
     },
     "execution_count": 238,
     "metadata": {},
     "output_type": "execute_result"
    }
   ],
   "source": [
    "tY = np.transpose(np.copy(Y))\n",
    "tY[1], tY[12]"
   ]
  },
  {
   "cell_type": "code",
   "execution_count": 239,
   "metadata": {
    "collapsed": true
   },
   "outputs": [],
   "source": [
    "swap = swaps[0]\n",
    "# Update \n",
    "temp = tY[swap[0]].copy()\n",
    "tY[swap[0]] = tY[swap[1]]\n",
    "tY[swap[1]] = temp[:]"
   ]
  },
  {
   "cell_type": "code",
   "execution_count": 240,
   "metadata": {},
   "outputs": [
    {
     "data": {
      "text/plain": [
       "(array([ 0.,  0.,  0.,  0.,  0.,  0.,  0.,  0.,  0.,  0.,  0.,  0.,  0.,\n",
       "         0.,  0.,  0.,  0.,  0.,  0.,  0.,  0.,  0.,  0.,  0.,  0.,  0.,\n",
       "         0.,  0.,  0.,  0.,  0.,  0.,  0.,  0.,  0.,  0.,  0.,  0.,  0.,\n",
       "         0.,  0.,  0.,  0.,  0.,  0.,  0.,  0.,  0.,  0.,  0.]),\n",
       " array([ 0.,  0.,  0.,  0.,  0.,  0.,  0.,  0.,  0.,  0.,  0.,  0.,  1.,\n",
       "         0.,  0.,  0.,  0.,  0.,  1.,  1.,  1.,  0.,  0.,  0.,  1.,  1.,\n",
       "         1.,  0.,  0.,  0.,  0.,  0.,  0.,  0.,  0.,  0.,  0.,  0.,  0.,\n",
       "         0.,  0.,  0.,  0.,  0.,  0.,  0.,  0.,  0.,  0.,  0.]))"
      ]
     },
     "execution_count": 240,
     "metadata": {},
     "output_type": "execute_result"
    }
   ],
   "source": []
  },
  {
   "cell_type": "code",
   "execution_count": 232,
   "metadata": {},
   "outputs": [
    {
     "data": {
      "text/plain": [
       "[[1, 1, 1], [4, 5, 6], [2, 3, 4], [7, 1, 2], [1, 2, 3]]"
      ]
     },
     "execution_count": 232,
     "metadata": {},
     "output_type": "execute_result"
    }
   ],
   "source": [
    "matrix = [[1,1,1],[2,3,4],[4,5,6],[7,1,2],[1,2,3]]\n",
    "matrix[1], matrix[2] = matrix[2], matrix[1]\n",
    "matrix"
   ]
  },
  {
   "cell_type": "markdown",
   "metadata": {},
   "source": [
    "# Run experiment"
   ]
  },
  {
   "cell_type": "markdown",
   "metadata": {
    "collapsed": true
   },
   "source": [
    "## Results"
   ]
  },
  {
   "cell_type": "code",
   "execution_count": 151,
   "metadata": {},
   "outputs": [
    {
     "ename": "NameError",
     "evalue": "name 'result1' is not defined",
     "output_type": "error",
     "traceback": [
      "\u001b[1;31m---------------------------------------------------------------------------\u001b[0m",
      "\u001b[1;31mNameError\u001b[0m                                 Traceback (most recent call last)",
      "\u001b[1;32m<ipython-input-151-a251556947c9>\u001b[0m in \u001b[0;36m<module>\u001b[1;34m()\u001b[0m\n\u001b[0;32m      1\u001b[0m \u001b[0mobjects\u001b[0m \u001b[1;33m=\u001b[0m \u001b[1;33m(\u001b[0m\u001b[1;34m'UFLP'\u001b[0m\u001b[1;33m,\u001b[0m \u001b[1;34m'CFLP'\u001b[0m\u001b[1;33m,\u001b[0m \u001b[1;34m'TUFLP'\u001b[0m\u001b[1;33m,\u001b[0m \u001b[1;34m'TCFLP'\u001b[0m\u001b[1;33m)\u001b[0m\u001b[1;33m\u001b[0m\u001b[0m\n\u001b[0;32m      2\u001b[0m \u001b[0my_pos\u001b[0m \u001b[1;33m=\u001b[0m \u001b[0mnp\u001b[0m\u001b[1;33m.\u001b[0m\u001b[0marange\u001b[0m\u001b[1;33m(\u001b[0m\u001b[0mlen\u001b[0m\u001b[1;33m(\u001b[0m\u001b[0mobjects\u001b[0m\u001b[1;33m)\u001b[0m\u001b[1;33m)\u001b[0m\u001b[1;33m\u001b[0m\u001b[0m\n\u001b[1;32m----> 3\u001b[1;33m \u001b[0mperformance\u001b[0m \u001b[1;33m=\u001b[0m \u001b[1;33m[\u001b[0m\u001b[0mresult1\u001b[0m\u001b[1;33m.\u001b[0m\u001b[0mbest\u001b[0m\u001b[1;33m,\u001b[0m\u001b[0mresult2\u001b[0m\u001b[1;33m.\u001b[0m\u001b[0mbest\u001b[0m\u001b[1;33m,\u001b[0m\u001b[0mresult3\u001b[0m\u001b[1;33m.\u001b[0m\u001b[0mbest\u001b[0m\u001b[1;33m,\u001b[0m\u001b[0mresult4\u001b[0m\u001b[1;33m.\u001b[0m\u001b[0mbest\u001b[0m\u001b[1;33m]\u001b[0m\u001b[1;33m\u001b[0m\u001b[0m\n\u001b[0m\u001b[0;32m      4\u001b[0m \u001b[1;33m\u001b[0m\u001b[0m\n\u001b[0;32m      5\u001b[0m \u001b[0mplt\u001b[0m\u001b[1;33m.\u001b[0m\u001b[0mbar\u001b[0m\u001b[1;33m(\u001b[0m\u001b[0my_pos\u001b[0m\u001b[1;33m,\u001b[0m \u001b[0mperformance\u001b[0m\u001b[1;33m,\u001b[0m \u001b[0malign\u001b[0m\u001b[1;33m=\u001b[0m\u001b[1;34m'center'\u001b[0m\u001b[1;33m,\u001b[0m \u001b[0malpha\u001b[0m\u001b[1;33m=\u001b[0m\u001b[1;36m0.5\u001b[0m\u001b[1;33m)\u001b[0m\u001b[1;33m\u001b[0m\u001b[0m\n",
      "\u001b[1;31mNameError\u001b[0m: name 'result1' is not defined"
     ]
    }
   ],
   "source": [
    "objects = ('UFLP', 'CFLP', 'TUFLP', 'TCFLP')\n",
    "y_pos = np.arange(len(objects))\n",
    "performance = [result1.best,result2.best,result3.best,result4.best]\n",
    " \n",
    "plt.bar(y_pos, performance, align='center', alpha=0.5)\n",
    "plt.xticks(y_pos, objects)\n",
    "plt.ylabel('Time s')\n",
    "plt.title('Best processing time for each subproblem')\n",
    " \n",
    "plt.show()"
   ]
  }
 ],
 "metadata": {
  "hide_input": false,
  "kernelspec": {
   "display_name": "Py35",
   "language": "python",
   "name": "py35"
  },
  "language_info": {
   "codemirror_mode": {
    "name": "ipython",
    "version": 3
   },
   "file_extension": ".py",
   "mimetype": "text/x-python",
   "name": "python",
   "nbconvert_exporter": "python",
   "pygments_lexer": "ipython3",
   "version": "3.5.3"
  },
  "toc": {
   "colors": {
    "hover_highlight": "#DAA520",
    "running_highlight": "#FF0000",
    "selected_highlight": "#FFD700"
   },
   "moveMenuLeft": true,
   "nav_menu": {
    "height": "192px",
    "width": "252px"
   },
   "navigate_menu": true,
   "number_sections": true,
   "sideBar": true,
   "threshold": 4,
   "toc_cell": false,
   "toc_section_display": "block",
   "toc_window_display": false,
   "widenNotebook": false
  }
 },
 "nbformat": 4,
 "nbformat_minor": 2
}
