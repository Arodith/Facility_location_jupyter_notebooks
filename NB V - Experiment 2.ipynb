{
 "cells": [
  {
   "cell_type": "code",
   "execution_count": 641,
   "metadata": {},
   "outputs": [
    {
     "name": "stdout",
     "output_type": "stream",
     "text": [
      "The autoreload extension is already loaded. To reload it, use:\n",
      "  %reload_ext autoreload\n"
     ]
    }
   ],
   "source": [
    "import csv\n",
    "import math as m\n",
    "from random import uniform as unif\n",
    "import networkx as nx\n",
    "import pandas as pd\n",
    "import os\n",
    "\n",
    "import numpy as np\n",
    "import matplotlib as mpl\n",
    "import matplotlib.pyplot as plt\n",
    "from IPython.display import display, HTML\n",
    "%matplotlib inline\n",
    "\n",
    "%load_ext autoreload\n",
    "%autoreload 2"
   ]
  },
  {
   "cell_type": "code",
   "execution_count": 642,
   "metadata": {
    "collapsed": true
   },
   "outputs": [],
   "source": [
    "expid = \"./exp2_run0\""
   ]
  },
  {
   "cell_type": "code",
   "execution_count": 643,
   "metadata": {
    "collapsed": true
   },
   "outputs": [],
   "source": [
    "if not os.path.exists(expid):\n",
    "    os.makedirs(expid)"
   ]
  },
  {
   "cell_type": "markdown",
   "metadata": {},
   "source": [
    "# Problem instance"
   ]
  },
  {
   "cell_type": "markdown",
   "metadata": {},
   "source": [
    "## Geographic data"
   ]
  },
  {
   "cell_type": "code",
   "execution_count": 644,
   "metadata": {
    "collapsed": true
   },
   "outputs": [],
   "source": [
    "from pkg.read_problem import read_problem, extract_problem"
   ]
  },
  {
   "cell_type": "code",
   "execution_count": 645,
   "metadata": {
    "collapsed": true
   },
   "outputs": [],
   "source": [
    "xy_customers, xy_icps, xy_crcs, xy_pc, q = read_problem('./datasets/original')"
   ]
  },
  {
   "cell_type": "code",
   "execution_count": 646,
   "metadata": {
    "collapsed": true
   },
   "outputs": [],
   "source": [
    "xy_icps = xy_icps + [[unif(20,100),unif(20,70)] for i in range(5)]\n",
    "xy_crcs = xy_crcs + [[unif(20,100),unif(20,70)] for i in range(1)]"
   ]
  },
  {
   "cell_type": "code",
   "execution_count": 647,
   "metadata": {
    "collapsed": true
   },
   "outputs": [],
   "source": [
    "I,J,C,B,K,V,W,DjUc,Dcj,Dc,FCV,FCT,FCR,U = extract_problem(xy_customers, xy_icps, xy_crcs, xy_pc, q)"
   ]
  },
  {
   "cell_type": "markdown",
   "metadata": {},
   "source": [
    "## Capacity constraints"
   ]
  },
  {
   "cell_type": "code",
   "execution_count": 648,
   "metadata": {
    "collapsed": true
   },
   "outputs": [],
   "source": [
    "Q_icp = [200 for j in range(J)]\n",
    "Q_crc = [800 for c in range(C)]\n",
    "V = [Q_icp,Q_crc]"
   ]
  },
  {
   "cell_type": "markdown",
   "metadata": {},
   "source": [
    "## Adapting costs"
   ]
  },
  {
   "cell_type": "code",
   "execution_count": 649,
   "metadata": {
    "collapsed": true
   },
   "outputs": [],
   "source": [
    "# two-level cost\n",
    "FCRD = []\n",
    "for c in range(C):\n",
    "    FCRD.append(FCR[c] + Dc[c])\n",
    "\n",
    "f = FCT+FCRD\n",
    "c = [[[W[i][j1] + Dcj[j1][j2] for j2 in range(C)] for j1 in range(J)] for i in range(I)]"
   ]
  },
  {
   "cell_type": "markdown",
   "metadata": {},
   "source": [
    "# Plot Problem"
   ]
  },
  {
   "cell_type": "code",
   "execution_count": 650,
   "metadata": {},
   "outputs": [
    {
     "data": {
      "image/png": "[encoded data removed]",
      "text/plain": [
       "<matplotlib.figure.Figure at 0xb129320>"
      ]
     },
     "metadata": {},
     "output_type": "display_data"
    }
   ],
   "source": [
    "from pkg.lrp_nodes_graph import lrp_nodes_graph, lrp_draw_and_save\n",
    "G, pos, labels, colors, size = lrp_nodes_graph(xy_customers, xy_icps, xy_crcs, xy_pc)\n",
    "\n",
    "lrp_draw_and_save(G, pos, labels, colors, size, expid+\"/problem.png\")"
   ]
  },
  {
   "cell_type": "code",
   "execution_count": 651,
   "metadata": {},
   "outputs": [
    {
     "name": "stdout",
     "output_type": "stream",
     "text": [
      "Overwriting ./pkg/draw_solution_II.py\n"
     ]
    }
   ],
   "source": [
    "%%file \"./pkg/draw_solution_II.py\"\n",
    "\n",
    "def draw_solution_II(I,J,C,\n",
    "                    N_crc, N_icp,\n",
    "                    Y1,Y2, routes, expid,\n",
    "                    G, pos, labels, colors, size):\n",
    "    \n",
    "    from IPython.display import display, HTML\n",
    "    import pandas as pd\n",
    "    from pkg.draw_solution_II import draw_solution_II\n",
    "    from pkg.lrp_nodes_graph import lrp_nodes_graph, lrp_draw_and_save\n",
    "    \n",
    "    H1 = [j for j,vj in enumerate(N_icp) if vj > 0.5]\n",
    "    \n",
    "    ###############################\n",
    "    # DataFrames\n",
    "    display(pd.DataFrame(N_crc).transpose())\n",
    "    display(pd.DataFrame(N_icp).transpose())\n",
    "    display(pd.DataFrame(routes).transpose())   \n",
    "    ###############################\n",
    "    # Network\n",
    "    G2 = G.copy()\n",
    "    colors = colors[:];size = size[:];\n",
    "    # ICP-Cus\n",
    "    for j,vj in enumerate(Y1):\n",
    "        for i,vi in enumerate(vj):\n",
    "            if vi == 1:\n",
    "                G2.add_edge(I+i,j)\n",
    "    # ICP\n",
    "    for j,vj in enumerate(N_icp):\n",
    "        if vj < 0.5:\n",
    "            colors[I+j] = \"grey\"\n",
    "            labels[I+j] = \"\"\n",
    "            size[I+j] = 50\n",
    "\n",
    "    # ICP-CRC\n",
    "    for j,vj in enumerate(Y2):\n",
    "        for i,vi in enumerate(vj):\n",
    "            if vi == 1:\n",
    "                G2.add_edge(I+J+i,I+H1[j])\n",
    "    # CRC\n",
    "    for j,vj in enumerate(N_crc):\n",
    "        if vj < 0.5:\n",
    "            colors[I+J+j] = \"grey\"\n",
    "            labels[I+J+j] = \"\"\n",
    "            size[I+J+j] = 50\n",
    "\n",
    "    # Routes\n",
    "    for r,vr in enumerate(routes):\n",
    "        for c, vc in enumerate(vr):\n",
    "            G2.add_edge(I+vc[0],I+vc[1])\n",
    "\n",
    "        lrp_draw_and_save(G2, pos, labels, colors, size, expid+\"/cflp_cplex.png\")"
   ]
  },
  {
   "cell_type": "markdown",
   "metadata": {},
   "source": [
    "# Define Functions"
   ]
  },
  {
   "cell_type": "markdown",
   "metadata": {},
   "source": [
    "## cflp_first_tsp_second"
   ]
  },
  {
   "cell_type": "code",
   "execution_count": 652,
   "metadata": {
    "code_folding": []
   },
   "outputs": [
    {
     "name": "stdout",
     "output_type": "stream",
     "text": [
      "Overwriting ./pkg/cflp_first_tsp_second.py\n"
     ]
    }
   ],
   "source": [
    "%%file \"./pkg/cflp_first_tsp_second.py\"\n",
    "\n",
    "def cflp_first_tsp_second(G,pos, labels, colors, size,\n",
    "                I,J,C,\n",
    "                W1,W2,W3,F1,F2,\n",
    "                U,Q_icp,Q_crc,\n",
    "                plots=True, expid=\"\"):\n",
    "    \n",
    "    from pkg.cflp_cplex import cflp_cplex\n",
    "    from pkg.tsp_cplex import tsp_cplex\n",
    "    from pkg.read_problem import read_problem, extract_problem\n",
    "    from pkg.draw_solution_II import draw_solution_II\n",
    "    from pkg.lrp_nodes_graph import lrp_nodes_graph, lrp_draw_and_save\n",
    "    import numpy as np\n",
    "    import pandas as pd\n",
    "    from IPython.display import display, HTML\n",
    "\n",
    "    #######################################################################\n",
    "    # Solve first problem\n",
    "    prob1, Y1, N_icp = cflp_cplex(I,J,\n",
    "                W1,F1,U,Q_icp,\n",
    "                relaxation=False)\n",
    "    \n",
    "    #######################################################################\n",
    "    # Prepare 2nd problem\n",
    "    H1 = [j for j,vj in enumerate(N_icp) if vj > 0.5]\n",
    "    \n",
    "    c2=[];    u2=[];\n",
    "    for j in H1:\n",
    "        c2.append(W2[j])\n",
    "        sqi = 0\n",
    "        for i in range(I):\n",
    "            sqi += U[i]*Y1[i][j]\n",
    "        u2.append(sqi)\n",
    "    #######################################################################        \n",
    "    # Solve Second problem\n",
    "    prob2, Y2, N_crc = cflp_cplex(len(u2),C,\n",
    "            c2,F2,u2,Q_crc,\n",
    "            relaxation=False)    \n",
    "    #######################################################################\n",
    "    # Preparing TSP\n",
    "    H2 = [j for j,vj in enumerate(N_crc) if vj > 0.5]\n",
    "    tY2 = np.transpose(Y2)\n",
    "    W3 = np.asarray(W3)\n",
    "    \n",
    "    #/!\\ Use H1 as a labeling array\n",
    "\n",
    "    S_tsp = [] #set of ICP in each TSP\n",
    "    for c,vc in enumerate(H2):\n",
    "        S_tsp.append([H1[j] for j,vj in enumerate(tY2[c]) if vj > 0.5]+[J+vc])\n",
    "    \n",
    "    w_tsp = []\n",
    "    for submat in S_tsp:\n",
    "        w_tsp.append(W3[submat,:][:,submat])\n",
    "    #######################################################################\n",
    "    # Solving TSP\n",
    "    routes = []\n",
    "    for c,vc in enumerate(w_tsp):\n",
    "        prob, X = tsp_cplex(len(vc),vc, relaxation=False)\n",
    "        # Extract routes\n",
    "        path = []\n",
    "        for j,xj in enumerate(X):\n",
    "            for i,xij in enumerate(xj):\n",
    "                if xij == 1:\n",
    "                    path.append((S_tsp[c][i],S_tsp[c][j]))\n",
    "        routes.append(path)\n",
    "    #######################################################################\n",
    "    # Draw solution\n",
    "    if(plots):\n",
    "        draw_solution_II(I,J,C,N_crc, N_icp,\n",
    "                    Y1,Y2, routes, expid,\n",
    "                    G, pos, labels, colors, size)\n",
    "    \n",
    "    return Y1, Y2, N_icp, N_crc, routes"
   ]
  },
  {
   "cell_type": "code",
   "execution_count": 653,
   "metadata": {},
   "outputs": [],
   "source": [
    "from pkg.cflp_first_tsp_second import cflp_first_tsp_second"
   ]
  },
  {
   "cell_type": "code",
   "execution_count": 654,
   "metadata": {
    "code_folding": []
   },
   "outputs": [
    {
     "data": {
      "text/html": [
       "<div>\n",
       "<table border=\"1\" class=\"dataframe\">\n",
       "  <thead>\n",
       "    <tr style=\"text-align: right;\">\n",
       "      <th></th>\n",
       "      <th>0</th>\n",
       "      <th>1</th>\n",
       "      <th>2</th>\n",
       "    </tr>\n",
       "  </thead>\n",
       "  <tbody>\n",
       "    <tr>\n",
       "      <th>0</th>\n",
       "      <td>1.0</td>\n",
       "      <td>1.0</td>\n",
       "      <td>-0.0</td>\n",
       "    </tr>\n",
       "  </tbody>\n",
       "</table>\n",
       "</div>"
      ],
      "text/plain": [
       "     0    1    2\n",
       "0  1.0  1.0 -0.0"
      ]
     },
     "metadata": {},
     "output_type": "display_data"
    },
    {
     "data": {
      "text/html": [
       "<div>\n",
       "<table border=\"1\" class=\"dataframe\">\n",
       "  <thead>\n",
       "    <tr style=\"text-align: right;\">\n",
       "      <th></th>\n",
       "      <th>0</th>\n",
       "      <th>1</th>\n",
       "      <th>2</th>\n",
       "      <th>3</th>\n",
       "      <th>4</th>\n",
       "      <th>5</th>\n",
       "      <th>6</th>\n",
       "      <th>7</th>\n",
       "      <th>8</th>\n",
       "      <th>9</th>\n",
       "      <th>10</th>\n",
       "      <th>11</th>\n",
       "      <th>12</th>\n",
       "    </tr>\n",
       "  </thead>\n",
       "  <tbody>\n",
       "    <tr>\n",
       "      <th>0</th>\n",
       "      <td>1.0</td>\n",
       "      <td>1.0</td>\n",
       "      <td>1.0</td>\n",
       "      <td>1.0</td>\n",
       "      <td>1.0</td>\n",
       "      <td>1.0</td>\n",
       "      <td>1.0</td>\n",
       "      <td>0.0</td>\n",
       "      <td>0.0</td>\n",
       "      <td>0.0</td>\n",
       "      <td>1.0</td>\n",
       "      <td>0.0</td>\n",
       "      <td>0.0</td>\n",
       "    </tr>\n",
       "  </tbody>\n",
       "</table>\n",
       "</div>"
      ],
      "text/plain": [
       "    0    1    2    3    4    5    6    7    8    9    10   11   12\n",
       "0  1.0  1.0  1.0  1.0  1.0  1.0  1.0  0.0  0.0  0.0  1.0  0.0  0.0"
      ]
     },
     "metadata": {},
     "output_type": "display_data"
    },
    {
     "data": {
      "text/html": [
       "<div>\n",
       "<table border=\"1\" class=\"dataframe\">\n",
       "  <thead>\n",
       "    <tr style=\"text-align: right;\">\n",
       "      <th></th>\n",
       "      <th>0</th>\n",
       "      <th>1</th>\n",
       "    </tr>\n",
       "  </thead>\n",
       "  <tbody>\n",
       "    <tr>\n",
       "      <th>0</th>\n",
       "      <td>(13, 1)</td>\n",
       "      <td>(5, 0)</td>\n",
       "    </tr>\n",
       "    <tr>\n",
       "      <th>1</th>\n",
       "      <td>(3, 2)</td>\n",
       "      <td>(6, 5)</td>\n",
       "    </tr>\n",
       "    <tr>\n",
       "      <th>2</th>\n",
       "      <td>(1, 3)</td>\n",
       "      <td>(14, 6)</td>\n",
       "    </tr>\n",
       "    <tr>\n",
       "      <th>3</th>\n",
       "      <td>(2, 4)</td>\n",
       "      <td>(0, 10)</td>\n",
       "    </tr>\n",
       "    <tr>\n",
       "      <th>4</th>\n",
       "      <td>(4, 13)</td>\n",
       "      <td>(10, 14)</td>\n",
       "    </tr>\n",
       "  </tbody>\n",
       "</table>\n",
       "</div>"
      ],
      "text/plain": [
       "         0         1\n",
       "0  (13, 1)    (5, 0)\n",
       "1   (3, 2)    (6, 5)\n",
       "2   (1, 3)   (14, 6)\n",
       "3   (2, 4)   (0, 10)\n",
       "4  (4, 13)  (10, 14)"
      ]
     },
     "metadata": {},
     "output_type": "display_data"
    },
    {
     "name": "stdout",
     "output_type": "stream",
     "text": [
      "Wall time: 525 ms\n"
     ]
    },
    {
     "data": {
      "image/png": "[encoded data removed]",
      "text/plain": [
       "<matplotlib.figure.Figure at 0xaa47588>"
      ]
     },
     "metadata": {},
     "output_type": "display_data"
    }
   ],
   "source": [
    "%%time\n",
    "Y1, Y2, N_icp, N_crc, routes = cflp_first_tsp_second(G,pos, labels, colors, size,\n",
    "                I,J,C,\n",
    "                W,Dcj,DjUc,FCT,FCRD,\n",
    "                U,Q_icp,Q_crc,\n",
    "                expid=expid)"
   ]
  },
  {
   "cell_type": "code",
   "execution_count": 655,
   "metadata": {
    "code_folding": []
   },
   "outputs": [
    {
     "data": {
      "text/plain": [
       "(2576.9441018704583,\n",
       " 511.68580735444976,\n",
       " 186.18946499009408,\n",
       " 800.0,\n",
       " 1079.0688295259142)"
      ]
     },
     "execution_count": 655,
     "metadata": {},
     "output_type": "execute_result"
    }
   ],
   "source": [
    "from pkg.objective_III import objective_III\n",
    "objective_III(Y1,routes,N_icp, N_crc,\n",
    "                I,J,C,B,\n",
    "                W,DjUc,Dc,\n",
    "                FCV,FCT,FCR)"
   ]
  },
  {
   "cell_type": "markdown",
   "metadata": {},
   "source": [
    "## pmd_first_tsp_second"
   ]
  },
  {
   "cell_type": "code",
   "execution_count": 656,
   "metadata": {
    "code_folding": []
   },
   "outputs": [
    {
     "name": "stdout",
     "output_type": "stream",
     "text": [
      "Overwriting ./pkg/pmd_first_tsp_second.py\n"
     ]
    }
   ],
   "source": [
    "%%file \"./pkg/pmd_first_tsp_second.py\"\n",
    "\n",
    "def pmd_first_tsp_second(G,pos, labels, colors, size,\n",
    "                I,J,C,\n",
    "                W1,W2,W3,F1,F2,\n",
    "                U,Q_icp,Q_crc,\n",
    "                plots=True, expid=\"\"):\n",
    "    \n",
    "    from pkg.cflp_cplex import cflp_cplex\n",
    "    from pkg.pm_flp_cplex import pm_flp_cplex\n",
    "    from pkg.tsp_cplex import tsp_cplex\n",
    "    from pkg.read_problem import read_problem, extract_problem\n",
    "    from pkg.draw_solution_II import draw_solution_II\n",
    "    from pkg.lrp_nodes_graph import lrp_nodes_graph, lrp_draw_and_save\n",
    "    import numpy as np\n",
    "    import pandas as pd\n",
    "    from IPython.display import display, HTML\n",
    "\n",
    "    #######################################################################\n",
    "    # Solve first problem\n",
    "    prob1, Y1, N_icp = pm_flp_cplex(I,J,\n",
    "                W1,8,\n",
    "                relaxation=False)\n",
    "    \n",
    "    #######################################################################\n",
    "    # Prepare 2nd problem\n",
    "    H1 = [j for j,vj in enumerate(N_icp) if vj > 0.5]\n",
    "    \n",
    "    c2=[];    u2=[];\n",
    "    for j in H1:\n",
    "        c2.append(W2[j])\n",
    "        sqi = 0\n",
    "        for i in range(I):\n",
    "            sqi += U[i]*Y1[i][j]\n",
    "        u2.append(sqi)\n",
    "        \n",
    "    print(u2)\n",
    "    #######################################################################        \n",
    "    # Solve Second problem\n",
    "    prob2, Y2, N_crc = pm_flp_cplex(len(u2),C,\n",
    "            c2,2,\n",
    "            relaxation=False)    \n",
    "    #######################################################################\n",
    "    # Preparing TSP\n",
    "    H2 = [j for j,vj in enumerate(N_crc) if vj > 0.5]\n",
    "    tY2 = np.transpose(Y2)\n",
    "    W3 = np.asarray(W3)\n",
    "    \n",
    "    #/!\\ Use H1 as a labeling array\n",
    "\n",
    "    S_tsp = [] #set of ICP in each TSP\n",
    "    for c,vc in enumerate(H2):\n",
    "        S_tsp.append([H1[j] for j,vj in enumerate(tY2[c]) if vj > 0.5]+[J+vc])\n",
    "    \n",
    "    w_tsp = []\n",
    "    for submat in S_tsp:\n",
    "        w_tsp.append(W3[submat,:][:,submat])\n",
    "    #######################################################################\n",
    "    # Solving TSP\n",
    "    routes = []\n",
    "    for c,vc in enumerate(w_tsp):\n",
    "        prob, X = tsp_cplex(len(vc),vc, relaxation=False)\n",
    "        # Extract routes\n",
    "        path = []\n",
    "        for j,xj in enumerate(X):\n",
    "            for i,xij in enumerate(xj):\n",
    "                if xij == 1:\n",
    "                    path.append((S_tsp[c][i],S_tsp[c][j]))\n",
    "        routes.append(path)\n",
    "    #######################################################################\n",
    "    # Draw solution\n",
    "    if(plots):\n",
    "         draw_solution_II(I,J,C,N_crc, N_icp,\n",
    "                    Y1,Y2, routes, expid,\n",
    "                    G, pos, labels, colors, size)\n",
    "            \n",
    "    return Y1, Y2 , N_icp, N_crc, routes"
   ]
  },
  {
   "cell_type": "code",
   "execution_count": 657,
   "metadata": {
    "collapsed": true
   },
   "outputs": [],
   "source": [
    "from pkg.pmd_first_tsp_second import pmd_first_tsp_second"
   ]
  },
  {
   "cell_type": "code",
   "execution_count": 658,
   "metadata": {},
   "outputs": [
    {
     "name": "stdout",
     "output_type": "stream",
     "text": [
      "[210.0, 175.0, 200.0, 200.0, 175.0, 175.0, 175.0, 130.0]\n"
     ]
    },
    {
     "data": {
      "text/html": [
       "<div>\n",
       "<table border=\"1\" class=\"dataframe\">\n",
       "  <thead>\n",
       "    <tr style=\"text-align: right;\">\n",
       "      <th></th>\n",
       "      <th>0</th>\n",
       "      <th>1</th>\n",
       "      <th>2</th>\n",
       "    </tr>\n",
       "  </thead>\n",
       "  <tbody>\n",
       "    <tr>\n",
       "      <th>0</th>\n",
       "      <td>1.0</td>\n",
       "      <td>1.0</td>\n",
       "      <td>0.0</td>\n",
       "    </tr>\n",
       "  </tbody>\n",
       "</table>\n",
       "</div>"
      ],
      "text/plain": [
       "     0    1    2\n",
       "0  1.0  1.0  0.0"
      ]
     },
     "metadata": {},
     "output_type": "display_data"
    },
    {
     "data": {
      "text/html": [
       "<div>\n",
       "<table border=\"1\" class=\"dataframe\">\n",
       "  <thead>\n",
       "    <tr style=\"text-align: right;\">\n",
       "      <th></th>\n",
       "      <th>0</th>\n",
       "      <th>1</th>\n",
       "      <th>2</th>\n",
       "      <th>3</th>\n",
       "      <th>4</th>\n",
       "      <th>5</th>\n",
       "      <th>6</th>\n",
       "      <th>7</th>\n",
       "      <th>8</th>\n",
       "      <th>9</th>\n",
       "      <th>10</th>\n",
       "      <th>11</th>\n",
       "      <th>12</th>\n",
       "    </tr>\n",
       "  </thead>\n",
       "  <tbody>\n",
       "    <tr>\n",
       "      <th>0</th>\n",
       "      <td>1.0</td>\n",
       "      <td>1.0</td>\n",
       "      <td>1.0</td>\n",
       "      <td>1.0</td>\n",
       "      <td>1.0</td>\n",
       "      <td>1.0</td>\n",
       "      <td>1.0</td>\n",
       "      <td>-0.0</td>\n",
       "      <td>0.0</td>\n",
       "      <td>0.0</td>\n",
       "      <td>1.0</td>\n",
       "      <td>0.0</td>\n",
       "      <td>0.0</td>\n",
       "    </tr>\n",
       "  </tbody>\n",
       "</table>\n",
       "</div>"
      ],
      "text/plain": [
       "    0    1    2    3    4    5    6    7    8    9    10   11   12\n",
       "0  1.0  1.0  1.0  1.0  1.0  1.0  1.0 -0.0  0.0  0.0  1.0  0.0  0.0"
      ]
     },
     "metadata": {},
     "output_type": "display_data"
    },
    {
     "data": {
      "text/html": [
       "<div>\n",
       "<table border=\"1\" class=\"dataframe\">\n",
       "  <thead>\n",
       "    <tr style=\"text-align: right;\">\n",
       "      <th></th>\n",
       "      <th>0</th>\n",
       "      <th>1</th>\n",
       "    </tr>\n",
       "  </thead>\n",
       "  <tbody>\n",
       "    <tr>\n",
       "      <th>0</th>\n",
       "      <td>(13, 1)</td>\n",
       "      <td>(5, 0)</td>\n",
       "    </tr>\n",
       "    <tr>\n",
       "      <th>1</th>\n",
       "      <td>(3, 2)</td>\n",
       "      <td>(6, 5)</td>\n",
       "    </tr>\n",
       "    <tr>\n",
       "      <th>2</th>\n",
       "      <td>(1, 3)</td>\n",
       "      <td>(14, 6)</td>\n",
       "    </tr>\n",
       "    <tr>\n",
       "      <th>3</th>\n",
       "      <td>(2, 4)</td>\n",
       "      <td>(0, 10)</td>\n",
       "    </tr>\n",
       "    <tr>\n",
       "      <th>4</th>\n",
       "      <td>(4, 13)</td>\n",
       "      <td>(10, 14)</td>\n",
       "    </tr>\n",
       "  </tbody>\n",
       "</table>\n",
       "</div>"
      ],
      "text/plain": [
       "         0         1\n",
       "0  (13, 1)    (5, 0)\n",
       "1   (3, 2)    (6, 5)\n",
       "2   (1, 3)   (14, 6)\n",
       "3   (2, 4)   (0, 10)\n",
       "4  (4, 13)  (10, 14)"
      ]
     },
     "metadata": {},
     "output_type": "display_data"
    },
    {
     "name": "stdout",
     "output_type": "stream",
     "text": [
      "Wall time: 439 ms\n"
     ]
    },
    {
     "data": {
      "image/png": "[encoded data removed]",
      "text/plain": [
       "<matplotlib.figure.Figure at 0x7d9a898>"
      ]
     },
     "metadata": {},
     "output_type": "display_data"
    }
   ],
   "source": [
    "%%time\n",
    "Y12, Y22, N_icp2, N_crc2, routes2 = pmd_first_tsp_second(G,pos, labels, colors, size,\n",
    "                I,J,C,\n",
    "                W,Dcj,DjUc,FCT,FCRD,\n",
    "                U,Q_icp,Q_crc,\n",
    "                expid=expid)"
   ]
  },
  {
   "cell_type": "code",
   "execution_count": 659,
   "metadata": {},
   "outputs": [
    {
     "data": {
      "text/plain": [
       "(2576.2350578234232,\n",
       " 510.97676330741473,\n",
       " 186.18946499009408,\n",
       " 800.0,\n",
       " 1079.0688295259142)"
      ]
     },
     "execution_count": 659,
     "metadata": {},
     "output_type": "execute_result"
    }
   ],
   "source": [
    "from pkg.objective_III import objective_III\n",
    "objective_III(Y12,routes2,N_icp2, N_crc2,\n",
    "                I,J,C,B,\n",
    "                W,DjUc,Dc,\n",
    "                FCV,FCT,FCR)"
   ]
  },
  {
   "cell_type": "markdown",
   "metadata": {},
   "source": [
    "## Capacity problem"
   ]
  },
  {
   "cell_type": "code",
   "execution_count": 660,
   "metadata": {
    "run_control": {
     "marked": false
    }
   },
   "outputs": [
    {
     "name": "stdout",
     "output_type": "stream",
     "text": [
      "Overwriting ./pkg/capacity_vector.py\n"
     ]
    }
   ],
   "source": [
    "%%file \"./pkg/capacity_vector.py\"\n",
    "\n",
    "def capacity_vector(Y,U,J,Q):\n",
    "    cluster_q = np.zeros(J)\n",
    "    violated = []\n",
    "    for i,vi in enumerate(Y):\n",
    "        for j,vj in enumerate(vi):\n",
    "            cluster_q[j] += U[i]*Y[i][j]\n",
    "    \n",
    "    for j,vj in enumerate(cluster_q):\n",
    "        if cluster_q[j] > Q[j]:\n",
    "            violated.append(j)\n",
    "            \n",
    "    return cluster_q, violated"
   ]
  },
  {
   "cell_type": "code",
   "execution_count": 661,
   "metadata": {},
   "outputs": [
    {
     "data": {
      "text/plain": [
       "(array([ 160.,  175.,  200.,  200.,    0.,  175.,  175.,  180.,    0.,\n",
       "         175.,    0.,    0.,    0.]), [])"
      ]
     },
     "execution_count": 661,
     "metadata": {},
     "output_type": "execute_result"
    }
   ],
   "source": [
    "capacity_vector(Y,U,J,Q_icp)"
   ]
  },
  {
   "cell_type": "code",
   "execution_count": 662,
   "metadata": {},
   "outputs": [
    {
     "data": {
      "text/plain": [
       "(array([ 100.,  100.,    0.,    0.,    0.,    0.,    0.,    0.,    0.,\n",
       "           0.,    0.,    0.,    0.]), [])"
      ]
     },
     "execution_count": 662,
     "metadata": {},
     "output_type": "execute_result"
    }
   ],
   "source": [
    "capacity_vector(Y2,U,J,Q_icp)"
   ]
  },
  {
   "cell_type": "code",
   "execution_count": 663,
   "metadata": {
    "code_folding": []
   },
   "outputs": [
    {
     "name": "stdout",
     "output_type": "stream",
     "text": [
      "Overwriting ./pkg/capacity_balancing.py\n"
     ]
    }
   ],
   "source": [
    "%%file \"./pkg/capacity_balancing.py\"\n",
    "\n",
    "def capacity_balancing(Y,U,J,Q,N_icp):\n",
    "    l = len(capacity_vector(Y,U,J,Q)[1])\n",
    "    max_loop = 10;\n",
    "\n",
    "    # capacity balancing\n",
    "    Ycp = np.copy(Y)\n",
    "    Wcp = np.copy(W)\n",
    "    while l != 0 or max_loop == 0:\n",
    "        max_loop +=-1\n",
    "        j = capacity_vector(Ycp,U,J,Q_icp)[1][0]\n",
    "        i = np.argmax(np.multiply(Ycp,W)[:,j])\n",
    "        # Find condidate and update\n",
    "        Ycp[i][j] = 0\n",
    "        Wcp[i][j] = 100\n",
    "        stop = False\n",
    "        while not stop:\n",
    "            candidate = np.argmin(Wcp[i])\n",
    "            if N_icp[candidate] > 0.5 and candidate != j:\n",
    "                stop = True\n",
    "            else:\n",
    "                Wcp[i][candidate] = 200\n",
    "\n",
    "        print(i,j,candidate)\n",
    "\n",
    "        Ycp[i][candidate] = 1\n",
    "        Wcp[i][candidate] = 100\n",
    "\n",
    "        l = len(capacity_vector(Ycp,U,J,Q_icp)[1])\n",
    "        \n",
    "    return Ycp"
   ]
  },
  {
   "cell_type": "code",
   "execution_count": 664,
   "metadata": {},
   "outputs": [
    {
     "data": {
      "text/plain": [
       "(array([ 100.,  100.,    0.,    0.,    0.,    0.,    0.,    0.,    0.,\n",
       "           0.,    0.,    0.,    0.]), [])"
      ]
     },
     "execution_count": 664,
     "metadata": {},
     "output_type": "execute_result"
    }
   ],
   "source": [
    "capacity_vector(Y2,U,J,Q_icp)"
   ]
  },
  {
   "cell_type": "code",
   "execution_count": 665,
   "metadata": {
    "code_folding": []
   },
   "outputs": [
    {
     "name": "stdout",
     "output_type": "stream",
     "text": [
      "(array([ 100.,  100.,    0.,    0.,    0.,    0.,    0.,    0.,    0.,\n",
      "          0.,    0.,    0.,    0.]), [])\n",
      "Wall time: 1 ms\n"
     ]
    }
   ],
   "source": [
    "%%time\n",
    "Y2_capa = capacity_balancing(Y2,U,J,Q_icp,N_icp2)\n",
    "print(capacity_vector(Y2_capa,U,J,Q_icp))"
   ]
  },
  {
   "cell_type": "markdown",
   "metadata": {},
   "source": [
    "## Swap problem"
   ]
  },
  {
   "cell_type": "code",
   "execution_count": 666,
   "metadata": {
    "code_folding": [],
    "collapsed": true
   },
   "outputs": [],
   "source": [
    "def swap_list(Y,W,DjUc,N_icp):\n",
    "    cluster_len = np.max(np.multiply(Y,W),axis=0)\n",
    "    swaps = []\n",
    "    for j,l in enumerate(cluster_len):\n",
    "        for j_bis,n in enumerate(DjUc[j]):\n",
    "            if n<l and j != j_bis and j_bis < J and N_icp[j_bis] == 0:\n",
    "                swaps.append((j,j_bis))\n",
    "    return swaps"
   ]
  },
  {
   "cell_type": "code",
   "execution_count": 667,
   "metadata": {},
   "outputs": [
    {
     "data": {
      "text/plain": [
       "[(0, 7), (0, 11), (0, 12), (2, 8), (7, 11), (7, 12)]"
      ]
     },
     "execution_count": 667,
     "metadata": {},
     "output_type": "execute_result"
    }
   ],
   "source": [
    "swap_list(Y,W,DjUc,N_icp)"
   ]
  },
  {
   "cell_type": "code",
   "execution_count": 668,
   "metadata": {
    "code_folding": []
   },
   "outputs": [],
   "source": [
    "def swap_list_byRoute(Y,W,DjUc,N_icp):\n",
    "    cluster_len = np.max(np.multiply(Y,W),axis=0)\n",
    "    swaps = []\n",
    "    for iroute,route in enumerate(routes):\n",
    "        for iarc,arc in enumerate(route): #chose on element\n",
    "            if arc[0] < len(cluster_len): # do not select CRC\n",
    "                for j_bis,n in enumerate(DjUc[arc[0]]): # look at other\n",
    "                    if j_bis < len(cluster_len):\n",
    "                        if n<cluster_len[arc[0]] and cluster_len[j_bis] == 0 and arc[0] != j_bis:\n",
    "                            coarc = [[iroute, ico] for ico,co in enumerate(route) if co[1] == arc[0]]\n",
    "                            swaps.append(([iroute,iarc],coarc[0],arc[0],j_bis))         \n",
    "    return swaps"
   ]
  },
  {
   "cell_type": "code",
   "execution_count": 669,
   "metadata": {},
   "outputs": [
    {
     "data": {
      "text/plain": [
       "[([0, 3], [0, 1], 2, 8),\n",
       " ([1, 3], [1, 0], 0, 10),\n",
       " ([1, 3], [1, 0], 0, 11),\n",
       " ([1, 3], [1, 0], 0, 12)]"
      ]
     },
     "execution_count": 669,
     "metadata": {},
     "output_type": "execute_result"
    }
   ],
   "source": [
    "swap_list = swap_list_byRoute(Y,W,DjUc,N_icp)\n",
    "swap_list"
   ]
  },
  {
   "cell_type": "code",
   "execution_count": 670,
   "metadata": {},
   "outputs": [
    {
     "name": "stdout",
     "output_type": "stream",
     "text": [
      "(3, 2)\n",
      "(1, 3)\n"
     ]
    }
   ],
   "source": [
    "print(routes[0][1])\n",
    "print(routes[0][2])"
   ]
  },
  {
   "cell_type": "code",
   "execution_count": 671,
   "metadata": {},
   "outputs": [
    {
     "data": {
      "text/plain": [
       "[[(13, 1), (3, 2), (1, 3), (2, 4), (4, 13)],\n",
       " [(5, 0), (6, 5), (14, 6), (0, 10), (10, 14)]]"
      ]
     },
     "execution_count": 671,
     "metadata": {},
     "output_type": "execute_result"
    }
   ],
   "source": [
    "routes"
   ]
  },
  {
   "cell_type": "code",
   "execution_count": 672,
   "metadata": {
    "collapsed": true
   },
   "outputs": [],
   "source": [
    "swap = swap_list[0]"
   ]
  },
  {
   "cell_type": "code",
   "execution_count": 680,
   "metadata": {},
   "outputs": [],
   "source": [
    "def swap_arcs(swap, routes, N_icp):\n",
    "    routes_swap = np.copy(routes)\n",
    "    N_icp_swap = N_icp[:]\n",
    "    remove = swap[2]\n",
    "    introduce = swap[3]\n",
    "\n",
    "    arc1 = routes_swap[swap[0][0]][swap[0][1]]\n",
    "    arc2 = routes_swap[swap[1][0]][swap[1][1]]\n",
    "\n",
    "    if arc1[0] == remove:\n",
    "        arc1 = (introduce, arc1[1])\n",
    "    else:\n",
    "        arc1 = (arc1[0], introduce)\n",
    "\n",
    "    if arc2[0] == remove:\n",
    "        arc2 = (introduce, arc2[1])\n",
    "    else:\n",
    "        arc2 = (arc2[0], introduce)\n",
    "\n",
    "    routes_swap[swap[0][0]][swap[0][1]] = arc1\n",
    "    routes_swap[swap[1][0]][swap[1][1]] = arc2\n",
    "    N_icp_swap[remove] = 0\n",
    "    N_icp_swap[introduce] = 1\n",
    "\n",
    "    return routes_swap, N_icp_swap"
   ]
  },
  {
   "cell_type": "code",
   "execution_count": 681,
   "metadata": {},
   "outputs": [
    {
     "data": {
      "text/plain": [
       "(array([[[13,  1],\n",
       "         [ 3,  8],\n",
       "         [ 1,  3],\n",
       "         [ 8,  4],\n",
       "         [ 4, 13]],\n",
       " \n",
       "        [[ 5,  0],\n",
       "         [ 6,  5],\n",
       "         [14,  6],\n",
       "         [ 0, 10],\n",
       "         [10, 14]]]),\n",
       " [1.0, 1.0, 0, 1.0, 1.0, 1.0, 1.0, 0.0, 1, 0.0, 1.0, 0.0, 0.0])"
      ]
     },
     "execution_count": 681,
     "metadata": {},
     "output_type": "execute_result"
    }
   ],
   "source": [
    "swap_arcs(swap, routes, N_icp)"
   ]
  },
  {
   "cell_type": "code",
   "execution_count": 679,
   "metadata": {},
   "outputs": [
    {
     "data": {
      "text/plain": [
       "([0.0, 0.0, 1.0, 0, 0.0, 1.0, 1.0, 1.0, 1, 1.0, 1.0, 1.0, 0.0],\n",
       " [1.0, 1.0, 1.0, 1.0, 1.0, 1.0, 1.0, 0.0, 0.0, 0.0, 1.0, 0.0, 0.0])"
      ]
     },
     "execution_count": 679,
     "metadata": {},
     "output_type": "execute_result"
    }
   ],
   "source": [
    "N_icp2_swap, N_icp"
   ]
  },
  {
   "cell_type": "code",
   "execution_count": 676,
   "metadata": {},
   "outputs": [
    {
     "ename": "IndexError",
     "evalue": "index 3 is out of bounds for axis 0 with size 3",
     "output_type": "error",
     "traceback": [
      "\u001b[1;31m---------------------------------------------------------------------------\u001b[0m",
      "\u001b[1;31mIndexError\u001b[0m                                Traceback (most recent call last)",
      "\u001b[1;32m<ipython-input-676-40e972fa6992>\u001b[0m in \u001b[0;36m<module>\u001b[1;34m()\u001b[0m\n\u001b[0;32m      3\u001b[0m                 \u001b[0mI\u001b[0m\u001b[1;33m,\u001b[0m\u001b[0mJ\u001b[0m\u001b[1;33m,\u001b[0m\u001b[0mC\u001b[0m\u001b[1;33m,\u001b[0m\u001b[0mB\u001b[0m\u001b[1;33m,\u001b[0m\u001b[1;33m\u001b[0m\u001b[0m\n\u001b[0;32m      4\u001b[0m                 \u001b[0mW\u001b[0m\u001b[1;33m,\u001b[0m\u001b[0mDjUc\u001b[0m\u001b[1;33m,\u001b[0m\u001b[0mDc\u001b[0m\u001b[1;33m,\u001b[0m\u001b[1;33m\u001b[0m\u001b[0m\n\u001b[1;32m----> 5\u001b[1;33m                 FCV,FCT,FCR)\n\u001b[0m",
      "\u001b[1;32mC:\\Users\\alexandre\\Documents\\Jupyter Workspace\\P1_location_routing_problem\\pkg\\objective_III.py\u001b[0m in \u001b[0;36mobjective_III\u001b[1;34m(Y, routes, Nj, Nc, I, J, C, B, w, DjUc, Dc, FCV, FCT, FCR)\u001b[0m\n\u001b[0;32m     22\u001b[0m     \u001b[1;32mfor\u001b[0m \u001b[0mi\u001b[0m \u001b[1;32min\u001b[0m \u001b[0mrange\u001b[0m\u001b[1;33m(\u001b[0m\u001b[0mI\u001b[0m\u001b[1;33m)\u001b[0m\u001b[1;33m:\u001b[0m\u001b[1;33m\u001b[0m\u001b[0m\n\u001b[0;32m     23\u001b[0m         \u001b[1;32mfor\u001b[0m \u001b[0mj\u001b[0m \u001b[1;32min\u001b[0m \u001b[0mrange\u001b[0m\u001b[1;33m(\u001b[0m\u001b[0mJ\u001b[0m\u001b[1;33m)\u001b[0m\u001b[1;33m:\u001b[0m\u001b[1;33m\u001b[0m\u001b[0m\n\u001b[1;32m---> 24\u001b[1;33m             \u001b[0msum2_1\u001b[0m \u001b[1;33m+=\u001b[0m \u001b[0mw\u001b[0m\u001b[1;33m[\u001b[0m\u001b[0mi\u001b[0m\u001b[1;33m]\u001b[0m\u001b[1;33m[\u001b[0m\u001b[0mj\u001b[0m\u001b[1;33m]\u001b[0m \u001b[1;33m*\u001b[0m \u001b[0mY\u001b[0m\u001b[1;33m[\u001b[0m\u001b[0mi\u001b[0m\u001b[1;33m]\u001b[0m\u001b[1;33m[\u001b[0m\u001b[0mj\u001b[0m\u001b[1;33m]\u001b[0m\u001b[1;33m\u001b[0m\u001b[0m\n\u001b[0m\u001b[0;32m     25\u001b[0m \u001b[1;33m\u001b[0m\u001b[0m\n\u001b[0;32m     26\u001b[0m     \u001b[0msum2_2\u001b[0m \u001b[1;33m=\u001b[0m \u001b[1;36m0\u001b[0m\u001b[1;33m\u001b[0m\u001b[0m\n",
      "\u001b[1;31mIndexError\u001b[0m: index 3 is out of bounds for axis 0 with size 3"
     ]
    }
   ],
   "source": [
    "from pkg.objective_III import objective_III\n",
    "objective_III(Y2,routes_swap,N_icp2_swap, N_crc2,\n",
    "                I,J,C,B,\n",
    "                W,DjUc,Dc,\n",
    "                FCV,FCT,FCR)"
   ]
  },
  {
   "cell_type": "code",
   "execution_count": 640,
   "metadata": {},
   "outputs": [
    {
     "ename": "TypeError",
     "evalue": "draw_solution_II() takes 13 positional arguments but 14 were given",
     "output_type": "error",
     "traceback": [
      "\u001b[1;31m---------------------------------------------------------------------------\u001b[0m",
      "\u001b[1;31mTypeError\u001b[0m                                 Traceback (most recent call last)",
      "\u001b[1;32m<ipython-input-640-c8b822a124c9>\u001b[0m in \u001b[0;36m<module>\u001b[1;34m()\u001b[0m\n\u001b[0;32m      1\u001b[0m draw_solution_II(I,J,C,N_crc, N_icp2_swap,\n\u001b[0;32m      2\u001b[0m             \u001b[0mY1\u001b[0m\u001b[1;33m,\u001b[0m \u001b[0mY2\u001b[0m\u001b[1;33m,\u001b[0m \u001b[0mroutes_swap\u001b[0m\u001b[1;33m,\u001b[0m \u001b[0mexpid\u001b[0m\u001b[1;33m,\u001b[0m\u001b[1;33m\u001b[0m\u001b[0m\n\u001b[1;32m----> 3\u001b[1;33m             G, pos, labels, colors, size)\n\u001b[0m",
      "\u001b[1;31mTypeError\u001b[0m: draw_solution_II() takes 13 positional arguments but 14 were given"
     ]
    }
   ],
   "source": [
    "draw_solution_II(I,J,C,N_crc, N_icp2_swap,\n",
    "            Y1, Y2, routes_swap, expid,\n",
    "            G, pos, labels, colors, size)"
   ]
  },
  {
   "cell_type": "markdown",
   "metadata": {},
   "source": [
    "## final Algorithm"
   ]
  },
  {
   "cell_type": "code",
   "execution_count": null,
   "metadata": {
    "collapsed": true
   },
   "outputs": [],
   "source": [
    "%%file \"./pkg/pmd_first_tsp_second.py\"\n",
    "\n",
    "def pmd_first_tsp_second(G,pos, labels, colors, size,\n",
    "                I,J,C,\n",
    "                W1,W2,W3,F1,F2,\n",
    "                U,Q_icp,Q_crc,\n",
    "                plots=True, expid=\"\"):\n",
    "    \n",
    "    from pkg.cflp_cplex import cflp_cplex\n",
    "    from pkg.pm_flp_cplex import pm_flp_cplex\n",
    "    from pkg.tsp_cplex import tsp_cplex\n",
    "    from pkg.read_problem import read_problem, extract_problem\n",
    "    from pkg.draw_solution_II import draw_solution_II\n",
    "    from pkg.lrp_nodes_graph import lrp_nodes_graph, lrp_draw_and_save\n",
    "    import numpy as np\n",
    "    import pandas as pd\n",
    "    from IPython.display import display, HTML\n",
    "\n",
    "    #######################################################################\n",
    "    # Solve first problem\n",
    "    prob1, Y1, N_icp = pm_flp_cplex(I,J,\n",
    "                W1,8,\n",
    "                relaxation=False)\n",
    "    \n",
    "    #######################################################################\n",
    "    # Prepare 2nd problem\n",
    "    H1 = [j for j,vj in enumerate(N_icp) if vj > 0.5]\n",
    "    \n",
    "    c2=[];    u2=[];\n",
    "    for j in H1:\n",
    "        c2.append(W2[j])\n",
    "        sqi = 0\n",
    "        for i in range(I):\n",
    "            sqi += U[i]*Y1[i][j]\n",
    "        u2.append(sqi)\n",
    "        \n",
    "    print(u2)\n",
    "    #######################################################################        \n",
    "    # Solve Second problem\n",
    "    prob2, Y2, N_crc = pm_flp_cplex(len(u2),C,\n",
    "            c2,2,\n",
    "            relaxation=False)    \n",
    "    #######################################################################\n",
    "    # Preparing TSP\n",
    "    H2 = [j for j,vj in enumerate(N_crc) if vj > 0.5]\n",
    "    tY2 = np.transpose(Y2)\n",
    "    W3 = np.asarray(W3)\n",
    "    \n",
    "    #/!\\ Use H1 as a labeling array\n",
    "\n",
    "    S_tsp = [] #set of ICP in each TSP\n",
    "    for c,vc in enumerate(H2):\n",
    "        S_tsp.append([H1[j] for j,vj in enumerate(tY2[c]) if vj > 0.5]+[J+vc])\n",
    "    \n",
    "    w_tsp = []\n",
    "    for submat in S_tsp:\n",
    "        w_tsp.append(W3[submat,:][:,submat])\n",
    "    #######################################################################\n",
    "    # Solving TSP\n",
    "    routes = []\n",
    "    for c,vc in enumerate(w_tsp):\n",
    "        prob, X = tsp_cplex(len(vc),vc, relaxation=False)\n",
    "        # Extract routes\n",
    "        path = []\n",
    "        for j,xj in enumerate(X):\n",
    "            for i,xij in enumerate(xj):\n",
    "                if xij == 1:\n",
    "                    path.append((S_tsp[c][i],S_tsp[c][j]))\n",
    "        routes.append(path)\n",
    "    #######################################################################\n",
    "    # Draw solution\n",
    "    if(plots):\n",
    "         draw_solution_II(I,J,C,N_crc, N_icp,\n",
    "                    Y1,Y2, routes, expid,\n",
    "                    G, pos, labels, colors, size)\n",
    "            \n",
    "    return Y1, Y2 , N_icp, N_crc, routes"
   ]
  },
  {
   "cell_type": "markdown",
   "metadata": {},
   "source": [
    "# Run experiment"
   ]
  },
  {
   "cell_type": "markdown",
   "metadata": {
    "collapsed": true
   },
   "source": [
    "## Results"
   ]
  },
  {
   "cell_type": "code",
   "execution_count": 151,
   "metadata": {},
   "outputs": [
    {
     "ename": "NameError",
     "evalue": "name 'result1' is not defined",
     "output_type": "error",
     "traceback": [
      "\u001b[1;31m---------------------------------------------------------------------------\u001b[0m",
      "\u001b[1;31mNameError\u001b[0m                                 Traceback (most recent call last)",
      "\u001b[1;32m<ipython-input-151-a251556947c9>\u001b[0m in \u001b[0;36m<module>\u001b[1;34m()\u001b[0m\n\u001b[0;32m      1\u001b[0m \u001b[0mobjects\u001b[0m \u001b[1;33m=\u001b[0m \u001b[1;33m(\u001b[0m\u001b[1;34m'UFLP'\u001b[0m\u001b[1;33m,\u001b[0m \u001b[1;34m'CFLP'\u001b[0m\u001b[1;33m,\u001b[0m \u001b[1;34m'TUFLP'\u001b[0m\u001b[1;33m,\u001b[0m \u001b[1;34m'TCFLP'\u001b[0m\u001b[1;33m)\u001b[0m\u001b[1;33m\u001b[0m\u001b[0m\n\u001b[0;32m      2\u001b[0m \u001b[0my_pos\u001b[0m \u001b[1;33m=\u001b[0m \u001b[0mnp\u001b[0m\u001b[1;33m.\u001b[0m\u001b[0marange\u001b[0m\u001b[1;33m(\u001b[0m\u001b[0mlen\u001b[0m\u001b[1;33m(\u001b[0m\u001b[0mobjects\u001b[0m\u001b[1;33m)\u001b[0m\u001b[1;33m)\u001b[0m\u001b[1;33m\u001b[0m\u001b[0m\n\u001b[1;32m----> 3\u001b[1;33m \u001b[0mperformance\u001b[0m \u001b[1;33m=\u001b[0m \u001b[1;33m[\u001b[0m\u001b[0mresult1\u001b[0m\u001b[1;33m.\u001b[0m\u001b[0mbest\u001b[0m\u001b[1;33m,\u001b[0m\u001b[0mresult2\u001b[0m\u001b[1;33m.\u001b[0m\u001b[0mbest\u001b[0m\u001b[1;33m,\u001b[0m\u001b[0mresult3\u001b[0m\u001b[1;33m.\u001b[0m\u001b[0mbest\u001b[0m\u001b[1;33m,\u001b[0m\u001b[0mresult4\u001b[0m\u001b[1;33m.\u001b[0m\u001b[0mbest\u001b[0m\u001b[1;33m]\u001b[0m\u001b[1;33m\u001b[0m\u001b[0m\n\u001b[0m\u001b[0;32m      4\u001b[0m \u001b[1;33m\u001b[0m\u001b[0m\n\u001b[0;32m      5\u001b[0m \u001b[0mplt\u001b[0m\u001b[1;33m.\u001b[0m\u001b[0mbar\u001b[0m\u001b[1;33m(\u001b[0m\u001b[0my_pos\u001b[0m\u001b[1;33m,\u001b[0m \u001b[0mperformance\u001b[0m\u001b[1;33m,\u001b[0m \u001b[0malign\u001b[0m\u001b[1;33m=\u001b[0m\u001b[1;34m'center'\u001b[0m\u001b[1;33m,\u001b[0m \u001b[0malpha\u001b[0m\u001b[1;33m=\u001b[0m\u001b[1;36m0.5\u001b[0m\u001b[1;33m)\u001b[0m\u001b[1;33m\u001b[0m\u001b[0m\n",
      "\u001b[1;31mNameError\u001b[0m: name 'result1' is not defined"
     ]
    }
   ],
   "source": [
    "objects = ('UFLP', 'CFLP', 'TUFLP', 'TCFLP')\n",
    "y_pos = np.arange(len(objects))\n",
    "performance = [result1.best,result2.best,result3.best,result4.best]\n",
    " \n",
    "plt.bar(y_pos, performance, align='center', alpha=0.5)\n",
    "plt.xticks(y_pos, objects)\n",
    "plt.ylabel('Time s')\n",
    "plt.title('Best processing time for each subproblem')\n",
    " \n",
    "plt.show()"
   ]
  }
 ],
 "metadata": {
  "hide_input": false,
  "kernelspec": {
   "display_name": "Py35",
   "language": "python",
   "name": "py35"
  },
  "language_info": {
   "codemirror_mode": {
    "name": "ipython",
    "version": 3
   },
   "file_extension": ".py",
   "mimetype": "text/x-python",
   "name": "python",
   "nbconvert_exporter": "python",
   "pygments_lexer": "ipython3",
   "version": "3.5.3"
  },
  "toc": {
   "colors": {
    "hover_highlight": "#DAA520",
    "running_highlight": "#FF0000",
    "selected_highlight": "#FFD700"
   },
   "moveMenuLeft": true,
   "nav_menu": {
    "height": "192px",
    "width": "252px"
   },
   "navigate_menu": true,
   "number_sections": true,
   "sideBar": true,
   "threshold": 4,
   "toc_cell": false,
   "toc_section_display": "block",
   "toc_window_display": true,
   "widenNotebook": false
  }
 },
 "nbformat": 4,
 "nbformat_minor": 2
}
