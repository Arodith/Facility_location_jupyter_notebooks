{
 "cells": [
  {
   "cell_type": "markdown",
   "metadata": {
    "collapsed": true
   },
   "source": [
    "CFLP\n",
    "\n",
    "Capacitated facility location problem\n",
    "---"
   ]
  },
  {
   "cell_type": "markdown",
   "metadata": {},
   "source": [
    "# Formulation"
   ]
  },
  {
   "cell_type": "markdown",
   "metadata": {},
   "source": [
    "Open a **subset** of facilities & **connect** customers to _one facility each_ at a _minimal cost_\n",
    "\n",
    "* $f_j$ fixed cost associated with opening the facility j\n",
    "* $c_{ij}$ variable cost of connecting customer i to facility j\n",
    "* $q_{i}$ demand associated to customer i\n",
    "* $V_j$ capacity of facility j"
   ]
  },
  {
   "cell_type": "markdown",
   "metadata": {},
   "source": [
    "$min_x$ \n",
    "\n",
    "$$\\sum_{j \\in J} f_{j} z_j + \\sum_{i \\in I}\\sum_{j \\in J} c_{ij} x_{ij}$$\n",
    "\n",
    "$s.t.$\n",
    "$$\\tag{1} \\sum_{j \\in J} x_{ij} = 1, \\forall i \\in I$$\n",
    "$$\\tag{2} \\sum_{i \\in I} q_{i} x_{ij} \\le V_j z_j, \\forall j \\in J$$\n",
    "$$x_{ij}, z_{j} \\in {0,1}$$\n"
   ]
  },
  {
   "cell_type": "markdown",
   "metadata": {},
   "source": [
    "* $z_j$ decision variable associated with openning facility j\n",
    "* $x_{ij}$ decision variable associated with connecting customer i to facility j\n",
    "\n",
    "* (1) ensure that each customer is associated to a unique facility\n",
    "* (2) ensure that each customer is associated with an open facility and that the capacity constraint is respected"
   ]
  },
  {
   "cell_type": "markdown",
   "metadata": {},
   "source": [
    "# Solve with Cplex"
   ]
  },
  {
   "cell_type": "code",
   "execution_count": 3,
   "metadata": {},
   "outputs": [
    {
     "name": "stdout",
     "output_type": "stream",
     "text": [
      "Overwriting ../pkg/cflp_cplex.py\n"
     ]
    }
   ],
   "source": [
    "%%file \"../pkg/cflp_cplex.py\"\n",
    "\n",
    "import numpy as np              # mathematic tools library\n",
    "import networkx as nx           # network representation library\n",
    "from pkg.cplex_solve import cplex_solve\n",
    "\n",
    "def cflp_cplex(I,J,\n",
    "            c,f,\n",
    "            q,V,\n",
    "            relaxation=False,path=None):\n",
    "    \"\"\"\n",
    "    I,J number of customer and facilities\n",
    "    v,f cost matrices for variables cost and fixed cost\n",
    "    q,V demand of customers and capacity of facilities\n",
    "    \"\"\"\n",
    "    #####################################################################\n",
    "    # Decision variables\n",
    "    def X(i,j):\n",
    "        return \"X_\" + str(i) + \"_\" + str(j)\n",
    "\n",
    "    def Z(j):\n",
    "        return \"Z_\" + str(j)\n",
    "    \n",
    "    I = range(I); J = range(J);\n",
    "    #####################################################################\n",
    "    # Objective function\n",
    "    \n",
    "    Xs = {\n",
    "        \"name\" : [X(i,j) for i in I for j in J],\n",
    "        \"coef\" : [c[i][j] for i in I for j in J],\n",
    "        \"type\" : [\"C\" if relaxation else \"I\" for i in I for j in J],\n",
    "        \"ub\"   : [1 for i in I for j in J],\n",
    "        \"lb\"   : [0 for i in I for j in J],\n",
    "    }\n",
    "    \n",
    "    Zs = {\n",
    "        \"name\" : [Z(j) for j in J],\n",
    "        \"coef\" : [f[j] for j in J],\n",
    "        \"type\" : [\"C\" if relaxation else \"I\" for j in J],\n",
    "        \"ub\"   : [1 for j in J],\n",
    "        \"lb\"   : [0 for j in J],\n",
    "    }\n",
    "    \n",
    "    variables = [Xs, Zs]\n",
    "    #####################################################################\n",
    "    # Constraints\n",
    "    \n",
    "    c1 = {\n",
    "        \"lin_expr\": [[[X(i,j) for j in J], [1 for j in J]]\n",
    "                     for i in I],\n",
    "        \"senses\"  : [\"E\" for i in I],\n",
    "        \"rhs\"     : [0 for i in I]\n",
    "    }\n",
    "    \n",
    "    c1 = {\n",
    "        \"lin_expr\": [[[X(i,j) for i in range(J)]+[Z(j)],\n",
    "                       [q[i] for i in range(J)]+[-V[j]]] \n",
    "        for j in range(J)],\n",
    "        \"senses\"  : [\"L\" for j in range(J)],\n",
    "        \"rhs\"     : [0 for j in range(J)]\n",
    "    }\n",
    "    \n",
    "    constraints = [c1, c2]\n",
    "    #####################################################################\n",
    "    # Solving\n",
    "    prob = cplex_solve(variables,constraints,\n",
    "                       minimize=True, path=path, verbose=verbose)\n",
    "\n",
    "    #####################################################################\n",
    "    # Extract solution\n",
    "    solution = prob.solution.get_values()\n",
    "    I = len(I); J = len(J);\n",
    "    \n",
    "    X = np.reshape(solution[0:I*J],(I,J))\n",
    "    Z = solution[I*J:I*J+J]\n",
    "\n",
    "    return prob, X, Z"
   ]
  },
  {
   "cell_type": "code",
   "execution_count": null,
   "metadata": {
    "collapsed": true
   },
   "outputs": [],
   "source": []
  }
 ],
 "metadata": {
  "hide_input": false,
  "kernelspec": {
   "display_name": "Py35",
   "language": "python",
   "name": "py35"
  },
  "language_info": {
   "codemirror_mode": {
    "name": "ipython",
    "version": 3
   },
   "file_extension": ".py",
   "mimetype": "text/x-python",
   "name": "python",
   "nbconvert_exporter": "python",
   "pygments_lexer": "ipython3",
   "version": "3.5.3"
  },
  "toc": {
   "colors": {
    "hover_highlight": "#DAA520",
    "running_highlight": "#FF0000",
    "selected_highlight": "#FFD700"
   },
   "moveMenuLeft": true,
   "nav_menu": {
    "height": "12px",
    "width": "252px"
   },
   "navigate_menu": true,
   "number_sections": true,
   "sideBar": true,
   "threshold": 4,
   "toc_cell": false,
   "toc_section_display": "block",
   "toc_window_display": false,
   "widenNotebook": false
  }
 },
 "nbformat": 4,
 "nbformat_minor": 2
}
