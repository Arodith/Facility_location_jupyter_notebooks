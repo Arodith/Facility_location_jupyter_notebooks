{
 "cells": [
  {
   "cell_type": "markdown",
   "metadata": {
    "collapsed": true
   },
   "source": [
    "TECFLP-S\n",
    "\n",
    "Two-echelon capacitated facility location problem with fixed cost on edges\n",
    "---"
   ]
  },
  {
   "cell_type": "markdown",
   "metadata": {},
   "source": [
    "# Formulation"
   ]
  },
  {
   "cell_type": "markdown",
   "metadata": {},
   "source": [
    "$min_x$ \n",
    "\n",
    "$$\\sum_{j \\in V_2} f_{j2} z_{j2}+ \\sum_{j_1 \\in V_1} \\sum_{j_2 \\in V_2} h_{j_1 j_2} t_{j_1 j_2} + \\sum_{i \\in I} \\sum_{j_1 \\in V_1} \\sum_{j_2 \\in V_2} c_{i j_1 j_2} x_{i j_1 j_2}$$\n",
    "\n",
    "$s.t.$\n",
    "$$\\tag{1} \\sum_{j_1 \\in V_1} \\sum_{j_2 \\in V_2} x_{i j_1 j_2} = 1, \\forall i \\in I$$\n",
    "$$\\tag{2} \\sum_{i \\in I} q_i x_{i j_1 j_2} \\le V_{j1} , \\forall j_1 \\in V_1, \\forall j_2 \\in V_2$$\n",
    "$$\\tag{3} \\sum_{j_2 \\in V_2} t_{j_1 j_2} \\le 1, \\forall j1 \\in V_1$$\n",
    "$$\\tag{4} x_{i j_1 j_2} \\le t_{j_1 j_2}, \\forall i \\in I, \\forall j_2 \\in V_2$$\n",
    "$$\\tag{5} t_{j_1 j_2} \\le z_{j_2}, \\forall i \\in I, \\forall j_1 \\in V_1$$\n",
    "$$x_{i j_1 j_2}, z_{j} \\in {0,1}$$\n"
   ]
  },
  {
   "cell_type": "markdown",
   "metadata": {},
   "source": []
  },
  {
   "cell_type": "markdown",
   "metadata": {},
   "source": [
    "# Solve with Cplex"
   ]
  },
  {
   "cell_type": "code",
   "execution_count": 8,
   "metadata": {},
   "outputs": [
    {
     "name": "stdout",
     "output_type": "stream",
     "text": [
      "Writing ../pkg/tecflp_s_cplex.py\n"
     ]
    }
   ],
   "source": [
    "%%file \"../pkg/tecflp_s_cplex.py\"\n",
    "\n",
    "from pkg.cplex_solve import cplex_solve\n",
    "import numpy as np              # mathematic tools library\n",
    "import networkx as nx           # network representation library\n",
    "\n",
    "def tecflp_s_cplex(I,V1,V2,\n",
    "            c,f,h,\n",
    "            q,V,\n",
    "            relaxation=False,path=None):\n",
    "    \"\"\"\n",
    "    I,J,C sets of customers, ICPs, CRCs\n",
    "    c,f,h cost matrix for connection and setup\n",
    "    q,V demand and capacity matrix\n",
    "    \"\"\"\n",
    "    #####################################################################\n",
    "    # Decision variables\n",
    "    \n",
    "    def X(i,j1):\n",
    "        return \"X_\" + str(i) + \"_\" + str(j1)\n",
    "    \n",
    "    def T(j1,j2):\n",
    "        return \"T_\" + str(j1) + \"_\" + str(j2)\n",
    "\n",
    "    def Z(j):\n",
    "        return \"Z_\" + str(j)\n",
    "    \n",
    "    nbr_var = I*V1*V2+V1*V2+V2\n",
    "    I = range(I); V1 = range(V1); V2 = range(V2);\n",
    "    \n",
    "    #####################################################################\n",
    "    # Objective function\n",
    "    \n",
    "    objx = [c[i][j1][j2]  for i in I for j1 in V1 for j2 in V2]\n",
    "    objt = [h[j1][j2] for j1 in V1 for j2 in V2]\n",
    "    objz = [f[j] for j in V2]\n",
    "    \n",
    "    ## variablesnames\n",
    "    Xs = [X(i,j1) for i in I for j1 in V1]\n",
    "    Ts = [T(j1,j2) for j1 in V1 for j2 in V2]\n",
    "    Zs = [Z(j2) for j2 in V2]\n",
    "\n",
    "    ## Objective function sum aggregation\n",
    "    obj = objx + objy + objz\n",
    "    colnames = Xs + Ts + Zs\n",
    "    if relaxation:\n",
    "        types    = \"C\" * (nbr_var) #Integrality constraint\n",
    "    else:\n",
    "        types    = \"I\" * (nbr_var) #Integrality constraint\n",
    "\n",
    "    #####################################################################\n",
    "    # Constraints\n",
    "    \n",
    "    c1 = [\n",
    "            [[X(i,j1,j2) for j1 in V1 for j2 in V2], [1 for j1 in V1 for j2 in V2]] \n",
    "          for i in I]\n",
    "    c2 = [\n",
    "            [[X(i,j1,j2) for i in I], [d[i] for i in I]]\n",
    "          for j1 in V1 for j2 in V2]\n",
    "    c3 = [\n",
    "            [[T(j1,j2) for j2 in V2], [1 for j2 in V2]]\n",
    "          for j1 in V1]\n",
    "    c4 = [\n",
    "            [[X(i,j1,j2),T(j1,j2)], [1,-1]]\n",
    "          for i in I for j1 in V1 for j2 in V2]\n",
    "    c5 = [\n",
    "            [[T(j1,j2),Z(j2)], [1,-1]]\n",
    "          for j1 in V1 for j2 in V2]\n",
    "    \n",
    "    s1 = \"E\" * len(I)\n",
    "    s2 = \"L\" * len(V1)+len(V2)\n",
    "    s3 = \"L\" * len(V1)\n",
    "    s4 = \"L\" * V1\n",
    "    s4 = \"L\" * V1\n",
    "    \n",
    "    r1 = [1 for i in I]\n",
    "    r2 = [V[j1] for j1 in V1 for j2 in V2]\n",
    "    r3 = [1 for j1 in V1]\n",
    "    r4 = [0 for i in I for j1 in V1 for j2 in V2]\n",
    "    r5 = [0 for j1 in V1 for j2 in V2]\n",
    "\n",
    "    \n",
    "    rows = c1+c2+c3+c4\n",
    "    senses = s1+s2+s3+s4\n",
    "    rhs =  r1+r2+r3+r4\n",
    "    \n",
    "    #####################################################################\n",
    "    # Bounds\n",
    "    ub = [1 for i in range(nbr_var)]\n",
    "    lb = [0 for i in range(nbr_var)]\n",
    "\n",
    "    #####################################################################\n",
    "    # Solving\n",
    "    prob = cplex_solve(obj,ub,lb,colnames,types, rows, senses, rhs, minimize=True, path=path)\n",
    "\n",
    "    #####################################################################\n",
    "    # Extract solution\n",
    "    I = len(I); V1 = len(V1); V2 = len(V2);\n",
    "    \n",
    "    solution = prob.solution.get_values()\n",
    "    X = np.reshape(solution[0:I*V1*V2],(I,V1,V2))\n",
    "    H = solution[I*V1*V2:I*V1*V2+V1*V2]\n",
    "    Z = solution[I*V1*V2+V1*V2:]\n",
    "\n",
    "    return prob, X, H, Z"
   ]
  },
  {
   "cell_type": "code",
   "execution_count": null,
   "metadata": {
    "collapsed": true
   },
   "outputs": [],
   "source": []
  }
 ],
 "metadata": {
  "hide_input": false,
  "kernelspec": {
   "display_name": "Py35",
   "language": "python",
   "name": "py35"
  },
  "language_info": {
   "codemirror_mode": {
    "name": "ipython",
    "version": 3
   },
   "file_extension": ".py",
   "mimetype": "text/x-python",
   "name": "python",
   "nbconvert_exporter": "python",
   "pygments_lexer": "ipython3",
   "version": "3.5.3"
  },
  "toc": {
   "colors": {
    "hover_highlight": "#DAA520",
    "running_highlight": "#FF0000",
    "selected_highlight": "#FFD700"
   },
   "moveMenuLeft": true,
   "nav_menu": {
    "height": "12px",
    "width": "252px"
   },
   "navigate_menu": true,
   "number_sections": true,
   "sideBar": true,
   "threshold": 4,
   "toc_cell": false,
   "toc_section_display": "block",
   "toc_window_display": false,
   "widenNotebook": false
  }
 },
 "nbformat": 4,
 "nbformat_minor": 2
}
