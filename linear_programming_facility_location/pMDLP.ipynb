{
 "cells": [
  {
   "cell_type": "markdown",
   "metadata": {
    "collapsed": true
   },
   "source": [
    "UFLP\n",
    "\n",
    "P-Median Uncapacitated facility location problem\n",
    "---"
   ]
  },
  {
   "cell_type": "markdown",
   "metadata": {},
   "source": [
    "# Formulation"
   ]
  },
  {
   "cell_type": "markdown",
   "metadata": {},
   "source": [
    "$min_x$ \n",
    "\n",
    "$$\\sum_{i \\in I}\\sum_{j \\in J} c_{ij} x_{ij}$$\n",
    "\n",
    "$s.t.$\n",
    "$$\\tag{1} \\sum_{j \\in J} x_{ij} = 1, \\forall i \\in I$$\n",
    "$$\\tag{2} x_{ij} \\le z_{j}, \\forall j \\in J, \\forall i \\in I$$\n",
    "$$\\tag{3} \\sum_{j \\in J} z_{j} = p$$\n",
    "$$x_{ij}, z_{j} \\in {0,1}$$\n"
   ]
  },
  {
   "cell_type": "markdown",
   "metadata": {},
   "source": [
    "# Solve with Cplex"
   ]
  },
  {
   "cell_type": "code",
   "execution_count": 11,
   "metadata": {},
   "outputs": [
    {
     "name": "stdout",
     "output_type": "stream",
     "text": [
      "Overwriting ../pkg/pm_flp_cplex.py\n"
     ]
    }
   ],
   "source": [
    "%%file \"../pkg/pm_flp_cplex.py\"\n",
    "\n",
    "import numpy as np              # mathematic tools library\n",
    "import networkx as nx           # network representation library\n",
    "from pkg.cplex_solve import cplex_solve\n",
    "\n",
    "def pm_flp_cplex(I,J,\n",
    "            c,p,\n",
    "            relaxation=False,path=None):\n",
    "    #####################################################################\n",
    "    # Decision variables\n",
    "    \n",
    "    def X(i,j):\n",
    "        return \"X_\" + str(i) + \"_\" + str(j)\n",
    "\n",
    "    def Z(j):\n",
    "        return \"Z_\" + str(j)\n",
    "\n",
    "    #####################################################################\n",
    "    # Objective function\n",
    "    \n",
    "    obj1 = [c[i][j]  for i in range(I) for j in range(J)]\n",
    "    obj2 = [0 for j in range(J)]\n",
    "    \n",
    "    ## variables name\n",
    "    Xs = [X(i,j) for i in range(I) for j in range(J)]\n",
    "    Zs = [Z(j) for j in range(J)]\n",
    "\n",
    "    ## Objective function sum aggregation\n",
    "    obj = obj1 + obj2\n",
    "    colnames = Xs + Zs\n",
    "    if relaxation:\n",
    "        types    = \"C\" * (I*J+J) #Integrality constraint\n",
    "    else:\n",
    "        types    = \"I\" * (I*J+J) #Integrality constraint\n",
    "\n",
    "    #####################################################################\n",
    "    # Constraints\n",
    "    \n",
    "    c1 = [[[X(i,j) for j in range(J)], [1 for j in range(J)]] for i in range(I)]\n",
    "    c2 = [[[X(i,j),Z(j)], [1,-1]] for i in range(I) for j in range(J)]\n",
    "    c3 = [[[Z(j) for j in range(J)], [1 for j in range(J)]]]\n",
    "    \n",
    "    s1 = \"E\" * I\n",
    "    s2 = \"L\" * (I*J)\n",
    "    s3 = \"E\"\n",
    "    \n",
    "    r1 = [1 for i in range(I)]\n",
    "    r2 = [0 for i in range(I) for j in range(J)]\n",
    "    r3 = [p]\n",
    "    \n",
    "    rows   =   c1+c2+c3\n",
    "    senses =   s1+s2+s3\n",
    "    rhs    =   r1+r2+r3\n",
    "    \n",
    "    #####################################################################\n",
    "    # Bounds\n",
    "    ub = [1 for i in range(I*J+J)]\n",
    "    lb = [0 for i in range(I*J+J)]\n",
    "    \n",
    "    #####################################################################\n",
    "    # Solving\n",
    "    prob = cplex_solve(obj,ub,lb,colnames,types, rows, senses, rhs, minimize=True, path=path)\n",
    "\n",
    "    #####################################################################\n",
    "    # Extract solution\n",
    "    solution = prob.solution.get_values()\n",
    "    X = np.reshape(solution[0:I*J],(I,J))\n",
    "    Z = solution[I*J:I*J+J]\n",
    "\n",
    "    return prob, X, Z"
   ]
  },
  {
   "cell_type": "code",
   "execution_count": null,
   "metadata": {
    "collapsed": true
   },
   "outputs": [],
   "source": []
  }
 ],
 "metadata": {
  "hide_input": false,
  "kernelspec": {
   "display_name": "Py35",
   "language": "python",
   "name": "py35"
  },
  "language_info": {
   "codemirror_mode": {
    "name": "ipython",
    "version": 3
   },
   "file_extension": ".py",
   "mimetype": "text/x-python",
   "name": "python",
   "nbconvert_exporter": "python",
   "pygments_lexer": "ipython3",
   "version": "3.5.3"
  },
  "toc": {
   "colors": {
    "hover_highlight": "#DAA520",
    "running_highlight": "#FF0000",
    "selected_highlight": "#FFD700"
   },
   "moveMenuLeft": true,
   "nav_menu": {
    "height": "12px",
    "width": "252px"
   },
   "navigate_menu": true,
   "number_sections": true,
   "sideBar": true,
   "threshold": 4,
   "toc_cell": false,
   "toc_section_display": "block",
   "toc_window_display": false,
   "widenNotebook": false
  }
 },
 "nbformat": 4,
 "nbformat_minor": 2
}
