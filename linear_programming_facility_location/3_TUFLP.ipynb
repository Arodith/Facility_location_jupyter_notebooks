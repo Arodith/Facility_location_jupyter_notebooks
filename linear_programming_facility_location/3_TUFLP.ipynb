{
 "cells": [
  {
   "cell_type": "markdown",
   "metadata": {
    "collapsed": true
   },
   "source": [
    "TUFLP - $2/\\bar{R}/\\bar{R}$\n",
    "\n",
    "Two-level uncapacitated facility location problem\n",
    "---"
   ]
  },
  {
   "cell_type": "markdown",
   "metadata": {},
   "source": [
    "# Formulation"
   ]
  },
  {
   "cell_type": "markdown",
   "metadata": {},
   "source": [
    "Open a **subset** of level 1 facilities & **connect** customers to _one facility each_ and open a **subset** of level 2 facilities & **connect** level 1 facilities to _one facility each_ at a _minimal cost_\n",
    "\n",
    "\n",
    "* $f_jr$ fixed cost associated with opening the facility j at level r\n",
    "* $c_{ij_1j_2}$ cost of connecting customer i to level 1 facility j1 to facility level 2 j2"
   ]
  },
  {
   "cell_type": "markdown",
   "metadata": {},
   "source": [
    "$min_x$ \n",
    "\n",
    "$$\\sum_{r =1}^2 \\sum_{j \\in V_r} f_{jr} z_{jr} + \\sum_{i \\in I} \\sum_{j_1 \\in V_1} \\sum_{j_2 \\in V_2} c_{i j_1 j_2} x_{i j_1 j_2}$$\n",
    "\n",
    "$s.t.$\n",
    "$$\\tag{1} \\sum_{j_1 \\in V_1} \\sum_{j_2 \\in V_2} x_{i j_1 j_2} = 1, \\forall i \\in I$$\n",
    "$$\\tag{2} \\sum_{j_1 \\in V_1} x_{i j_1 j_2} \\le z_{j_1}, \\forall i \\in I, \\forall j_2 \\in V_2$$\n",
    "$$\\tag{3} \\sum_{j_2 \\in V_2} x_{i j_1 j_2} \\le z_{j_2}, \\forall i \\in I, \\forall j_1 \\in V_1$$\n",
    "$$x_{i j_1 j_2}, z_{j} \\in {0,1}$$\n"
   ]
  },
  {
   "cell_type": "markdown",
   "metadata": {},
   "source": [
    "* $z_jr$ decision variable associated with opening facility j and level r\n",
    "* $x_{ij_1j_2}$ decision variable associated with connecting customer i to level 1 facility $j_1$ to level 2 facility $j_2$\n",
    "\n",
    "* (1) ensure that each customer is associated to a unique couple of facility one in level 1 the other in level 2\n",
    "* (2), (3) ensure that each customer is associated with an open facility"
   ]
  },
  {
   "cell_type": "markdown",
   "metadata": {},
   "source": [
    "# Solve with Cplex"
   ]
  },
  {
   "cell_type": "code",
   "execution_count": 1,
   "metadata": {},
   "outputs": [
    {
     "name": "stdout",
     "output_type": "stream",
     "text": [
      "Overwriting ../pkg/tuflp_cplex.py\n"
     ]
    }
   ],
   "source": [
    "%%file \"../pkg/tuflp_cplex.py\"\n",
    "\n",
    "from pkg.cplex_solve import cplex_solve\n",
    "import numpy as np              # mathematic tools library\n",
    "import networkx as nx           # network representation library\n",
    "\n",
    "def tuflp_cplex(I,V1,V2,\n",
    "            c,f,\n",
    "            relaxation=False,path=None,verbose=False):\n",
    "    \"\"\"\n",
    "    I,V1,V2 number of customers, level 1 facility, level 2 facility\n",
    "    c,f cost matrix for connection and setup\n",
    "    \"\"\"\n",
    "    #####################################################################\n",
    "    # Decision variables\n",
    "    \n",
    "    def X(i,j1,j2):\n",
    "        return \"X_\" + str(i) + \"_\" + str(j1) + \"_\" + str(j2)\n",
    "\n",
    "    def Z(j,r):\n",
    "        return \"Z_\" + str(j) + \"_\" + str(r)\n",
    "    \n",
    "    nbr_var = I*V1*V2+(V1+V2)\n",
    "    I = range(I); V1 = range(V1); V2 = range(V2);\n",
    "\n",
    "    #####################################################################\n",
    "    # Objective function\n",
    "    \n",
    "    Xs = {\n",
    "        \"name\" : [X(i,j) for i in I for j1 in V1 for j2 in V2],\n",
    "        \"coef\" : [c[i][j1][j2] for i in I for j1 in V1 for j2 in V2],\n",
    "        \"type\" : [\"C\" if relaxation else \"I\" for i in I for j1 in V1 for j2 in V2],\n",
    "        \"ub\"   : [1 for i in I for j1 in V1 for j2 in V2],\n",
    "        \"lb\"   : [0 for i in I for j1 in V1 for j2 in V2],\n",
    "    }\n",
    "    \n",
    "    Zs = {\n",
    "        \"name\" : [Z(j) for j in range(len(V1)+len(V2))],\n",
    "        \"coef\" : [f[j] for j in range(len(V1)+len(V2))],\n",
    "        \"type\" : [\"C\" if relaxation else \"I\" for j in range(len(V1)+len(V2))],\n",
    "        \"ub\"   : [1 for j in range(len(V1)+len(V2))],\n",
    "        \"lb\"   : [0 for j in range(len(V1)+len(V2))],\n",
    "    }\n",
    "\n",
    "    #####################################################################\n",
    "    # Constraints\n",
    "    \n",
    "    c1 = {\n",
    "        \"lin_expr\": [[[X(i,j1,j2) for j1 in V1 for j2 in V2], [1 for j1 in V1 for j2 in V2]] \n",
    "          for i in range(I)],\n",
    "        \"senses\"  : [\"E\" for i in range(I)],\n",
    "        \"rhs\"     : [0 for i in range(I)]\n",
    "    }\n",
    "    \n",
    "    c2 = {\n",
    "        \"lin_expr\": [[[X(i,j1,j2) for j1 in V1]+[Z(j2,2)], [1 for j1 in V1]+ [-1]]\n",
    "          for i in I for j2 in V2],\n",
    "        \"senses\"  : [\"L\" for i in I for j2 in V2],\n",
    "        \"rhs\"     : [0 for i in I for j2 in V2]\n",
    "    }\n",
    "    \n",
    "    c3 = {\n",
    "        \"lin_expr\": [[[X(i,j1,j2) for j2 in V2]+[Z(j1,1)], [1 for j2 in V2]+ [-1]]\n",
    "          for i in I for j1 in V1],\n",
    "        \"senses\"  : [\"L\" for i in I for j1 in V1],\n",
    "        \"rhs\"     : [0 for i in I for j1 in V1]\n",
    "    }\n",
    "    \n",
    "    constraints = [c1, c2, c3]\n",
    "\n",
    "    #####################################################################\n",
    "    # Solving\n",
    "    prob = cplex_solve(variables,constraints,\n",
    "                       minimize=True, path=path, verbose=verbose)\n",
    "    #####################################################################\n",
    "    # Extract solution\n",
    "    I = len(I); V1 = len(V1); V2 = len(V2);\n",
    "    solution = prob.solution.get_values()\n",
    "    X = np.reshape(solution[0:I*V1*V2],(I,V1,V2))\n",
    "    Z = solution[I*V1*V2:]\n",
    "\n",
    "    return prob, X, Z"
   ]
  },
  {
   "cell_type": "code",
   "execution_count": null,
   "metadata": {
    "collapsed": true
   },
   "outputs": [],
   "source": []
  }
 ],
 "metadata": {
  "hide_input": false,
  "kernelspec": {
   "display_name": "Py35",
   "language": "python",
   "name": "py35"
  },
  "language_info": {
   "codemirror_mode": {
    "name": "ipython",
    "version": 3
   },
   "file_extension": ".py",
   "mimetype": "text/x-python",
   "name": "python",
   "nbconvert_exporter": "python",
   "pygments_lexer": "ipython3",
   "version": "3.5.3"
  },
  "toc": {
   "colors": {
    "hover_highlight": "#DAA520",
    "running_highlight": "#FF0000",
    "selected_highlight": "#FFD700"
   },
   "moveMenuLeft": true,
   "nav_menu": {
    "height": "12px",
    "width": "252px"
   },
   "navigate_menu": true,
   "number_sections": true,
   "sideBar": true,
   "threshold": 4,
   "toc_cell": false,
   "toc_section_display": "block",
   "toc_window_display": false,
   "widenNotebook": false
  }
 },
 "nbformat": 4,
 "nbformat_minor": 2
}
