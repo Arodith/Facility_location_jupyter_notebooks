{
 "cells": [
  {
   "cell_type": "code",
   "execution_count": 2,
   "metadata": {
    "collapsed": true
   },
   "outputs": [],
   "source": [
    "import numpy as np"
   ]
  },
  {
   "cell_type": "markdown",
   "metadata": {},
   "source": [
    "# Objective function"
   ]
  },
  {
   "cell_type": "markdown",
   "metadata": {},
   "source": [
    "$$\n",
    "\\begin{align}\n",
    "    TC1 = \\\\\n",
    "    &\\tag{1.1} \\sum_{i \\in I}\\sum_{j \\in J} [(x_i - \\bar{x_j})^2 + (y_i - \\bar{y_j})^2]^{1/2} Y_{ij} \\\\\n",
    "    &\\tag{1.2} + \\sum_{c \\in C \\cup J}\\sum_{j \\in C \\cup J}\\sum_{b \\in B}(D_{cj}+D_c) Z_{cjb} \\\\\n",
    "    &\\tag{1.3} + \\sum_{j \\in J}FCT_j N_j \\\\\n",
    "    &\\tag{1.4} + \\sum_{c \\in C}FCR_c N_c \\\\\n",
    "    &\\tag{1.5} + \\sum_{b \\in B}FCV_b\\sum_{c \\in C \\cup J}\\sum_{j \\in C \\cup J}Z_{ijb}\\\\\n",
    "    &\\tag{1.6} + \\sum_{j \\in J}\\sum_{k \\in K}\\sum_{v \\in V}q_{iv} IP_{ikv} \\\\\n",
    "    &\\tag{1.7} + \\sum_{j \\in J}\\sum_{k \\in K}\\sum_{v \\in V}q_{iv} PC_{ikv}\n",
    "\\end{align}\n",
    "$$"
   ]
  },
  {
   "cell_type": "markdown",
   "metadata": {},
   "source": [
    "$$\n",
    "\\begin{align}\n",
    "    TC2 = \\\\\n",
    "    &\\tag{2.1} \\sum_{i \\in I}\\sum_{j \\in J} w_{ij} Y_{ij} \\\\\n",
    "    &\\tag{2.2} + \\sum_{c \\in C \\cup J}\\sum_{j \\in C \\cup J}\\sum_{b \\in B}(D_{cj}+FCV_b) Z_{cjb} \\\\\n",
    "    &\\tag{2.3} + \\sum_{j \\in J}FCT_j N_j \\\\\n",
    "    &\\tag{2.4} + \\sum_{c \\in C}(FCR_c+D_c) N_c \\\\\n",
    "    &\\tag{2.5} + \\sum_{j \\in J}\\sum_{k \\in K}\\sum_{v \\in V}q_{iv} (PC_{ikv}+IP_{ikv})\n",
    "\\end{align}\n",
    "$$"
   ]
  },
  {
   "cell_type": "markdown",
   "metadata": {},
   "source": []
  },
  {
   "cell_type": "code",
   "execution_count": 1,
   "metadata": {
    "code_folding": []
   },
   "outputs": [
    {
     "name": "stdout",
     "output_type": "stream",
     "text": [
      "Overwriting ../pkg/objective_II.py\n"
     ]
    }
   ],
   "source": [
    "%%file \"../pkg/objective_II.py\"\n",
    "\n",
    "def objective_II(Y,Z,Nj,Nc,\n",
    "                    I,J,C,B,K,V,\n",
    "                   w,Dcj,FCV,FCT,FCR,Dc,q,PC,IP):\n",
    "    \"\"\"\n",
    "    Parameters:\n",
    "        Sets:\n",
    "            I,J,C,K,V,B -> customer, ICPs, CRCs, qualities, varieties, vehicles\n",
    "        Costs:\n",
    "            FCT, FCR, FCV, fixed cost for ICP, CRC, vehicle\n",
    "            IP, PC acquisition and processiong cost\n",
    "         Weight:\n",
    "            q, nbr unit collected\n",
    "            w, Dcj, Dc cost related to traveling distances cus-ICP, ICP-CRC, CRC-PC\n",
    "     \n",
    "     Decision Vqriables:\n",
    "        Y_ij customer i associated to ICP j\n",
    "        Z_cjb vehicle travel from CRC_c to ICP_j on route b\n",
    "        N_icp, N_crc -> ICP / CRC i is open\n",
    "    \"\"\"\n",
    "    sum2_1 = 0\n",
    "    for i in range(I):\n",
    "        for j in range(J):\n",
    "            sum2_1 += w[i][j] * Y[i][j]\n",
    "    \n",
    "    sum2_2 = 0\n",
    "    for c in range(C+J):\n",
    "        for j in range(C+J):\n",
    "            for b in range(B):\n",
    "                sum2_2 += (Dcj[c][j]) * Z[c][j][b]\n",
    "                \n",
    "    sum2_3 = 0\n",
    "    for j in range(J):\n",
    "        sum2_3 += FCT[j] * N[j]\n",
    "        \n",
    "    sum2_4 = 0\n",
    "    for c in range(C):\n",
    "        sum2_4 += (FCT[c] + Dc[c] + FCV[c]) * N[c]\n",
    "      \n",
    "    return sum2_1+sum2_2+sum2_3+sum2_4, sum2_1, sum2_2, sum2_3, sum2_4"
   ]
  },
  {
   "cell_type": "code",
   "execution_count": 2,
   "metadata": {},
   "outputs": [
    {
     "name": "stdout",
     "output_type": "stream",
     "text": [
      "Overwriting ../pkg/objective_III.py\n"
     ]
    }
   ],
   "source": [
    "%%file \"../pkg/objective_III.py\"\n",
    "\n",
    "def objective_III(Y,routes,Nj,Nc,\n",
    "                    I,J,C,B,\n",
    "                   w,DjUc,Dc,FCV,FCT,FCR):\n",
    "    \"\"\"\n",
    "    Parameters:\n",
    "        Sets:\n",
    "            I,J,C,K,V,B -> customer, ICPs, CRCs, qualities, varieties, vehicles\n",
    "        Costs:\n",
    "            FCT, FCR, FCV, fixed cost for ICP, CRC, vehicle\n",
    "            IP, PC acquisition and processiong cost\n",
    "         Weight:\n",
    "            q, nbr unit collected\n",
    "            w, Dcj, Dc cost related to traveling distances cus-ICP, ICP-CRC, CRC-PC\n",
    "     \n",
    "     Decision Vqriables:\n",
    "        Y_ij customer i associated to ICP j\n",
    "        Z_cjb vehicle travel from CRC_c to ICP_j on route b\n",
    "        N_icp, N_crc -> ICP / CRC i is open\n",
    "    \"\"\"\n",
    "    sum2_1 = 0\n",
    "    for i in range(I):\n",
    "        for j in range(J):\n",
    "            sum2_1 += w[i][j] * Y[i][j]\n",
    "    \n",
    "    sum2_2 = 0\n",
    "    for b,r in enumerate(routes):\n",
    "        for l in r:\n",
    "            c = l[0]; j = l[1];\n",
    "            sum2_2 += DjUc[c][j]\n",
    "                \n",
    "    sum2_3 = 0\n",
    "    for j in range(J):\n",
    "        sum2_3 += FCT[j] * Nj[j]\n",
    "        \n",
    "    sum2_4 = 0\n",
    "    for c in range(C):\n",
    "        sum2_4 += (FCR[c] + Dc[c]+ FCV[c]) * Nc[c]\n",
    "      \n",
    "    return sum2_1+sum2_2+sum2_3+sum2_4, sum2_1, sum2_2, sum2_3, sum2_4"
   ]
  }
 ],
 "metadata": {
  "hide_input": false,
  "kernelspec": {
   "display_name": "Py35",
   "language": "python",
   "name": "py35"
  },
  "language_info": {
   "codemirror_mode": {
    "name": "ipython",
    "version": 3
   },
   "file_extension": ".py",
   "mimetype": "text/x-python",
   "name": "python",
   "nbconvert_exporter": "python",
   "pygments_lexer": "ipython3",
   "version": "3.5.3"
  },
  "toc": {
   "colors": {
    "hover_highlight": "#DAA520",
    "running_highlight": "#FF0000",
    "selected_highlight": "#FFD700"
   },
   "moveMenuLeft": true,
   "nav_menu": {
    "height": "30px",
    "width": "252px"
   },
   "navigate_menu": true,
   "number_sections": true,
   "sideBar": true,
   "threshold": 4,
   "toc_cell": false,
   "toc_section_display": "block",
   "toc_window_display": false,
   "widenNotebook": false
  }
 },
 "nbformat": 4,
 "nbformat_minor": 2
}
