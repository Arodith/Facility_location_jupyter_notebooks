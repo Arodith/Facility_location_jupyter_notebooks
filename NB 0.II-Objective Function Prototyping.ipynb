{
 "cells": [
  {
   "cell_type": "code",
   "execution_count": 2,
   "metadata": {
    "collapsed": true,
    "run_control": {
     "marked": false
    }
   },
   "outputs": [],
   "source": [
    "from __future__ import print_function, division\n",
    "import numpy as np\n",
    "import matplotlib as mpl\n",
    "import matplotlib.pyplot as plt\n",
    "%matplotlib inline\n",
    "\n",
    "import csv"
   ]
  },
  {
   "cell_type": "markdown",
   "metadata": {
    "run_control": {
     "marked": false
    }
   },
   "source": [
    "# Objective Function Definition"
   ]
  },
  {
   "cell_type": "code",
   "execution_count": 3,
   "metadata": {
    "code_folding": [],
    "run_control": {
     "marked": false
    }
   },
   "outputs": [],
   "source": [
    "def objective_lr_1(Y,I,J,x_cus,x_icp,y_cus,y_icp):\n",
    "    \"\"\"Calculate The cost distances Custoner/ICP\n",
    "    \n",
    "        Parameters:\n",
    "        I,J sets of customers and ICP\n",
    "        x_cus,y_cus geographique position of customers\n",
    "        x_icp,y_icp geographique position of ICPs\n",
    "        \n",
    "        Decision variable:\n",
    "        Y_ij if customer i associated with ICP j\n",
    "    \"\"\"\n",
    "    s = 0\n",
    "    for i in range(I):\n",
    "        for j in range(J):\n",
    "            s += sqrt((x_cus[i] - x_icp[i])**2 +  (y_cus[i]  - y_icp[i])**2) * Y[i][j]\n",
    "            \n",
    "    return s"
   ]
  },
  {
   "cell_type": "code",
   "execution_count": 4,
   "metadata": {
    "code_folding": [
     0
    ],
    "collapsed": true,
    "run_control": {
     "marked": false
    }
   },
   "outputs": [],
   "source": [
    "def objective_lr_2(N,J,FCT):\n",
    "    \"\"\"Setup cost for ICPs\n",
    "    \n",
    "        Parameters:\n",
    "        J sets of ICP\n",
    "        FTC_j setup cost for ICP j\n",
    "\n",
    "        Decision variable:\n",
    "        N_j ICP j is open\n",
    "    \"\"\"\n",
    "    s = 0\n",
    "    for j in range(J):\n",
    "        s += FTC[j]*N[j]\n",
    "            \n",
    "    return s"
   ]
  },
  {
   "cell_type": "code",
   "execution_count": 5,
   "metadata": {
    "code_folding": [
     0
    ],
    "collapsed": true,
    "run_control": {
     "marked": false
    }
   },
   "outputs": [],
   "source": [
    "def objective_lr_3(I,K,V,q,IP):\n",
    "    \"\"\"Product acquisition cost\n",
    "    \n",
    "        Parameters:\n",
    "        I,K,V sets of customers, quality level, and product varieties\n",
    "        q_iv unit of return product custoner i quality v\n",
    "        IP incentive cost for acquisition\n",
    "\n",
    "        Decision variable:\n",
    "\n",
    "    \"\"\"\n",
    "    s = 0\n",
    "    for i in range(I):\n",
    "        for k in range(K):\n",
    "            for v in range(V):\n",
    "                s += q[i][v] * IP[i][k][v]\n",
    "            \n",
    "    return s"
   ]
  },
  {
   "cell_type": "code",
   "execution_count": 6,
   "metadata": {
    "code_folding": [
     0
    ],
    "collapsed": true,
    "run_control": {
     "marked": false
    }
   },
   "outputs": [],
   "source": [
    "def objective_lr_4(Z,C,J,B,D_crc_icp,D_crc_pc):\n",
    "    \"\"\"Routing ICP->CRC->PC\n",
    "    \n",
    "        Parameters:\n",
    "        C,J,B sets of customers, quality level, and product varieties\n",
    "        D_crc_icp distance between CRC_c and ICP_j\n",
    "        D_crc_pc  distance between CRC_c and PC\n",
    "\n",
    "        Decision variable:\n",
    "        Z_cjb vehicle travel from CRC_c to ICP_j on route b\n",
    "    \"\"\"\n",
    "    s = 0\n",
    "    for c in range(C):\n",
    "        for j in range(J):\n",
    "            for b in range(B):\n",
    "                s += (D_crc_icp[c][j] + D_crc_pc[c])* Z[c][j][b]\n",
    "            \n",
    "    return s"
   ]
  },
  {
   "cell_type": "code",
   "execution_count": 7,
   "metadata": {
    "code_folding": [
     0
    ],
    "collapsed": true,
    "run_control": {
     "marked": false
    }
   },
   "outputs": [],
   "source": [
    "def objective_lr_5(N,S,FCR):\n",
    "    \"\"\"Product acquisition cost\n",
    "    \n",
    "        Parameters:\n",
    "        S set of CRC\n",
    "        FCR setup cost of CRC_c\n",
    "\n",
    "        Decision variable:\n",
    "\n",
    "    \"\"\"\n",
    "    s = 0\n",
    "    for c in range(S):\n",
    "        s += FCR[c]*N\n",
    "            \n",
    "    return s"
   ]
  },
  {
   "cell_type": "code",
   "execution_count": 8,
   "metadata": {
    "code_folding": [
     0
    ],
    "collapsed": true,
    "run_control": {
     "marked": false
    }
   },
   "outputs": [],
   "source": [
    "def objective_lr_6(I,K,V,q,PC):\n",
    "    \"\"\"Processing cost\n",
    "    \n",
    "        Parameters:\n",
    "        I,K,V sets of customers, quality level, and product varieties\n",
    "        q_iv unit of return product custoner i quality v\n",
    "        PC procesing cost\n",
    "\n",
    "        Decision variable:\n",
    "\n",
    "    \"\"\"\n",
    "    s = 0\n",
    "    for i in range(I):\n",
    "        for k in range(K):\n",
    "            for v in range(V):\n",
    "                s += q[i][v] * PC[i][k][v]\n",
    "            \n",
    "    return s"
   ]
  },
  {
   "cell_type": "code",
   "execution_count": 9,
   "metadata": {
    "code_folding": [
     0
    ],
    "collapsed": true,
    "run_control": {
     "marked": false
    }
   },
   "outputs": [],
   "source": [
    "def objective_lr_7(Z,C,J,B,FCV):\n",
    "    \"\"\"Routing ICP->CRC->PC\n",
    "    \n",
    "        Parameters:\n",
    "        C,J,B sets of customers, quality level, and product varieties\n",
    "        FCV_b fixed cost associated to vehivle b\n",
    "\n",
    "        Decision variable:\n",
    "        Z_cjb vehicle travel from CRC_c to ICP_j on route b\n",
    "\n",
    "    \"\"\"\n",
    "    s = 0\n",
    "    for b in range(B):\n",
    "        s_sub = 0\n",
    "        for c in range(C):\n",
    "            for j in range(J):\n",
    "                s_sub += Z[c][j][b]\n",
    "        s += FCV[b] * sum_7_sub\n",
    "            \n",
    "    return s"
   ]
  },
  {
   "cell_type": "code",
   "execution_count": 10,
   "metadata": {
    "code_folding": [],
    "run_control": {
     "marked": false
    }
   },
   "outputs": [],
   "source": [
    "def objective_lr(decisionVariables, p):\n",
    "    \"\"\"\n",
    "    Parameters:\n",
    "        Sets:\n",
    "            I,J,C,K,V,B -> customer, ICPs, CRCs, qualities, varieties, vehicles\n",
    "        Costs:\n",
    "            FCT, FCR, FCV\n",
    "            IP, PC\n",
    "         Weight:\n",
    "            q,\n",
    "            D_crc_icp, D_crc_pc\n",
    "     \n",
    "     Decision Vqriables:\n",
    "        Y_ij customer i associated to ICP j\n",
    "        Z_cjb vehicle travel from CRC_c to ICP_j on route b\n",
    "        N_icp, N_crc -> ICP / CRC i is open\n",
    "    \"\"\"\n",
    "    \n",
    "    ############################################\n",
    "    ## Extraction\n",
    "    I = p.sets.I\n",
    "    J = p.sets.J\n",
    "    C = p.sets.C\n",
    "    K = p.sets.K\n",
    "    V = p.sets.V\n",
    "    B = p.sets.B\n",
    "    \n",
    "    ############################################\n",
    "    ## Variable cost\n",
    "    \n",
    "    # 1. Distance betwwen customer and facilies\n",
    "    objective_lr_1(Y,I,J,x_cus,x_icp,y_cus,y_icp)\n",
    "    # 4. Routing ICP->CRC->PC\n",
    "    objective_lr_4(Z,C,J,B,D_crc_icp,D_crc_pc)\n",
    "    \n",
    "    ############################################\n",
    "    ## Fixed costs\n",
    "    \n",
    "    # 2. Cost of establishing ICPs\n",
    "    objective_lr_2(N_icp,J,FCT)\n",
    "    # 5. Fixe cost for establishing CRCs\n",
    "    objective_lr_5(N_crc,S,FCR)\n",
    "    # 7. Fixe cost for vehicles\n",
    "    objective_lr_7(Z,C,J,B,FCV)\n",
    "    ############################################\n",
    "    ## Acquisition an processing cost\n",
    "    \n",
    "    # 3. Acquisition cost\n",
    "    objective_lr_3(I,K,V,q,IP)\n",
    "    # 6. Processing cost\n",
    "    objective_lr_6(I,K,V,q,PC)"
   ]
  },
  {
   "cell_type": "markdown",
   "metadata": {
    "heading_collapsed": true,
    "run_control": {
     "marked": false
    }
   },
   "source": [
    "# Objective function Tests"
   ]
  },
  {
   "cell_type": "code",
   "execution_count": null,
   "metadata": {
    "collapsed": true,
    "hidden": true,
    "run_control": {
     "marked": false
    }
   },
   "outputs": [],
   "source": []
  },
  {
   "cell_type": "markdown",
   "metadata": {
    "run_control": {
     "marked": false
    }
   },
   "source": [
    "# Objective function Transformation"
   ]
  },
  {
   "cell_type": "markdown",
   "metadata": {
    "run_control": {
     "marked": true
    }
   },
   "source": [
    "We devide the objective function into three par:\n",
    "* Facility location problem\n",
    "* Routing problem\n",
    "* Acquisition, processing"
   ]
  },
  {
   "cell_type": "markdown",
   "metadata": {
    "run_control": {
     "marked": false
    }
   },
   "source": [
    "## Location routing problem"
   ]
  },
  {
   "cell_type": "markdown",
   "metadata": {},
   "source": [
    "$min_{Y,N_icps,N_crcs}$ \n",
    "$$ \\sum_{j \\in J} FTC_j * Nicp_j + \\sum_{c \\in C} FTR_c * Ncrc_c +  \\sum_{i \\in I}\\sum_{j \\in J} W_{ij}*Y_{ij} $$\n",
    "\n",
    "$s.t:$\n",
    "$$ \\sum_{j \\in J} Y_{ij} = 1, \\forall i \\in I $$\n",
    "$$ \\sum_{j \\in J} Y_{ij} = 1, \\forall i \\in I $$"
   ]
  },
  {
   "cell_type": "markdown",
   "metadata": {
    "run_control": {
     "marked": false
    }
   },
   "source": [
    "### Definition"
   ]
  },
  {
   "cell_type": "code",
   "execution_count": 11,
   "metadata": {
    "code_folding": [],
    "run_control": {
     "marked": false
    }
   },
   "outputs": [],
   "source": [
    "def objective_lr_flp(Y,N_icp,N_crc,\n",
    "                     I,J,C,\n",
    "                     W,FCT,FCR):\n",
    "    \"\"\"Calculate cost associated to facility location\n",
    "    \n",
    "        equivalent: 1,2,5\n",
    "    \n",
    "        Parameters:\n",
    "        I,J,C sets of customers, ICP, and CRC\n",
    "        W euclidienne distance between customer and ICP\n",
    "        FTC, FCR setup cost for ICP qnd CRC\n",
    "        \n",
    "        Decision variable:\n",
    "        Y_ij if customer i associated with ICP j\n",
    "        N_crc CRC c is open\n",
    "        N_icp is open\n",
    "    \"\"\"  \n",
    "    s1 = 0\n",
    "    s2 = 0\n",
    "    s5 = 0\n",
    "    \n",
    "    # 1\n",
    "    for i in range(I):\n",
    "        for j in range(J):\n",
    "            s1 += W[i][j] * Y[i][j]\n",
    "    # 2      \n",
    "    for j in range(J):\n",
    "        s2 += FCT[j][0]*N_icp[j]\n",
    "    # 5    \n",
    "    for c in range(C):\n",
    "        s5 += FCR[c][0]*N_crc[c]\n",
    "        \n",
    "    return s1+s2+s5,s1,s2,s5"
   ]
  },
  {
   "cell_type": "markdown",
   "metadata": {
    "run_control": {
     "marked": false
    }
   },
   "source": [
    "### Visualization"
   ]
  },
  {
   "cell_type": "code",
   "execution_count": 12,
   "metadata": {
    "code_folding": [
     1,
     4,
     7
    ],
    "run_control": {
     "marked": false
    }
   },
   "outputs": [],
   "source": [
    "xy_customers = list(csv.reader(\n",
    "    open('./datasets/original/xy_customers.csv'),delimiter=';',\n",
    "    quoting=csv.QUOTE_NONNUMERIC))\n",
    "\n",
    "xy_icps = list(csv.reader(\n",
    "    open('./datasets/original/xy_icps.csv'),delimiter=';',\n",
    "    quoting=csv.QUOTE_NONNUMERIC))\n",
    "\n",
    "xy_crcs = list(csv.reader(\n",
    "    open('./datasets/original/xy_crcs.csv'),delimiter=';',\n",
    "    quoting=csv.QUOTE_NONNUMERIC))"
   ]
  },
  {
   "cell_type": "code",
   "execution_count": 19,
   "metadata": {
    "code_folding": [],
    "run_control": {
     "marked": false
    }
   },
   "outputs": [
    {
     "name": "stdout",
     "output_type": "stream",
     "text": [
      "Writing ./pkg/lrp_nodes_graph.py\n"
     ]
    }
   ],
   "source": [
    "%%file \"./pkg/lrp_nodes_graph.py\"\n",
    "\n",
    "import networkx as nx\n",
    "\n",
    "def lrp_nodes_graph(xy_customers, xy_icps, xy_crcs):\n",
    "    G = nx.Graph()\n",
    "    colors=[]\n",
    "    pos=[]\n",
    "    labels={}\n",
    "    \n",
    "    num_cus = len(xy_customers)\n",
    "    num_icps = len(xy_icps)\n",
    "\n",
    "    for i, val in enumerate(xy_customers):\n",
    "        G.add_node(i)\n",
    "        pos.append((val[0],val[1]))\n",
    "        colors.append(\"blue\")\n",
    "        labels[i]=\"\"\n",
    "\n",
    "    for i, val in enumerate(xy_icps):\n",
    "        G.add_node(i+num_cus)\n",
    "        pos.append((val[0],val[1]))\n",
    "        colors.append(\"red\")\n",
    "        labels[i+num_cus]=\"icp\"+str(i)\n",
    "\n",
    "    for i, val in enumerate(xy_crcs):\n",
    "        G.add_node(i+num_cus+num_icps)\n",
    "        pos.append((val[0],val[1]))\n",
    "        colors.append(\"green\")\n",
    "        labels[i+num_cus+num_icps]=\"crc\"+str(i)\n",
    "        \n",
    "    return G, pos, labels, colors"
   ]
  },
  {
   "cell_type": "code",
   "execution_count": 20,
   "metadata": {
    "collapsed": true
   },
   "outputs": [],
   "source": [
    "from pkg.lrp_nodes_graph import lrp_nodes_graph\n",
    "G, pos, labels, colors = lrp_nodes_graph(xy_customers, xy_icps, xy_crcs)"
   ]
  },
  {
   "cell_type": "code",
   "execution_count": 14,
   "metadata": {
    "run_control": {
     "marked": false
    }
   },
   "outputs": [
    {
     "data": {
      "image/png": "[encoded data removed]",
      "text/plain": [
       "<matplotlib.figure.Figure at 0x7f46e48>"
      ]
     },
     "metadata": {},
     "output_type": "display_data"
    }
   ],
   "source": [
    "plt.grid('on')\n",
    "nx.draw_networkx(G,pos,labels=labels,node_color=colors,with_labels=True)\n",
    "plt.show()"
   ]
  },
  {
   "cell_type": "markdown",
   "metadata": {
    "collapsed": true,
    "heading_collapsed": true,
    "run_control": {
     "marked": false
    }
   },
   "source": [
    "### Tests"
   ]
  },
  {
   "cell_type": "code",
   "execution_count": 15,
   "metadata": {
    "code_folding": [],
    "hidden": true
   },
   "outputs": [],
   "source": [
    "## I,J,C, ##\n",
    "I = 50\n",
    "J = 8\n",
    "C = 2\n",
    "## Y ##\n",
    "adj_list_icp_cus = [ \n",
    "    [31,32,45,49],\n",
    "    [13,19,20,21,25,26],\n",
    "    [4,5,6,10,11,12,17,18],\n",
    "    [1,2,3,7,8,9,14,15],\n",
    "    [16,22,23,24,27,28,29,30],\n",
    "    [33,34,35,39,40,46],\n",
    "    [36,41,42,47,48],\n",
    "    [37,38,43,44,50]\n",
    "]\n",
    "\n",
    "Y = np.zeros((I,J))\n",
    "\n",
    "for j,val in enumerate(adj_list_icp_cus):\n",
    "    for i in val:\n",
    "        Y[i-1][j] = 1\n",
    "        \n",
    "## N ##\n",
    "N_icp = np.ones(J)\n",
    "N_crc = np.ones(C)\n",
    "## W,FTC,FCR ##\n",
    "W = list(csv.reader(\n",
    "    open('./datasets/original/W.csv'),delimiter=';',\n",
    "    quoting=csv.QUOTE_NONNUMERIC))\n",
    "\n",
    "FCT = list(csv.reader(\n",
    "    open('./datasets/original/FCT.csv'),delimiter=';',\n",
    "    quoting=csv.QUOTE_NONNUMERIC))\n",
    "\n",
    "FCR = list(csv.reader(\n",
    "    open('./datasets/original/FCR.csv'),delimiter=';',\n",
    "    quoting=csv.QUOTE_NONNUMERIC))"
   ]
  },
  {
   "cell_type": "code",
   "execution_count": 16,
   "metadata": {
    "code_folding": [
     0
    ],
    "hidden": true
   },
   "outputs": [
    {
     "data": {
      "text/plain": [
       "(1732.0012543090002, 532.00125430900005, 800.0, 400.0)"
      ]
     },
     "execution_count": 16,
     "metadata": {},
     "output_type": "execute_result"
    }
   ],
   "source": [
    "objective_lr_flp(Y,N_icp,N_crc,\n",
    "                     I,J,C,\n",
    "                     W,FCT,FCR)"
   ]
  },
  {
   "cell_type": "code",
   "execution_count": 17,
   "metadata": {
    "code_folding": [],
    "collapsed": true,
    "hidden": true
   },
   "outputs": [],
   "source": [
    "for j,val in enumerate(adj_list_icp_cus):\n",
    "    for i in val:\n",
    "        G.add_edge(I+j,i-1)"
   ]
  },
  {
   "cell_type": "code",
   "execution_count": 18,
   "metadata": {
    "hidden": true
   },
   "outputs": [
    {
     "data": {
      "image/png": "[encoded data removed]",
      "text/plain": [
       "<matplotlib.figure.Figure at 0x89af0f0>"
      ]
     },
     "metadata": {},
     "output_type": "display_data"
    }
   ],
   "source": [
    "plt.grid('on')\n",
    "nx.draw_networkx(G,pos,labels=labels,node_color=colors,with_labels=True)\n",
    "plt.show()"
   ]
  },
  {
   "cell_type": "code",
   "execution_count": null,
   "metadata": {
    "collapsed": true,
    "hidden": true
   },
   "outputs": [],
   "source": []
  }
 ],
 "metadata": {
  "hide_input": false,
  "kernelspec": {
   "display_name": "Py35",
   "language": "python",
   "name": "py35"
  },
  "language_info": {
   "codemirror_mode": {
    "name": "ipython",
    "version": 3
   },
   "file_extension": ".py",
   "mimetype": "text/x-python",
   "name": "python",
   "nbconvert_exporter": "python",
   "pygments_lexer": "ipython3",
   "version": "3.5.3"
  },
  "toc": {
   "colors": {
    "hover_highlight": "#DAA520",
    "running_highlight": "#FF0000",
    "selected_highlight": "#FFD700"
   },
   "moveMenuLeft": true,
   "nav_menu": {
    "height": "30px",
    "width": "252px"
   },
   "navigate_menu": true,
   "number_sections": true,
   "sideBar": true,
   "threshold": 4,
   "toc_cell": false,
   "toc_section_display": "block",
   "toc_window_display": true,
   "widenNotebook": false
  }
 },
 "nbformat": 4,
 "nbformat_minor": 2
}
